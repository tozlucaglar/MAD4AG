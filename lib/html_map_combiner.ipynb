{
 "cells": [
  {
   "cell_type": "code",
   "execution_count": 9,
   "metadata": {
    "collapsed": true
   },
   "outputs": [
    {
     "name": "stdout",
     "output_type": "stream",
     "text": [
      "The autoreload extension is already loaded. To reload it, use:\n",
      "  %reload_ext autoreload\n",
      "C:\\MAD4AG\n"
     ]
    }
   ],
   "source": [
    "%load_ext autoreload\n",
    "%autoreload 2\n",
    "%cd C:\\MAD4AG\n",
    "%matplotlib inline"
   ]
  },
  {
   "cell_type": "code",
   "execution_count": 10,
   "outputs": [],
   "source": [
    "import pandas as pd\n",
    "import numpy as np\n",
    "from tqdm.auto import tqdm\n",
    "import seaborn as sns\n",
    "import collections\n",
    "import folium\n",
    "from folium.plugins import HeatMapWithTime\n",
    "import matplotlib.pyplot as plt\n",
    "import warnings\n",
    "\n",
    "warnings.filterwarnings('ignore')\n",
    "\n",
    "plt.style.use('seaborn-white')\n"
   ],
   "metadata": {
    "collapsed": false
   }
  },
  {
   "cell_type": "code",
   "execution_count": 11,
   "outputs": [],
   "source": [
    "def load_html(file_path):\n",
    "    with open(file_path, 'r', encoding='utf-8') as file:\n",
    "        return file.read()\n",
    "\n",
    "\n",
    "# Specify the paths to your saved HTML map files\n",
    "html_file1 = './figures/results/heat_map_st_home.html'\n",
    "html_file2 = './figures/results/heat_map_st_work.html'\n",
    "\n",
    "map1_html = load_html(html_file1)\n",
    "map2_html = load_html(html_file2)\n"
   ],
   "metadata": {
    "collapsed": false
   }
  },
  {
   "cell_type": "code",
   "execution_count": 12,
   "outputs": [],
   "source": [
    "\n",
    "def combine_and_save_maps(map1_html, map2_html, output_file):\n",
    "    combined_html = f\"\"\"\n",
    "    <!DOCTYPE html>\n",
    "    <html>\n",
    "    <head>\n",
    "        <title>Combined Maps</title>\n",
    "        <style>\n",
    "            #map-container {{\n",
    "                display: flex;\n",
    "                height: 100vh; /* Make sure the container takes the full height of the viewport */\n",
    "            }}\n",
    "            .map-wrap {{\n",
    "                width: 50%; /* Each map takes half the width of the container */\n",
    "                height: 100%; /* Ensure the wrapper takes the full height of the container */\n",
    "                display: flex;\n",
    "                flex-direction: column; /* Stack the title and map vertically */\n",
    "            }}\n",
    "            .map-title {{\n",
    "                text-align: center;\n",
    "                font-size: 20px;\n",
    "                color: #333;\n",
    "                padding: 10px;\n",
    "            }}\n",
    "            .map {{\n",
    "                height: calc(100% - 40px); /* Subtract the height of the title from the map height */\n",
    "                width: 100%; /* Map should take full width of its container */\n",
    "            }}\n",
    "        </style>\n",
    "    </head>\n",
    "    <body>\n",
    "        <div id=\"map-container\">\n",
    "            <div class=\"map-wrap\">\n",
    "                <div class=\"map-title\">Home activities</div>\n",
    "                <div class=\"map\">{map1_html}</div>\n",
    "            </div>\n",
    "            <div class=\"map-wrap\">\n",
    "                <div class=\"map-title\">Work activities</div>\n",
    "                <div class=\"map\">{map2_html}</div>\n",
    "            </div>\n",
    "        </div>\n",
    "        <script>\n",
    "        window.onload = function() {{\n",
    "            var sliders = document.querySelectorAll('.leaflet-timedimension-slider');\n",
    "            if (sliders.length >= 2) {{\n",
    "                function synchronizeSliders(sourceSlider, targetSlider) {{\n",
    "                    sourceSlider.oninput = function() {{\n",
    "                        targetSlider.value = this.value;\n",
    "                        targetSlider.oninput();\n",
    "                    }};\n",
    "                }}\n",
    "                synchronizeSliders(sliders[0], sliders[1]);\n",
    "                synchronizeSliders(sliders[1], sliders[0]);\n",
    "            }}\n",
    "        }};\n",
    "        </script>\n",
    "    </body>\n",
    "    </html>\n",
    "    \"\"\"\n",
    "    with open(output_file, 'w', encoding='utf-8') as file:\n",
    "        file.write(combined_html)\n"
   ],
   "metadata": {
    "collapsed": false
   }
  },
  {
   "cell_type": "code",
   "execution_count": 13,
   "outputs": [],
   "source": [
    "\n",
    "# Path for the new combined HTML file\n",
    "output_file_path = './figures/results/heat_map_st_2combined.html'\n",
    "combine_and_save_maps(map1_html, map2_html, output_file_path)"
   ],
   "metadata": {
    "collapsed": false
   }
  },
  {
   "cell_type": "markdown",
   "source": [
    "### three map combiner"
   ],
   "metadata": {
    "collapsed": false
   }
  },
  {
   "cell_type": "code",
   "execution_count": 14,
   "outputs": [],
   "source": [
    "def load_html(file_path):\n",
    "    with open(file_path, 'r', encoding='utf-8') as file:\n",
    "        return file.read()\n",
    "\n",
    "# Specify the paths to your saved HTML map files\n",
    "html_file1 = './figures/results/heat_map_st_home.html'\n",
    "html_file2 = './figures/results/heat_map_st_work.html'\n",
    "html_file3 = './figures/results/heat_map_st_other.html'  # Path to the third map\n",
    "\n",
    "map1_html = load_html(html_file1)\n",
    "map2_html = load_html(html_file2)\n",
    "map3_html = load_html(html_file3)"
   ],
   "metadata": {
    "collapsed": false
   }
  },
  {
   "cell_type": "code",
   "execution_count": 15,
   "outputs": [],
   "source": [
    "def combine_and_save_maps(map1_html, map2_html, map3_html, output_file):\n",
    "    combined_html = f\"\"\"\n",
    "    <!DOCTYPE html>\n",
    "    <html>\n",
    "    <head>\n",
    "        <title>Combined Maps</title>\n",
    "        <style>\n",
    "            #map-container {{\n",
    "                display: flex;\n",
    "                height: 100vh; /* Ensure the container takes the full height of the viewport */\n",
    "            }}\n",
    "            .map-wrap {{\n",
    "                width: 33.3%; /* Each map takes one-third the width of the container */\n",
    "                height: 100%; /* Ensure the wrapper takes the full height of the container */\n",
    "                display: flex;\n",
    "                flex-direction: column; /* Stack the title and map vertically */\n",
    "            }}\n",
    "            .map-title {{\n",
    "                text-align: center;\n",
    "                font-size: 20px;\n",
    "                color: #333;\n",
    "                padding: 10px;\n",
    "            }}\n",
    "            .map {{\n",
    "                height: calc(100% - 40px); /* Subtract the height of the title from the map height */\n",
    "                width: 100%; /* Map should take full width of its container */\n",
    "            }}\n",
    "        </style>\n",
    "    </head>\n",
    "    <body>\n",
    "        <div id=\"map-container\">\n",
    "            <div class=\"map-wrap\">\n",
    "                <div class=\"map-title\">Home activities</div>\n",
    "                <div class=\"map\">{map1_html}</div>\n",
    "            </div>\n",
    "            <div class=\"map-wrap\">\n",
    "                <div class=\"map-title\">Work activities</div>\n",
    "                <div class=\"map\">{map2_html}</div>\n",
    "            </div>\n",
    "            <div class=\"map-wrap\">\n",
    "                <div class=\"map-title\">Other activities</div>\n",
    "                <div class=\"map\">{map3_html}</div>\n",
    "            </div>\n",
    "        </div>\n",
    "        <script>\n",
    "        window.onload = function() {{\n",
    "            var sliders = document.querySelectorAll('.leaflet-timedimension-slider');\n",
    "            if (sliders.length >= 2) {{\n",
    "                function synchronizeSliders(sourceSlider, targetSlider) {{\n",
    "                    sourceSlider.oninput = function() {{\n",
    "                        targetSlider.value = this.value;\n",
    "                        targetSlider.oninput();\n",
    "                    }};\n",
    "                }}\n",
    "                synchronizeSliders(sliders[0], sliders[1]);\n",
    "                synchronizeSliders(sliders[1], sliders[0]);\n",
    "                synchronizeSliders(sliders[1], sliders[3]);\n",
    "                synchronizeSliders(sliders[3], sliders[1]);\n",
    "                synchronizeSliders(sliders[0], sliders[3]);\n",
    "                synchronizeSliders(sliders[3], sliders[0]);\n",
    "            }}\n",
    "        }};\n",
    "        </script>\n",
    "    </body>\n",
    "    </html>\n",
    "    \"\"\"\n",
    "    with open(output_file, 'w', encoding='utf-8') as file:\n",
    "        file.write(combined_html)\n",
    "\n",
    "# Paths and function call as previously defined\n"
   ],
   "metadata": {
    "collapsed": false
   }
  },
  {
   "cell_type": "code",
   "execution_count": 16,
   "outputs": [],
   "source": [
    "# Path for the new combined HTML file\n",
    "output_file_path = './figures/results/heat_map_st_3combined.html'\n",
    "combine_and_save_maps(map1_html, map2_html, map3_html, output_file_path)\n"
   ],
   "metadata": {
    "collapsed": false
   }
  },
  {
   "cell_type": "code",
   "execution_count": 16,
   "outputs": [],
   "source": [],
   "metadata": {
    "collapsed": false
   }
  },
  {
   "cell_type": "code",
   "execution_count": 16,
   "outputs": [],
   "source": [],
   "metadata": {
    "collapsed": false
   }
  },
  {
   "cell_type": "code",
   "execution_count": 16,
   "outputs": [],
   "source": [],
   "metadata": {
    "collapsed": false
   }
  }
 ],
 "metadata": {
  "kernelspec": {
   "display_name": "Python 3",
   "language": "python",
   "name": "python3"
  },
  "language_info": {
   "codemirror_mode": {
    "name": "ipython",
    "version": 2
   },
   "file_extension": ".py",
   "mimetype": "text/x-python",
   "name": "python",
   "nbconvert_exporter": "python",
   "pygments_lexer": "ipython2",
   "version": "2.7.6"
  }
 },
 "nbformat": 4,
 "nbformat_minor": 0
}
