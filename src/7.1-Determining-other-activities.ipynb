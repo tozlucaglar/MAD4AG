{
 "cells": [
  {
   "cell_type": "code",
   "execution_count": 1,
   "metadata": {
    "collapsed": true
   },
   "outputs": [],
   "source": [
    "%load_ext autoreload\n",
    "%autoreload 2\n",
    "\n",
    "\n",
    "%matplotlib inline"
   ]
  },
  {
   "cell_type": "code",
   "execution_count": 2,
   "outputs": [
    {
     "name": "stdout",
     "output_type": "stream",
     "text": [
      "C:\\MAD4AG\n"
     ]
    }
   ],
   "source": [
    "%cd C:\\MAD4AG\n",
    "\n",
    "import os\n",
    "import pandas as pd\n",
    "import numpy as np\n",
    "import matplotlib.pyplot as plt\n",
    "import warnings\n",
    "import random\n",
    "\n",
    "warnings.filterwarnings('ignore')"
   ],
   "metadata": {
    "collapsed": false
   }
  },
  {
   "cell_type": "code",
   "execution_count": 3,
   "outputs": [],
   "source": [
    "file = r'.\\dbs\\twins\\multiple_days_05-10.pkl'\n",
    "\n",
    "combined_df= pd.read_pickle(file)\n",
    "\n",
    "\n",
    "df_clusters=pd.read_parquet(f'./dbs/intermediate/df_selected_clusters.parquet')\n",
    "\n",
    "df_clusters = df_clusters[df_clusters.uid.isin(combined_df.uid)]\n"
   ],
   "metadata": {
    "collapsed": false
   }
  },
  {
   "cell_type": "code",
   "execution_count": 4,
   "outputs": [
    {
     "name": "stdout",
     "output_type": "stream",
     "text": [
      "mean:  6.6269821379750296\n",
      "median:  3.0\n",
      "the share of people more than 10 other clusters:  0.1830325951578116\n"
     ]
    },
    {
     "data": {
      "text/plain": "1.0      58087\n2.0      44610\n3.0      29185\n4.0      20365\n5.0      15512\n         ...  \n142.0        1\n151.0        1\n167.0        1\n236.0        1\n175.0        1\nName: number_of_other_cluster, Length: 162, dtype: int64"
     },
     "execution_count": 4,
     "metadata": {},
     "output_type": "execute_result"
    }
   ],
   "source": [
    "# calculate mean and median of the number_of_other_cluster in MAD data\n",
    "\n",
    "\n",
    "df_clusters_statistic= df_clusters[df_clusters.act_type=='other'].groupby(['uid']).size().reset_index(name='number_of_other_cluster')\n",
    "\n",
    "df_clusters_statistic = pd.merge(combined_df[['uid']], df_clusters_statistic, on='uid', how='left')\n",
    "df_clusters_statistic.fillna(0, inplace=True)\n",
    "\n",
    "print('mean: ', df_clusters_statistic.number_of_other_cluster.mean())\n",
    "print('median: ', df_clusters_statistic.number_of_other_cluster.median())\n",
    "print('the share of people more than 10 other clusters: ',len(df_clusters_statistic[df_clusters_statistic.number_of_other_cluster>10])/len(df_clusters_statistic))\n",
    "df_clusters_statistic.number_of_other_cluster.value_counts()"
   ],
   "metadata": {
    "collapsed": false
   }
  },
  {
   "cell_type": "code",
   "execution_count": 5,
   "outputs": [],
   "source": [
    "file_name = f'./dbs/intermediate/stops_1_new.parquet'\n",
    "\n",
    "#Read each batchs file\n",
    "df = pd.read_parquet(file_name)\n",
    "df = df[df.holiday_s != 1]\n",
    "df = df[df.weekday_s == 1]\n",
    "df = df.drop(['holiday_s', 'weekday_s'], axis=1)\n",
    "\n"
   ],
   "metadata": {
    "collapsed": false
   }
  },
  {
   "cell_type": "code",
   "execution_count": 6,
   "outputs": [],
   "source": [
    "df_clusters_freq = df.groupby(['uid','cluster']).size().reset_index(name='clusters_freq')"
   ],
   "metadata": {
    "collapsed": false
   }
  },
  {
   "cell_type": "code",
   "execution_count": 7,
   "outputs": [],
   "source": [
    "df_clusters = pd.merge(df_clusters, df_clusters_freq, on=['uid','cluster'], how='left')"
   ],
   "metadata": {
    "collapsed": false
   }
  },
  {
   "cell_type": "code",
   "execution_count": 8,
   "outputs": [
    {
     "data": {
      "text/plain": "  0%|          | 0/263352 [00:00<?, ?it/s]",
      "application/vnd.jupyter.widget-view+json": {
       "version_major": 2,
       "version_minor": 0,
       "model_id": "af886fd1e59f48368983386fe0e58cbd"
      }
     },
     "metadata": {},
     "output_type": "display_data"
    }
   ],
   "source": [
    "from scipy.spatial import distance\n",
    "from tqdm.auto import tqdm\n",
    "\n",
    "\n",
    "def other_dist(data):\n",
    "    avg_dist = distance.cdist(data[['X', 'Y']][data.act_type == 'home'], data[['X', 'Y']],  metric='euclidean')\n",
    "    data['distance']= avg_dist[0]\n",
    "\n",
    "    return data\n",
    "\n",
    "\n",
    "tqdm.pandas()\n",
    "df_clusters = df_clusters.groupby('uid').progress_apply(other_dist)"
   ],
   "metadata": {
    "collapsed": false
   }
  },
  {
   "cell_type": "code",
   "execution_count": 9,
   "outputs": [],
   "source": [
    "df_clusters_other = df_clusters[df_clusters.act_type=='other']"
   ],
   "metadata": {
    "collapsed": false
   }
  },
  {
   "cell_type": "markdown",
   "source": [
    "# apply inverse logarithmic function shifted 1 unit"
   ],
   "metadata": {
    "collapsed": false
   }
  },
  {
   "cell_type": "code",
   "execution_count": 10,
   "outputs": [],
   "source": [
    "\n",
    "df_clusters_other['distance'][df_clusters_other['distance']==0.00000]=100"
   ],
   "metadata": {
    "collapsed": false
   }
  },
  {
   "cell_type": "code",
   "execution_count": 11,
   "outputs": [],
   "source": [
    "df_clusters_other['scaled_distances'] = df_clusters_other['distance'].apply(lambda x: 1/np.log(x+1))"
   ],
   "metadata": {
    "collapsed": false
   }
  },
  {
   "cell_type": "code",
   "execution_count": 12,
   "outputs": [],
   "source": [
    "df_clusters_other['clusters_freq']= df_clusters_other['clusters_freq']*df_clusters_other['scaled_distances']"
   ],
   "metadata": {
    "collapsed": false
   }
  },
  {
   "cell_type": "code",
   "execution_count": 13,
   "outputs": [],
   "source": [
    "df_clusters_other['freq_sum'] = df_clusters_other.groupby(['uid'])['clusters_freq'].transform(\"sum\")"
   ],
   "metadata": {
    "collapsed": false
   }
  },
  {
   "cell_type": "code",
   "execution_count": 14,
   "outputs": [],
   "source": [
    "df_clusters_other['other_prob'] = df_clusters_other['clusters_freq']/df_clusters_other['freq_sum']"
   ],
   "metadata": {
    "collapsed": false
   }
  },
  {
   "cell_type": "code",
   "execution_count": 15,
   "outputs": [],
   "source": [
    "df_clusters_list= df_clusters_other.groupby(['uid'])['cluster'].apply(list).reset_index(name='clusters')\n",
    "\n",
    "df_other_prob_list = df_clusters_other.groupby(['uid'])['other_prob'].apply(list).reset_index(name='other_prob')"
   ],
   "metadata": {
    "collapsed": false
   }
  },
  {
   "cell_type": "code",
   "execution_count": 16,
   "outputs": [],
   "source": [
    "df_other = pd.merge(combined_df[['uid', 'other_count_0', 'other_count_1', 'other_count_2', 'other_count_3', 'other_count_4']],  df_clusters_list, on='uid', how='left')\n",
    "df_other = pd.merge(df_other, df_other_prob_list, on='uid', how='left')"
   ],
   "metadata": {
    "collapsed": false
   }
  },
  {
   "cell_type": "code",
   "execution_count": 17,
   "outputs": [],
   "source": [
    "df_other = df_other.dropna(subset=['clusters'])"
   ],
   "metadata": {
    "collapsed": false
   }
  },
  {
   "cell_type": "markdown",
   "source": [
    "## sample other activities"
   ],
   "metadata": {
    "collapsed": false
   }
  },
  {
   "cell_type": "code",
   "execution_count": 18,
   "outputs": [],
   "source": [
    "# def other_finder(data , i):\n",
    "#     other_clusters_place = np.argmax(np.random.multinomial(1, data['other_prob'], data['other_count_'+ str(i)]), axis=1).tolist()\n",
    "#     clusters_list = data['clusters']\n",
    "#     other_clusters = [clusters_list[place] for place in other_clusters_place]\n",
    "#     return other_clusters"
   ],
   "metadata": {
    "collapsed": false
   }
  },
  {
   "cell_type": "code",
   "execution_count": 19,
   "outputs": [],
   "source": [
    "def other_finder(data , i):\n",
    "    clusters_list = data['clusters']\n",
    "    sample_size = data['other_count_'+ str(i)]\n",
    "    if len(clusters_list)>= sample_size:\n",
    "        other_clusters = np.random.choice(clusters_list, sample_size, p=data['other_prob'], replace=False).tolist()\n",
    "    else:\n",
    "        other_clusters = np.random.choice(clusters_list, len(clusters_list), p=data['other_prob'], replace=False).tolist()\n",
    "        other_clusters += np.random.choice(clusters_list, sample_size-len(clusters_list), p=data['other_prob'], replace=True).tolist()\n",
    "    random.shuffle(other_clusters)\n",
    "\n",
    "    return other_clusters"
   ],
   "metadata": {
    "collapsed": false
   }
  },
  {
   "cell_type": "code",
   "execution_count": 20,
   "outputs": [],
   "source": [
    "for i in range(5):\n",
    "    column_name= 'other_clusters_'+str(i)\n",
    "    df_other[column_name] = df_other.apply(lambda row: other_finder(row, i), axis=1)"
   ],
   "metadata": {
    "collapsed": false
   }
  },
  {
   "cell_type": "code",
   "execution_count": 20,
   "outputs": [],
   "source": [],
   "metadata": {
    "collapsed": false
   }
  },
  {
   "cell_type": "markdown",
   "source": [
    "## show the selected other activities in the activity clusters dataframe"
   ],
   "metadata": {
    "collapsed": false
   }
  },
  {
   "cell_type": "code",
   "execution_count": 21,
   "outputs": [],
   "source": [
    "df_clusters_other_select=pd.merge(df_clusters_other[['uid','cluster']], df_other[['uid','other_clusters_0','other_clusters_1','other_clusters_2','other_clusters_3','other_clusters_4']], on='uid', how='left')"
   ],
   "metadata": {
    "collapsed": false
   }
  },
  {
   "cell_type": "code",
   "execution_count": 22,
   "outputs": [],
   "source": [
    "#df_clusters5.dropna(subset=['other_clusters_0'],inplace=True)"
   ],
   "metadata": {
    "collapsed": false
   }
  },
  {
   "cell_type": "code",
   "execution_count": 23,
   "outputs": [],
   "source": [
    "def other_selection(data, i):\n",
    "    if data['cluster'] in data['other_clusters_' + str(i)]:\n",
    "        selection='1'\n",
    "    else:\n",
    "        selection='0'\n",
    "    return selection\n",
    "\n",
    "\n",
    "\n",
    "for i in range(5):\n",
    "    column_name = 'selection_' + str(i)\n",
    "    df_clusters_other_select[column_name] = df_clusters_other_select.apply(lambda row: other_selection(row, i), axis=1)"
   ],
   "metadata": {
    "collapsed": false
   }
  },
  {
   "cell_type": "code",
   "execution_count": 23,
   "outputs": [],
   "source": [],
   "metadata": {
    "collapsed": false
   }
  },
  {
   "cell_type": "code",
   "execution_count": 23,
   "outputs": [],
   "source": [],
   "metadata": {
    "collapsed": false
   }
  },
  {
   "cell_type": "code",
   "execution_count": 24,
   "outputs": [],
   "source": [
    "# df_clusters = pd.merge(df_clusters, df_clusters_other_select[['uid','cluster','selection_0','selection_1','selection_2','selection_3','selection_4']], on= ['uid','cluster'], how='left' )"
   ],
   "metadata": {
    "collapsed": false
   }
  },
  {
   "cell_type": "code",
   "execution_count": 25,
   "outputs": [],
   "source": [
    "df_clusters = pd.merge(df_clusters, df_clusters_other_select, on= ['uid','cluster'], how='left' )"
   ],
   "metadata": {
    "collapsed": false
   }
  },
  {
   "cell_type": "code",
   "execution_count": 26,
   "outputs": [],
   "source": [
    "df_clusters['selection_0'][df_clusters.act_type=='home']='Home'\n",
    "df_clusters['selection_1'][df_clusters.act_type=='home']='Home'\n",
    "df_clusters['selection_2'][df_clusters.act_type=='home']='Home'\n",
    "df_clusters['selection_3'][df_clusters.act_type=='home']='Home'\n",
    "df_clusters['selection_4'][df_clusters.act_type=='home']='Home'"
   ],
   "metadata": {
    "collapsed": false
   }
  },
  {
   "cell_type": "code",
   "execution_count": 27,
   "outputs": [],
   "source": [
    "df_clusters['selection_0'][df_clusters.act_type=='work']='Work'\n",
    "df_clusters['selection_1'][df_clusters.act_type=='work']='Work'\n",
    "df_clusters['selection_2'][df_clusters.act_type=='work']='Work'\n",
    "df_clusters['selection_3'][df_clusters.act_type=='work']='Work'\n",
    "df_clusters['selection_4'][df_clusters.act_type=='work']='Work'"
   ],
   "metadata": {
    "collapsed": false
   }
  },
  {
   "cell_type": "code",
   "execution_count": 28,
   "outputs": [],
   "source": [
    "# df_clusters['selection_0'][df_clusters.act_type=='school']='School'\n",
    "# df_clusters['selection_1'][df_clusters.act_type=='school']='School'\n",
    "# df_clusters['selection_2'][df_clusters.act_type=='school']='School'\n",
    "# df_clusters['selection_3'][df_clusters.act_type=='school']='School'\n",
    "# df_clusters['selection_4'][df_clusters.act_type=='school']='School'"
   ],
   "metadata": {
    "collapsed": false
   }
  },
  {
   "cell_type": "markdown",
   "source": [
    "## calculate the distances from work location"
   ],
   "metadata": {
    "collapsed": false
   }
  },
  {
   "cell_type": "code",
   "execution_count": 29,
   "outputs": [
    {
     "data": {
      "text/plain": "  0%|          | 0/263352 [00:00<?, ?it/s]",
      "application/vnd.jupyter.widget-view+json": {
       "version_major": 2,
       "version_minor": 0,
       "model_id": "0e47dc5688b443a7b4053b2742f35912"
      }
     },
     "metadata": {},
     "output_type": "display_data"
    }
   ],
   "source": [
    "def other_dist(data):\n",
    "    if len(data[data['act_type'] == 'work'])>0:\n",
    "        avg_dist = distance.cdist(data[['X', 'Y']][data.act_type == 'work'], data[['X', 'Y']],  metric='euclidean')\n",
    "        data['work_dist']= avg_dist[0]\n",
    "    else:\n",
    "        data['work_dist']= 0\n",
    "\n",
    "    return data\n",
    "\n",
    "\n",
    "tqdm.pandas()\n",
    "df_clusters = df_clusters.groupby('uid').progress_apply(other_dist)"
   ],
   "metadata": {
    "collapsed": false
   }
  },
  {
   "cell_type": "markdown",
   "source": [
    "## mark the unselected activities as non"
   ],
   "metadata": {
    "collapsed": false
   }
  },
  {
   "cell_type": "code",
   "execution_count": 30,
   "outputs": [],
   "source": [
    "df_clusters.loc[:, ['selection_0','selection_1','selection_2','selection_3','selection_4']] = df_clusters.loc[:, ['selection_0','selection_1','selection_2','selection_3','selection_4']].replace({'1': 'Other','0': 'non'})"
   ],
   "metadata": {
    "collapsed": false
   }
  },
  {
   "cell_type": "code",
   "execution_count": 31,
   "outputs": [],
   "source": [
    "filename = r'.\\dbs\\intermediate\\df_selected_clusters_activities%s.parquet'%file[25:31]"
   ],
   "metadata": {
    "collapsed": false
   }
  },
  {
   "cell_type": "code",
   "execution_count": 32,
   "outputs": [],
   "source": [
    "\n",
    "df_clusters.to_parquet(filename)"
   ],
   "metadata": {
    "collapsed": false
   }
  },
  {
   "cell_type": "code",
   "execution_count": 32,
   "outputs": [],
   "source": [],
   "metadata": {
    "collapsed": false
   }
  },
  {
   "cell_type": "code",
   "execution_count": 32,
   "outputs": [],
   "source": [],
   "metadata": {
    "collapsed": false
   }
  }
 ],
 "metadata": {
  "kernelspec": {
   "display_name": "Python 3",
   "language": "python",
   "name": "python3"
  },
  "language_info": {
   "codemirror_mode": {
    "name": "ipython",
    "version": 2
   },
   "file_extension": ".py",
   "mimetype": "text/x-python",
   "name": "python",
   "nbconvert_exporter": "python",
   "pygments_lexer": "ipython2",
   "version": "2.7.6"
  }
 },
 "nbformat": 4,
 "nbformat_minor": 0
}
