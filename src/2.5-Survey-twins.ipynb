{
 "cells": [
  {
   "cell_type": "code",
   "execution_count": 1,
   "metadata": {
    "collapsed": true
   },
   "outputs": [
    {
     "name": "stdout",
     "output_type": "stream",
     "text": [
      "C:\\MAD4AG\n"
     ]
    }
   ],
   "source": [
    "%load_ext autoreload\n",
    "%autoreload 2\n",
    "%cd C:\\MAD4AG\n",
    "%matplotlib inline"
   ]
  },
  {
   "cell_type": "code",
   "execution_count": 2,
   "outputs": [],
   "source": [
    "import pandas as pd\n",
    "import numpy as np\n",
    "import matplotlib.pyplot as plt\n",
    "from tqdm.auto import tqdm\n",
    "from collections import Counter\n",
    "\n",
    "\n",
    "import warnings\n",
    "\n",
    "warnings.filterwarnings('ignore')"
   ],
   "metadata": {
    "collapsed": false
   }
  },
  {
   "cell_type": "code",
   "execution_count": 3,
   "outputs": [],
   "source": [
    "df_survey_act= pd.read_pickle(f'./dbs/survey_act_weekday.pkl')\n",
    "df_survey_dist= pd.read_pickle(f'./dbs/intermediate/df_survey_dist.pkl')\n",
    "\n"
   ],
   "metadata": {
    "collapsed": false
   }
  },
  {
   "cell_type": "markdown",
   "source": [
    "## filter ppl by\n",
    "- participating work activity\n",
    "- county\n",
    "- urban/rural\n",
    "- commute distance (is it above or below the median in the survey)\n",
    "- avg trip distance"
   ],
   "metadata": {
    "collapsed": false
   }
  },
  {
   "cell_type": "code",
   "execution_count": 4,
   "outputs": [
    {
     "data": {
      "text/plain": "0"
     },
     "execution_count": 4,
     "metadata": {},
     "output_type": "execute_result"
    }
   ],
   "source": [
    "len(df_survey_act[df_survey_act.home_municipality.isnull()])"
   ],
   "metadata": {
    "collapsed": false
   }
  },
  {
   "cell_type": "code",
   "execution_count": 5,
   "outputs": [
    {
     "data": {
      "text/plain": "(Home, Work, Home)                                                                         3789\n(Home, Other, Home)                                                                        3767\n(Home, Home)                                                                               1231\n(Home, Other, Home, Other, Home)                                                            976\n(Home, Other, Other, Home)                                                                  902\n                                                                                           ... \n(Home, Other, Other, Other, Work, Other, Other, Other, Work, Other, Other, Other, Home)       1\n(Home, Other, Work, Other, Work, Other, Other, Other, Home, Other, Home)                      1\n(Home, Other, Other, Work, Other, Work, Other, Home)                                          1\n(Home, Other, Home, Other, Other, Work, Home)                                                 1\n(Home, Home, Home, Home, Other, Home, Home, Home)                                             1\nName: act_seq, Length: 993, dtype: int64"
     },
     "execution_count": 5,
     "metadata": {},
     "output_type": "execute_result"
    }
   ],
   "source": [
    "# create tuple showing all activities of an individual\n",
    "\n",
    "df_survey_ppl= df_survey_act.groupby('sub_id')['purpose'].apply(tuple).reset_index(name='act_seq')\n",
    "\n",
    "df_survey_ppl.act_seq.value_counts()"
   ],
   "metadata": {
    "collapsed": false
   }
  },
  {
   "cell_type": "code",
   "execution_count": 6,
   "outputs": [],
   "source": [
    "# find the unique activities from the activity tuple\n",
    "\n",
    "\n",
    "def unique_activities(data):\n",
    "    act_tuple = data['act_seq']\n",
    "    data['act_uniq'] = tuple(Counter(act_tuple).keys())\n",
    "    # this will take only unique numbers from the tuple\n",
    "    return data\n"
   ],
   "metadata": {
    "collapsed": false
   }
  },
  {
   "cell_type": "code",
   "execution_count": 7,
   "outputs": [],
   "source": [
    "tqdm.pandas()\n",
    "df_survey_ppl= df_survey_ppl.apply(lambda row: unique_activities(row) , axis=1 )"
   ],
   "metadata": {
    "collapsed": false
   }
  },
  {
   "cell_type": "code",
   "execution_count": 8,
   "outputs": [
    {
     "data": {
      "text/plain": "(Home, Other)                  8488\n(Home, Work)                   4499\n(Home, Work, Other)            3381\n(Home,)                        1568\n(Home, Other, Work)            1387\n(Home, School)                  392\n(Home, School, Other)           270\n(Work, Home)                     72\n(Home, Other, School)            66\n(Work, Home, Other)              56\n(Work, Other, Home)              18\n(Home, School, Work)             13\n(Home, Work, School)              7\n(Home, Work, School, Other)       3\n(Home, Other, Work, School)       2\n(Home, School, Other, Work)       2\n(Home, Other, School, Work)       1\n(Home, School, Work, Other)       1\nName: act_uniq, dtype: int64"
     },
     "execution_count": 8,
     "metadata": {},
     "output_type": "execute_result"
    }
   ],
   "source": [
    "df_survey_ppl.act_uniq.value_counts()"
   ],
   "metadata": {
    "collapsed": false
   }
  },
  {
   "cell_type": "code",
   "execution_count": 9,
   "outputs": [],
   "source": [
    "# remove individuals having only home activity\n",
    "df_survey_ppl = df_survey_ppl[df_survey_ppl.act_uniq != ('Home',)]"
   ],
   "metadata": {
    "collapsed": false
   }
  },
  {
   "cell_type": "code",
   "execution_count": 10,
   "outputs": [],
   "source": [
    "# bring the distance information\n",
    "\n",
    "df_survey_ppl = pd.merge(df_survey_ppl, df_survey_dist, on='sub_id', how='left')\n",
    "\n",
    "df_survey_ppl = df_survey_ppl[df_survey_ppl.avg_dist.notnull()]\n",
    "\n",
    "df_survey_ppl['commute']= df_survey_ppl['commute'].astype(int)"
   ],
   "metadata": {
    "collapsed": false
   }
  },
  {
   "cell_type": "code",
   "execution_count": 11,
   "outputs": [],
   "source": [
    "df_survey_ppl['county']= df_survey_ppl['origin_main_deso'].str[:2]\n",
    "\n",
    "df_survey_ppl['urban_density']= df_survey_ppl['origin_main_deso'].str[4]"
   ],
   "metadata": {
    "collapsed": false
   }
  },
  {
   "cell_type": "code",
   "execution_count": 12,
   "outputs": [],
   "source": [
    "df_survey_ppl.to_pickle(r'.\\dbs\\intermediate\\df_survey_twins.pkl')\n"
   ],
   "metadata": {
    "collapsed": false
   }
  },
  {
   "cell_type": "code",
   "execution_count": null,
   "outputs": [],
   "source": [],
   "metadata": {
    "collapsed": false
   }
  }
 ],
 "metadata": {
  "kernelspec": {
   "display_name": "Python 3",
   "language": "python",
   "name": "python3"
  },
  "language_info": {
   "codemirror_mode": {
    "name": "ipython",
    "version": 2
   },
   "file_extension": ".py",
   "mimetype": "text/x-python",
   "name": "python",
   "nbconvert_exporter": "python",
   "pygments_lexer": "ipython2",
   "version": "2.7.6"
  }
 },
 "nbformat": 4,
 "nbformat_minor": 0
}
