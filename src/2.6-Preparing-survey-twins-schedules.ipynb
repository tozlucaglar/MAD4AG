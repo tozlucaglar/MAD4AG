{
 "cells": [
  {
   "cell_type": "code",
   "execution_count": 157,
   "metadata": {
    "collapsed": true
   },
   "outputs": [
    {
     "name": "stdout",
     "output_type": "stream",
     "text": [
      "The autoreload extension is already loaded. To reload it, use:\n",
      "  %reload_ext autoreload\n",
      "C:\\MAD4AG\n"
     ]
    }
   ],
   "source": [
    "%load_ext autoreload\n",
    "%autoreload 2\n",
    "\n",
    "\n",
    "%matplotlib inline\n",
    "%cd C:\\MAD4AG\n",
    "\n",
    "from tqdm.auto import tqdm\n",
    "import os\n",
    "import pandas as pd\n",
    "import numpy as np\n",
    "import matplotlib.pyplot as plt\n",
    "import warnings\n",
    "\n",
    "warnings.filterwarnings('ignore')"
   ]
  },
  {
   "cell_type": "code",
   "execution_count": 158,
   "outputs": [],
   "source": [
    "df_survey_act = pd.read_pickle(f'./dbs/survey_act_weekday.pkl')\n",
    "df_survey_twins = pd.read_pickle(f'./dbs/intermediate/df_survey_twins.pkl')\n"
   ],
   "metadata": {
    "collapsed": false
   }
  },
  {
   "cell_type": "code",
   "execution_count": 159,
   "outputs": [],
   "source": [
    "df_survey_act = df_survey_act[df_survey_act['sub_id'].isin(df_survey_twins['sub_id'])]\n"
   ],
   "metadata": {
    "collapsed": false
   }
  },
  {
   "cell_type": "code",
   "execution_count": 160,
   "outputs": [],
   "source": [
    "df_survey_act = pd.merge(df_survey_act, df_survey_twins[['sub_id','act_seq_simp', 'modified']], on='sub_id', how='left')"
   ],
   "metadata": {
    "collapsed": false
   }
  },
  {
   "cell_type": "code",
   "execution_count": 161,
   "outputs": [],
   "source": [
    "df_survey_act_modified = df_survey_act[df_survey_act.modified==1]\n",
    "\n",
    "df_survey_act_modified['del']=0"
   ],
   "metadata": {
    "collapsed": false
   }
  },
  {
   "cell_type": "code",
   "execution_count": 162,
   "outputs": [],
   "source": [
    "def seq_modifier(data):\n",
    "    data = data.iloc[:,:]\n",
    "    counter = 0\n",
    "    rows= [0]\n",
    "    for i in range(len(data) - 1, 0, -1):\n",
    "        #rows += [i]\n",
    "        #rows.remove([i])\n",
    "        if data.iloc[i,8] in ['Home', 'Work', 'School']:\n",
    "            counter = 0\n",
    "            if data.iloc[i,8] == data.iloc[i-1,8]:\n",
    "                #data.drop(index=data.iloc[i, :].index.tolist(), inplace=True)\n",
    "                #data= data.iloc[i-1,8]\n",
    "                data.iloc[i,17] =1\n",
    "                data.iloc[i-1,7] = data.iloc[i,7]\n",
    "                # print(rows)\n",
    "                #rows = rows.del(i)\n",
    "                #rows -= [i]\n",
    "                #rows.remove(i)\n",
    "        elif data.iloc[i,8] == 'Other':\n",
    "            counter += 1\n",
    "            if counter > 3:\n",
    "                data.iloc[i,17] =1\n",
    "                data.iloc[i+counter-3,6] = data.iloc[i,6]\n",
    "\n",
    "    #         else:\n",
    "    #             rows= rows.append(i)\n",
    "    #data = data.iloc[rows,:]\n",
    "\n",
    "    return data\n"
   ],
   "metadata": {
    "collapsed": false
   }
  },
  {
   "cell_type": "code",
   "execution_count": 164,
   "outputs": [
    {
     "data": {
      "text/plain": "  0%|          | 0/2254 [00:00<?, ?it/s]",
      "application/vnd.jupyter.widget-view+json": {
       "version_major": 2,
       "version_minor": 0,
       "model_id": "f946caa1a4ea4d96a91641fe92768003"
      }
     },
     "metadata": {},
     "output_type": "display_data"
    }
   ],
   "source": [
    "tqdm.pandas()\n",
    "df_survey_act_modified = df_survey_act_modified.groupby('sub_id').progress_apply(seq_modifier)"
   ],
   "metadata": {
    "collapsed": false
   }
  },
  {
   "cell_type": "code",
   "execution_count": 167,
   "outputs": [],
   "source": [
    "df_survey_act_modified = df_survey_act_modified[df_survey_act_modified['del']==0]\n",
    "\n",
    "df_survey_act_modified.drop(columns=['del'],inplace=True)"
   ],
   "metadata": {
    "collapsed": false
   }
  },
  {
   "cell_type": "code",
   "execution_count": 169,
   "outputs": [],
   "source": [
    "df_survey = pd.concat([df_survey_act[df_survey_act.modified==0], df_survey_act_modified], ignore_index=True)\n"
   ],
   "metadata": {
    "collapsed": false
   }
  },
  {
   "cell_type": "code",
   "execution_count": 170,
   "outputs": [],
   "source": [
    "df_survey.to_pickle(f'./dbs/intermediate/survey_act_weekday_modified.pkl')"
   ],
   "metadata": {
    "collapsed": false
   }
  },
  {
   "cell_type": "code",
   "execution_count": null,
   "outputs": [],
   "source": [],
   "metadata": {
    "collapsed": false
   }
  }
 ],
 "metadata": {
  "kernelspec": {
   "display_name": "Python 3",
   "language": "python",
   "name": "python3"
  },
  "language_info": {
   "codemirror_mode": {
    "name": "ipython",
    "version": 2
   },
   "file_extension": ".py",
   "mimetype": "text/x-python",
   "name": "python",
   "nbconvert_exporter": "python",
   "pygments_lexer": "ipython2",
   "version": "2.7.6"
  }
 },
 "nbformat": 4,
 "nbformat_minor": 0
}
