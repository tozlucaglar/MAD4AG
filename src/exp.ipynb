{
 "cells": [
  {
   "cell_type": "code",
   "execution_count": 1,
   "metadata": {
    "collapsed": true
   },
   "outputs": [
    {
     "name": "stdout",
     "output_type": "stream",
     "text": [
      "C:\\MAD4AG\n"
     ]
    }
   ],
   "source": [
    "%load_ext autoreload\n",
    "%autoreload 2\n",
    "%cd C:\\MAD4AG\n",
    "%matplotlib inline"
   ]
  },
  {
   "cell_type": "code",
   "execution_count": 2,
   "outputs": [],
   "source": [
    "import pandas as pd\n",
    "import numpy as np\n",
    "from tqdm.auto import tqdm\n",
    "import seaborn as sns\n",
    "import collections\n",
    "import folium\n",
    "from folium.plugins import HeatMapWithTime\n",
    "import matplotlib.pyplot as plt\n",
    "import warnings\n",
    "\n",
    "warnings.filterwarnings('ignore')\n",
    "\n",
    "plt.style.use('seaborn-white')\n",
    "\n",
    "\n"
   ],
   "metadata": {
    "collapsed": false
   }
  },
  {
   "cell_type": "code",
   "execution_count": 3,
   "outputs": [],
   "source": [
    "file_name = f'./dbs/big_geodata_se/stops.parquet'\n",
    "\n",
    "#Read each batchs file\n",
    "df = pd.read_parquet(file_name)"
   ],
   "metadata": {
    "collapsed": false
   }
  },
  {
   "cell_type": "code",
   "execution_count": 4,
   "outputs": [
    {
     "name": "stdout",
     "output_type": "stream",
     "text": [
      "                                     uid           localtime        lat  \\\n",
      "0   00008608-f79e-414d-bf1c-25632d6bc059 2019-07-07 16:26:55  59.330000   \n",
      "1   00008608-f79e-414d-bf1c-25632d6bc059 2019-07-18 00:29:02  56.050000   \n",
      "2   00008608-f79e-414d-bf1c-25632d6bc059 2019-08-28 20:56:04  56.174205   \n",
      "3   00008608-f79e-414d-bf1c-25632d6bc059 2019-08-29 19:22:15  56.174205   \n",
      "4   00008608-f79e-414d-bf1c-25632d6bc059 2019-08-30 22:10:18  56.174205   \n",
      "..                                   ...                 ...        ...   \n",
      "95  00008608-f79e-414d-bf1c-25632d6bc059 2019-11-09 14:57:25  56.092351   \n",
      "96  0000c837-ef82-4dfd-b2a5-00bdc8680b0b 2019-06-03 15:32:52  59.371264   \n",
      "97  0000c837-ef82-4dfd-b2a5-00bdc8680b0b 2019-06-04 15:09:24  59.371264   \n",
      "98  0000c837-ef82-4dfd-b2a5-00bdc8680b0b 2019-06-04 16:36:44  59.371277   \n",
      "99  0000c837-ef82-4dfd-b2a5-00bdc8680b0b 2019-06-04 18:51:22  59.371277   \n",
      "\n",
      "          lng  loc        h_s         dur  holiday_s  weekday_s  seq  \n",
      "0   18.050000   40  16.433333  182.966667          1          0    1  \n",
      "1   12.700000   18   0.483333  180.466667          1          1    2  \n",
      "2   12.569499    1  20.933333  180.983333          0          1    3  \n",
      "3   12.569499    1  19.366667  179.983333          0          1    4  \n",
      "4   12.569499    1  22.166667  179.983333          0          1    5  \n",
      "..        ...  ...        ...         ...        ...        ...  ...  \n",
      "95  12.754981   23  14.950000  179.983333          0          0   96  \n",
      "96  18.008246    2  15.533333  282.016667          0          1    1  \n",
      "97  18.008246    2  15.150000   16.833333          0          1    2  \n",
      "98  18.009341    1  16.600000   29.350000          0          1    3  \n",
      "99  18.009341    1  18.850000   32.966667          0          1    4  \n",
      "\n",
      "[100 rows x 10 columns]\n"
     ]
    }
   ],
   "source": [
    "aaa = df.head(1000)\n",
    "print(df.head(100))"
   ],
   "metadata": {
    "collapsed": false
   }
  },
  {
   "cell_type": "code",
   "execution_count": 5,
   "outputs": [
    {
     "name": "stdout",
     "output_type": "stream",
     "text": [
      "Data cover 322919 devices of 29122046 stop points.\n"
     ]
    }
   ],
   "source": [
    "print(\"Data cover %s devices of %s stop points.\"%(df['uid'].nunique(), len(df)))"
   ],
   "metadata": {
    "collapsed": false
   }
  },
  {
   "cell_type": "code",
   "execution_count": 6,
   "outputs": [
    {
     "data": {
      "text/plain": "  0%|          | 0/322919 [00:00<?, ?it/s]",
      "application/vnd.jupyter.widget-view+json": {
       "version_major": 2,
       "version_minor": 0,
       "model_id": "ad872c9ec46948a98fb9e6868567d7a1"
      }
     },
     "metadata": {},
     "output_type": "display_data"
    }
   ],
   "source": [
    "def user_stats(data):\n",
    "    # No. of unique locations\n",
    "    num_loc = data.loc[:, 'loc'].nunique()\n",
    "    # No. of active days\n",
    "\n",
    "    # No. of stays\n",
    "    num_stays = len(data)\n",
    "    # Description of active days\n",
    "    # ## Median value of stays/active day\n",
    "    # num_stays_act = data['date'].value_counts().median()\n",
    "    # ## Median value of total duration of stays/active day (h)\n",
    "    # dur_total_act = np.median(data.groupby('date')['dur'].sum()/60)\n",
    "    ## Median value of duration/stay (min)\n",
    "    dur_median = data['dur'].median()\n",
    "    return pd.Series(dict(num_loc=num_loc,  num_stays=num_stays, dur_median=dur_median))\n",
    "tqdm.pandas()\n",
    "df_user = df.groupby('uid').progress_apply(user_stats).reset_index()"
   ],
   "metadata": {
    "collapsed": false
   }
  },
  {
   "cell_type": "code",
   "execution_count": 19,
   "outputs": [
    {
     "data": {
      "text/plain": "                                     uid  num_loc  num_stays  dur_median\n0   00008608-f79e-414d-bf1c-25632d6bc059     43.0       96.0  179.983333\n1   0000c837-ef82-4dfd-b2a5-00bdc8680b0b     11.0      114.0  180.400000\n2   0000cd68-c931-4e3c-96f6-7c5837f59b08     34.0      149.0  104.550000\n3   0000f6ad-ffa4-4af2-9c2a-49d6dc86ec3a     12.0      231.0  179.983333\n4   000115f0-937a-4716-8d8b-09b1ed54c5ce     47.0      305.0  142.416667\n..                                   ...      ...        ...         ...\n95  00149019-ded0-4649-93d0-60911423f762     21.0       79.0  181.750000\n96  0014a1c9-4e79-4aaa-936a-cc7ffc279df0     32.0      144.0  189.108333\n97  0014bcb6-ab4f-4582-bdca-3870bb2c8f6a      4.0      110.0  201.075000\n98  0014cd8e-d31e-471c-bf2e-f539a1d442b3      6.0       43.0  183.166667\n99  0014dfc4-fd97-4d46-95d8-fb5441c37016      6.0       33.0  221.866667\n\n[100 rows x 4 columns]",
      "text/html": "<div>\n<style scoped>\n    .dataframe tbody tr th:only-of-type {\n        vertical-align: middle;\n    }\n\n    .dataframe tbody tr th {\n        vertical-align: top;\n    }\n\n    .dataframe thead th {\n        text-align: right;\n    }\n</style>\n<table border=\"1\" class=\"dataframe\">\n  <thead>\n    <tr style=\"text-align: right;\">\n      <th></th>\n      <th>uid</th>\n      <th>num_loc</th>\n      <th>num_stays</th>\n      <th>dur_median</th>\n    </tr>\n  </thead>\n  <tbody>\n    <tr>\n      <th>0</th>\n      <td>00008608-f79e-414d-bf1c-25632d6bc059</td>\n      <td>43.0</td>\n      <td>96.0</td>\n      <td>179.983333</td>\n    </tr>\n    <tr>\n      <th>1</th>\n      <td>0000c837-ef82-4dfd-b2a5-00bdc8680b0b</td>\n      <td>11.0</td>\n      <td>114.0</td>\n      <td>180.400000</td>\n    </tr>\n    <tr>\n      <th>2</th>\n      <td>0000cd68-c931-4e3c-96f6-7c5837f59b08</td>\n      <td>34.0</td>\n      <td>149.0</td>\n      <td>104.550000</td>\n    </tr>\n    <tr>\n      <th>3</th>\n      <td>0000f6ad-ffa4-4af2-9c2a-49d6dc86ec3a</td>\n      <td>12.0</td>\n      <td>231.0</td>\n      <td>179.983333</td>\n    </tr>\n    <tr>\n      <th>4</th>\n      <td>000115f0-937a-4716-8d8b-09b1ed54c5ce</td>\n      <td>47.0</td>\n      <td>305.0</td>\n      <td>142.416667</td>\n    </tr>\n    <tr>\n      <th>...</th>\n      <td>...</td>\n      <td>...</td>\n      <td>...</td>\n      <td>...</td>\n    </tr>\n    <tr>\n      <th>95</th>\n      <td>00149019-ded0-4649-93d0-60911423f762</td>\n      <td>21.0</td>\n      <td>79.0</td>\n      <td>181.750000</td>\n    </tr>\n    <tr>\n      <th>96</th>\n      <td>0014a1c9-4e79-4aaa-936a-cc7ffc279df0</td>\n      <td>32.0</td>\n      <td>144.0</td>\n      <td>189.108333</td>\n    </tr>\n    <tr>\n      <th>97</th>\n      <td>0014bcb6-ab4f-4582-bdca-3870bb2c8f6a</td>\n      <td>4.0</td>\n      <td>110.0</td>\n      <td>201.075000</td>\n    </tr>\n    <tr>\n      <th>98</th>\n      <td>0014cd8e-d31e-471c-bf2e-f539a1d442b3</td>\n      <td>6.0</td>\n      <td>43.0</td>\n      <td>183.166667</td>\n    </tr>\n    <tr>\n      <th>99</th>\n      <td>0014dfc4-fd97-4d46-95d8-fb5441c37016</td>\n      <td>6.0</td>\n      <td>33.0</td>\n      <td>221.866667</td>\n    </tr>\n  </tbody>\n</table>\n<p>100 rows × 4 columns</p>\n</div>"
     },
     "execution_count": 19,
     "metadata": {},
     "output_type": "execute_result"
    }
   ],
   "source": [
    "df_user.head(100)"
   ],
   "metadata": {
    "collapsed": false
   }
  },
  {
   "cell_type": "markdown",
   "source": [
    "# select an individual from the data"
   ],
   "metadata": {
    "collapsed": false
   }
  },
  {
   "cell_type": "code",
   "execution_count": 271,
   "outputs": [],
   "source": [
    "#individual_uid= '1676cccd-258d-4433-a3c6-4c0cfc0f8c29'\n",
    "#individual_uid= '00029d26-b702-4ac4-aacc-644f99688261'\n",
    "#individual_uid= '000ce923-767e-4165-88db-1e83bbef8165'\n",
    "individual_uid= '00106d02-52ca-445e-aea7-8085a65be212'\n",
    "\n",
    "\n",
    "individual = df[(df['uid']==individual_uid)&(df['weekday_s']==1)]\n"
   ],
   "metadata": {
    "collapsed": false
   }
  },
  {
   "cell_type": "markdown",
   "source": [
    "## repeat data points using starting time and stay duration"
   ],
   "metadata": {
    "collapsed": false
   }
  },
  {
   "cell_type": "code",
   "execution_count": 272,
   "outputs": [],
   "source": [
    "individual['dur_rp']= (individual['dur']/15)+1\n",
    "individual['dur_rp']= individual['dur_rp'].astype(int)\n",
    "\n",
    "individual = pd.DataFrame(np.repeat(individual.values, individual['dur_rp'].tolist(), axis=0), columns=individual.columns)\n",
    "\n"
   ],
   "metadata": {
    "collapsed": false
   }
  },
  {
   "cell_type": "code",
   "execution_count": 273,
   "outputs": [],
   "source": [
    "individual = individual.groupby(['uid','seq'],as_index = False)\n",
    "individual = individual.apply(lambda x: x.reset_index(drop = True)).reset_index()\n",
    "individual = individual.drop('level_0',axis = 1).rename(columns={\"level_1\": \"stay_seq\"})"
   ],
   "metadata": {
    "collapsed": false
   }
  },
  {
   "cell_type": "code",
   "execution_count": 274,
   "outputs": [],
   "source": [
    "individual['timestamp']= pd.to_datetime(individual['localtime'])+(pd.Timedelta(minutes=15)*individual['stay_seq'])"
   ],
   "metadata": {
    "collapsed": false
   }
  },
  {
   "cell_type": "code",
   "execution_count": 275,
   "outputs": [],
   "source": [
    "time_index = []\n",
    "for i in individual['timestamp']:\n",
    "    time_index.append(i)\n",
    "#date_strings = [pd.Timestamp(d).round(freq='30T').replace(day=1,month=7).strftime('%d/%m/%Y, %H:%M:%S') for d in time_index]\n",
    "date_strings = [pd.Timestamp(d).round(freq='30T').replace(day=1,month=7).strftime('%H:%M:%S') for d in time_index]\n",
    "\n",
    "individual['timestamp']= date_strings\n",
    "individual= individual.sort_values(by=['timestamp'])\n"
   ],
   "metadata": {
    "collapsed": false
   }
  },
  {
   "cell_type": "code",
   "execution_count": 276,
   "outputs": [],
   "source": [
    "individual['timestamp']= pd.to_datetime(individual['timestamp'])\n",
    "time_index = []\n",
    "for i in individual['timestamp'].unique():\n",
    "    time_index.append(i)\n",
    "date_strings = [pd.Timestamp(d).strftime('%H:%M:%S') for d in time_index]"
   ],
   "metadata": {
    "collapsed": false
   }
  },
  {
   "cell_type": "code",
   "execution_count": 277,
   "outputs": [],
   "source": [
    "#formatting the data into a nested list\n",
    "lat_long_list = []\n",
    "for i in individual['timestamp'].unique():\n",
    "    temp=[]\n",
    "    for index, instance in individual[individual['timestamp'] == i].iterrows():\n",
    "        temp.append([instance['lat'],instance['lng']])\n",
    "    lat_long_list.append(temp)"
   ],
   "metadata": {
    "collapsed": false
   }
  },
  {
   "cell_type": "code",
   "execution_count": 278,
   "outputs": [
    {
     "data": {
      "text/plain": "[55.706228697309285, 13.009369843049368]"
     },
     "execution_count": 278,
     "metadata": {},
     "output_type": "execute_result"
    }
   ],
   "source": [
    "[individual['lat'].mean(),individual['lng'].mean()]"
   ],
   "metadata": {
    "collapsed": false
   }
  },
  {
   "cell_type": "code",
   "execution_count": 279,
   "outputs": [
    {
     "data": {
      "text/plain": "<folium.folium.Map at 0x27f33d3eac8>",
      "text/html": "<div style=\"width:100%;\"><div style=\"position:relative;width:100%;height:0;padding-bottom:60%;\"><span style=\"color:#565656\">Make this Notebook Trusted to load map: File -> Trust Notebook</span><iframe srcdoc=\"&lt;!DOCTYPE html&gt;\n&lt;html&gt;\n&lt;head&gt;\n    \n    &lt;meta http-equiv=&quot;content-type&quot; content=&quot;text/html; charset=UTF-8&quot; /&gt;\n    \n        &lt;script&gt;\n            L_NO_TOUCH = false;\n            L_DISABLE_3D = false;\n        &lt;/script&gt;\n    \n    &lt;style&gt;html, body {width: 100%;height: 100%;margin: 0;padding: 0;}&lt;/style&gt;\n    &lt;style&gt;#map {position:absolute;top:0;bottom:0;right:0;left:0;}&lt;/style&gt;\n    &lt;script src=&quot;https://cdn.jsdelivr.net/npm/leaflet@1.9.3/dist/leaflet.js&quot;&gt;&lt;/script&gt;\n    &lt;script src=&quot;https://code.jquery.com/jquery-1.12.4.min.js&quot;&gt;&lt;/script&gt;\n    &lt;script src=&quot;https://cdn.jsdelivr.net/npm/bootstrap@5.2.2/dist/js/bootstrap.bundle.min.js&quot;&gt;&lt;/script&gt;\n    &lt;script src=&quot;https://cdnjs.cloudflare.com/ajax/libs/Leaflet.awesome-markers/2.0.2/leaflet.awesome-markers.js&quot;&gt;&lt;/script&gt;\n    &lt;link rel=&quot;stylesheet&quot; href=&quot;https://cdn.jsdelivr.net/npm/leaflet@1.9.3/dist/leaflet.css&quot;/&gt;\n    &lt;link rel=&quot;stylesheet&quot; href=&quot;https://cdn.jsdelivr.net/npm/bootstrap@5.2.2/dist/css/bootstrap.min.css&quot;/&gt;\n    &lt;link rel=&quot;stylesheet&quot; href=&quot;https://netdna.bootstrapcdn.com/bootstrap/3.0.0/css/bootstrap.min.css&quot;/&gt;\n    &lt;link rel=&quot;stylesheet&quot; href=&quot;https://cdn.jsdelivr.net/npm/@fortawesome/fontawesome-free@6.2.0/css/all.min.css&quot;/&gt;\n    &lt;link rel=&quot;stylesheet&quot; href=&quot;https://cdnjs.cloudflare.com/ajax/libs/Leaflet.awesome-markers/2.0.2/leaflet.awesome-markers.css&quot;/&gt;\n    &lt;link rel=&quot;stylesheet&quot; href=&quot;https://cdn.jsdelivr.net/gh/python-visualization/folium/folium/templates/leaflet.awesome.rotate.min.css&quot;/&gt;\n    \n            &lt;meta name=&quot;viewport&quot; content=&quot;width=device-width,\n                initial-scale=1.0, maximum-scale=1.0, user-scalable=no&quot; /&gt;\n            &lt;style&gt;\n                #map_4f5c1a01775d6bff18a9315225d85048 {\n                    position: relative;\n                    width: 100.0%;\n                    height: 100.0%;\n                    left: 0.0%;\n                    top: 0.0%;\n                }\n                .leaflet-container { font-size: 1rem; }\n            &lt;/style&gt;\n        \n    &lt;script src=&quot;https://cdn.jsdelivr.net/npm/iso8601-js-period@0.2.1/iso8601.min.js&quot;&gt;&lt;/script&gt;\n    &lt;script src=&quot;https://cdn.jsdelivr.net/npm/leaflet-timedimension@1.1.1/dist/leaflet.timedimension.min.js&quot;&gt;&lt;/script&gt;\n    &lt;script src=&quot;https://cdn.jsdelivr.net/gh/python-visualization/folium/folium/templates/pa7_hm.min.js&quot;&gt;&lt;/script&gt;\n    &lt;script src=&quot;https://cdn.jsdelivr.net/gh/python-visualization/folium/folium/templates/pa7_leaflet_hm.min.js&quot;&gt;&lt;/script&gt;\n    &lt;link rel=&quot;stylesheet&quot; href=&quot;https://cdn.jsdelivr.net/npm/leaflet-timedimension@1.1.1/dist/leaflet.timedimension.control.css&quot;/&gt;\n    \n            &lt;script&gt;\n                var TDHeatmap = L.TimeDimension.Layer.extend({\n\n            initialize: function(data, options) {\n                var heatmapCfg = {\n                    radius: 15,\n                    blur: 0.8,\n                    maxOpacity: 1.,\n                    scaleRadius: false,\n                    useLocalExtrema: false,\n                    latField: &#x27;lat&#x27;,\n                    lngField: &#x27;lng&#x27;,\n                    valueField: &#x27;count&#x27;,\n                    defaultWeight : 1,\n                };\n                heatmapCfg = $.extend({}, heatmapCfg, options.heatmapOptions || {});\n                var layer = new HeatmapOverlay(heatmapCfg);\n                L.TimeDimension.Layer.prototype.initialize.call(this, layer, options);\n                this._currentLoadedTime = 0;\n                this._currentTimeData = {\n                    data: []\n                    };\n                this.data= data;\n                this.defaultWeight = heatmapCfg.defaultWeight || 1;\n            },\n            onAdd: function(map) {\n                L.TimeDimension.Layer.prototype.onAdd.call(this, map);\n                map.addLayer(this._baseLayer);\n                if (this._timeDimension) {\n                    this._getDataForTime(this._timeDimension.getCurrentTime());\n                }\n            },\n            _onNewTimeLoading: function(ev) {\n                this._getDataForTime(ev.time);\n                return;\n            },\n            isReady: function(time) {\n                return (this._currentLoadedTime == time);\n            },\n            _update: function() {\n                this._baseLayer.setData(this._currentTimeData);\n                return true;\n            },\n            _getDataForTime: function(time) {\n                    delete this._currentTimeData.data;\n                    this._currentTimeData.data = [];\n                    var data = this.data[time-1];\n                    for (var i = 0; i &lt; data.length; i++) {\n                        this._currentTimeData.data.push({\n                                lat: data[i][0],\n                                lng: data[i][1],\n                                count: data[i].length&gt;2 ? data[i][2] : this.defaultWeight\n                            });\n                        }\n                    this._currentLoadedTime = time;\n                    if (this._timeDimension &amp;&amp; time == this._timeDimension.getCurrentTime() &amp;&amp; !this._timeDimension.isLoading()) {\n                        this._update();\n                    }\n                    this.fire(&#x27;timeload&#x27;, {\n                        time: time\n                    });\n                }\n        });\n\n        L.Control.TimeDimensionCustom = L.Control.TimeDimension.extend({\n            initialize: function(index, options) {\n                var playerOptions = {\n                    buffer: 1,\n                    minBufferReady: -1\n                    };\n                options.playerOptions = $.extend({}, playerOptions, options.playerOptions || {});\n                L.Control.TimeDimension.prototype.initialize.call(this, options);\n                this.index = index;\n                },\n            _getDisplayDateFormat: function(date){\n                return this.index[date.getTime()-1];\n                }\n            });\n            &lt;/script&gt;\n                \n&lt;/head&gt;\n&lt;body&gt;\n    \n    \n            &lt;div class=&quot;folium-map&quot; id=&quot;map_4f5c1a01775d6bff18a9315225d85048&quot; &gt;&lt;/div&gt;\n        \n&lt;/body&gt;\n&lt;script&gt;\n    \n    \n            var map_4f5c1a01775d6bff18a9315225d85048 = L.map(\n                &quot;map_4f5c1a01775d6bff18a9315225d85048&quot;,\n                {\n                    center: [55.587687, 13.035366],\n                    crs: L.CRS.EPSG3857,\n                    zoom: 10,\n                    zoomControl: true,\n                    preferCanvas: false,\n                }\n            );\n\n            \n\n        \n    \n            var tile_layer_def1411600075604e149f32b8999b56c = L.tileLayer(\n                &quot;https://cartodb-basemaps-{s}.global.ssl.fastly.net/dark_all/{z}/{x}/{y}.png&quot;,\n                {&quot;attribution&quot;: &quot;\\u0026copy; \\u003ca target=\\&quot;_blank\\&quot; href=\\&quot;http://www.openstreetmap.org/copyright\\&quot;\\u003eOpenStreetMap\\u003c/a\\u003e contributors \\u0026copy; \\u003ca target=\\&quot;_blank\\&quot; href=\\&quot;http://cartodb.com/attributions\\&quot;\\u003eCartoDB\\u003c/a\\u003e, CartoDB \\u003ca target=\\&quot;_blank\\&quot; href =\\&quot;http://cartodb.com/attributions\\&quot;\\u003eattributions\\u003c/a\\u003e&quot;, &quot;detectRetina&quot;: false, &quot;maxNativeZoom&quot;: 18, &quot;maxZoom&quot;: 18, &quot;minZoom&quot;: 0, &quot;noWrap&quot;: false, &quot;opacity&quot;: 1, &quot;subdomains&quot;: &quot;abc&quot;, &quot;tms&quot;: false}\n            ).addTo(map_4f5c1a01775d6bff18a9315225d85048);\n        \n    \n\n            var times = [1, 2, 3, 4, 5, 6, 7, 8, 9, 10, 11, 12, 13, 14, 15, 16, 17, 18, 19, 20, 21, 22, 23, 24, 25, 26, 27, 28, 29, 30, 31, 32, 33, 34, 35];\n\n            map_4f5c1a01775d6bff18a9315225d85048.timeDimension = L.timeDimension(\n                {times : times, currentTime: new Date(1)}\n            );\n\n            var heat_map_b23a57957ec91b953d60e234f4325861Control = new L.Control.TimeDimensionCustom([&#x27;00:00:00&#x27;, &#x27;00:30:00&#x27;, &#x27;01:00:00&#x27;, &#x27;01:30:00&#x27;, &#x27;02:00:00&#x27;, &#x27;02:30:00&#x27;, &#x27;03:00:00&#x27;, &#x27;03:30:00&#x27;, &#x27;09:30:00&#x27;, &#x27;10:00:00&#x27;, &#x27;10:30:00&#x27;, &#x27;11:00:00&#x27;, &#x27;11:30:00&#x27;, &#x27;12:00:00&#x27;, &#x27;12:30:00&#x27;, &#x27;13:00:00&#x27;, &#x27;13:30:00&#x27;, &#x27;14:00:00&#x27;, &#x27;14:30:00&#x27;, &#x27;15:00:00&#x27;, &#x27;15:30:00&#x27;, &#x27;16:00:00&#x27;, &#x27;16:30:00&#x27;, &#x27;17:00:00&#x27;, &#x27;17:30:00&#x27;, &#x27;18:00:00&#x27;, &#x27;18:30:00&#x27;, &#x27;19:00:00&#x27;, &#x27;19:30:00&#x27;, &#x27;20:00:00&#x27;, &#x27;20:30:00&#x27;, &#x27;21:00:00&#x27;, &#x27;21:30:00&#x27;, &#x27;22:00:00&#x27;, &#x27;23:30:00&#x27;], {\n                autoPlay: true,\n                backwardButton: true,\n                displayDate: true,\n                forwardButton: true,\n                limitMinimumRange: 5,\n                limitSliders: true,\n                loopButton: true,\n                maxSpeed: 10,\n                minSpeed: 0.1,\n                playButton: true,\n                playReverseButton: true,\n                position: &quot;bottomright&quot;,\n                speedSlider: true,\n                speedStep: 0.1,\n                styleNS: &quot;leaflet-control-timecontrol&quot;,\n                timeSlider: true,\n                timeSliderDrapUpdate: false,\n                timeSteps: 1\n                })\n                .addTo(map_4f5c1a01775d6bff18a9315225d85048);\n\n                var heat_map_b23a57957ec91b953d60e234f4325861 = new TDHeatmap([[[55.587687, 13.035366], [55.587687, 13.035366], [55.587687, 13.035366]], [[55.587687, 13.035366], [55.587687, 13.035366], [55.587687, 13.035366], [55.587687, 13.035366]], [[55.587687, 13.035366], [55.587687, 13.035366], [55.587687, 13.035366], [55.587687, 13.035366]], [[55.587687, 13.035366], [55.587687, 13.035366], [55.587687, 13.035366], [55.587687, 13.035366]], [[55.587687, 13.035366], [55.587687, 13.035366], [55.587687, 13.035366], [55.587687, 13.035366]], [[55.587687, 13.035366], [55.587687, 13.035366], [55.587687, 13.035366], [55.587687, 13.035366]], [[55.587687, 13.035366], [55.587687, 13.035366]], [[55.587687, 13.035366]], [[55.604907, 13.028819], [55.604907, 13.028819]], [[55.604907, 13.028819], [55.604907, 13.028819], [56.2998195, 12.7902885], [55.596973, 13.007142]], [[55.596973, 13.007142], [55.584811, 12.954455], [55.596973, 13.007142], [55.584811, 12.954455], [56.2998195, 12.7902885], [56.2998195, 12.7902885], [55.604907, 13.028819], [55.604907, 13.028819], [55.7283355, 13.187398]], [[56.2998195, 12.7902885], [56.2998195, 12.7902885], [55.604907, 13.028819], [55.604907, 13.028819], [55.584811, 12.954455], [55.596973, 13.007142], [55.596973, 13.007142], [55.584811, 12.954455], [55.7283355, 13.187398], [55.7283355, 13.187398]], [[55.596973, 13.007142], [56.2998195, 12.7902885], [56.2998195, 12.7902885], [55.7283355, 13.187398], [55.604907, 13.028819], [55.7283355, 13.187398], [55.596973, 13.007142], [55.584811, 12.954455], [56.3195335, 12.9323925], [55.4178905, 12.850077], [55.584811, 12.954455], [55.604907, 13.028819]], [[56.3195335, 12.9323925], [56.2998195, 12.7902885], [56.2998195, 12.7902885], [56.2998195, 12.7902885], [55.604907, 13.028819], [55.604907, 13.028819], [55.584811, 12.954455], [56.3195335, 12.9323925], [55.584811, 12.954455], [55.596973, 13.007142], [55.596973, 13.007142], [55.4178905, 12.850077], [55.4178905, 12.850077], [55.7283355, 13.187398], [55.7283355, 13.187398]], [[56.3195335, 12.9323925], [55.4178905, 12.850077], [55.4178905, 12.850077], [55.584811, 12.954455], [55.584811, 12.954455], [56.3195335, 12.9323925], [55.7283355, 13.187398], [55.596973, 13.007142], [55.596973, 13.007142], [55.7283355, 13.187398]], [[55.7283355, 13.187398], [55.4178905, 12.850077], [55.4178905, 12.850077], [55.7283355, 13.187398], [56.3195335, 12.9323925], [55.584811, 12.954455], [56.3195335, 12.9323925], [55.584811, 12.954455], [55.596973, 13.007142]], [[55.7283355, 13.187398], [55.4178905, 12.850077], [55.4178905, 12.850077], [56.3195335, 12.9323925], [56.3195335, 12.9323925], [55.7283355, 13.187398]], [[55.594308, 13.002793], [55.594308, 13.002793], [55.614477, 12.983688], [55.614477, 12.983688], [56.3195335, 12.9323925], [56.3195335, 12.9323925], [55.4178905, 12.850077], [55.4178905, 12.850077]], [[55.594308, 13.002793], [56.3195335, 12.9323925], [55.4178905, 12.850077], [55.4178905, 12.850077], [56.3195335, 12.9323925], [55.614477, 12.983688], [55.614477, 12.983688], [55.594308, 13.002793]], [[55.614477, 12.983688], [55.614477, 12.983688], [55.494032, 13.087584], [55.594308, 13.002793], [55.594308, 13.002793]], [[55.494032, 13.087584], [55.494032, 13.087584], [55.94067, 12.818707], [55.614477, 12.983688], [55.614477, 12.983688], [55.594308, 13.002793], [55.594308, 13.002793]], [[55.494032, 13.087584], [55.573378, 13.033735], [55.594308, 13.002793], [55.494032, 13.087584], [55.594308, 13.002793], [55.94067, 12.818707]], [[55.573378, 13.033735], [55.573378, 13.033735], [55.594308, 13.002793], [56.0517105, 12.6892505], [56.0517105, 12.6892505], [55.494032, 13.087584], [55.494032, 13.087584], [55.594308, 13.002793]], [[56.0517105, 12.6892505], [56.0517105, 12.6892505], [55.594308, 13.002793], [55.6912135, 13.194307], [55.494032, 13.087584], [55.573378, 13.033735], [55.587687, 13.035366], [55.494032, 13.087584]], [[55.587687, 13.035366], [55.587687, 13.035366], [55.494032, 13.087584], [56.0517105, 12.6892505], [56.0517105, 12.6892505], [55.6912135, 13.194307], [55.6912135, 13.194307], [55.494032, 13.087584], [55.722258, 13.180175], [55.722258, 13.180175]], [[55.6912135, 13.194307], [55.6912135, 13.194307], [55.494032, 13.087584], [55.722258, 13.180175], [56.0517105, 12.6892505], [56.0517105, 12.6892505], [55.587687, 13.035366], [55.722258, 13.180175], [55.587687, 13.035366]], [[55.587687, 13.035366], [55.6912135, 13.194307], [55.6912135, 13.194307], [55.722258, 13.180175], [55.587687, 13.035366], [55.587687, 13.035366], [55.587687, 13.035366], [55.722258, 13.180175], [56.0517105, 12.6892505], [56.0517105, 12.6892505]], [[55.722258, 13.180175], [55.722258, 13.180175], [56.0517105, 12.6892505], [56.0517105, 12.6892505], [55.6912135, 13.194307], [55.6912135, 13.194307], [55.587687, 13.035366], [55.587687, 13.035366], [55.587687, 13.035366], [55.587687, 13.035366]], [[56.0517105, 12.6892505], [55.6912135, 13.194307], [55.6912135, 13.194307], [55.722258, 13.180175], [55.587687, 13.035366], [55.722258, 13.180175], [55.587687, 13.035366], [55.587687, 13.035366], [55.587687, 13.035366]], [[55.6912135, 13.194307], [55.6912135, 13.194307], [55.587687, 13.035366], [55.587687, 13.035366], [55.587687, 13.035366], [55.722258, 13.180175], [55.722258, 13.180175], [55.587687, 13.035366]], [[55.722258, 13.180175], [55.587687, 13.035366], [55.587687, 13.035366], [55.722258, 13.180175]], [[55.587687, 13.035366], [55.722258, 13.180175], [55.722258, 13.180175], [55.587687, 13.035366]], [[55.722258, 13.180175], [55.722258, 13.180175], [55.587687, 13.035366]], [[55.722258, 13.180175], [55.722258, 13.180175]], [[55.587687, 13.035366]]],\n                {heatmapOptions: {\n                        radius: 7,\n                        blur: 0.8,\n                        minOpacity: 0,\n                        maxOpacity: 0.7,\n                        scaleRadius: false,\n                        useLocalExtrema: false,\n                        defaultWeight: 1,\n                        \n                    }\n                })\n                .addTo(map_4f5c1a01775d6bff18a9315225d85048);\n\n        \n&lt;/script&gt;\n&lt;/html&gt;\" style=\"position:absolute;width:100%;height:100%;left:0;top:0;border:none !important;\" allowfullscreen webkitallowfullscreen mozallowfullscreen></iframe></div></div>"
     },
     "execution_count": 279,
     "metadata": {},
     "output_type": "execute_result"
    }
   ],
   "source": [
    "\n",
    "\n",
    "#Choosing the map type\n",
    "m = folium.Map(location=[individual['lat'].mode(),individual['lng'].mode()], zoom_start=10, tiles=\"cartodbdark_matter\")\n",
    "\n",
    "#Plot it on the map\n",
    "HeatMapWithTime(lat_long_list,radius=7,auto_play=True,position='bottomright',name=\"cluster\",index=date_strings,max_opacity=0.7).add_to(m)\n",
    "\n",
    "# Display the map\n",
    "m\n"
   ],
   "metadata": {
    "collapsed": false
   }
  },
  {
   "cell_type": "code",
   "execution_count": 280,
   "outputs": [],
   "source": [
    "m.save('./figures/heat_map'+individual_uid+'.html')\n"
   ],
   "metadata": {
    "collapsed": false
   }
  },
  {
   "cell_type": "code",
   "execution_count": 281,
   "outputs": [
    {
     "data": {
      "text/plain": "<folium.folium.Map at 0x27f3349f1c8>",
      "text/html": "<div style=\"width:100%;\"><div style=\"position:relative;width:100%;height:0;padding-bottom:60%;\"><span style=\"color:#565656\">Make this Notebook Trusted to load map: File -> Trust Notebook</span><iframe srcdoc=\"&lt;!DOCTYPE html&gt;\n&lt;html&gt;\n&lt;head&gt;\n    \n    &lt;meta http-equiv=&quot;content-type&quot; content=&quot;text/html; charset=UTF-8&quot; /&gt;\n    \n        &lt;script&gt;\n            L_NO_TOUCH = false;\n            L_DISABLE_3D = false;\n        &lt;/script&gt;\n    \n    &lt;style&gt;html, body {width: 100%;height: 100%;margin: 0;padding: 0;}&lt;/style&gt;\n    &lt;style&gt;#map {position:absolute;top:0;bottom:0;right:0;left:0;}&lt;/style&gt;\n    &lt;script src=&quot;https://cdn.jsdelivr.net/npm/leaflet@1.9.3/dist/leaflet.js&quot;&gt;&lt;/script&gt;\n    &lt;script src=&quot;https://code.jquery.com/jquery-1.12.4.min.js&quot;&gt;&lt;/script&gt;\n    &lt;script src=&quot;https://cdn.jsdelivr.net/npm/bootstrap@5.2.2/dist/js/bootstrap.bundle.min.js&quot;&gt;&lt;/script&gt;\n    &lt;script src=&quot;https://cdnjs.cloudflare.com/ajax/libs/Leaflet.awesome-markers/2.0.2/leaflet.awesome-markers.js&quot;&gt;&lt;/script&gt;\n    &lt;link rel=&quot;stylesheet&quot; href=&quot;https://cdn.jsdelivr.net/npm/leaflet@1.9.3/dist/leaflet.css&quot;/&gt;\n    &lt;link rel=&quot;stylesheet&quot; href=&quot;https://cdn.jsdelivr.net/npm/bootstrap@5.2.2/dist/css/bootstrap.min.css&quot;/&gt;\n    &lt;link rel=&quot;stylesheet&quot; href=&quot;https://netdna.bootstrapcdn.com/bootstrap/3.0.0/css/bootstrap.min.css&quot;/&gt;\n    &lt;link rel=&quot;stylesheet&quot; href=&quot;https://cdn.jsdelivr.net/npm/@fortawesome/fontawesome-free@6.2.0/css/all.min.css&quot;/&gt;\n    &lt;link rel=&quot;stylesheet&quot; href=&quot;https://cdnjs.cloudflare.com/ajax/libs/Leaflet.awesome-markers/2.0.2/leaflet.awesome-markers.css&quot;/&gt;\n    &lt;link rel=&quot;stylesheet&quot; href=&quot;https://cdn.jsdelivr.net/gh/python-visualization/folium/folium/templates/leaflet.awesome.rotate.min.css&quot;/&gt;\n    \n            &lt;meta name=&quot;viewport&quot; content=&quot;width=device-width,\n                initial-scale=1.0, maximum-scale=1.0, user-scalable=no&quot; /&gt;\n            &lt;style&gt;\n                #map_ad10c62adeacc1bd163fab30e95fe0a8 {\n                    position: relative;\n                    width: 100.0%;\n                    height: 100.0%;\n                    left: 0.0%;\n                    top: 0.0%;\n                }\n                .leaflet-container { font-size: 1rem; }\n            &lt;/style&gt;\n        \n&lt;/head&gt;\n&lt;body&gt;\n    \n    \n            &lt;div class=&quot;folium-map&quot; id=&quot;map_ad10c62adeacc1bd163fab30e95fe0a8&quot; &gt;&lt;/div&gt;\n        \n&lt;/body&gt;\n&lt;script&gt;\n    \n    \n            var map_ad10c62adeacc1bd163fab30e95fe0a8 = L.map(\n                &quot;map_ad10c62adeacc1bd163fab30e95fe0a8&quot;,\n                {\n                    center: [55.587687, 13.035366],\n                    crs: L.CRS.EPSG3857,\n                    zoom: 13,\n                    zoomControl: true,\n                    preferCanvas: false,\n                }\n            );\n\n            \n\n        \n    \n            var tile_layer_a542cf0a27bde1777e0e92196448ef7b = L.tileLayer(\n                &quot;https://{s}.tile.openstreetmap.org/{z}/{x}/{y}.png&quot;,\n                {&quot;attribution&quot;: &quot;Data by \\u0026copy; \\u003ca target=\\&quot;_blank\\&quot; href=\\&quot;http://openstreetmap.org\\&quot;\\u003eOpenStreetMap\\u003c/a\\u003e, under \\u003ca target=\\&quot;_blank\\&quot; href=\\&quot;http://www.openstreetmap.org/copyright\\&quot;\\u003eODbL\\u003c/a\\u003e.&quot;, &quot;detectRetina&quot;: false, &quot;maxNativeZoom&quot;: 18, &quot;maxZoom&quot;: 18, &quot;minZoom&quot;: 0, &quot;noWrap&quot;: false, &quot;opacity&quot;: 1, &quot;subdomains&quot;: &quot;abc&quot;, &quot;tms&quot;: false}\n            ).addTo(map_ad10c62adeacc1bd163fab30e95fe0a8);\n        \n    \n            var circle_9b63b6a57fa5bb0d5d4e86dea105cf98 = L.circle(\n                [55.4178905, 12.850077],\n                {&quot;bubblingMouseEvents&quot;: true, &quot;color&quot;: &quot;#3388ff&quot;, &quot;dashArray&quot;: null, &quot;dashOffset&quot;: null, &quot;fill&quot;: true, &quot;fillColor&quot;: &quot;orange&quot;, &quot;fillOpacity&quot;: 0.4, &quot;fillRule&quot;: &quot;evenodd&quot;, &quot;lineCap&quot;: &quot;round&quot;, &quot;lineJoin&quot;: &quot;round&quot;, &quot;opacity&quot;: 1.0, &quot;radius&quot;: 50, &quot;stroke&quot;: true, &quot;weight&quot;: 3}\n            ).addTo(map_ad10c62adeacc1bd163fab30e95fe0a8);\n        \n    \n        var popup_8f06e762b7501f64bc0f4ecd1dc8c3d9 = L.popup({&quot;maxWidth&quot;: &quot;100%&quot;});\n\n        \n            \n                var html_b0800f5903d168fab692d822295242bb = $(`&lt;div id=&quot;html_b0800f5903d168fab692d822295242bb&quot; style=&quot;width: 100.0%; height: 100.0%;&quot;&gt;[(Timestamp(&#x27;2023-12-18 12:00:00&#x27;), 2), (Timestamp(&#x27;2023-12-18 12:30:00&#x27;), 2), (Timestamp(&#x27;2023-12-18 13:00:00&#x27;), 2), (Timestamp(&#x27;2023-12-18 13:30:00&#x27;), 2), (Timestamp(&#x27;2023-12-18 14:00:00&#x27;), 2), (Timestamp(&#x27;2023-12-18 14:30:00&#x27;), 2), (Timestamp(&#x27;2023-12-18 11:30:00&#x27;), 1)]&lt;/div&gt;`)[0];\n                popup_8f06e762b7501f64bc0f4ecd1dc8c3d9.setContent(html_b0800f5903d168fab692d822295242bb);\n            \n        \n\n        circle_9b63b6a57fa5bb0d5d4e86dea105cf98.bindPopup(popup_8f06e762b7501f64bc0f4ecd1dc8c3d9)\n        ;\n\n        \n    \n    \n            var circle_c03df399b490e37306bea955fd9a0bcd = L.circle(\n                [55.494032, 13.087584],\n                {&quot;bubblingMouseEvents&quot;: true, &quot;color&quot;: &quot;#3388ff&quot;, &quot;dashArray&quot;: null, &quot;dashOffset&quot;: null, &quot;fill&quot;: true, &quot;fillColor&quot;: &quot;orange&quot;, &quot;fillOpacity&quot;: 0.4, &quot;fillRule&quot;: &quot;evenodd&quot;, &quot;lineCap&quot;: &quot;round&quot;, &quot;lineJoin&quot;: &quot;round&quot;, &quot;opacity&quot;: 1.0, &quot;radius&quot;: 50, &quot;stroke&quot;: true, &quot;weight&quot;: 3}\n            ).addTo(map_ad10c62adeacc1bd163fab30e95fe0a8);\n        \n    \n        var popup_64352d5be5fc247345924ce2be0b6636 = L.popup({&quot;maxWidth&quot;: &quot;100%&quot;});\n\n        \n            \n                var html_c29a1d86859e78b988ec9e962ced8af9 = $(`&lt;div id=&quot;html_c29a1d86859e78b988ec9e962ced8af9&quot; style=&quot;width: 100.0%; height: 100.0%;&quot;&gt;[(Timestamp(&#x27;2023-12-18 15:30:00&#x27;), 2), (Timestamp(&#x27;2023-12-18 16:00:00&#x27;), 2), (Timestamp(&#x27;2023-12-18 16:30:00&#x27;), 2), (Timestamp(&#x27;2023-12-18 17:00:00&#x27;), 2), (Timestamp(&#x27;2023-12-18 17:30:00&#x27;), 2), (Timestamp(&#x27;2023-12-18 15:00:00&#x27;), 1), (Timestamp(&#x27;2023-12-18 18:00:00&#x27;), 1)]&lt;/div&gt;`)[0];\n                popup_64352d5be5fc247345924ce2be0b6636.setContent(html_c29a1d86859e78b988ec9e962ced8af9);\n            \n        \n\n        circle_c03df399b490e37306bea955fd9a0bcd.bindPopup(popup_64352d5be5fc247345924ce2be0b6636)\n        ;\n\n        \n    \n    \n            var circle_2ec47bfaaaa165c54b426f4972df5398 = L.circle(\n                [55.573378, 13.033735],\n                {&quot;bubblingMouseEvents&quot;: true, &quot;color&quot;: &quot;#3388ff&quot;, &quot;dashArray&quot;: null, &quot;dashOffset&quot;: null, &quot;fill&quot;: true, &quot;fillColor&quot;: &quot;orange&quot;, &quot;fillOpacity&quot;: 0.4, &quot;fillRule&quot;: &quot;evenodd&quot;, &quot;lineCap&quot;: &quot;round&quot;, &quot;lineJoin&quot;: &quot;round&quot;, &quot;opacity&quot;: 1.0, &quot;radius&quot;: 50, &quot;stroke&quot;: true, &quot;weight&quot;: 3}\n            ).addTo(map_ad10c62adeacc1bd163fab30e95fe0a8);\n        \n    \n        var popup_d7eb2624ababdb2db565031db5db32db = L.popup({&quot;maxWidth&quot;: &quot;100%&quot;});\n\n        \n            \n                var html_62f75b7653448b0c4af7f91a4054740b = $(`&lt;div id=&quot;html_62f75b7653448b0c4af7f91a4054740b&quot; style=&quot;width: 100.0%; height: 100.0%;&quot;&gt;[(Timestamp(&#x27;2023-12-18 16:30:00&#x27;), 2), (Timestamp(&#x27;2023-12-18 16:00:00&#x27;), 1), (Timestamp(&#x27;2023-12-18 17:00:00&#x27;), 1)]&lt;/div&gt;`)[0];\n                popup_d7eb2624ababdb2db565031db5db32db.setContent(html_62f75b7653448b0c4af7f91a4054740b);\n            \n        \n\n        circle_2ec47bfaaaa165c54b426f4972df5398.bindPopup(popup_d7eb2624ababdb2db565031db5db32db)\n        ;\n\n        \n    \n    \n            var circle_0095b2430cf01a2d020c9d800fa9a74b = L.circle(\n                [55.584811, 12.954455],\n                {&quot;bubblingMouseEvents&quot;: true, &quot;color&quot;: &quot;#3388ff&quot;, &quot;dashArray&quot;: null, &quot;dashOffset&quot;: null, &quot;fill&quot;: true, &quot;fillColor&quot;: &quot;orange&quot;, &quot;fillOpacity&quot;: 0.4, &quot;fillRule&quot;: &quot;evenodd&quot;, &quot;lineCap&quot;: &quot;round&quot;, &quot;lineJoin&quot;: &quot;round&quot;, &quot;opacity&quot;: 1.0, &quot;radius&quot;: 50, &quot;stroke&quot;: true, &quot;weight&quot;: 3}\n            ).addTo(map_ad10c62adeacc1bd163fab30e95fe0a8);\n        \n    \n        var popup_6199a29dda3b9c67c115f5c868aa4896 = L.popup({&quot;maxWidth&quot;: &quot;100%&quot;});\n\n        \n            \n                var html_6a4b978ca6e28582c567bfd0d456588f = $(`&lt;div id=&quot;html_6a4b978ca6e28582c567bfd0d456588f&quot; style=&quot;width: 100.0%; height: 100.0%;&quot;&gt;[(Timestamp(&#x27;2023-12-18 10:30:00&#x27;), 2), (Timestamp(&#x27;2023-12-18 11:00:00&#x27;), 2), (Timestamp(&#x27;2023-12-18 11:30:00&#x27;), 2), (Timestamp(&#x27;2023-12-18 12:00:00&#x27;), 2), (Timestamp(&#x27;2023-12-18 12:30:00&#x27;), 2), (Timestamp(&#x27;2023-12-18 13:00:00&#x27;), 2)]&lt;/div&gt;`)[0];\n                popup_6199a29dda3b9c67c115f5c868aa4896.setContent(html_6a4b978ca6e28582c567bfd0d456588f);\n            \n        \n\n        circle_0095b2430cf01a2d020c9d800fa9a74b.bindPopup(popup_6199a29dda3b9c67c115f5c868aa4896)\n        ;\n\n        \n    \n    \n            var circle_321d67e920b88bda25f08efd4d467008 = L.circle(\n                [55.587687, 13.035366],\n                {&quot;bubblingMouseEvents&quot;: true, &quot;color&quot;: &quot;#3388ff&quot;, &quot;dashArray&quot;: null, &quot;dashOffset&quot;: null, &quot;fill&quot;: true, &quot;fillColor&quot;: &quot;orange&quot;, &quot;fillOpacity&quot;: 0.4, &quot;fillRule&quot;: &quot;evenodd&quot;, &quot;lineCap&quot;: &quot;round&quot;, &quot;lineJoin&quot;: &quot;round&quot;, &quot;opacity&quot;: 1.0, &quot;radius&quot;: 50, &quot;stroke&quot;: true, &quot;weight&quot;: 3}\n            ).addTo(map_ad10c62adeacc1bd163fab30e95fe0a8);\n        \n    \n        var popup_0e68c0beaba0d4e7953b448e6964f153 = L.popup({&quot;maxWidth&quot;: &quot;100%&quot;});\n\n        \n            \n                var html_a93e0680fe969795eb0fa0b6bf883545 = $(`&lt;div id=&quot;html_a93e0680fe969795eb0fa0b6bf883545&quot; style=&quot;width: 100.0%; height: 100.0%;&quot;&gt;[(Timestamp(&#x27;2023-12-18 00:30:00&#x27;), 4), (Timestamp(&#x27;2023-12-18 01:00:00&#x27;), 4), (Timestamp(&#x27;2023-12-18 01:30:00&#x27;), 4), (Timestamp(&#x27;2023-12-18 02:00:00&#x27;), 4), (Timestamp(&#x27;2023-12-18 02:30:00&#x27;), 4), (Timestamp(&#x27;2023-12-18 18:30:00&#x27;), 4), (Timestamp(&#x27;2023-12-18 19:00:00&#x27;), 4), (Timestamp(&#x27;2023-12-18 19:30:00&#x27;), 4), (Timestamp(&#x27;2023-12-18 20:00:00&#x27;), 4), (Timestamp(&#x27;2023-12-18 00:00:00&#x27;), 3)]&lt;/div&gt;`)[0];\n                popup_0e68c0beaba0d4e7953b448e6964f153.setContent(html_a93e0680fe969795eb0fa0b6bf883545);\n            \n        \n\n        circle_321d67e920b88bda25f08efd4d467008.bindPopup(popup_0e68c0beaba0d4e7953b448e6964f153)\n        ;\n\n        \n    \n    \n            var circle_be780a3b087b903ee422dc6e2414c328 = L.circle(\n                [55.594308, 13.002793],\n                {&quot;bubblingMouseEvents&quot;: true, &quot;color&quot;: &quot;#3388ff&quot;, &quot;dashArray&quot;: null, &quot;dashOffset&quot;: null, &quot;fill&quot;: true, &quot;fillColor&quot;: &quot;orange&quot;, &quot;fillOpacity&quot;: 0.4, &quot;fillRule&quot;: &quot;evenodd&quot;, &quot;lineCap&quot;: &quot;round&quot;, &quot;lineJoin&quot;: &quot;round&quot;, &quot;opacity&quot;: 1.0, &quot;radius&quot;: 50, &quot;stroke&quot;: true, &quot;weight&quot;: 3}\n            ).addTo(map_ad10c62adeacc1bd163fab30e95fe0a8);\n        \n    \n        var popup_dcb4c1d32d5407fde62a1f0816720bec = L.popup({&quot;maxWidth&quot;: &quot;100%&quot;});\n\n        \n            \n                var html_ac3b664ae2deacaba8cd7969f80c2bdd = $(`&lt;div id=&quot;html_ac3b664ae2deacaba8cd7969f80c2bdd&quot; style=&quot;width: 100.0%; height: 100.0%;&quot;&gt;[(Timestamp(&#x27;2023-12-18 14:00:00&#x27;), 2), (Timestamp(&#x27;2023-12-18 14:30:00&#x27;), 2), (Timestamp(&#x27;2023-12-18 15:00:00&#x27;), 2), (Timestamp(&#x27;2023-12-18 15:30:00&#x27;), 2), (Timestamp(&#x27;2023-12-18 16:00:00&#x27;), 2), (Timestamp(&#x27;2023-12-18 16:30:00&#x27;), 2), (Timestamp(&#x27;2023-12-18 17:00:00&#x27;), 1)]&lt;/div&gt;`)[0];\n                popup_dcb4c1d32d5407fde62a1f0816720bec.setContent(html_ac3b664ae2deacaba8cd7969f80c2bdd);\n            \n        \n\n        circle_be780a3b087b903ee422dc6e2414c328.bindPopup(popup_dcb4c1d32d5407fde62a1f0816720bec)\n        ;\n\n        \n    \n    \n            var circle_e2a2e269a4d666dcd1dd4caecccbadcb = L.circle(\n                [55.596973, 13.007142],\n                {&quot;bubblingMouseEvents&quot;: true, &quot;color&quot;: &quot;#3388ff&quot;, &quot;dashArray&quot;: null, &quot;dashOffset&quot;: null, &quot;fill&quot;: true, &quot;fillColor&quot;: &quot;orange&quot;, &quot;fillOpacity&quot;: 0.4, &quot;fillRule&quot;: &quot;evenodd&quot;, &quot;lineCap&quot;: &quot;round&quot;, &quot;lineJoin&quot;: &quot;round&quot;, &quot;opacity&quot;: 1.0, &quot;radius&quot;: 50, &quot;stroke&quot;: true, &quot;weight&quot;: 3}\n            ).addTo(map_ad10c62adeacc1bd163fab30e95fe0a8);\n        \n    \n        var popup_37c0ca5d43e0b272ed4915c815cc35f0 = L.popup({&quot;maxWidth&quot;: &quot;100%&quot;});\n\n        \n            \n                var html_9e66c800c04fa190ecf907d4c073e2c2 = $(`&lt;div id=&quot;html_9e66c800c04fa190ecf907d4c073e2c2&quot; style=&quot;width: 100.0%; height: 100.0%;&quot;&gt;[(Timestamp(&#x27;2023-12-18 10:30:00&#x27;), 2), (Timestamp(&#x27;2023-12-18 11:00:00&#x27;), 2), (Timestamp(&#x27;2023-12-18 11:30:00&#x27;), 2), (Timestamp(&#x27;2023-12-18 12:00:00&#x27;), 2), (Timestamp(&#x27;2023-12-18 12:30:00&#x27;), 2), (Timestamp(&#x27;2023-12-18 10:00:00&#x27;), 1), (Timestamp(&#x27;2023-12-18 13:00:00&#x27;), 1)]&lt;/div&gt;`)[0];\n                popup_37c0ca5d43e0b272ed4915c815cc35f0.setContent(html_9e66c800c04fa190ecf907d4c073e2c2);\n            \n        \n\n        circle_e2a2e269a4d666dcd1dd4caecccbadcb.bindPopup(popup_37c0ca5d43e0b272ed4915c815cc35f0)\n        ;\n\n        \n    \n    \n            var circle_92a8acb1afad24add3a87bc182f191c1 = L.circle(\n                [55.604907, 13.028819],\n                {&quot;bubblingMouseEvents&quot;: true, &quot;color&quot;: &quot;#3388ff&quot;, &quot;dashArray&quot;: null, &quot;dashOffset&quot;: null, &quot;fill&quot;: true, &quot;fillColor&quot;: &quot;orange&quot;, &quot;fillOpacity&quot;: 0.4, &quot;fillRule&quot;: &quot;evenodd&quot;, &quot;lineCap&quot;: &quot;round&quot;, &quot;lineJoin&quot;: &quot;round&quot;, &quot;opacity&quot;: 1.0, &quot;radius&quot;: 50, &quot;stroke&quot;: true, &quot;weight&quot;: 3}\n            ).addTo(map_ad10c62adeacc1bd163fab30e95fe0a8);\n        \n    \n        var popup_2c67abc76835a7d4c0efea7b9f110887 = L.popup({&quot;maxWidth&quot;: &quot;100%&quot;});\n\n        \n            \n                var html_82d1f8fd133efa4df669ef83e3f58d00 = $(`&lt;div id=&quot;html_82d1f8fd133efa4df669ef83e3f58d00&quot; style=&quot;width: 100.0%; height: 100.0%;&quot;&gt;[(Timestamp(&#x27;2023-12-18 09:30:00&#x27;), 2), (Timestamp(&#x27;2023-12-18 10:00:00&#x27;), 2), (Timestamp(&#x27;2023-12-18 10:30:00&#x27;), 2), (Timestamp(&#x27;2023-12-18 11:00:00&#x27;), 2), (Timestamp(&#x27;2023-12-18 11:30:00&#x27;), 2), (Timestamp(&#x27;2023-12-18 12:00:00&#x27;), 2)]&lt;/div&gt;`)[0];\n                popup_2c67abc76835a7d4c0efea7b9f110887.setContent(html_82d1f8fd133efa4df669ef83e3f58d00);\n            \n        \n\n        circle_92a8acb1afad24add3a87bc182f191c1.bindPopup(popup_2c67abc76835a7d4c0efea7b9f110887)\n        ;\n\n        \n    \n    \n            var circle_c836eb9933de7a7e4a9f8f2688f3f7d9 = L.circle(\n                [55.614477, 12.983688],\n                {&quot;bubblingMouseEvents&quot;: true, &quot;color&quot;: &quot;#3388ff&quot;, &quot;dashArray&quot;: null, &quot;dashOffset&quot;: null, &quot;fill&quot;: true, &quot;fillColor&quot;: &quot;orange&quot;, &quot;fillOpacity&quot;: 0.4, &quot;fillRule&quot;: &quot;evenodd&quot;, &quot;lineCap&quot;: &quot;round&quot;, &quot;lineJoin&quot;: &quot;round&quot;, &quot;opacity&quot;: 1.0, &quot;radius&quot;: 50, &quot;stroke&quot;: true, &quot;weight&quot;: 3}\n            ).addTo(map_ad10c62adeacc1bd163fab30e95fe0a8);\n        \n    \n        var popup_8b8f9dfcc40ce173d8cddaa7a37cc1ab = L.popup({&quot;maxWidth&quot;: &quot;100%&quot;});\n\n        \n            \n                var html_b54ec0d96215820c1c2d0601e3b908aa = $(`&lt;div id=&quot;html_b54ec0d96215820c1c2d0601e3b908aa&quot; style=&quot;width: 100.0%; height: 100.0%;&quot;&gt;[(Timestamp(&#x27;2023-12-18 14:00:00&#x27;), 2), (Timestamp(&#x27;2023-12-18 14:30:00&#x27;), 2), (Timestamp(&#x27;2023-12-18 15:00:00&#x27;), 2), (Timestamp(&#x27;2023-12-18 15:30:00&#x27;), 2)]&lt;/div&gt;`)[0];\n                popup_8b8f9dfcc40ce173d8cddaa7a37cc1ab.setContent(html_b54ec0d96215820c1c2d0601e3b908aa);\n            \n        \n\n        circle_c836eb9933de7a7e4a9f8f2688f3f7d9.bindPopup(popup_8b8f9dfcc40ce173d8cddaa7a37cc1ab)\n        ;\n\n        \n    \n    \n            var circle_b7df956c9fcfa9b7018fd5bed9ff7469 = L.circle(\n                [55.6912135, 13.194307],\n                {&quot;bubblingMouseEvents&quot;: true, &quot;color&quot;: &quot;#3388ff&quot;, &quot;dashArray&quot;: null, &quot;dashOffset&quot;: null, &quot;fill&quot;: true, &quot;fillColor&quot;: &quot;orange&quot;, &quot;fillOpacity&quot;: 0.4, &quot;fillRule&quot;: &quot;evenodd&quot;, &quot;lineCap&quot;: &quot;round&quot;, &quot;lineJoin&quot;: &quot;round&quot;, &quot;opacity&quot;: 1.0, &quot;radius&quot;: 50, &quot;stroke&quot;: true, &quot;weight&quot;: 3}\n            ).addTo(map_ad10c62adeacc1bd163fab30e95fe0a8);\n        \n    \n        var popup_f0100b93559786b1fbd3dc384ee69b1b = L.popup({&quot;maxWidth&quot;: &quot;100%&quot;});\n\n        \n            \n                var html_80a6b980f481122085180d693a8a0803 = $(`&lt;div id=&quot;html_80a6b980f481122085180d693a8a0803&quot; style=&quot;width: 100.0%; height: 100.0%;&quot;&gt;[(Timestamp(&#x27;2023-12-18 17:30:00&#x27;), 2), (Timestamp(&#x27;2023-12-18 18:00:00&#x27;), 2), (Timestamp(&#x27;2023-12-18 18:30:00&#x27;), 2), (Timestamp(&#x27;2023-12-18 19:00:00&#x27;), 2), (Timestamp(&#x27;2023-12-18 19:30:00&#x27;), 2), (Timestamp(&#x27;2023-12-18 20:00:00&#x27;), 2), (Timestamp(&#x27;2023-12-18 17:00:00&#x27;), 1)]&lt;/div&gt;`)[0];\n                popup_f0100b93559786b1fbd3dc384ee69b1b.setContent(html_80a6b980f481122085180d693a8a0803);\n            \n        \n\n        circle_b7df956c9fcfa9b7018fd5bed9ff7469.bindPopup(popup_f0100b93559786b1fbd3dc384ee69b1b)\n        ;\n\n        \n    \n    \n            var circle_672de0c38b1419c593ba02592a4a1fd5 = L.circle(\n                [55.722258, 13.180175],\n                {&quot;bubblingMouseEvents&quot;: true, &quot;color&quot;: &quot;#3388ff&quot;, &quot;dashArray&quot;: null, &quot;dashOffset&quot;: null, &quot;fill&quot;: true, &quot;fillColor&quot;: &quot;orange&quot;, &quot;fillOpacity&quot;: 0.4, &quot;fillRule&quot;: &quot;evenodd&quot;, &quot;lineCap&quot;: &quot;round&quot;, &quot;lineJoin&quot;: &quot;round&quot;, &quot;opacity&quot;: 1.0, &quot;radius&quot;: 50, &quot;stroke&quot;: true, &quot;weight&quot;: 3}\n            ).addTo(map_ad10c62adeacc1bd163fab30e95fe0a8);\n        \n    \n        var popup_f97cb48da3c731e433362ed1e0743532 = L.popup({&quot;maxWidth&quot;: &quot;100%&quot;});\n\n        \n            \n                var html_1a92c2e3ec0e2575106759e0da4ee345 = $(`&lt;div id=&quot;html_1a92c2e3ec0e2575106759e0da4ee345&quot; style=&quot;width: 100.0%; height: 100.0%;&quot;&gt;[(Timestamp(&#x27;2023-12-18 17:30:00&#x27;), 2), (Timestamp(&#x27;2023-12-18 18:00:00&#x27;), 2), (Timestamp(&#x27;2023-12-18 18:30:00&#x27;), 2), (Timestamp(&#x27;2023-12-18 19:00:00&#x27;), 2), (Timestamp(&#x27;2023-12-18 19:30:00&#x27;), 2), (Timestamp(&#x27;2023-12-18 20:00:00&#x27;), 2), (Timestamp(&#x27;2023-12-18 20:30:00&#x27;), 2), (Timestamp(&#x27;2023-12-18 21:00:00&#x27;), 2), (Timestamp(&#x27;2023-12-18 21:30:00&#x27;), 2), (Timestamp(&#x27;2023-12-18 22:00:00&#x27;), 2)]&lt;/div&gt;`)[0];\n                popup_f97cb48da3c731e433362ed1e0743532.setContent(html_1a92c2e3ec0e2575106759e0da4ee345);\n            \n        \n\n        circle_672de0c38b1419c593ba02592a4a1fd5.bindPopup(popup_f97cb48da3c731e433362ed1e0743532)\n        ;\n\n        \n    \n    \n            var circle_595446dbe7de7a4b8eedcc9a932f82d5 = L.circle(\n                [55.7283355, 13.187398],\n                {&quot;bubblingMouseEvents&quot;: true, &quot;color&quot;: &quot;#3388ff&quot;, &quot;dashArray&quot;: null, &quot;dashOffset&quot;: null, &quot;fill&quot;: true, &quot;fillColor&quot;: &quot;orange&quot;, &quot;fillOpacity&quot;: 0.4, &quot;fillRule&quot;: &quot;evenodd&quot;, &quot;lineCap&quot;: &quot;round&quot;, &quot;lineJoin&quot;: &quot;round&quot;, &quot;opacity&quot;: 1.0, &quot;radius&quot;: 50, &quot;stroke&quot;: true, &quot;weight&quot;: 3}\n            ).addTo(map_ad10c62adeacc1bd163fab30e95fe0a8);\n        \n    \n        var popup_bc6413ec8c7a13221b8ae70cdda883fb = L.popup({&quot;maxWidth&quot;: &quot;100%&quot;});\n\n        \n            \n                var html_081be2c74adea4973161ea3b386ab4c1 = $(`&lt;div id=&quot;html_081be2c74adea4973161ea3b386ab4c1&quot; style=&quot;width: 100.0%; height: 100.0%;&quot;&gt;[(Timestamp(&#x27;2023-12-18 11:00:00&#x27;), 2), (Timestamp(&#x27;2023-12-18 11:30:00&#x27;), 2), (Timestamp(&#x27;2023-12-18 12:00:00&#x27;), 2), (Timestamp(&#x27;2023-12-18 12:30:00&#x27;), 2), (Timestamp(&#x27;2023-12-18 13:00:00&#x27;), 2), (Timestamp(&#x27;2023-12-18 13:30:00&#x27;), 2), (Timestamp(&#x27;2023-12-18 10:30:00&#x27;), 1)]&lt;/div&gt;`)[0];\n                popup_bc6413ec8c7a13221b8ae70cdda883fb.setContent(html_081be2c74adea4973161ea3b386ab4c1);\n            \n        \n\n        circle_595446dbe7de7a4b8eedcc9a932f82d5.bindPopup(popup_bc6413ec8c7a13221b8ae70cdda883fb)\n        ;\n\n        \n    \n    \n            var circle_c32a64acedc4d3f84eef93a328442a33 = L.circle(\n                [55.94067, 12.818707],\n                {&quot;bubblingMouseEvents&quot;: true, &quot;color&quot;: &quot;#3388ff&quot;, &quot;dashArray&quot;: null, &quot;dashOffset&quot;: null, &quot;fill&quot;: true, &quot;fillColor&quot;: &quot;orange&quot;, &quot;fillOpacity&quot;: 0.4, &quot;fillRule&quot;: &quot;evenodd&quot;, &quot;lineCap&quot;: &quot;round&quot;, &quot;lineJoin&quot;: &quot;round&quot;, &quot;opacity&quot;: 1.0, &quot;radius&quot;: 50, &quot;stroke&quot;: true, &quot;weight&quot;: 3}\n            ).addTo(map_ad10c62adeacc1bd163fab30e95fe0a8);\n        \n    \n        var popup_6c2dff3c8aba7dd2e031dcf44090345c = L.popup({&quot;maxWidth&quot;: &quot;100%&quot;});\n\n        \n            \n                var html_e1c9ccd9aa04f453489cc34674174184 = $(`&lt;div id=&quot;html_e1c9ccd9aa04f453489cc34674174184&quot; style=&quot;width: 100.0%; height: 100.0%;&quot;&gt;[(Timestamp(&#x27;2023-12-18 15:30:00&#x27;), 1), (Timestamp(&#x27;2023-12-18 16:00:00&#x27;), 1)]&lt;/div&gt;`)[0];\n                popup_6c2dff3c8aba7dd2e031dcf44090345c.setContent(html_e1c9ccd9aa04f453489cc34674174184);\n            \n        \n\n        circle_c32a64acedc4d3f84eef93a328442a33.bindPopup(popup_6c2dff3c8aba7dd2e031dcf44090345c)\n        ;\n\n        \n    \n    \n            var circle_7570ce8421204d9733aa140fb554cbf7 = L.circle(\n                [56.0517105, 12.6892505],\n                {&quot;bubblingMouseEvents&quot;: true, &quot;color&quot;: &quot;#3388ff&quot;, &quot;dashArray&quot;: null, &quot;dashOffset&quot;: null, &quot;fill&quot;: true, &quot;fillColor&quot;: &quot;orange&quot;, &quot;fillOpacity&quot;: 0.4, &quot;fillRule&quot;: &quot;evenodd&quot;, &quot;lineCap&quot;: &quot;round&quot;, &quot;lineJoin&quot;: &quot;round&quot;, &quot;opacity&quot;: 1.0, &quot;radius&quot;: 50, &quot;stroke&quot;: true, &quot;weight&quot;: 3}\n            ).addTo(map_ad10c62adeacc1bd163fab30e95fe0a8);\n        \n    \n        var popup_9c5f2323cdee9d39ecc2c985bad2fd63 = L.popup({&quot;maxWidth&quot;: &quot;100%&quot;});\n\n        \n            \n                var html_6b42fc6c0f135dd101df545831e67085 = $(`&lt;div id=&quot;html_6b42fc6c0f135dd101df545831e67085&quot; style=&quot;width: 100.0%; height: 100.0%;&quot;&gt;[(Timestamp(&#x27;2023-12-18 16:30:00&#x27;), 2), (Timestamp(&#x27;2023-12-18 17:00:00&#x27;), 2), (Timestamp(&#x27;2023-12-18 17:30:00&#x27;), 2), (Timestamp(&#x27;2023-12-18 18:00:00&#x27;), 2), (Timestamp(&#x27;2023-12-18 18:30:00&#x27;), 2), (Timestamp(&#x27;2023-12-18 19:00:00&#x27;), 2), (Timestamp(&#x27;2023-12-18 19:30:00&#x27;), 1)]&lt;/div&gt;`)[0];\n                popup_9c5f2323cdee9d39ecc2c985bad2fd63.setContent(html_6b42fc6c0f135dd101df545831e67085);\n            \n        \n\n        circle_7570ce8421204d9733aa140fb554cbf7.bindPopup(popup_9c5f2323cdee9d39ecc2c985bad2fd63)\n        ;\n\n        \n    \n    \n            var circle_ff96e6fd60f6bfbbeb8ae691b20a2d2f = L.circle(\n                [56.2998195, 12.7902885],\n                {&quot;bubblingMouseEvents&quot;: true, &quot;color&quot;: &quot;#3388ff&quot;, &quot;dashArray&quot;: null, &quot;dashOffset&quot;: null, &quot;fill&quot;: true, &quot;fillColor&quot;: &quot;orange&quot;, &quot;fillOpacity&quot;: 0.4, &quot;fillRule&quot;: &quot;evenodd&quot;, &quot;lineCap&quot;: &quot;round&quot;, &quot;lineJoin&quot;: &quot;round&quot;, &quot;opacity&quot;: 1.0, &quot;radius&quot;: 50, &quot;stroke&quot;: true, &quot;weight&quot;: 3}\n            ).addTo(map_ad10c62adeacc1bd163fab30e95fe0a8);\n        \n    \n        var popup_51684185f1fe331b419ad0d0a3a5690a = L.popup({&quot;maxWidth&quot;: &quot;100%&quot;});\n\n        \n            \n                var html_9659af0c529c307954d5703f909881aa = $(`&lt;div id=&quot;html_9659af0c529c307954d5703f909881aa&quot; style=&quot;width: 100.0%; height: 100.0%;&quot;&gt;[(Timestamp(&#x27;2023-12-18 12:00:00&#x27;), 3), (Timestamp(&#x27;2023-12-18 10:30:00&#x27;), 2), (Timestamp(&#x27;2023-12-18 11:00:00&#x27;), 2), (Timestamp(&#x27;2023-12-18 11:30:00&#x27;), 2), (Timestamp(&#x27;2023-12-18 10:00:00&#x27;), 1)]&lt;/div&gt;`)[0];\n                popup_51684185f1fe331b419ad0d0a3a5690a.setContent(html_9659af0c529c307954d5703f909881aa);\n            \n        \n\n        circle_ff96e6fd60f6bfbbeb8ae691b20a2d2f.bindPopup(popup_51684185f1fe331b419ad0d0a3a5690a)\n        ;\n\n        \n    \n    \n            var circle_ed1f69592bc5f08d64213854a04e95a4 = L.circle(\n                [56.3195335, 12.9323925],\n                {&quot;bubblingMouseEvents&quot;: true, &quot;color&quot;: &quot;#3388ff&quot;, &quot;dashArray&quot;: null, &quot;dashOffset&quot;: null, &quot;fill&quot;: true, &quot;fillColor&quot;: &quot;orange&quot;, &quot;fillOpacity&quot;: 0.4, &quot;fillRule&quot;: &quot;evenodd&quot;, &quot;lineCap&quot;: &quot;round&quot;, &quot;lineJoin&quot;: &quot;round&quot;, &quot;opacity&quot;: 1.0, &quot;radius&quot;: 50, &quot;stroke&quot;: true, &quot;weight&quot;: 3}\n            ).addTo(map_ad10c62adeacc1bd163fab30e95fe0a8);\n        \n    \n        var popup_0e88b49f68290c0fad51332a298c6ec2 = L.popup({&quot;maxWidth&quot;: &quot;100%&quot;});\n\n        \n            \n                var html_74fea7a1f25427e8e46bcff2d34d8276 = $(`&lt;div id=&quot;html_74fea7a1f25427e8e46bcff2d34d8276&quot; style=&quot;width: 100.0%; height: 100.0%;&quot;&gt;[(Timestamp(&#x27;2023-12-18 12:00:00&#x27;), 2), (Timestamp(&#x27;2023-12-18 12:30:00&#x27;), 2), (Timestamp(&#x27;2023-12-18 13:00:00&#x27;), 2), (Timestamp(&#x27;2023-12-18 13:30:00&#x27;), 2), (Timestamp(&#x27;2023-12-18 14:00:00&#x27;), 2), (Timestamp(&#x27;2023-12-18 14:30:00&#x27;), 2), (Timestamp(&#x27;2023-12-18 11:30:00&#x27;), 1)]&lt;/div&gt;`)[0];\n                popup_0e88b49f68290c0fad51332a298c6ec2.setContent(html_74fea7a1f25427e8e46bcff2d34d8276);\n            \n        \n\n        circle_ed1f69592bc5f08d64213854a04e95a4.bindPopup(popup_0e88b49f68290c0fad51332a298c6ec2)\n        ;\n\n        \n    \n&lt;/script&gt;\n&lt;/html&gt;\" style=\"position:absolute;width:100%;height:100%;left:0;top:0;border:none !important;\" allowfullscreen webkitallowfullscreen mozallowfullscreen></iframe></div></div>"
     },
     "execution_count": 281,
     "metadata": {},
     "output_type": "execute_result"
    }
   ],
   "source": [
    "# group same location visits into a single point and write timestamps to a list\n",
    "\n",
    "individual_gr = individual.groupby(['lat','lng'])['timestamp'].apply(list).to_frame('timestamp_sum')\n",
    "individual_gr.reset_index(inplace=True)\n",
    "\n",
    "top_timestamp = []\n",
    "\n",
    "map = folium.Map(location=[individual['lat'].mode(),individual['lng'].mode()], zoom_start=13)#, crs='EPSG4326')\n",
    "\n",
    "for point in range(0, len(individual_gr['lat'])):\n",
    "    counter = collections.Counter(individual_gr.loc[point]['timestamp_sum'])\n",
    "    top_timestamp.append(counter.most_common(10))\n",
    "    folium.Circle([individual_gr.loc[point]['lat'], individual_gr.loc[point]['lng']], fill_color=\"orange\", fill_opacity=0.4, popup=top_timestamp[point]).add_to(map)\n",
    "map\n"
   ],
   "metadata": {
    "collapsed": false
   }
  },
  {
   "cell_type": "code",
   "execution_count": 282,
   "outputs": [],
   "source": [
    "map.save('./figures/individual_'+individual_uid+'.html')\n"
   ],
   "metadata": {
    "collapsed": false
   }
  },
  {
   "cell_type": "markdown",
   "source": [
    "# DBSCAN"
   ],
   "metadata": {
    "collapsed": false
   }
  },
  {
   "cell_type": "code",
   "execution_count": 283,
   "outputs": [],
   "source": [
    "from sklearn.cluster import DBSCAN\n"
   ],
   "metadata": {
    "collapsed": false
   }
  },
  {
   "cell_type": "code",
   "execution_count": 284,
   "outputs": [],
   "source": [
    "# represent points consistently as (lat, lon)\n",
    "coords = individual_gr[['lat', 'lng']].values\n",
    "\n",
    "# define the number of kilometers in one radian\n",
    "kms_per_radian = 6371.0088\n",
    "\n",
    "# define epsilon as 1.5 kilometers, converted to radians for use by haversine\n",
    "epsilon = 0.1 / kms_per_radian"
   ],
   "metadata": {
    "collapsed": false
   }
  },
  {
   "cell_type": "code",
   "execution_count": 285,
   "outputs": [],
   "source": [
    "db = DBSCAN(eps=epsilon, min_samples=1, algorithm='ball_tree', metric='haversine').fit(np.radians(coords))\n",
    "cluster_labels = db.labels_\n",
    "\n",
    "individual_gr.loc[:, 'cluster'] = cluster_labels\n",
    "\n"
   ],
   "metadata": {
    "collapsed": false
   }
  },
  {
   "cell_type": "code",
   "execution_count": 286,
   "outputs": [
    {
     "data": {
      "text/plain": "<folium.folium.Map at 0x27f33d63f08>",
      "text/html": "<div style=\"width:100%;\"><div style=\"position:relative;width:100%;height:0;padding-bottom:60%;\"><span style=\"color:#565656\">Make this Notebook Trusted to load map: File -> Trust Notebook</span><iframe srcdoc=\"&lt;!DOCTYPE html&gt;\n&lt;html&gt;\n&lt;head&gt;\n    \n    &lt;meta http-equiv=&quot;content-type&quot; content=&quot;text/html; charset=UTF-8&quot; /&gt;\n    \n        &lt;script&gt;\n            L_NO_TOUCH = false;\n            L_DISABLE_3D = false;\n        &lt;/script&gt;\n    \n    &lt;style&gt;html, body {width: 100%;height: 100%;margin: 0;padding: 0;}&lt;/style&gt;\n    &lt;style&gt;#map {position:absolute;top:0;bottom:0;right:0;left:0;}&lt;/style&gt;\n    &lt;script src=&quot;https://cdn.jsdelivr.net/npm/leaflet@1.9.3/dist/leaflet.js&quot;&gt;&lt;/script&gt;\n    &lt;script src=&quot;https://code.jquery.com/jquery-1.12.4.min.js&quot;&gt;&lt;/script&gt;\n    &lt;script src=&quot;https://cdn.jsdelivr.net/npm/bootstrap@5.2.2/dist/js/bootstrap.bundle.min.js&quot;&gt;&lt;/script&gt;\n    &lt;script src=&quot;https://cdnjs.cloudflare.com/ajax/libs/Leaflet.awesome-markers/2.0.2/leaflet.awesome-markers.js&quot;&gt;&lt;/script&gt;\n    &lt;link rel=&quot;stylesheet&quot; href=&quot;https://cdn.jsdelivr.net/npm/leaflet@1.9.3/dist/leaflet.css&quot;/&gt;\n    &lt;link rel=&quot;stylesheet&quot; href=&quot;https://cdn.jsdelivr.net/npm/bootstrap@5.2.2/dist/css/bootstrap.min.css&quot;/&gt;\n    &lt;link rel=&quot;stylesheet&quot; href=&quot;https://netdna.bootstrapcdn.com/bootstrap/3.0.0/css/bootstrap.min.css&quot;/&gt;\n    &lt;link rel=&quot;stylesheet&quot; href=&quot;https://cdn.jsdelivr.net/npm/@fortawesome/fontawesome-free@6.2.0/css/all.min.css&quot;/&gt;\n    &lt;link rel=&quot;stylesheet&quot; href=&quot;https://cdnjs.cloudflare.com/ajax/libs/Leaflet.awesome-markers/2.0.2/leaflet.awesome-markers.css&quot;/&gt;\n    &lt;link rel=&quot;stylesheet&quot; href=&quot;https://cdn.jsdelivr.net/gh/python-visualization/folium/folium/templates/leaflet.awesome.rotate.min.css&quot;/&gt;\n    \n            &lt;meta name=&quot;viewport&quot; content=&quot;width=device-width,\n                initial-scale=1.0, maximum-scale=1.0, user-scalable=no&quot; /&gt;\n            &lt;style&gt;\n                #map_1b0987fef5886c8689fe85021c59aedf {\n                    position: relative;\n                    width: 100.0%;\n                    height: 100.0%;\n                    left: 0.0%;\n                    top: 0.0%;\n                }\n                .leaflet-container { font-size: 1rem; }\n            &lt;/style&gt;\n        \n&lt;/head&gt;\n&lt;body&gt;\n    \n    \n            &lt;div class=&quot;folium-map&quot; id=&quot;map_1b0987fef5886c8689fe85021c59aedf&quot; &gt;&lt;/div&gt;\n        \n&lt;/body&gt;\n&lt;script&gt;\n    \n    \n            var map_1b0987fef5886c8689fe85021c59aedf = L.map(\n                &quot;map_1b0987fef5886c8689fe85021c59aedf&quot;,\n                {\n                    center: [55.587687, 13.035366],\n                    crs: L.CRS.EPSG3857,\n                    zoom: 13,\n                    zoomControl: true,\n                    preferCanvas: false,\n                }\n            );\n\n            \n\n        \n    \n            var tile_layer_c8259f3a37263ffe1320c995040970c1 = L.tileLayer(\n                &quot;https://{s}.tile.openstreetmap.org/{z}/{x}/{y}.png&quot;,\n                {&quot;attribution&quot;: &quot;Data by \\u0026copy; \\u003ca target=\\&quot;_blank\\&quot; href=\\&quot;http://openstreetmap.org\\&quot;\\u003eOpenStreetMap\\u003c/a\\u003e, under \\u003ca target=\\&quot;_blank\\&quot; href=\\&quot;http://www.openstreetmap.org/copyright\\&quot;\\u003eODbL\\u003c/a\\u003e.&quot;, &quot;detectRetina&quot;: false, &quot;maxNativeZoom&quot;: 18, &quot;maxZoom&quot;: 18, &quot;minZoom&quot;: 0, &quot;noWrap&quot;: false, &quot;opacity&quot;: 1, &quot;subdomains&quot;: &quot;abc&quot;, &quot;tms&quot;: false}\n            ).addTo(map_1b0987fef5886c8689fe85021c59aedf);\n        \n    \n            var circle_9dd877de90e7ee135189df45be2f4d4c = L.circle(\n                [55.4178905, 12.850077],\n                {&quot;bubblingMouseEvents&quot;: true, &quot;color&quot;: &quot;cadetblue&quot;, &quot;dashArray&quot;: null, &quot;dashOffset&quot;: null, &quot;fill&quot;: true, &quot;fillColor&quot;: &quot;cadetblue&quot;, &quot;fillOpacity&quot;: 0.4, &quot;fillRule&quot;: &quot;evenodd&quot;, &quot;lineCap&quot;: &quot;round&quot;, &quot;lineJoin&quot;: &quot;round&quot;, &quot;opacity&quot;: 1.0, &quot;radius&quot;: 50, &quot;stroke&quot;: true, &quot;weight&quot;: 3}\n            ).addTo(map_1b0987fef5886c8689fe85021c59aedf);\n        \n    \n        var popup_43bd6ea4a66b3baf92ff4cfadfde4cab = L.popup({&quot;maxWidth&quot;: &quot;100%&quot;});\n\n        \n            \n                var html_91e6fa63a70c67cf5248c1575c804613 = $(`&lt;div id=&quot;html_91e6fa63a70c67cf5248c1575c804613&quot; style=&quot;width: 100.0%; height: 100.0%;&quot;&gt;[(Timestamp(&#x27;2023-12-18 12:00:00&#x27;), 2), (Timestamp(&#x27;2023-12-18 12:30:00&#x27;), 2), (Timestamp(&#x27;2023-12-18 13:00:00&#x27;), 2), (Timestamp(&#x27;2023-12-18 13:30:00&#x27;), 2), (Timestamp(&#x27;2023-12-18 14:00:00&#x27;), 2), (Timestamp(&#x27;2023-12-18 14:30:00&#x27;), 2), (Timestamp(&#x27;2023-12-18 11:30:00&#x27;), 1)]&lt;/div&gt;`)[0];\n                popup_43bd6ea4a66b3baf92ff4cfadfde4cab.setContent(html_91e6fa63a70c67cf5248c1575c804613);\n            \n        \n\n        circle_9dd877de90e7ee135189df45be2f4d4c.bindPopup(popup_43bd6ea4a66b3baf92ff4cfadfde4cab)\n        ;\n\n        \n    \n    \n            var circle_492d42a4eec6cda5de97fa6684dfa50e = L.circle(\n                [55.494032, 13.087584],\n                {&quot;bubblingMouseEvents&quot;: true, &quot;color&quot;: &quot;red&quot;, &quot;dashArray&quot;: null, &quot;dashOffset&quot;: null, &quot;fill&quot;: true, &quot;fillColor&quot;: &quot;red&quot;, &quot;fillOpacity&quot;: 0.4, &quot;fillRule&quot;: &quot;evenodd&quot;, &quot;lineCap&quot;: &quot;round&quot;, &quot;lineJoin&quot;: &quot;round&quot;, &quot;opacity&quot;: 1.0, &quot;radius&quot;: 50, &quot;stroke&quot;: true, &quot;weight&quot;: 3}\n            ).addTo(map_1b0987fef5886c8689fe85021c59aedf);\n        \n    \n        var popup_9bfd86b87efe07fa9ce9293cd46cdc17 = L.popup({&quot;maxWidth&quot;: &quot;100%&quot;});\n\n        \n            \n                var html_d162e7832d87097471219c28795703cf = $(`&lt;div id=&quot;html_d162e7832d87097471219c28795703cf&quot; style=&quot;width: 100.0%; height: 100.0%;&quot;&gt;[(Timestamp(&#x27;2023-12-18 15:30:00&#x27;), 2), (Timestamp(&#x27;2023-12-18 16:00:00&#x27;), 2), (Timestamp(&#x27;2023-12-18 16:30:00&#x27;), 2), (Timestamp(&#x27;2023-12-18 17:00:00&#x27;), 2), (Timestamp(&#x27;2023-12-18 17:30:00&#x27;), 2), (Timestamp(&#x27;2023-12-18 15:00:00&#x27;), 1), (Timestamp(&#x27;2023-12-18 18:00:00&#x27;), 1)]&lt;/div&gt;`)[0];\n                popup_9bfd86b87efe07fa9ce9293cd46cdc17.setContent(html_d162e7832d87097471219c28795703cf);\n            \n        \n\n        circle_492d42a4eec6cda5de97fa6684dfa50e.bindPopup(popup_9bfd86b87efe07fa9ce9293cd46cdc17)\n        ;\n\n        \n    \n    \n            var circle_56365bf02d4a55c900745ac5b6a6eea8 = L.circle(\n                [55.573378, 13.033735],\n                {&quot;bubblingMouseEvents&quot;: true, &quot;color&quot;: &quot;blue&quot;, &quot;dashArray&quot;: null, &quot;dashOffset&quot;: null, &quot;fill&quot;: true, &quot;fillColor&quot;: &quot;blue&quot;, &quot;fillOpacity&quot;: 0.4, &quot;fillRule&quot;: &quot;evenodd&quot;, &quot;lineCap&quot;: &quot;round&quot;, &quot;lineJoin&quot;: &quot;round&quot;, &quot;opacity&quot;: 1.0, &quot;radius&quot;: 50, &quot;stroke&quot;: true, &quot;weight&quot;: 3}\n            ).addTo(map_1b0987fef5886c8689fe85021c59aedf);\n        \n    \n        var popup_0728696040f1f4a5dec3af4c484d3e72 = L.popup({&quot;maxWidth&quot;: &quot;100%&quot;});\n\n        \n            \n                var html_22ef1f21c39eff5465e84e1bb7f2991a = $(`&lt;div id=&quot;html_22ef1f21c39eff5465e84e1bb7f2991a&quot; style=&quot;width: 100.0%; height: 100.0%;&quot;&gt;[(Timestamp(&#x27;2023-12-18 16:30:00&#x27;), 2), (Timestamp(&#x27;2023-12-18 16:00:00&#x27;), 1), (Timestamp(&#x27;2023-12-18 17:00:00&#x27;), 1)]&lt;/div&gt;`)[0];\n                popup_0728696040f1f4a5dec3af4c484d3e72.setContent(html_22ef1f21c39eff5465e84e1bb7f2991a);\n            \n        \n\n        circle_56365bf02d4a55c900745ac5b6a6eea8.bindPopup(popup_0728696040f1f4a5dec3af4c484d3e72)\n        ;\n\n        \n    \n    \n            var circle_d0d12e86da5c54f940293228cfe2c2c7 = L.circle(\n                [55.584811, 12.954455],\n                {&quot;bubblingMouseEvents&quot;: true, &quot;color&quot;: &quot;orange&quot;, &quot;dashArray&quot;: null, &quot;dashOffset&quot;: null, &quot;fill&quot;: true, &quot;fillColor&quot;: &quot;orange&quot;, &quot;fillOpacity&quot;: 0.4, &quot;fillRule&quot;: &quot;evenodd&quot;, &quot;lineCap&quot;: &quot;round&quot;, &quot;lineJoin&quot;: &quot;round&quot;, &quot;opacity&quot;: 1.0, &quot;radius&quot;: 50, &quot;stroke&quot;: true, &quot;weight&quot;: 3}\n            ).addTo(map_1b0987fef5886c8689fe85021c59aedf);\n        \n    \n        var popup_b73d31c03c64731d10b7d10943369cf9 = L.popup({&quot;maxWidth&quot;: &quot;100%&quot;});\n\n        \n            \n                var html_28647de6abd2baf89a875c96c19d7e91 = $(`&lt;div id=&quot;html_28647de6abd2baf89a875c96c19d7e91&quot; style=&quot;width: 100.0%; height: 100.0%;&quot;&gt;[(Timestamp(&#x27;2023-12-18 10:30:00&#x27;), 2), (Timestamp(&#x27;2023-12-18 11:00:00&#x27;), 2), (Timestamp(&#x27;2023-12-18 11:30:00&#x27;), 2), (Timestamp(&#x27;2023-12-18 12:00:00&#x27;), 2), (Timestamp(&#x27;2023-12-18 12:30:00&#x27;), 2), (Timestamp(&#x27;2023-12-18 13:00:00&#x27;), 2)]&lt;/div&gt;`)[0];\n                popup_b73d31c03c64731d10b7d10943369cf9.setContent(html_28647de6abd2baf89a875c96c19d7e91);\n            \n        \n\n        circle_d0d12e86da5c54f940293228cfe2c2c7.bindPopup(popup_b73d31c03c64731d10b7d10943369cf9)\n        ;\n\n        \n    \n    \n            var circle_929cd28568428fade376ef3947e29d63 = L.circle(\n                [55.587687, 13.035366],\n                {&quot;bubblingMouseEvents&quot;: true, &quot;color&quot;: &quot;green&quot;, &quot;dashArray&quot;: null, &quot;dashOffset&quot;: null, &quot;fill&quot;: true, &quot;fillColor&quot;: &quot;green&quot;, &quot;fillOpacity&quot;: 0.4, &quot;fillRule&quot;: &quot;evenodd&quot;, &quot;lineCap&quot;: &quot;round&quot;, &quot;lineJoin&quot;: &quot;round&quot;, &quot;opacity&quot;: 1.0, &quot;radius&quot;: 50, &quot;stroke&quot;: true, &quot;weight&quot;: 3}\n            ).addTo(map_1b0987fef5886c8689fe85021c59aedf);\n        \n    \n        var popup_3c24d8b570a0f62f4621c5b670a02aa6 = L.popup({&quot;maxWidth&quot;: &quot;100%&quot;});\n\n        \n            \n                var html_b7f5f670b898fa1f1e7f203fc9ee3033 = $(`&lt;div id=&quot;html_b7f5f670b898fa1f1e7f203fc9ee3033&quot; style=&quot;width: 100.0%; height: 100.0%;&quot;&gt;[(Timestamp(&#x27;2023-12-18 00:30:00&#x27;), 4), (Timestamp(&#x27;2023-12-18 01:00:00&#x27;), 4), (Timestamp(&#x27;2023-12-18 01:30:00&#x27;), 4), (Timestamp(&#x27;2023-12-18 02:00:00&#x27;), 4), (Timestamp(&#x27;2023-12-18 02:30:00&#x27;), 4), (Timestamp(&#x27;2023-12-18 18:30:00&#x27;), 4), (Timestamp(&#x27;2023-12-18 19:00:00&#x27;), 4), (Timestamp(&#x27;2023-12-18 19:30:00&#x27;), 4), (Timestamp(&#x27;2023-12-18 20:00:00&#x27;), 4), (Timestamp(&#x27;2023-12-18 00:00:00&#x27;), 3)]&lt;/div&gt;`)[0];\n                popup_3c24d8b570a0f62f4621c5b670a02aa6.setContent(html_b7f5f670b898fa1f1e7f203fc9ee3033);\n            \n        \n\n        circle_929cd28568428fade376ef3947e29d63.bindPopup(popup_3c24d8b570a0f62f4621c5b670a02aa6)\n        ;\n\n        \n    \n    \n            var circle_7caa9c6b2f1bf9c283509bac12a43a33 = L.circle(\n                [55.594308, 13.002793],\n                {&quot;bubblingMouseEvents&quot;: true, &quot;color&quot;: &quot;purple&quot;, &quot;dashArray&quot;: null, &quot;dashOffset&quot;: null, &quot;fill&quot;: true, &quot;fillColor&quot;: &quot;purple&quot;, &quot;fillOpacity&quot;: 0.4, &quot;fillRule&quot;: &quot;evenodd&quot;, &quot;lineCap&quot;: &quot;round&quot;, &quot;lineJoin&quot;: &quot;round&quot;, &quot;opacity&quot;: 1.0, &quot;radius&quot;: 50, &quot;stroke&quot;: true, &quot;weight&quot;: 3}\n            ).addTo(map_1b0987fef5886c8689fe85021c59aedf);\n        \n    \n        var popup_c1d206b9fbb1d3b49ace378e126b815d = L.popup({&quot;maxWidth&quot;: &quot;100%&quot;});\n\n        \n            \n                var html_dd0945fb6439ba1512732443afed39e9 = $(`&lt;div id=&quot;html_dd0945fb6439ba1512732443afed39e9&quot; style=&quot;width: 100.0%; height: 100.0%;&quot;&gt;[(Timestamp(&#x27;2023-12-18 14:00:00&#x27;), 2), (Timestamp(&#x27;2023-12-18 14:30:00&#x27;), 2), (Timestamp(&#x27;2023-12-18 15:00:00&#x27;), 2), (Timestamp(&#x27;2023-12-18 15:30:00&#x27;), 2), (Timestamp(&#x27;2023-12-18 16:00:00&#x27;), 2), (Timestamp(&#x27;2023-12-18 16:30:00&#x27;), 2), (Timestamp(&#x27;2023-12-18 17:00:00&#x27;), 1)]&lt;/div&gt;`)[0];\n                popup_c1d206b9fbb1d3b49ace378e126b815d.setContent(html_dd0945fb6439ba1512732443afed39e9);\n            \n        \n\n        circle_7caa9c6b2f1bf9c283509bac12a43a33.bindPopup(popup_c1d206b9fbb1d3b49ace378e126b815d)\n        ;\n\n        \n    \n    \n            var circle_b3b117a127b86fbf424e0597d7c369be = L.circle(\n                [55.596973, 13.007142],\n                {&quot;bubblingMouseEvents&quot;: true, &quot;color&quot;: &quot;darkgreen&quot;, &quot;dashArray&quot;: null, &quot;dashOffset&quot;: null, &quot;fill&quot;: true, &quot;fillColor&quot;: &quot;darkgreen&quot;, &quot;fillOpacity&quot;: 0.4, &quot;fillRule&quot;: &quot;evenodd&quot;, &quot;lineCap&quot;: &quot;round&quot;, &quot;lineJoin&quot;: &quot;round&quot;, &quot;opacity&quot;: 1.0, &quot;radius&quot;: 50, &quot;stroke&quot;: true, &quot;weight&quot;: 3}\n            ).addTo(map_1b0987fef5886c8689fe85021c59aedf);\n        \n    \n        var popup_f00917307f732bbc5188a1d590ecba51 = L.popup({&quot;maxWidth&quot;: &quot;100%&quot;});\n\n        \n            \n                var html_97ec1934c483945cecb25d13cf824bdf = $(`&lt;div id=&quot;html_97ec1934c483945cecb25d13cf824bdf&quot; style=&quot;width: 100.0%; height: 100.0%;&quot;&gt;[(Timestamp(&#x27;2023-12-18 10:30:00&#x27;), 2), (Timestamp(&#x27;2023-12-18 11:00:00&#x27;), 2), (Timestamp(&#x27;2023-12-18 11:30:00&#x27;), 2), (Timestamp(&#x27;2023-12-18 12:00:00&#x27;), 2), (Timestamp(&#x27;2023-12-18 12:30:00&#x27;), 2), (Timestamp(&#x27;2023-12-18 10:00:00&#x27;), 1), (Timestamp(&#x27;2023-12-18 13:00:00&#x27;), 1)]&lt;/div&gt;`)[0];\n                popup_f00917307f732bbc5188a1d590ecba51.setContent(html_97ec1934c483945cecb25d13cf824bdf);\n            \n        \n\n        circle_b3b117a127b86fbf424e0597d7c369be.bindPopup(popup_f00917307f732bbc5188a1d590ecba51)\n        ;\n\n        \n    \n    \n            var circle_d4b83657fc3c9ef893b1532e72ec3ce4 = L.circle(\n                [55.604907, 13.028819],\n                {&quot;bubblingMouseEvents&quot;: true, &quot;color&quot;: &quot;darkblue&quot;, &quot;dashArray&quot;: null, &quot;dashOffset&quot;: null, &quot;fill&quot;: true, &quot;fillColor&quot;: &quot;darkblue&quot;, &quot;fillOpacity&quot;: 0.4, &quot;fillRule&quot;: &quot;evenodd&quot;, &quot;lineCap&quot;: &quot;round&quot;, &quot;lineJoin&quot;: &quot;round&quot;, &quot;opacity&quot;: 1.0, &quot;radius&quot;: 50, &quot;stroke&quot;: true, &quot;weight&quot;: 3}\n            ).addTo(map_1b0987fef5886c8689fe85021c59aedf);\n        \n    \n        var popup_94025d05ad9a6cf5d6105aee5828b5fa = L.popup({&quot;maxWidth&quot;: &quot;100%&quot;});\n\n        \n            \n                var html_e93089dc977cbefd5b94675232924c2e = $(`&lt;div id=&quot;html_e93089dc977cbefd5b94675232924c2e&quot; style=&quot;width: 100.0%; height: 100.0%;&quot;&gt;[(Timestamp(&#x27;2023-12-18 09:30:00&#x27;), 2), (Timestamp(&#x27;2023-12-18 10:00:00&#x27;), 2), (Timestamp(&#x27;2023-12-18 10:30:00&#x27;), 2), (Timestamp(&#x27;2023-12-18 11:00:00&#x27;), 2), (Timestamp(&#x27;2023-12-18 11:30:00&#x27;), 2), (Timestamp(&#x27;2023-12-18 12:00:00&#x27;), 2)]&lt;/div&gt;`)[0];\n                popup_94025d05ad9a6cf5d6105aee5828b5fa.setContent(html_e93089dc977cbefd5b94675232924c2e);\n            \n        \n\n        circle_d4b83657fc3c9ef893b1532e72ec3ce4.bindPopup(popup_94025d05ad9a6cf5d6105aee5828b5fa)\n        ;\n\n        \n    \n    \n            var circle_383ae22f1ce72fe6cf78644852dbd3dd = L.circle(\n                [55.614477, 12.983688],\n                {&quot;bubblingMouseEvents&quot;: true, &quot;color&quot;: &quot;cadetblue&quot;, &quot;dashArray&quot;: null, &quot;dashOffset&quot;: null, &quot;fill&quot;: true, &quot;fillColor&quot;: &quot;cadetblue&quot;, &quot;fillOpacity&quot;: 0.4, &quot;fillRule&quot;: &quot;evenodd&quot;, &quot;lineCap&quot;: &quot;round&quot;, &quot;lineJoin&quot;: &quot;round&quot;, &quot;opacity&quot;: 1.0, &quot;radius&quot;: 50, &quot;stroke&quot;: true, &quot;weight&quot;: 3}\n            ).addTo(map_1b0987fef5886c8689fe85021c59aedf);\n        \n    \n        var popup_4add322925f98b7e8e6c05159ed7f272 = L.popup({&quot;maxWidth&quot;: &quot;100%&quot;});\n\n        \n            \n                var html_12e590c7679f461aead2a9d86bfde231 = $(`&lt;div id=&quot;html_12e590c7679f461aead2a9d86bfde231&quot; style=&quot;width: 100.0%; height: 100.0%;&quot;&gt;[(Timestamp(&#x27;2023-12-18 14:00:00&#x27;), 2), (Timestamp(&#x27;2023-12-18 14:30:00&#x27;), 2), (Timestamp(&#x27;2023-12-18 15:00:00&#x27;), 2), (Timestamp(&#x27;2023-12-18 15:30:00&#x27;), 2)]&lt;/div&gt;`)[0];\n                popup_4add322925f98b7e8e6c05159ed7f272.setContent(html_12e590c7679f461aead2a9d86bfde231);\n            \n        \n\n        circle_383ae22f1ce72fe6cf78644852dbd3dd.bindPopup(popup_4add322925f98b7e8e6c05159ed7f272)\n        ;\n\n        \n    \n    \n            var circle_f5c04739cb49efaec5af11bf203e8987 = L.circle(\n                [55.6912135, 13.194307],\n                {&quot;bubblingMouseEvents&quot;: true, &quot;color&quot;: &quot;red&quot;, &quot;dashArray&quot;: null, &quot;dashOffset&quot;: null, &quot;fill&quot;: true, &quot;fillColor&quot;: &quot;red&quot;, &quot;fillOpacity&quot;: 0.4, &quot;fillRule&quot;: &quot;evenodd&quot;, &quot;lineCap&quot;: &quot;round&quot;, &quot;lineJoin&quot;: &quot;round&quot;, &quot;opacity&quot;: 1.0, &quot;radius&quot;: 50, &quot;stroke&quot;: true, &quot;weight&quot;: 3}\n            ).addTo(map_1b0987fef5886c8689fe85021c59aedf);\n        \n    \n        var popup_7c91f35862824b8c7e0e2b3a5a0008c5 = L.popup({&quot;maxWidth&quot;: &quot;100%&quot;});\n\n        \n            \n                var html_cc129d4d581a480dd0ec4930a55d9032 = $(`&lt;div id=&quot;html_cc129d4d581a480dd0ec4930a55d9032&quot; style=&quot;width: 100.0%; height: 100.0%;&quot;&gt;[(Timestamp(&#x27;2023-12-18 17:30:00&#x27;), 2), (Timestamp(&#x27;2023-12-18 18:00:00&#x27;), 2), (Timestamp(&#x27;2023-12-18 18:30:00&#x27;), 2), (Timestamp(&#x27;2023-12-18 19:00:00&#x27;), 2), (Timestamp(&#x27;2023-12-18 19:30:00&#x27;), 2), (Timestamp(&#x27;2023-12-18 20:00:00&#x27;), 2), (Timestamp(&#x27;2023-12-18 17:00:00&#x27;), 1)]&lt;/div&gt;`)[0];\n                popup_7c91f35862824b8c7e0e2b3a5a0008c5.setContent(html_cc129d4d581a480dd0ec4930a55d9032);\n            \n        \n\n        circle_f5c04739cb49efaec5af11bf203e8987.bindPopup(popup_7c91f35862824b8c7e0e2b3a5a0008c5)\n        ;\n\n        \n    \n    \n            var circle_efc8066dab512ac85f23a0cc1a37085a = L.circle(\n                [55.722258, 13.180175],\n                {&quot;bubblingMouseEvents&quot;: true, &quot;color&quot;: &quot;blue&quot;, &quot;dashArray&quot;: null, &quot;dashOffset&quot;: null, &quot;fill&quot;: true, &quot;fillColor&quot;: &quot;blue&quot;, &quot;fillOpacity&quot;: 0.4, &quot;fillRule&quot;: &quot;evenodd&quot;, &quot;lineCap&quot;: &quot;round&quot;, &quot;lineJoin&quot;: &quot;round&quot;, &quot;opacity&quot;: 1.0, &quot;radius&quot;: 50, &quot;stroke&quot;: true, &quot;weight&quot;: 3}\n            ).addTo(map_1b0987fef5886c8689fe85021c59aedf);\n        \n    \n        var popup_b33d08173fd68719459e4830b03dd3a1 = L.popup({&quot;maxWidth&quot;: &quot;100%&quot;});\n\n        \n            \n                var html_7a086bded582cfe74c6b71cbe8da09ba = $(`&lt;div id=&quot;html_7a086bded582cfe74c6b71cbe8da09ba&quot; style=&quot;width: 100.0%; height: 100.0%;&quot;&gt;[(Timestamp(&#x27;2023-12-18 17:30:00&#x27;), 2), (Timestamp(&#x27;2023-12-18 18:00:00&#x27;), 2), (Timestamp(&#x27;2023-12-18 18:30:00&#x27;), 2), (Timestamp(&#x27;2023-12-18 19:00:00&#x27;), 2), (Timestamp(&#x27;2023-12-18 19:30:00&#x27;), 2), (Timestamp(&#x27;2023-12-18 20:00:00&#x27;), 2), (Timestamp(&#x27;2023-12-18 20:30:00&#x27;), 2), (Timestamp(&#x27;2023-12-18 21:00:00&#x27;), 2), (Timestamp(&#x27;2023-12-18 21:30:00&#x27;), 2), (Timestamp(&#x27;2023-12-18 22:00:00&#x27;), 2)]&lt;/div&gt;`)[0];\n                popup_b33d08173fd68719459e4830b03dd3a1.setContent(html_7a086bded582cfe74c6b71cbe8da09ba);\n            \n        \n\n        circle_efc8066dab512ac85f23a0cc1a37085a.bindPopup(popup_b33d08173fd68719459e4830b03dd3a1)\n        ;\n\n        \n    \n    \n            var circle_f09f48a6edcf29f0db4543cd46263b23 = L.circle(\n                [55.7283355, 13.187398],\n                {&quot;bubblingMouseEvents&quot;: true, &quot;color&quot;: &quot;orange&quot;, &quot;dashArray&quot;: null, &quot;dashOffset&quot;: null, &quot;fill&quot;: true, &quot;fillColor&quot;: &quot;orange&quot;, &quot;fillOpacity&quot;: 0.4, &quot;fillRule&quot;: &quot;evenodd&quot;, &quot;lineCap&quot;: &quot;round&quot;, &quot;lineJoin&quot;: &quot;round&quot;, &quot;opacity&quot;: 1.0, &quot;radius&quot;: 50, &quot;stroke&quot;: true, &quot;weight&quot;: 3}\n            ).addTo(map_1b0987fef5886c8689fe85021c59aedf);\n        \n    \n        var popup_0c342a35e10f0bf0143abd890bbf0cf2 = L.popup({&quot;maxWidth&quot;: &quot;100%&quot;});\n\n        \n            \n                var html_1bdc24c148d3ca0c70cdc36a8973e96f = $(`&lt;div id=&quot;html_1bdc24c148d3ca0c70cdc36a8973e96f&quot; style=&quot;width: 100.0%; height: 100.0%;&quot;&gt;[(Timestamp(&#x27;2023-12-18 11:00:00&#x27;), 2), (Timestamp(&#x27;2023-12-18 11:30:00&#x27;), 2), (Timestamp(&#x27;2023-12-18 12:00:00&#x27;), 2), (Timestamp(&#x27;2023-12-18 12:30:00&#x27;), 2), (Timestamp(&#x27;2023-12-18 13:00:00&#x27;), 2), (Timestamp(&#x27;2023-12-18 13:30:00&#x27;), 2), (Timestamp(&#x27;2023-12-18 10:30:00&#x27;), 1)]&lt;/div&gt;`)[0];\n                popup_0c342a35e10f0bf0143abd890bbf0cf2.setContent(html_1bdc24c148d3ca0c70cdc36a8973e96f);\n            \n        \n\n        circle_f09f48a6edcf29f0db4543cd46263b23.bindPopup(popup_0c342a35e10f0bf0143abd890bbf0cf2)\n        ;\n\n        \n    \n    \n            var circle_9c38d6d5f77794b2930c2cac8bdca150 = L.circle(\n                [55.94067, 12.818707],\n                {&quot;bubblingMouseEvents&quot;: true, &quot;color&quot;: &quot;green&quot;, &quot;dashArray&quot;: null, &quot;dashOffset&quot;: null, &quot;fill&quot;: true, &quot;fillColor&quot;: &quot;green&quot;, &quot;fillOpacity&quot;: 0.4, &quot;fillRule&quot;: &quot;evenodd&quot;, &quot;lineCap&quot;: &quot;round&quot;, &quot;lineJoin&quot;: &quot;round&quot;, &quot;opacity&quot;: 1.0, &quot;radius&quot;: 50, &quot;stroke&quot;: true, &quot;weight&quot;: 3}\n            ).addTo(map_1b0987fef5886c8689fe85021c59aedf);\n        \n    \n        var popup_6be16eb6081a2d5f4ce94b3f71a0911f = L.popup({&quot;maxWidth&quot;: &quot;100%&quot;});\n\n        \n            \n                var html_0820d5ef8b247cfce87d74e02776e918 = $(`&lt;div id=&quot;html_0820d5ef8b247cfce87d74e02776e918&quot; style=&quot;width: 100.0%; height: 100.0%;&quot;&gt;[(Timestamp(&#x27;2023-12-18 15:30:00&#x27;), 1), (Timestamp(&#x27;2023-12-18 16:00:00&#x27;), 1)]&lt;/div&gt;`)[0];\n                popup_6be16eb6081a2d5f4ce94b3f71a0911f.setContent(html_0820d5ef8b247cfce87d74e02776e918);\n            \n        \n\n        circle_9c38d6d5f77794b2930c2cac8bdca150.bindPopup(popup_6be16eb6081a2d5f4ce94b3f71a0911f)\n        ;\n\n        \n    \n    \n            var circle_0d795115ada449be05a629f380ac49c6 = L.circle(\n                [56.0517105, 12.6892505],\n                {&quot;bubblingMouseEvents&quot;: true, &quot;color&quot;: &quot;purple&quot;, &quot;dashArray&quot;: null, &quot;dashOffset&quot;: null, &quot;fill&quot;: true, &quot;fillColor&quot;: &quot;purple&quot;, &quot;fillOpacity&quot;: 0.4, &quot;fillRule&quot;: &quot;evenodd&quot;, &quot;lineCap&quot;: &quot;round&quot;, &quot;lineJoin&quot;: &quot;round&quot;, &quot;opacity&quot;: 1.0, &quot;radius&quot;: 50, &quot;stroke&quot;: true, &quot;weight&quot;: 3}\n            ).addTo(map_1b0987fef5886c8689fe85021c59aedf);\n        \n    \n        var popup_735506a372e42bb2ca79adb92d7fc3c2 = L.popup({&quot;maxWidth&quot;: &quot;100%&quot;});\n\n        \n            \n                var html_48a708a1bcb1fad7b972c3d428d5695d = $(`&lt;div id=&quot;html_48a708a1bcb1fad7b972c3d428d5695d&quot; style=&quot;width: 100.0%; height: 100.0%;&quot;&gt;[(Timestamp(&#x27;2023-12-18 16:30:00&#x27;), 2), (Timestamp(&#x27;2023-12-18 17:00:00&#x27;), 2), (Timestamp(&#x27;2023-12-18 17:30:00&#x27;), 2), (Timestamp(&#x27;2023-12-18 18:00:00&#x27;), 2), (Timestamp(&#x27;2023-12-18 18:30:00&#x27;), 2), (Timestamp(&#x27;2023-12-18 19:00:00&#x27;), 2), (Timestamp(&#x27;2023-12-18 19:30:00&#x27;), 1)]&lt;/div&gt;`)[0];\n                popup_735506a372e42bb2ca79adb92d7fc3c2.setContent(html_48a708a1bcb1fad7b972c3d428d5695d);\n            \n        \n\n        circle_0d795115ada449be05a629f380ac49c6.bindPopup(popup_735506a372e42bb2ca79adb92d7fc3c2)\n        ;\n\n        \n    \n    \n            var circle_92bdba71330cc146df0fb886717c9f02 = L.circle(\n                [56.2998195, 12.7902885],\n                {&quot;bubblingMouseEvents&quot;: true, &quot;color&quot;: &quot;darkgreen&quot;, &quot;dashArray&quot;: null, &quot;dashOffset&quot;: null, &quot;fill&quot;: true, &quot;fillColor&quot;: &quot;darkgreen&quot;, &quot;fillOpacity&quot;: 0.4, &quot;fillRule&quot;: &quot;evenodd&quot;, &quot;lineCap&quot;: &quot;round&quot;, &quot;lineJoin&quot;: &quot;round&quot;, &quot;opacity&quot;: 1.0, &quot;radius&quot;: 50, &quot;stroke&quot;: true, &quot;weight&quot;: 3}\n            ).addTo(map_1b0987fef5886c8689fe85021c59aedf);\n        \n    \n        var popup_5147e81a3683eb5e89a2bb5c495a4b4d = L.popup({&quot;maxWidth&quot;: &quot;100%&quot;});\n\n        \n            \n                var html_0edc037974909d99c27b60f67311b6d8 = $(`&lt;div id=&quot;html_0edc037974909d99c27b60f67311b6d8&quot; style=&quot;width: 100.0%; height: 100.0%;&quot;&gt;[(Timestamp(&#x27;2023-12-18 12:00:00&#x27;), 3), (Timestamp(&#x27;2023-12-18 10:30:00&#x27;), 2), (Timestamp(&#x27;2023-12-18 11:00:00&#x27;), 2), (Timestamp(&#x27;2023-12-18 11:30:00&#x27;), 2), (Timestamp(&#x27;2023-12-18 10:00:00&#x27;), 1)]&lt;/div&gt;`)[0];\n                popup_5147e81a3683eb5e89a2bb5c495a4b4d.setContent(html_0edc037974909d99c27b60f67311b6d8);\n            \n        \n\n        circle_92bdba71330cc146df0fb886717c9f02.bindPopup(popup_5147e81a3683eb5e89a2bb5c495a4b4d)\n        ;\n\n        \n    \n    \n            var circle_ce718b9c1d39557600e5d191546dff09 = L.circle(\n                [56.3195335, 12.9323925],\n                {&quot;bubblingMouseEvents&quot;: true, &quot;color&quot;: &quot;darkblue&quot;, &quot;dashArray&quot;: null, &quot;dashOffset&quot;: null, &quot;fill&quot;: true, &quot;fillColor&quot;: &quot;darkblue&quot;, &quot;fillOpacity&quot;: 0.4, &quot;fillRule&quot;: &quot;evenodd&quot;, &quot;lineCap&quot;: &quot;round&quot;, &quot;lineJoin&quot;: &quot;round&quot;, &quot;opacity&quot;: 1.0, &quot;radius&quot;: 50, &quot;stroke&quot;: true, &quot;weight&quot;: 3}\n            ).addTo(map_1b0987fef5886c8689fe85021c59aedf);\n        \n    \n        var popup_3d5b2bc03d5bf7edc87bbd89931e95e6 = L.popup({&quot;maxWidth&quot;: &quot;100%&quot;});\n\n        \n            \n                var html_54fa7c93e798f984ced74e8f43c565ed = $(`&lt;div id=&quot;html_54fa7c93e798f984ced74e8f43c565ed&quot; style=&quot;width: 100.0%; height: 100.0%;&quot;&gt;[(Timestamp(&#x27;2023-12-18 12:00:00&#x27;), 2), (Timestamp(&#x27;2023-12-18 12:30:00&#x27;), 2), (Timestamp(&#x27;2023-12-18 13:00:00&#x27;), 2), (Timestamp(&#x27;2023-12-18 13:30:00&#x27;), 2), (Timestamp(&#x27;2023-12-18 14:00:00&#x27;), 2), (Timestamp(&#x27;2023-12-18 14:30:00&#x27;), 2), (Timestamp(&#x27;2023-12-18 11:30:00&#x27;), 1)]&lt;/div&gt;`)[0];\n                popup_3d5b2bc03d5bf7edc87bbd89931e95e6.setContent(html_54fa7c93e798f984ced74e8f43c565ed);\n            \n        \n\n        circle_ce718b9c1d39557600e5d191546dff09.bindPopup(popup_3d5b2bc03d5bf7edc87bbd89931e95e6)\n        ;\n\n        \n    \n&lt;/script&gt;\n&lt;/html&gt;\" style=\"position:absolute;width:100%;height:100%;left:0;top:0;border:none !important;\" allowfullscreen webkitallowfullscreen mozallowfullscreen></iframe></div></div>"
     },
     "execution_count": 286,
     "metadata": {},
     "output_type": "execute_result"
    }
   ],
   "source": [
    "top_timestamp = []\n",
    "\n",
    "#colors = ['red','blue','orange','green','darkgreen','lightgreen','darkblue','lightblue','purple','darkpurple','pink','cadetblue']\n",
    "\n",
    "colors = ['cadetblue','red','blue','orange','green','purple','darkgreen','darkblue']\n",
    "\n",
    "map = folium.Map(location=[individual['lat'].mode(),individual['lng'].mode()], zoom_start=13)#, crs='EPSG4326')\n",
    "\n",
    "for point in range(0, len(individual_gr['lat'])):\n",
    "\n",
    "    counter = collections.Counter(individual_gr.loc[point]['timestamp_sum'])\n",
    "    top_timestamp.append(counter.most_common(10))\n",
    "    folium.Circle([individual_gr.loc[point]['lat'], individual_gr.loc[point]['lng']], fill_color=colors[individual_gr.loc[point]['cluster']%8], fill_opacity=0.4, color=colors[individual_gr.loc[point]['cluster']%8], popup=top_timestamp[point]).add_to(map)\n",
    "\n",
    "map\n"
   ],
   "metadata": {
    "collapsed": false
   }
  },
  {
   "cell_type": "code",
   "execution_count": 287,
   "outputs": [],
   "source": [
    "map.save('./figures/individual_cluster_'+individual_uid+'.html')\n"
   ],
   "metadata": {
    "collapsed": false
   }
  },
  {
   "cell_type": "code",
   "execution_count": 287,
   "outputs": [],
   "source": [],
   "metadata": {
    "collapsed": false
   }
  },
  {
   "cell_type": "code",
   "execution_count": 287,
   "outputs": [],
   "source": [],
   "metadata": {
    "collapsed": false
   }
  }
 ],
 "metadata": {
  "kernelspec": {
   "display_name": "Python 3",
   "language": "python",
   "name": "python3"
  },
  "language_info": {
   "codemirror_mode": {
    "name": "ipython",
    "version": 2
   },
   "file_extension": ".py",
   "mimetype": "text/x-python",
   "name": "python",
   "nbconvert_exporter": "python",
   "pygments_lexer": "ipython2",
   "version": "2.7.6"
  }
 },
 "nbformat": 4,
 "nbformat_minor": 0
}
