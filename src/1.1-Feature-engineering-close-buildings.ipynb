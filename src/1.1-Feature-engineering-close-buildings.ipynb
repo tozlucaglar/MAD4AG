{
 "cells": [
  {
   "cell_type": "code",
   "execution_count": 1,
   "metadata": {
    "collapsed": true
   },
   "outputs": [
    {
     "name": "stdout",
     "output_type": "stream",
     "text": [
      "C:\\MAD4AG\n"
     ]
    }
   ],
   "source": [
    "%load_ext autoreload\n",
    "%autoreload 2\n",
    "%cd C:\\MAD4AG\n",
    "%matplotlib inline"
   ]
  },
  {
   "cell_type": "code",
   "execution_count": 2,
   "outputs": [
    {
     "name": "stderr",
     "output_type": "stream",
     "text": [
      "C:\\Users\\aglar\\AppData\\Local\\anaconda3\\envs\\pycharm\\lib\\site-packages\\geopandas\\_compat.py:115: UserWarning: The Shapely GEOS version (3.11.1-CAPI-1.17.1) is incompatible with the GEOS version PyGEOS was compiled with (3.10.4-CAPI-1.16.2). Conversions between both will be slow.\n",
      "  shapely_geos_version, geos_capi_version_string\n"
     ]
    }
   ],
   "source": [
    "import pandas as pd\n",
    "import numpy as np\n",
    "from tqdm.auto import tqdm\n",
    "from sklearn.cluster import DBSCAN\n",
    "import geopandas\n",
    "import folium\n",
    "from folium.plugins import HeatMapWithTime\n",
    "import warnings\n",
    "\n",
    "warnings.filterwarnings('ignore')\n"
   ],
   "metadata": {
    "collapsed": false
   }
  },
  {
   "cell_type": "code",
   "execution_count": 3,
   "outputs": [],
   "source": [
    "file_name = f'./dbs/big_geodata_se/stops.parquet'\n",
    "\n",
    "#Read each batchs file\n",
    "df = pd.read_parquet(file_name)"
   ],
   "metadata": {
    "collapsed": false
   }
  },
  {
   "cell_type": "markdown",
   "source": [
    "# DBSCAN to detect jumps\n"
   ],
   "metadata": {
    "collapsed": false
   }
  },
  {
   "cell_type": "code",
   "execution_count": 4,
   "outputs": [],
   "source": [
    "def add_individual_clusters(data):\n",
    "    # represent points consistently as (lat, lon)\n",
    "    coords = data[['lat', 'lng']].values\n",
    "\n",
    "    # define the number of kilometers in one radian\n",
    "    kms_per_radian = 6371.0088\n",
    "\n",
    "    # define epsilon as 500 kilometers, converted to radians for use by haversine\n",
    "    epsilon = 500 / kms_per_radian\n",
    "\n",
    "    db = DBSCAN(eps=epsilon, min_samples=1, algorithm='ball_tree', metric='haversine').fit(np.radians(coords))\n",
    "    cluster_labels = db.labels_\n",
    "    data['cluster'] = cluster_labels + 1\n",
    "    return data\n",
    "\n",
    "\n"
   ],
   "metadata": {
    "collapsed": false
   }
  },
  {
   "cell_type": "code",
   "execution_count": 5,
   "outputs": [
    {
     "data": {
      "text/plain": "  0%|          | 0/322919 [00:00<?, ?it/s]",
      "application/vnd.jupyter.widget-view+json": {
       "version_major": 2,
       "version_minor": 0,
       "model_id": "2e67e8299c514696bbf969035bef0bee"
      }
     },
     "metadata": {},
     "output_type": "display_data"
    },
    {
     "name": "stdout",
     "output_type": "stream",
     "text": [
      "The number of people having jump:  27941\n"
     ]
    }
   ],
   "source": [
    "tqdm.pandas()\n",
    "df = df.groupby('uid').progress_apply(add_individual_clusters)\n",
    "\n",
    "print('The number of people having jump: ', len(df['uid'][df['cluster']>1].unique()))"
   ],
   "metadata": {
    "collapsed": false
   }
  },
  {
   "cell_type": "code",
   "execution_count": 6,
   "outputs": [],
   "source": [
    "df['uid'] = df['uid']+'-'+df['cluster'].astype(str)\n",
    "\n",
    "df.drop(columns=['cluster'], inplace=True)"
   ],
   "metadata": {
    "collapsed": false
   }
  },
  {
   "cell_type": "markdown",
   "source": [
    "# DBSCAN to detect clusters"
   ],
   "metadata": {
    "collapsed": false
   }
  },
  {
   "cell_type": "code",
   "execution_count": 7,
   "outputs": [],
   "source": [
    "def add_individual_clusters(data):\n",
    "    # represent points consistently as (lat, lon)\n",
    "    coords = data[['lat', 'lng']].values\n",
    "\n",
    "    # define the number of kilometers in one radian\n",
    "    kms_per_radian = 6371.0088\n",
    "\n",
    "    # define epsilon as 0.1 kilometers, converted to radians for use by haversine\n",
    "    epsilon = 0.1 / kms_per_radian\n",
    "\n",
    "    db = DBSCAN(eps=epsilon, min_samples=1, algorithm='ball_tree', metric='haversine').fit(np.radians(coords))\n",
    "    cluster_labels = db.labels_\n",
    "    data['cluster'] = cluster_labels + 1\n",
    "    return data\n"
   ],
   "metadata": {
    "collapsed": false
   }
  },
  {
   "cell_type": "code",
   "execution_count": 8,
   "outputs": [
    {
     "data": {
      "text/plain": "  0%|          | 0/352447 [00:00<?, ?it/s]",
      "application/vnd.jupyter.widget-view+json": {
       "version_major": 2,
       "version_minor": 0,
       "model_id": "e795d32672d847ac825b850284ecac41"
      }
     },
     "metadata": {},
     "output_type": "display_data"
    }
   ],
   "source": [
    "tqdm.pandas()\n",
    "df = df.groupby('uid').progress_apply(add_individual_clusters)"
   ],
   "metadata": {
    "collapsed": false
   }
  },
  {
   "cell_type": "code",
   "execution_count": 9,
   "outputs": [
    {
     "data": {
      "text/plain": "                                             uid           localtime  \\\n17673691  9b0b36c9-b1c0-444e-8708-e2751915a587-1 2019-07-25 04:38:16   \n17673692  9b0b36c9-b1c0-444e-8708-e2751915a587-1 2019-07-25 12:17:57   \n17673693  9b0b36c9-b1c0-444e-8708-e2751915a587-1 2019-07-25 13:56:39   \n17673694  9b0b36c9-b1c0-444e-8708-e2751915a587-1 2019-07-25 14:44:50   \n17673695  9b0b36c9-b1c0-444e-8708-e2751915a587-1 2019-07-25 15:39:01   \n...                                          ...                 ...   \n17673854  9b0b36c9-b1c0-444e-8708-e2751915a587-1 2019-12-29 18:07:07   \n17673855  9b0b36c9-b1c0-444e-8708-e2751915a587-1 2019-12-29 23:09:40   \n17673856  9b0b36c9-b1c0-444e-8708-e2751915a587-1 2019-12-30 00:41:50   \n17673857  9b0b36c9-b1c0-444e-8708-e2751915a587-1 2019-12-30 12:13:56   \n17673858  9b0b36c9-b1c0-444e-8708-e2751915a587-1 2019-12-31 13:36:17   \n\n                lat        lng  loc        h_s         dur  holiday_s  \\\n17673691  67.849996  20.229495    2   4.633333  249.350000          1   \n17673692  67.849996  20.229495    2  12.283333   25.866667          1   \n17673693  67.850541  20.228620    7  13.933333   18.133333          1   \n17673694  67.865758  20.215365   22  14.733333   18.616667          1   \n17673695  67.849996  20.229495    2  15.650000   21.650000          1   \n...             ...        ...  ...        ...         ...        ...   \n17673854  69.666700  18.966700   23  18.116667  182.950000          1   \n17673855  69.666700  18.966700   23  23.150000   31.266667          1   \n17673856  69.666700  18.966700   23   0.683333  289.483333          1   \n17673857  69.666700  18.966700   23  12.216667   75.033333          1   \n17673858  69.666700  18.966700   23  13.600000  261.633333          1   \n\n          weekday_s  seq  cluster  \n17673691          1    1        1  \n17673692          1    2        1  \n17673693          1    3        1  \n17673694          1    4        2  \n17673695          1    5        1  \n...             ...  ...      ...  \n17673854          0  172       10  \n17673855          0  173       10  \n17673856          1  174       10  \n17673857          1  175       10  \n17673858          1  176       10  \n\n[70 rows x 11 columns]",
      "text/html": "<div>\n<style scoped>\n    .dataframe tbody tr th:only-of-type {\n        vertical-align: middle;\n    }\n\n    .dataframe tbody tr th {\n        vertical-align: top;\n    }\n\n    .dataframe thead th {\n        text-align: right;\n    }\n</style>\n<table border=\"1\" class=\"dataframe\">\n  <thead>\n    <tr style=\"text-align: right;\">\n      <th></th>\n      <th>uid</th>\n      <th>localtime</th>\n      <th>lat</th>\n      <th>lng</th>\n      <th>loc</th>\n      <th>h_s</th>\n      <th>dur</th>\n      <th>holiday_s</th>\n      <th>weekday_s</th>\n      <th>seq</th>\n      <th>cluster</th>\n    </tr>\n  </thead>\n  <tbody>\n    <tr>\n      <th>17673691</th>\n      <td>9b0b36c9-b1c0-444e-8708-e2751915a587-1</td>\n      <td>2019-07-25 04:38:16</td>\n      <td>67.849996</td>\n      <td>20.229495</td>\n      <td>2</td>\n      <td>4.633333</td>\n      <td>249.350000</td>\n      <td>1</td>\n      <td>1</td>\n      <td>1</td>\n      <td>1</td>\n    </tr>\n    <tr>\n      <th>17673692</th>\n      <td>9b0b36c9-b1c0-444e-8708-e2751915a587-1</td>\n      <td>2019-07-25 12:17:57</td>\n      <td>67.849996</td>\n      <td>20.229495</td>\n      <td>2</td>\n      <td>12.283333</td>\n      <td>25.866667</td>\n      <td>1</td>\n      <td>1</td>\n      <td>2</td>\n      <td>1</td>\n    </tr>\n    <tr>\n      <th>17673693</th>\n      <td>9b0b36c9-b1c0-444e-8708-e2751915a587-1</td>\n      <td>2019-07-25 13:56:39</td>\n      <td>67.850541</td>\n      <td>20.228620</td>\n      <td>7</td>\n      <td>13.933333</td>\n      <td>18.133333</td>\n      <td>1</td>\n      <td>1</td>\n      <td>3</td>\n      <td>1</td>\n    </tr>\n    <tr>\n      <th>17673694</th>\n      <td>9b0b36c9-b1c0-444e-8708-e2751915a587-1</td>\n      <td>2019-07-25 14:44:50</td>\n      <td>67.865758</td>\n      <td>20.215365</td>\n      <td>22</td>\n      <td>14.733333</td>\n      <td>18.616667</td>\n      <td>1</td>\n      <td>1</td>\n      <td>4</td>\n      <td>2</td>\n    </tr>\n    <tr>\n      <th>17673695</th>\n      <td>9b0b36c9-b1c0-444e-8708-e2751915a587-1</td>\n      <td>2019-07-25 15:39:01</td>\n      <td>67.849996</td>\n      <td>20.229495</td>\n      <td>2</td>\n      <td>15.650000</td>\n      <td>21.650000</td>\n      <td>1</td>\n      <td>1</td>\n      <td>5</td>\n      <td>1</td>\n    </tr>\n    <tr>\n      <th>...</th>\n      <td>...</td>\n      <td>...</td>\n      <td>...</td>\n      <td>...</td>\n      <td>...</td>\n      <td>...</td>\n      <td>...</td>\n      <td>...</td>\n      <td>...</td>\n      <td>...</td>\n      <td>...</td>\n    </tr>\n    <tr>\n      <th>17673854</th>\n      <td>9b0b36c9-b1c0-444e-8708-e2751915a587-1</td>\n      <td>2019-12-29 18:07:07</td>\n      <td>69.666700</td>\n      <td>18.966700</td>\n      <td>23</td>\n      <td>18.116667</td>\n      <td>182.950000</td>\n      <td>1</td>\n      <td>0</td>\n      <td>172</td>\n      <td>10</td>\n    </tr>\n    <tr>\n      <th>17673855</th>\n      <td>9b0b36c9-b1c0-444e-8708-e2751915a587-1</td>\n      <td>2019-12-29 23:09:40</td>\n      <td>69.666700</td>\n      <td>18.966700</td>\n      <td>23</td>\n      <td>23.150000</td>\n      <td>31.266667</td>\n      <td>1</td>\n      <td>0</td>\n      <td>173</td>\n      <td>10</td>\n    </tr>\n    <tr>\n      <th>17673856</th>\n      <td>9b0b36c9-b1c0-444e-8708-e2751915a587-1</td>\n      <td>2019-12-30 00:41:50</td>\n      <td>69.666700</td>\n      <td>18.966700</td>\n      <td>23</td>\n      <td>0.683333</td>\n      <td>289.483333</td>\n      <td>1</td>\n      <td>1</td>\n      <td>174</td>\n      <td>10</td>\n    </tr>\n    <tr>\n      <th>17673857</th>\n      <td>9b0b36c9-b1c0-444e-8708-e2751915a587-1</td>\n      <td>2019-12-30 12:13:56</td>\n      <td>69.666700</td>\n      <td>18.966700</td>\n      <td>23</td>\n      <td>12.216667</td>\n      <td>75.033333</td>\n      <td>1</td>\n      <td>1</td>\n      <td>175</td>\n      <td>10</td>\n    </tr>\n    <tr>\n      <th>17673858</th>\n      <td>9b0b36c9-b1c0-444e-8708-e2751915a587-1</td>\n      <td>2019-12-31 13:36:17</td>\n      <td>69.666700</td>\n      <td>18.966700</td>\n      <td>23</td>\n      <td>13.600000</td>\n      <td>261.633333</td>\n      <td>1</td>\n      <td>1</td>\n      <td>176</td>\n      <td>10</td>\n    </tr>\n  </tbody>\n</table>\n<p>70 rows × 11 columns</p>\n</div>"
     },
     "execution_count": 9,
     "metadata": {},
     "output_type": "execute_result"
    }
   ],
   "source": [
    "# the clusters in one individual's different jumps\n",
    "\n",
    "df[df['uid'] == '9b0b36c9-b1c0-444e-8708-e2751915a587-1']"
   ],
   "metadata": {
    "collapsed": false
   }
  },
  {
   "cell_type": "code",
   "execution_count": 10,
   "outputs": [
    {
     "data": {
      "text/plain": "                                             uid           localtime  \\\n17673716  9b0b36c9-b1c0-444e-8708-e2751915a587-2 2019-07-29 12:02:07   \n17673717  9b0b36c9-b1c0-444e-8708-e2751915a587-2 2019-07-29 12:57:14   \n17673718  9b0b36c9-b1c0-444e-8708-e2751915a587-2 2019-07-29 13:23:07   \n17673719  9b0b36c9-b1c0-444e-8708-e2751915a587-2 2019-07-29 14:11:37   \n17673720  9b0b36c9-b1c0-444e-8708-e2751915a587-2 2019-07-29 16:02:21   \n17673721  9b0b36c9-b1c0-444e-8708-e2751915a587-2 2019-07-30 00:33:17   \n17673722  9b0b36c9-b1c0-444e-8708-e2751915a587-2 2019-07-30 03:04:37   \n17673723  9b0b36c9-b1c0-444e-8708-e2751915a587-2 2019-07-30 13:02:45   \n17673724  9b0b36c9-b1c0-444e-8708-e2751915a587-2 2019-07-30 13:56:21   \n17673725  9b0b36c9-b1c0-444e-8708-e2751915a587-2 2019-07-30 15:31:22   \n17673726  9b0b36c9-b1c0-444e-8708-e2751915a587-2 2019-07-30 23:24:20   \n17673727  9b0b36c9-b1c0-444e-8708-e2751915a587-2 2019-07-31 01:45:38   \n17673728  9b0b36c9-b1c0-444e-8708-e2751915a587-2 2019-07-31 12:35:06   \n17673729  9b0b36c9-b1c0-444e-8708-e2751915a587-2 2019-07-31 14:16:12   \n17673730  9b0b36c9-b1c0-444e-8708-e2751915a587-2 2019-07-31 16:46:47   \n17673731  9b0b36c9-b1c0-444e-8708-e2751915a587-2 2019-07-31 21:22:09   \n17673732  9b0b36c9-b1c0-444e-8708-e2751915a587-2 2019-08-01 01:02:10   \n17673733  9b0b36c9-b1c0-444e-8708-e2751915a587-2 2019-08-01 01:35:38   \n17673734  9b0b36c9-b1c0-444e-8708-e2751915a587-2 2019-08-01 02:34:35   \n17673735  9b0b36c9-b1c0-444e-8708-e2751915a587-2 2019-08-01 10:19:18   \n17673736  9b0b36c9-b1c0-444e-8708-e2751915a587-2 2019-08-01 11:31:53   \n17673737  9b0b36c9-b1c0-444e-8708-e2751915a587-2 2019-08-01 16:48:17   \n17673738  9b0b36c9-b1c0-444e-8708-e2751915a587-2 2019-08-01 18:02:36   \n17673739  9b0b36c9-b1c0-444e-8708-e2751915a587-2 2019-08-01 23:43:53   \n17673740  9b0b36c9-b1c0-444e-8708-e2751915a587-2 2019-08-02 02:38:42   \n17673741  9b0b36c9-b1c0-444e-8708-e2751915a587-2 2019-08-02 13:30:25   \n17673742  9b0b36c9-b1c0-444e-8708-e2751915a587-2 2019-08-02 16:42:20   \n17673743  9b0b36c9-b1c0-444e-8708-e2751915a587-2 2019-08-02 22:59:36   \n17673744  9b0b36c9-b1c0-444e-8708-e2751915a587-2 2019-08-03 02:37:16   \n17673745  9b0b36c9-b1c0-444e-8708-e2751915a587-2 2019-08-03 04:10:59   \n17673746  9b0b36c9-b1c0-444e-8708-e2751915a587-2 2019-08-03 12:47:13   \n17673747  9b0b36c9-b1c0-444e-8708-e2751915a587-2 2019-08-03 15:16:27   \n17673748  9b0b36c9-b1c0-444e-8708-e2751915a587-2 2019-08-03 20:06:40   \n17673749  9b0b36c9-b1c0-444e-8708-e2751915a587-2 2019-08-03 20:53:47   \n17673750  9b0b36c9-b1c0-444e-8708-e2751915a587-2 2019-08-03 21:36:15   \n17673751  9b0b36c9-b1c0-444e-8708-e2751915a587-2 2019-08-04 11:06:49   \n17673752  9b0b36c9-b1c0-444e-8708-e2751915a587-2 2019-08-04 12:28:10   \n17673753  9b0b36c9-b1c0-444e-8708-e2751915a587-2 2019-08-07 16:22:41   \n17673754  9b0b36c9-b1c0-444e-8708-e2751915a587-2 2019-08-07 18:12:12   \n17673755  9b0b36c9-b1c0-444e-8708-e2751915a587-2 2019-08-08 11:27:32   \n17673756  9b0b36c9-b1c0-444e-8708-e2751915a587-2 2019-08-08 13:33:32   \n17673760  9b0b36c9-b1c0-444e-8708-e2751915a587-2 2019-10-20 15:47:17   \n17673776  9b0b36c9-b1c0-444e-8708-e2751915a587-2 2019-10-27 17:38:48   \n17673832  9b0b36c9-b1c0-444e-8708-e2751915a587-2 2019-12-14 22:26:36   \n17673842  9b0b36c9-b1c0-444e-8708-e2751915a587-2 2019-12-21 20:01:25   \n17673843  9b0b36c9-b1c0-444e-8708-e2751915a587-2 2019-12-22 19:22:33   \n\n                lat        lng  loc        h_s         dur  holiday_s  \\\n17673716  59.333924  18.056550   14  12.033333   29.850000          1   \n17673717  59.331117  18.053898    5  12.950000   17.150000          1   \n17673718  59.331117  18.053898    5  13.383333   26.083333          1   \n17673719  59.332230  18.057570   13  14.183333   34.650000          1   \n17673720  59.235395  18.231443    1  16.033333  270.516667          1   \n17673721  59.235395  18.231443    1   0.550000   43.066667          1   \n17673722  59.235395  18.231443    1   3.066667  433.950000          1   \n17673723  59.331427  18.056124    4  13.033333   39.966667          1   \n17673724  59.330968  18.056356   12  13.933333   33.350000          1   \n17673725  59.235395  18.231443    1  15.516667  184.866667          1   \n17673726  59.403497  17.941969   15  23.400000   32.733333          1   \n17673727  59.235395  18.231443    1   1.750000  310.750000          1   \n17673728  59.235395  18.231443    1  12.583333   29.866667          1   \n17673729  59.331117  18.053898    5  14.266667   18.183333          1   \n17673730  59.235395  18.231443    1  16.766667  110.916667          1   \n17673731  59.235395  18.231443    1  21.366667   92.100000          1   \n17673732  59.235395  18.231443    1   1.033333   27.166667          1   \n17673733  59.235395  18.231443    1   1.583333   46.233333          1   \n17673734  59.235395  18.231443    1   2.566667  413.233333          1   \n17673735  59.235395  18.231443    1  10.316667   43.816667          1   \n17673736  59.235395  18.231443    1  11.516667  234.700000          1   \n17673737  59.331117  18.053898    5  16.800000   71.800000          1   \n17673738  59.331427  18.056124    4  18.033333   44.150000          1   \n17673739  59.235395  18.231443    1  23.716667  164.900000          1   \n17673740  59.235395  18.231443    1   2.633333  179.983333          1   \n17673741  59.235395  18.231443    1  13.500000  178.950000          1   \n17673742  59.235395  18.231443    1  16.700000  331.200000          1   \n17673743  59.235395  18.231443    1  22.983333   78.016667          1   \n17673744  59.235395  18.231443    1   2.616667   40.983333          1   \n17673745  59.235395  18.231443    1   4.166667  196.933333          1   \n17673746  59.235395  18.231443    1  12.783333  126.850000          1   \n17673747  59.235395  18.231443    1  15.266667  229.666667          1   \n17673748  59.243962  18.228049    6  20.100000   36.900000          1   \n17673749  59.243962  18.228049    6  20.883333   24.100000          1   \n17673750  59.235395  18.231443    1  21.600000  500.766667          1   \n17673751  59.235395  18.231443    1  11.100000   61.000000          1   \n17673752  59.235395  18.231443    1  12.466667  479.916667          1   \n17673753  59.331117  18.053898    5  16.366667   95.516667          1   \n17673754  59.331427  18.056124    4  18.200000  189.116667          1   \n17673755  59.331427  18.056124    4  11.450000   18.266667          1   \n17673756  59.235395  18.231443    1  13.550000  217.916667          1   \n17673760  59.167700  18.144800    9  15.783333  430.266667          0   \n17673776  59.167700  18.144800    9  17.633333  306.800000          0   \n17673832  59.167700  18.144800    9  22.433333   38.483333          0   \n17673842  59.233300  18.300000   10  20.016667  116.583333          0   \n17673843  59.167700  18.144800    9  19.366667  215.550000          1   \n\n          weekday_s  seq  cluster  \n17673716          1   26        1  \n17673717          1   27        2  \n17673718          1   28        2  \n17673719          1   29        3  \n17673720          1   30        4  \n17673721          1   31        4  \n17673722          1   32        4  \n17673723          1   33        5  \n17673724          1   34        5  \n17673725          1   35        4  \n17673726          1   36        6  \n17673727          1   37        4  \n17673728          1   38        4  \n17673729          1   39        2  \n17673730          1   40        4  \n17673731          1   41        4  \n17673732          1   42        4  \n17673733          1   43        4  \n17673734          1   44        4  \n17673735          1   45        4  \n17673736          1   46        4  \n17673737          1   47        2  \n17673738          1   48        5  \n17673739          1   49        4  \n17673740          1   50        4  \n17673741          1   51        4  \n17673742          1   52        4  \n17673743          1   53        4  \n17673744          0   54        4  \n17673745          0   55        4  \n17673746          0   56        4  \n17673747          0   57        4  \n17673748          0   58        7  \n17673749          0   59        7  \n17673750          0   60        4  \n17673751          0   61        4  \n17673752          0   62        4  \n17673753          1   64        2  \n17673754          1   65        5  \n17673755          1   66        5  \n17673756          1   67        4  \n17673760          0   71        8  \n17673776          0   88        8  \n17673832          0  147        8  \n17673842          0  157        9  \n17673843          0  158        8  ",
      "text/html": "<div>\n<style scoped>\n    .dataframe tbody tr th:only-of-type {\n        vertical-align: middle;\n    }\n\n    .dataframe tbody tr th {\n        vertical-align: top;\n    }\n\n    .dataframe thead th {\n        text-align: right;\n    }\n</style>\n<table border=\"1\" class=\"dataframe\">\n  <thead>\n    <tr style=\"text-align: right;\">\n      <th></th>\n      <th>uid</th>\n      <th>localtime</th>\n      <th>lat</th>\n      <th>lng</th>\n      <th>loc</th>\n      <th>h_s</th>\n      <th>dur</th>\n      <th>holiday_s</th>\n      <th>weekday_s</th>\n      <th>seq</th>\n      <th>cluster</th>\n    </tr>\n  </thead>\n  <tbody>\n    <tr>\n      <th>17673716</th>\n      <td>9b0b36c9-b1c0-444e-8708-e2751915a587-2</td>\n      <td>2019-07-29 12:02:07</td>\n      <td>59.333924</td>\n      <td>18.056550</td>\n      <td>14</td>\n      <td>12.033333</td>\n      <td>29.850000</td>\n      <td>1</td>\n      <td>1</td>\n      <td>26</td>\n      <td>1</td>\n    </tr>\n    <tr>\n      <th>17673717</th>\n      <td>9b0b36c9-b1c0-444e-8708-e2751915a587-2</td>\n      <td>2019-07-29 12:57:14</td>\n      <td>59.331117</td>\n      <td>18.053898</td>\n      <td>5</td>\n      <td>12.950000</td>\n      <td>17.150000</td>\n      <td>1</td>\n      <td>1</td>\n      <td>27</td>\n      <td>2</td>\n    </tr>\n    <tr>\n      <th>17673718</th>\n      <td>9b0b36c9-b1c0-444e-8708-e2751915a587-2</td>\n      <td>2019-07-29 13:23:07</td>\n      <td>59.331117</td>\n      <td>18.053898</td>\n      <td>5</td>\n      <td>13.383333</td>\n      <td>26.083333</td>\n      <td>1</td>\n      <td>1</td>\n      <td>28</td>\n      <td>2</td>\n    </tr>\n    <tr>\n      <th>17673719</th>\n      <td>9b0b36c9-b1c0-444e-8708-e2751915a587-2</td>\n      <td>2019-07-29 14:11:37</td>\n      <td>59.332230</td>\n      <td>18.057570</td>\n      <td>13</td>\n      <td>14.183333</td>\n      <td>34.650000</td>\n      <td>1</td>\n      <td>1</td>\n      <td>29</td>\n      <td>3</td>\n    </tr>\n    <tr>\n      <th>17673720</th>\n      <td>9b0b36c9-b1c0-444e-8708-e2751915a587-2</td>\n      <td>2019-07-29 16:02:21</td>\n      <td>59.235395</td>\n      <td>18.231443</td>\n      <td>1</td>\n      <td>16.033333</td>\n      <td>270.516667</td>\n      <td>1</td>\n      <td>1</td>\n      <td>30</td>\n      <td>4</td>\n    </tr>\n    <tr>\n      <th>17673721</th>\n      <td>9b0b36c9-b1c0-444e-8708-e2751915a587-2</td>\n      <td>2019-07-30 00:33:17</td>\n      <td>59.235395</td>\n      <td>18.231443</td>\n      <td>1</td>\n      <td>0.550000</td>\n      <td>43.066667</td>\n      <td>1</td>\n      <td>1</td>\n      <td>31</td>\n      <td>4</td>\n    </tr>\n    <tr>\n      <th>17673722</th>\n      <td>9b0b36c9-b1c0-444e-8708-e2751915a587-2</td>\n      <td>2019-07-30 03:04:37</td>\n      <td>59.235395</td>\n      <td>18.231443</td>\n      <td>1</td>\n      <td>3.066667</td>\n      <td>433.950000</td>\n      <td>1</td>\n      <td>1</td>\n      <td>32</td>\n      <td>4</td>\n    </tr>\n    <tr>\n      <th>17673723</th>\n      <td>9b0b36c9-b1c0-444e-8708-e2751915a587-2</td>\n      <td>2019-07-30 13:02:45</td>\n      <td>59.331427</td>\n      <td>18.056124</td>\n      <td>4</td>\n      <td>13.033333</td>\n      <td>39.966667</td>\n      <td>1</td>\n      <td>1</td>\n      <td>33</td>\n      <td>5</td>\n    </tr>\n    <tr>\n      <th>17673724</th>\n      <td>9b0b36c9-b1c0-444e-8708-e2751915a587-2</td>\n      <td>2019-07-30 13:56:21</td>\n      <td>59.330968</td>\n      <td>18.056356</td>\n      <td>12</td>\n      <td>13.933333</td>\n      <td>33.350000</td>\n      <td>1</td>\n      <td>1</td>\n      <td>34</td>\n      <td>5</td>\n    </tr>\n    <tr>\n      <th>17673725</th>\n      <td>9b0b36c9-b1c0-444e-8708-e2751915a587-2</td>\n      <td>2019-07-30 15:31:22</td>\n      <td>59.235395</td>\n      <td>18.231443</td>\n      <td>1</td>\n      <td>15.516667</td>\n      <td>184.866667</td>\n      <td>1</td>\n      <td>1</td>\n      <td>35</td>\n      <td>4</td>\n    </tr>\n    <tr>\n      <th>17673726</th>\n      <td>9b0b36c9-b1c0-444e-8708-e2751915a587-2</td>\n      <td>2019-07-30 23:24:20</td>\n      <td>59.403497</td>\n      <td>17.941969</td>\n      <td>15</td>\n      <td>23.400000</td>\n      <td>32.733333</td>\n      <td>1</td>\n      <td>1</td>\n      <td>36</td>\n      <td>6</td>\n    </tr>\n    <tr>\n      <th>17673727</th>\n      <td>9b0b36c9-b1c0-444e-8708-e2751915a587-2</td>\n      <td>2019-07-31 01:45:38</td>\n      <td>59.235395</td>\n      <td>18.231443</td>\n      <td>1</td>\n      <td>1.750000</td>\n      <td>310.750000</td>\n      <td>1</td>\n      <td>1</td>\n      <td>37</td>\n      <td>4</td>\n    </tr>\n    <tr>\n      <th>17673728</th>\n      <td>9b0b36c9-b1c0-444e-8708-e2751915a587-2</td>\n      <td>2019-07-31 12:35:06</td>\n      <td>59.235395</td>\n      <td>18.231443</td>\n      <td>1</td>\n      <td>12.583333</td>\n      <td>29.866667</td>\n      <td>1</td>\n      <td>1</td>\n      <td>38</td>\n      <td>4</td>\n    </tr>\n    <tr>\n      <th>17673729</th>\n      <td>9b0b36c9-b1c0-444e-8708-e2751915a587-2</td>\n      <td>2019-07-31 14:16:12</td>\n      <td>59.331117</td>\n      <td>18.053898</td>\n      <td>5</td>\n      <td>14.266667</td>\n      <td>18.183333</td>\n      <td>1</td>\n      <td>1</td>\n      <td>39</td>\n      <td>2</td>\n    </tr>\n    <tr>\n      <th>17673730</th>\n      <td>9b0b36c9-b1c0-444e-8708-e2751915a587-2</td>\n      <td>2019-07-31 16:46:47</td>\n      <td>59.235395</td>\n      <td>18.231443</td>\n      <td>1</td>\n      <td>16.766667</td>\n      <td>110.916667</td>\n      <td>1</td>\n      <td>1</td>\n      <td>40</td>\n      <td>4</td>\n    </tr>\n    <tr>\n      <th>17673731</th>\n      <td>9b0b36c9-b1c0-444e-8708-e2751915a587-2</td>\n      <td>2019-07-31 21:22:09</td>\n      <td>59.235395</td>\n      <td>18.231443</td>\n      <td>1</td>\n      <td>21.366667</td>\n      <td>92.100000</td>\n      <td>1</td>\n      <td>1</td>\n      <td>41</td>\n      <td>4</td>\n    </tr>\n    <tr>\n      <th>17673732</th>\n      <td>9b0b36c9-b1c0-444e-8708-e2751915a587-2</td>\n      <td>2019-08-01 01:02:10</td>\n      <td>59.235395</td>\n      <td>18.231443</td>\n      <td>1</td>\n      <td>1.033333</td>\n      <td>27.166667</td>\n      <td>1</td>\n      <td>1</td>\n      <td>42</td>\n      <td>4</td>\n    </tr>\n    <tr>\n      <th>17673733</th>\n      <td>9b0b36c9-b1c0-444e-8708-e2751915a587-2</td>\n      <td>2019-08-01 01:35:38</td>\n      <td>59.235395</td>\n      <td>18.231443</td>\n      <td>1</td>\n      <td>1.583333</td>\n      <td>46.233333</td>\n      <td>1</td>\n      <td>1</td>\n      <td>43</td>\n      <td>4</td>\n    </tr>\n    <tr>\n      <th>17673734</th>\n      <td>9b0b36c9-b1c0-444e-8708-e2751915a587-2</td>\n      <td>2019-08-01 02:34:35</td>\n      <td>59.235395</td>\n      <td>18.231443</td>\n      <td>1</td>\n      <td>2.566667</td>\n      <td>413.233333</td>\n      <td>1</td>\n      <td>1</td>\n      <td>44</td>\n      <td>4</td>\n    </tr>\n    <tr>\n      <th>17673735</th>\n      <td>9b0b36c9-b1c0-444e-8708-e2751915a587-2</td>\n      <td>2019-08-01 10:19:18</td>\n      <td>59.235395</td>\n      <td>18.231443</td>\n      <td>1</td>\n      <td>10.316667</td>\n      <td>43.816667</td>\n      <td>1</td>\n      <td>1</td>\n      <td>45</td>\n      <td>4</td>\n    </tr>\n    <tr>\n      <th>17673736</th>\n      <td>9b0b36c9-b1c0-444e-8708-e2751915a587-2</td>\n      <td>2019-08-01 11:31:53</td>\n      <td>59.235395</td>\n      <td>18.231443</td>\n      <td>1</td>\n      <td>11.516667</td>\n      <td>234.700000</td>\n      <td>1</td>\n      <td>1</td>\n      <td>46</td>\n      <td>4</td>\n    </tr>\n    <tr>\n      <th>17673737</th>\n      <td>9b0b36c9-b1c0-444e-8708-e2751915a587-2</td>\n      <td>2019-08-01 16:48:17</td>\n      <td>59.331117</td>\n      <td>18.053898</td>\n      <td>5</td>\n      <td>16.800000</td>\n      <td>71.800000</td>\n      <td>1</td>\n      <td>1</td>\n      <td>47</td>\n      <td>2</td>\n    </tr>\n    <tr>\n      <th>17673738</th>\n      <td>9b0b36c9-b1c0-444e-8708-e2751915a587-2</td>\n      <td>2019-08-01 18:02:36</td>\n      <td>59.331427</td>\n      <td>18.056124</td>\n      <td>4</td>\n      <td>18.033333</td>\n      <td>44.150000</td>\n      <td>1</td>\n      <td>1</td>\n      <td>48</td>\n      <td>5</td>\n    </tr>\n    <tr>\n      <th>17673739</th>\n      <td>9b0b36c9-b1c0-444e-8708-e2751915a587-2</td>\n      <td>2019-08-01 23:43:53</td>\n      <td>59.235395</td>\n      <td>18.231443</td>\n      <td>1</td>\n      <td>23.716667</td>\n      <td>164.900000</td>\n      <td>1</td>\n      <td>1</td>\n      <td>49</td>\n      <td>4</td>\n    </tr>\n    <tr>\n      <th>17673740</th>\n      <td>9b0b36c9-b1c0-444e-8708-e2751915a587-2</td>\n      <td>2019-08-02 02:38:42</td>\n      <td>59.235395</td>\n      <td>18.231443</td>\n      <td>1</td>\n      <td>2.633333</td>\n      <td>179.983333</td>\n      <td>1</td>\n      <td>1</td>\n      <td>50</td>\n      <td>4</td>\n    </tr>\n    <tr>\n      <th>17673741</th>\n      <td>9b0b36c9-b1c0-444e-8708-e2751915a587-2</td>\n      <td>2019-08-02 13:30:25</td>\n      <td>59.235395</td>\n      <td>18.231443</td>\n      <td>1</td>\n      <td>13.500000</td>\n      <td>178.950000</td>\n      <td>1</td>\n      <td>1</td>\n      <td>51</td>\n      <td>4</td>\n    </tr>\n    <tr>\n      <th>17673742</th>\n      <td>9b0b36c9-b1c0-444e-8708-e2751915a587-2</td>\n      <td>2019-08-02 16:42:20</td>\n      <td>59.235395</td>\n      <td>18.231443</td>\n      <td>1</td>\n      <td>16.700000</td>\n      <td>331.200000</td>\n      <td>1</td>\n      <td>1</td>\n      <td>52</td>\n      <td>4</td>\n    </tr>\n    <tr>\n      <th>17673743</th>\n      <td>9b0b36c9-b1c0-444e-8708-e2751915a587-2</td>\n      <td>2019-08-02 22:59:36</td>\n      <td>59.235395</td>\n      <td>18.231443</td>\n      <td>1</td>\n      <td>22.983333</td>\n      <td>78.016667</td>\n      <td>1</td>\n      <td>1</td>\n      <td>53</td>\n      <td>4</td>\n    </tr>\n    <tr>\n      <th>17673744</th>\n      <td>9b0b36c9-b1c0-444e-8708-e2751915a587-2</td>\n      <td>2019-08-03 02:37:16</td>\n      <td>59.235395</td>\n      <td>18.231443</td>\n      <td>1</td>\n      <td>2.616667</td>\n      <td>40.983333</td>\n      <td>1</td>\n      <td>0</td>\n      <td>54</td>\n      <td>4</td>\n    </tr>\n    <tr>\n      <th>17673745</th>\n      <td>9b0b36c9-b1c0-444e-8708-e2751915a587-2</td>\n      <td>2019-08-03 04:10:59</td>\n      <td>59.235395</td>\n      <td>18.231443</td>\n      <td>1</td>\n      <td>4.166667</td>\n      <td>196.933333</td>\n      <td>1</td>\n      <td>0</td>\n      <td>55</td>\n      <td>4</td>\n    </tr>\n    <tr>\n      <th>17673746</th>\n      <td>9b0b36c9-b1c0-444e-8708-e2751915a587-2</td>\n      <td>2019-08-03 12:47:13</td>\n      <td>59.235395</td>\n      <td>18.231443</td>\n      <td>1</td>\n      <td>12.783333</td>\n      <td>126.850000</td>\n      <td>1</td>\n      <td>0</td>\n      <td>56</td>\n      <td>4</td>\n    </tr>\n    <tr>\n      <th>17673747</th>\n      <td>9b0b36c9-b1c0-444e-8708-e2751915a587-2</td>\n      <td>2019-08-03 15:16:27</td>\n      <td>59.235395</td>\n      <td>18.231443</td>\n      <td>1</td>\n      <td>15.266667</td>\n      <td>229.666667</td>\n      <td>1</td>\n      <td>0</td>\n      <td>57</td>\n      <td>4</td>\n    </tr>\n    <tr>\n      <th>17673748</th>\n      <td>9b0b36c9-b1c0-444e-8708-e2751915a587-2</td>\n      <td>2019-08-03 20:06:40</td>\n      <td>59.243962</td>\n      <td>18.228049</td>\n      <td>6</td>\n      <td>20.100000</td>\n      <td>36.900000</td>\n      <td>1</td>\n      <td>0</td>\n      <td>58</td>\n      <td>7</td>\n    </tr>\n    <tr>\n      <th>17673749</th>\n      <td>9b0b36c9-b1c0-444e-8708-e2751915a587-2</td>\n      <td>2019-08-03 20:53:47</td>\n      <td>59.243962</td>\n      <td>18.228049</td>\n      <td>6</td>\n      <td>20.883333</td>\n      <td>24.100000</td>\n      <td>1</td>\n      <td>0</td>\n      <td>59</td>\n      <td>7</td>\n    </tr>\n    <tr>\n      <th>17673750</th>\n      <td>9b0b36c9-b1c0-444e-8708-e2751915a587-2</td>\n      <td>2019-08-03 21:36:15</td>\n      <td>59.235395</td>\n      <td>18.231443</td>\n      <td>1</td>\n      <td>21.600000</td>\n      <td>500.766667</td>\n      <td>1</td>\n      <td>0</td>\n      <td>60</td>\n      <td>4</td>\n    </tr>\n    <tr>\n      <th>17673751</th>\n      <td>9b0b36c9-b1c0-444e-8708-e2751915a587-2</td>\n      <td>2019-08-04 11:06:49</td>\n      <td>59.235395</td>\n      <td>18.231443</td>\n      <td>1</td>\n      <td>11.100000</td>\n      <td>61.000000</td>\n      <td>1</td>\n      <td>0</td>\n      <td>61</td>\n      <td>4</td>\n    </tr>\n    <tr>\n      <th>17673752</th>\n      <td>9b0b36c9-b1c0-444e-8708-e2751915a587-2</td>\n      <td>2019-08-04 12:28:10</td>\n      <td>59.235395</td>\n      <td>18.231443</td>\n      <td>1</td>\n      <td>12.466667</td>\n      <td>479.916667</td>\n      <td>1</td>\n      <td>0</td>\n      <td>62</td>\n      <td>4</td>\n    </tr>\n    <tr>\n      <th>17673753</th>\n      <td>9b0b36c9-b1c0-444e-8708-e2751915a587-2</td>\n      <td>2019-08-07 16:22:41</td>\n      <td>59.331117</td>\n      <td>18.053898</td>\n      <td>5</td>\n      <td>16.366667</td>\n      <td>95.516667</td>\n      <td>1</td>\n      <td>1</td>\n      <td>64</td>\n      <td>2</td>\n    </tr>\n    <tr>\n      <th>17673754</th>\n      <td>9b0b36c9-b1c0-444e-8708-e2751915a587-2</td>\n      <td>2019-08-07 18:12:12</td>\n      <td>59.331427</td>\n      <td>18.056124</td>\n      <td>4</td>\n      <td>18.200000</td>\n      <td>189.116667</td>\n      <td>1</td>\n      <td>1</td>\n      <td>65</td>\n      <td>5</td>\n    </tr>\n    <tr>\n      <th>17673755</th>\n      <td>9b0b36c9-b1c0-444e-8708-e2751915a587-2</td>\n      <td>2019-08-08 11:27:32</td>\n      <td>59.331427</td>\n      <td>18.056124</td>\n      <td>4</td>\n      <td>11.450000</td>\n      <td>18.266667</td>\n      <td>1</td>\n      <td>1</td>\n      <td>66</td>\n      <td>5</td>\n    </tr>\n    <tr>\n      <th>17673756</th>\n      <td>9b0b36c9-b1c0-444e-8708-e2751915a587-2</td>\n      <td>2019-08-08 13:33:32</td>\n      <td>59.235395</td>\n      <td>18.231443</td>\n      <td>1</td>\n      <td>13.550000</td>\n      <td>217.916667</td>\n      <td>1</td>\n      <td>1</td>\n      <td>67</td>\n      <td>4</td>\n    </tr>\n    <tr>\n      <th>17673760</th>\n      <td>9b0b36c9-b1c0-444e-8708-e2751915a587-2</td>\n      <td>2019-10-20 15:47:17</td>\n      <td>59.167700</td>\n      <td>18.144800</td>\n      <td>9</td>\n      <td>15.783333</td>\n      <td>430.266667</td>\n      <td>0</td>\n      <td>0</td>\n      <td>71</td>\n      <td>8</td>\n    </tr>\n    <tr>\n      <th>17673776</th>\n      <td>9b0b36c9-b1c0-444e-8708-e2751915a587-2</td>\n      <td>2019-10-27 17:38:48</td>\n      <td>59.167700</td>\n      <td>18.144800</td>\n      <td>9</td>\n      <td>17.633333</td>\n      <td>306.800000</td>\n      <td>0</td>\n      <td>0</td>\n      <td>88</td>\n      <td>8</td>\n    </tr>\n    <tr>\n      <th>17673832</th>\n      <td>9b0b36c9-b1c0-444e-8708-e2751915a587-2</td>\n      <td>2019-12-14 22:26:36</td>\n      <td>59.167700</td>\n      <td>18.144800</td>\n      <td>9</td>\n      <td>22.433333</td>\n      <td>38.483333</td>\n      <td>0</td>\n      <td>0</td>\n      <td>147</td>\n      <td>8</td>\n    </tr>\n    <tr>\n      <th>17673842</th>\n      <td>9b0b36c9-b1c0-444e-8708-e2751915a587-2</td>\n      <td>2019-12-21 20:01:25</td>\n      <td>59.233300</td>\n      <td>18.300000</td>\n      <td>10</td>\n      <td>20.016667</td>\n      <td>116.583333</td>\n      <td>0</td>\n      <td>0</td>\n      <td>157</td>\n      <td>9</td>\n    </tr>\n    <tr>\n      <th>17673843</th>\n      <td>9b0b36c9-b1c0-444e-8708-e2751915a587-2</td>\n      <td>2019-12-22 19:22:33</td>\n      <td>59.167700</td>\n      <td>18.144800</td>\n      <td>9</td>\n      <td>19.366667</td>\n      <td>215.550000</td>\n      <td>1</td>\n      <td>0</td>\n      <td>158</td>\n      <td>8</td>\n    </tr>\n  </tbody>\n</table>\n</div>"
     },
     "execution_count": 10,
     "metadata": {},
     "output_type": "execute_result"
    }
   ],
   "source": [
    "df[df['uid'] == '9b0b36c9-b1c0-444e-8708-e2751915a587-2']"
   ],
   "metadata": {
    "collapsed": false
   }
  },
  {
   "cell_type": "markdown",
   "source": [
    "## Drop individuals with only one cluster"
   ],
   "metadata": {
    "collapsed": false
   }
  },
  {
   "cell_type": "code",
   "execution_count": 11,
   "outputs": [],
   "source": [
    "ppl_with_one_cluster = df[['uid','cluster']].drop_duplicates(['uid','cluster'])\n",
    "\n",
    "ppl_with_one_cluster = ppl_with_one_cluster.groupby(['uid']).size().reset_index(name='counts')\n",
    "ppl_with_clusters = ppl_with_one_cluster['uid'][ppl_with_one_cluster['counts']>1].to_list()\n",
    "\n",
    "df = df[df['uid'].isin(ppl_with_clusters)]"
   ],
   "metadata": {
    "collapsed": false
   }
  },
  {
   "cell_type": "markdown",
   "source": [
    "## Intersect MAD data and DeSO data"
   ],
   "metadata": {
    "collapsed": false
   }
  },
  {
   "cell_type": "code",
   "execution_count": 12,
   "outputs": [],
   "source": [
    "gdf = geopandas.GeoDataFrame(df, geometry=geopandas.points_from_xy(df.lng, df.lat), crs=\"EPSG:4326\")"
   ],
   "metadata": {
    "collapsed": false
   }
  },
  {
   "cell_type": "code",
   "execution_count": 13,
   "outputs": [
    {
     "name": "stdout",
     "output_type": "stream",
     "text": [
      "PROJCS[\"SWEREF99 TM\",GEOGCS[\"SWEREF99\",DATUM[\"SWEREF99\",SPHEROID[\"GRS 1980\",6378137,298.257222101,AUTHORITY[\"EPSG\",\"7019\"]],AUTHORITY[\"EPSG\",\"6619\"]],PRIMEM[\"Greenwich\",0],UNIT[\"Degree\",0.0174532925199433]],PROJECTION[\"Transverse_Mercator\"],PARAMETER[\"latitude_of_origin\",0],PARAMETER[\"central_meridian\",15],PARAMETER[\"scale_factor\",0.9996],PARAMETER[\"false_easting\",500000],PARAMETER[\"false_northing\",0],UNIT[\"metre\",1,AUTHORITY[\"EPSG\",\"9001\"]],AXIS[\"Easting\",EAST],AXIS[\"Northing\",NORTH],AUTHORITY[\"EPSG\",\"3006\"]]\n",
      "epsg:4326\n"
     ]
    }
   ],
   "source": [
    "DeSO = geopandas.read_file(f'C:/Synthetic_population_new/caglar/synthetic_sweden/input/deso_statistik_shp/Bef_Kon_region.shp')\n",
    "\n",
    "print(DeSO.crs)\n",
    "\n",
    "DeSO.to_crs(4326, inplace=True)\n",
    "print(DeSO.crs)"
   ],
   "metadata": {
    "collapsed": false
   }
  },
  {
   "cell_type": "code",
   "execution_count": 14,
   "outputs": [
    {
     "name": "stdout",
     "output_type": "stream",
     "text": [
      "Stops outside Sweden:  97940\n"
     ]
    }
   ],
   "source": [
    "gdf = gdf.sjoin(DeSO[['Deso','geometry']], how=\"left\")\n",
    "\n",
    "gdf.drop(\"index_right\", axis=1, inplace=True)\n",
    "#out of sweden\n",
    "print('Stops outside Sweden: ', len(gdf[gdf['Deso'].isna()]))\n",
    "\n",
    "gdf = gdf.dropna(subset=['Deso'])\n",
    "\n",
    "df = pd.DataFrame(gdf.drop(columns='geometry'))\n"
   ],
   "metadata": {
    "collapsed": false
   }
  },
  {
   "cell_type": "markdown",
   "source": [
    "## Calculate mean of clusters and snap to the closest building"
   ],
   "metadata": {
    "collapsed": false
   }
  },
  {
   "cell_type": "code",
   "execution_count": 15,
   "outputs": [],
   "source": [
    "\n",
    "df_cluster = df.groupby(['uid','cluster'])[['lat','lng']].mean().reset_index()\n"
   ],
   "metadata": {
    "collapsed": false
   }
  },
  {
   "cell_type": "markdown",
   "source": [
    "## Snap the cluster centre to the closest building."
   ],
   "metadata": {
    "collapsed": false
   }
  },
  {
   "cell_type": "code",
   "execution_count": 10,
   "outputs": [],
   "source": [
    "building_point = geopandas.read_file(f'C:/Synthetic_population_new/caglar/synthetic_sweden/input/Geodatabase.gdb', layer= 'Buildings_SpatJ_SU_1km_DESO_poi_wgs84')\n",
    "\n",
    "building_point = pd.DataFrame(building_point[['TARGET_FID','ANDAMAL_1',\n",
    "       'Deso', 'KNKOD',  'POINT_X_sweref99',\n",
    "       'POINT_Y_sweref99', 'POINT_X', 'POINT_Y']])\n",
    "building_point = building_point[building_point.ANDAMAL_1 != 699]\n",
    "building_point.rename(columns={'POINT_Y': 'lat', 'POINT_X': 'lng'}, inplace=True)"
   ],
   "metadata": {
    "collapsed": false
   }
  },
  {
   "cell_type": "code",
   "execution_count": 16,
   "outputs": [],
   "source": [
    "#HERE\n",
    "# df_cluster.to_parquet(f'./dbs/intermediate/df_cluster.parquet')\n",
    "# building_point.to_parquet(f'./dbs/intermediate/building_point.parquet')\n"
   ],
   "metadata": {
    "collapsed": false
   }
  },
  {
   "cell_type": "code",
   "execution_count": 17,
   "outputs": [],
   "source": [
    "# df_cluster = pd.read_parquet(f'./dbs/intermediate/df_cluster.parquet')\n",
    "# building_point = pd.read_parquet(f'./dbs/intermediate/building_point.parquet')\n"
   ],
   "metadata": {
    "collapsed": false
   }
  },
  {
   "cell_type": "code",
   "execution_count": 18,
   "outputs": [],
   "source": [
    "from lib.nearest_point import nearest_neighbor"
   ],
   "metadata": {
    "collapsed": false
   }
  },
  {
   "cell_type": "code",
   "execution_count": 19,
   "outputs": [],
   "source": [
    "closest_build = nearest_neighbor(df_cluster, building_point, return_dist=True)\n"
   ],
   "metadata": {
    "collapsed": false
   }
  },
  {
   "cell_type": "code",
   "execution_count": 20,
   "outputs": [],
   "source": [
    "closest_build= closest_build[['TARGET_FID', 'ANDAMAL_1', 'Deso', 'KNKOD', 'POINT_X_sweref99','POINT_Y_sweref99', 'lat', 'lng', 'distance']]\n",
    "\n",
    "closest_build.rename(columns={'lat':'building_lat', 'lng':'building_lng'}, inplace=True)\n",
    "\n",
    "df_cluster = df_cluster.join(closest_build)\n"
   ],
   "metadata": {
    "collapsed": false
   }
  },
  {
   "cell_type": "code",
   "execution_count": 21,
   "outputs": [],
   "source": [
    "df_cluster= df_cluster[['uid', 'cluster', 'lat', 'lng', 'TARGET_FID',\n",
    "       'ANDAMAL_1', 'Deso', 'KNKOD', 'building_lng', 'building_lat', 'distance']]\n",
    "\n",
    "df_cluster.rename(columns={'lat':'cluster_lat', 'lng':'cluster_lng'}, inplace=True)\n",
    "\n"
   ],
   "metadata": {
    "collapsed": false
   }
  },
  {
   "cell_type": "markdown",
   "source": [
    "### If the distance between the closest building and the cluster centre is more than 200m, use the coordinates of the cluster."
   ],
   "metadata": {
    "collapsed": false
   }
  },
  {
   "cell_type": "code",
   "execution_count": 17,
   "outputs": [],
   "source": [
    "#HERE\n",
    "\n",
    "#df_cluster.cluster_lat = np.where(df_cluster['distance'] <= 0.2 , df_cluster.building_lat, df_cluster.cluster_lat)\n",
    "\n",
    "#df_cluster.cluster_lng = np.where(df_cluster['distance'] <= 0.2 , df_cluster.building_lng, df_cluster.cluster_lng)\n",
    "\n",
    "#df_cluster.ANDAMAL_1 = np.where(df_cluster['distance'] >= 0.2 , 0, df_cluster.ANDAMAL_1)"
   ],
   "metadata": {
    "collapsed": false
   }
  },
  {
   "cell_type": "code",
   "execution_count": 22,
   "outputs": [
    {
     "data": {
      "text/plain": "130    0.295311\n133    0.219149\n499    0.171054\n399    0.064337\n799    0.042357\n299    0.035809\n319    0.022813\n304    0.019633\n131    0.016691\n132    0.013886\n240    0.010404\n135    0.007963\n313    0.007565\n318    0.007480\n247    0.007462\n199    0.007186\n317    0.007037\n253    0.005816\n310    0.005446\n599    0.004522\n320    0.004212\n307    0.002455\n301    0.002443\n311    0.002010\n246    0.001862\n242    0.001848\n249    0.001802\n315    0.001771\n303    0.001091\n314    0.001033\n309    0.000960\n321    0.000959\n302    0.000908\n324    0.000884\n243    0.000850\n306    0.000685\n248    0.000440\n251    0.000337\n316    0.000314\n252    0.000283\n322    0.000271\n308    0.000191\n312    0.000155\n305    0.000146\n250    0.000126\n245    0.000028\n241    0.000011\n244    0.000003\nName: ANDAMAL_1, dtype: float64"
     },
     "execution_count": 22,
     "metadata": {},
     "output_type": "execute_result"
    }
   ],
   "source": [
    "df_cluster.ANDAMAL_1.value_counts(normalize=True)"
   ],
   "metadata": {
    "collapsed": false
   }
  },
  {
   "cell_type": "code",
   "execution_count": 23,
   "outputs": [],
   "source": [
    "\n",
    "df = pd.merge(df, df_cluster[['uid', 'cluster', 'cluster_lat', 'cluster_lng', 'building_lat','building_lng', 'ANDAMAL_1', 'distance']], on=['uid', 'cluster'], how='left' )"
   ],
   "metadata": {
    "collapsed": false
   }
  },
  {
   "cell_type": "code",
   "execution_count": 25,
   "outputs": [],
   "source": [
    "#HERE\n",
    "df.to_parquet(f'./dbs/intermediate/stops_1_new.parquet')\n"
   ],
   "metadata": {
    "collapsed": false
   }
  },
  {
   "cell_type": "code",
   "execution_count": 20,
   "outputs": [],
   "source": [],
   "metadata": {
    "collapsed": false
   }
  }
 ],
 "metadata": {
  "kernelspec": {
   "display_name": "Python 3",
   "language": "python",
   "name": "python3"
  },
  "language_info": {
   "codemirror_mode": {
    "name": "ipython",
    "version": 2
   },
   "file_extension": ".py",
   "mimetype": "text/x-python",
   "name": "python",
   "nbconvert_exporter": "python",
   "pygments_lexer": "ipython2",
   "version": "2.7.6"
  }
 },
 "nbformat": 4,
 "nbformat_minor": 0
}
