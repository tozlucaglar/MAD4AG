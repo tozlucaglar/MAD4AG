{
 "cells": [
  {
   "cell_type": "code",
   "execution_count": 1,
   "metadata": {
    "collapsed": true
   },
   "outputs": [
    {
     "name": "stdout",
     "output_type": "stream",
     "text": [
      "C:\\MAD4AG\n"
     ]
    }
   ],
   "source": [
    "%load_ext autoreload\n",
    "%autoreload 2\n",
    "%cd C:\\MAD4AG\n",
    "%matplotlib inline"
   ]
  },
  {
   "cell_type": "code",
   "execution_count": 2,
   "outputs": [
    {
     "name": "stderr",
     "output_type": "stream",
     "text": [
      "C:\\Users\\aglar\\AppData\\Local\\anaconda3\\envs\\pycharm\\lib\\site-packages\\geopandas\\_compat.py:115: UserWarning: The Shapely GEOS version (3.11.1-CAPI-1.17.1) is incompatible with the GEOS version PyGEOS was compiled with (3.10.4-CAPI-1.16.2). Conversions between both will be slow.\n",
      "  shapely_geos_version, geos_capi_version_string\n"
     ]
    }
   ],
   "source": [
    "import pandas as pd\n",
    "import numpy as np\n",
    "from tqdm.auto import tqdm\n",
    "from sklearn.cluster import DBSCAN\n",
    "import geopandas\n",
    "import folium\n",
    "from folium.plugins import HeatMapWithTime\n",
    "import warnings\n",
    "\n",
    "warnings.filterwarnings('ignore')\n"
   ],
   "metadata": {
    "collapsed": false
   }
  },
  {
   "cell_type": "code",
   "execution_count": 3,
   "outputs": [],
   "source": [
    "file_name = f'./dbs/big_geodata_se/stops.parquet'\n",
    "\n",
    "#Read each batchs file\n",
    "df = pd.read_parquet(file_name)"
   ],
   "metadata": {
    "collapsed": false
   }
  },
  {
   "cell_type": "markdown",
   "source": [
    "# DBSCAN to detect jumps\n"
   ],
   "metadata": {
    "collapsed": false
   }
  },
  {
   "cell_type": "code",
   "execution_count": 4,
   "outputs": [],
   "source": [
    "def add_individual_clusters(data):\n",
    "    # represent points consistently as (lat, lon)\n",
    "    coords = data[['lat', 'lng']].values\n",
    "\n",
    "    # define the number of kilometers in one radian\n",
    "    kms_per_radian = 6371.0088\n",
    "\n",
    "    # define epsilon as 500 kilometers, converted to radians for use by haversine\n",
    "    epsilon = 200 / kms_per_radian\n",
    "\n",
    "    db = DBSCAN(eps=epsilon, min_samples=2, algorithm='ball_tree', metric='haversine').fit(np.radians(coords))\n",
    "    cluster_labels = db.labels_\n",
    "    data['cluster'] = cluster_labels + 1\n",
    "    return data\n",
    "\n",
    "\n"
   ],
   "metadata": {
    "collapsed": false
   }
  },
  {
   "cell_type": "code",
   "execution_count": 5,
   "outputs": [
    {
     "data": {
      "text/plain": "  0%|          | 0/322919 [00:00<?, ?it/s]",
      "application/vnd.jupyter.widget-view+json": {
       "version_major": 2,
       "version_minor": 0,
       "model_id": "8d11b2d2d87b465cada19a0d26eaf4e6"
      }
     },
     "metadata": {},
     "output_type": "display_data"
    },
    {
     "name": "stdout",
     "output_type": "stream",
     "text": [
      "The number of people:  322919\n",
      "The number of people having jump:  115685\n"
     ]
    }
   ],
   "source": [
    "tqdm.pandas()\n",
    "df = df.groupby('uid').progress_apply(add_individual_clusters)\n",
    "\n",
    "print('The number of people: ', len(df['uid'].unique()))\n",
    "print('The number of people having jump: ', len(df['uid'][df['cluster']>1].unique()))"
   ],
   "metadata": {
    "collapsed": false
   }
  },
  {
   "cell_type": "code",
   "execution_count": 6,
   "outputs": [],
   "source": [
    "df['uid'] = df['uid']+'-'+df['cluster'].astype(str)\n",
    "\n",
    "df.drop(columns=['cluster'], inplace=True)"
   ],
   "metadata": {
    "collapsed": false
   }
  },
  {
   "cell_type": "markdown",
   "source": [
    "# remove holidays and weekend stops"
   ],
   "metadata": {
    "collapsed": false
   }
  },
  {
   "cell_type": "code",
   "execution_count": 7,
   "outputs": [],
   "source": [
    "df = df[df.holiday_s != 1]\n",
    "df = df[df.weekday_s == 1]"
   ],
   "metadata": {
    "collapsed": false
   }
  },
  {
   "cell_type": "markdown",
   "source": [
    "# DBSCAN to detect clusters"
   ],
   "metadata": {
    "collapsed": false
   }
  },
  {
   "cell_type": "code",
   "execution_count": 8,
   "outputs": [],
   "source": [
    "def add_individual_clusters(data):\n",
    "    # represent points consistently as (lat, lon)\n",
    "    coords = data[['lat', 'lng']].values\n",
    "\n",
    "    # define the number of kilometers in one radian\n",
    "    kms_per_radian = 6371.0088\n",
    "\n",
    "    # define epsilon as 0.1 kilometers, converted to radians for use by haversine\n",
    "    epsilon = 0.1 / kms_per_radian\n",
    "\n",
    "    db = DBSCAN(eps=epsilon, min_samples=1, algorithm='ball_tree', metric='haversine').fit(np.radians(coords))\n",
    "    cluster_labels = db.labels_\n",
    "    data['cluster'] = cluster_labels + 1\n",
    "    return data\n"
   ],
   "metadata": {
    "collapsed": false
   }
  },
  {
   "cell_type": "code",
   "execution_count": 9,
   "outputs": [
    {
     "data": {
      "text/plain": "  0%|          | 0/430111 [00:00<?, ?it/s]",
      "application/vnd.jupyter.widget-view+json": {
       "version_major": 2,
       "version_minor": 0,
       "model_id": "43d065f5adb24fd4a3884188805d0a6a"
      }
     },
     "metadata": {},
     "output_type": "display_data"
    }
   ],
   "source": [
    "tqdm.pandas()\n",
    "df = df.groupby('uid').progress_apply(add_individual_clusters)"
   ],
   "metadata": {
    "collapsed": false
   }
  },
  {
   "cell_type": "code",
   "execution_count": 10,
   "outputs": [
    {
     "data": {
      "text/plain": "                                             uid           localtime  \\\n17673757  9b0b36c9-b1c0-444e-8708-e2751915a587-1 2019-10-16 17:58:42   \n17673758  9b0b36c9-b1c0-444e-8708-e2751915a587-1 2019-10-16 23:33:36   \n17673759  9b0b36c9-b1c0-444e-8708-e2751915a587-1 2019-10-17 10:55:08   \n17673762  9b0b36c9-b1c0-444e-8708-e2751915a587-1 2019-10-21 10:49:35   \n17673765  9b0b36c9-b1c0-444e-8708-e2751915a587-1 2019-10-22 10:12:58   \n17673767  9b0b36c9-b1c0-444e-8708-e2751915a587-1 2019-10-22 12:30:29   \n17673768  9b0b36c9-b1c0-444e-8708-e2751915a587-1 2019-10-23 15:46:57   \n17673772  9b0b36c9-b1c0-444e-8708-e2751915a587-1 2019-10-24 11:21:21   \n17673779  9b0b36c9-b1c0-444e-8708-e2751915a587-1 2019-11-06 18:40:52   \n17673782  9b0b36c9-b1c0-444e-8708-e2751915a587-1 2019-11-25 10:07:32   \n17673783  9b0b36c9-b1c0-444e-8708-e2751915a587-1 2019-11-28 10:01:55   \n17673784  9b0b36c9-b1c0-444e-8708-e2751915a587-1 2019-11-29 10:43:27   \n17673785  9b0b36c9-b1c0-444e-8708-e2751915a587-1 2019-11-29 12:42:13   \n17673793  9b0b36c9-b1c0-444e-8708-e2751915a587-1 2019-12-03 12:03:28   \n17673795  9b0b36c9-b1c0-444e-8708-e2751915a587-1 2019-12-03 15:14:44   \n17673797  9b0b36c9-b1c0-444e-8708-e2751915a587-1 2019-12-03 22:38:38   \n17673799  9b0b36c9-b1c0-444e-8708-e2751915a587-1 2019-12-04 11:17:58   \n17673802  9b0b36c9-b1c0-444e-8708-e2751915a587-1 2019-12-05 11:44:46   \n17673803  9b0b36c9-b1c0-444e-8708-e2751915a587-1 2019-12-05 13:37:16   \n17673813  9b0b36c9-b1c0-444e-8708-e2751915a587-1 2019-12-09 10:00:11   \n17673816  9b0b36c9-b1c0-444e-8708-e2751915a587-1 2019-12-10 09:01:54   \n17673818  9b0b36c9-b1c0-444e-8708-e2751915a587-1 2019-12-10 11:29:26   \n17673821  9b0b36c9-b1c0-444e-8708-e2751915a587-1 2019-12-11 11:23:57   \n17673825  9b0b36c9-b1c0-444e-8708-e2751915a587-1 2019-12-12 10:10:42   \n17673828  9b0b36c9-b1c0-444e-8708-e2751915a587-1 2019-12-13 08:50:19   \n17673838  9b0b36c9-b1c0-444e-8708-e2751915a587-1 2019-12-17 09:07:04   \n17673839  9b0b36c9-b1c0-444e-8708-e2751915a587-1 2019-12-17 15:16:03   \n17673840  9b0b36c9-b1c0-444e-8708-e2751915a587-1 2019-12-18 12:00:04   \n17673841  9b0b36c9-b1c0-444e-8708-e2751915a587-1 2019-12-19 10:51:22   \n\n                lat        lng  loc        h_s         dur  holiday_s  \\\n17673757  67.846368  20.257187   17  17.966667  179.983333          0   \n17673758  67.849996  20.229495    2  23.550000  279.166667          0   \n17673759  67.850000  20.216700   19  10.916667  419.500000          0   \n17673762  67.850000  20.216700   19  10.816667   32.066667          0   \n17673765  67.850000  20.216700   19  10.200000   30.550000          0   \n17673767  67.850000  20.216700   19  12.500000   34.683333          0   \n17673768  67.850000  20.216700   19  15.766667   61.516667          0   \n17673772  67.850000  20.216700   19  11.350000  306.450000          0   \n17673779  67.850000  20.216700   19  18.666667  179.983333          0   \n17673782  67.850000  20.216700   19  10.116667  378.533333          0   \n17673783  67.850000  20.216700   19  10.016667  329.350000          0   \n17673784  67.850000  20.216700   19  10.716667   75.600000          0   \n17673785  67.855700  20.225100   20  12.700000  179.983333          0   \n17673793  67.850000  20.216700   19  12.050000   31.566667          0   \n17673795  67.850000  20.216700   19  15.233333  105.750000          0   \n17673797  67.850000  20.216700   19  22.633333   66.083333          0   \n17673799  67.850000  20.216700   19  11.283333  268.300000          0   \n17673802  67.850000  20.216700   19  11.733333   37.200000          0   \n17673803  67.850000  20.216700   19  13.616667  105.350000          0   \n17673813  67.850000  20.216700   19  10.000000  393.266667          0   \n17673816  67.850000  20.216700   19   9.016667   39.366667          0   \n17673818  67.850000  20.216700   19  11.483333  273.866667          0   \n17673821  67.850000  20.216700   19  11.383333  275.150000          0   \n17673825  67.850000  20.216700   19  10.166667  150.083333          0   \n17673828  67.850000  20.216700   19   8.833333  135.700000          0   \n17673838  67.850000  20.216700   19   9.116667  262.016667          0   \n17673839  67.850000  20.216700   19  15.266667  283.483333          0   \n17673840  67.850000  20.216700   19  12.000000  215.933333          0   \n17673841  67.850000  20.216700   19  10.850000   34.916667          0   \n\n          weekday_s  seq  cluster  \n17673757          1   68        1  \n17673758          1   69        2  \n17673759          1   70        3  \n17673762          1   73        3  \n17673765          1   76        3  \n17673767          1   78        3  \n17673768          1   80        3  \n17673772          1   84        3  \n17673779          1   93        3  \n17673782          1   96        3  \n17673783          1   97        3  \n17673784          1   98        3  \n17673785          1   99        4  \n17673793          1  107        3  \n17673795          1  109        3  \n17673797          1  111        3  \n17673799          1  113        3  \n17673802          1  116        3  \n17673803          1  117        3  \n17673813          1  128        3  \n17673816          1  131        3  \n17673818          1  133        3  \n17673821          1  136        3  \n17673825          1  140        3  \n17673828          1  143        3  \n17673838          1  153        3  \n17673839          1  154        3  \n17673840          1  155        3  \n17673841          1  156        3  ",
      "text/html": "<div>\n<style scoped>\n    .dataframe tbody tr th:only-of-type {\n        vertical-align: middle;\n    }\n\n    .dataframe tbody tr th {\n        vertical-align: top;\n    }\n\n    .dataframe thead th {\n        text-align: right;\n    }\n</style>\n<table border=\"1\" class=\"dataframe\">\n  <thead>\n    <tr style=\"text-align: right;\">\n      <th></th>\n      <th>uid</th>\n      <th>localtime</th>\n      <th>lat</th>\n      <th>lng</th>\n      <th>loc</th>\n      <th>h_s</th>\n      <th>dur</th>\n      <th>holiday_s</th>\n      <th>weekday_s</th>\n      <th>seq</th>\n      <th>cluster</th>\n    </tr>\n  </thead>\n  <tbody>\n    <tr>\n      <th>17673757</th>\n      <td>9b0b36c9-b1c0-444e-8708-e2751915a587-1</td>\n      <td>2019-10-16 17:58:42</td>\n      <td>67.846368</td>\n      <td>20.257187</td>\n      <td>17</td>\n      <td>17.966667</td>\n      <td>179.983333</td>\n      <td>0</td>\n      <td>1</td>\n      <td>68</td>\n      <td>1</td>\n    </tr>\n    <tr>\n      <th>17673758</th>\n      <td>9b0b36c9-b1c0-444e-8708-e2751915a587-1</td>\n      <td>2019-10-16 23:33:36</td>\n      <td>67.849996</td>\n      <td>20.229495</td>\n      <td>2</td>\n      <td>23.550000</td>\n      <td>279.166667</td>\n      <td>0</td>\n      <td>1</td>\n      <td>69</td>\n      <td>2</td>\n    </tr>\n    <tr>\n      <th>17673759</th>\n      <td>9b0b36c9-b1c0-444e-8708-e2751915a587-1</td>\n      <td>2019-10-17 10:55:08</td>\n      <td>67.850000</td>\n      <td>20.216700</td>\n      <td>19</td>\n      <td>10.916667</td>\n      <td>419.500000</td>\n      <td>0</td>\n      <td>1</td>\n      <td>70</td>\n      <td>3</td>\n    </tr>\n    <tr>\n      <th>17673762</th>\n      <td>9b0b36c9-b1c0-444e-8708-e2751915a587-1</td>\n      <td>2019-10-21 10:49:35</td>\n      <td>67.850000</td>\n      <td>20.216700</td>\n      <td>19</td>\n      <td>10.816667</td>\n      <td>32.066667</td>\n      <td>0</td>\n      <td>1</td>\n      <td>73</td>\n      <td>3</td>\n    </tr>\n    <tr>\n      <th>17673765</th>\n      <td>9b0b36c9-b1c0-444e-8708-e2751915a587-1</td>\n      <td>2019-10-22 10:12:58</td>\n      <td>67.850000</td>\n      <td>20.216700</td>\n      <td>19</td>\n      <td>10.200000</td>\n      <td>30.550000</td>\n      <td>0</td>\n      <td>1</td>\n      <td>76</td>\n      <td>3</td>\n    </tr>\n    <tr>\n      <th>17673767</th>\n      <td>9b0b36c9-b1c0-444e-8708-e2751915a587-1</td>\n      <td>2019-10-22 12:30:29</td>\n      <td>67.850000</td>\n      <td>20.216700</td>\n      <td>19</td>\n      <td>12.500000</td>\n      <td>34.683333</td>\n      <td>0</td>\n      <td>1</td>\n      <td>78</td>\n      <td>3</td>\n    </tr>\n    <tr>\n      <th>17673768</th>\n      <td>9b0b36c9-b1c0-444e-8708-e2751915a587-1</td>\n      <td>2019-10-23 15:46:57</td>\n      <td>67.850000</td>\n      <td>20.216700</td>\n      <td>19</td>\n      <td>15.766667</td>\n      <td>61.516667</td>\n      <td>0</td>\n      <td>1</td>\n      <td>80</td>\n      <td>3</td>\n    </tr>\n    <tr>\n      <th>17673772</th>\n      <td>9b0b36c9-b1c0-444e-8708-e2751915a587-1</td>\n      <td>2019-10-24 11:21:21</td>\n      <td>67.850000</td>\n      <td>20.216700</td>\n      <td>19</td>\n      <td>11.350000</td>\n      <td>306.450000</td>\n      <td>0</td>\n      <td>1</td>\n      <td>84</td>\n      <td>3</td>\n    </tr>\n    <tr>\n      <th>17673779</th>\n      <td>9b0b36c9-b1c0-444e-8708-e2751915a587-1</td>\n      <td>2019-11-06 18:40:52</td>\n      <td>67.850000</td>\n      <td>20.216700</td>\n      <td>19</td>\n      <td>18.666667</td>\n      <td>179.983333</td>\n      <td>0</td>\n      <td>1</td>\n      <td>93</td>\n      <td>3</td>\n    </tr>\n    <tr>\n      <th>17673782</th>\n      <td>9b0b36c9-b1c0-444e-8708-e2751915a587-1</td>\n      <td>2019-11-25 10:07:32</td>\n      <td>67.850000</td>\n      <td>20.216700</td>\n      <td>19</td>\n      <td>10.116667</td>\n      <td>378.533333</td>\n      <td>0</td>\n      <td>1</td>\n      <td>96</td>\n      <td>3</td>\n    </tr>\n    <tr>\n      <th>17673783</th>\n      <td>9b0b36c9-b1c0-444e-8708-e2751915a587-1</td>\n      <td>2019-11-28 10:01:55</td>\n      <td>67.850000</td>\n      <td>20.216700</td>\n      <td>19</td>\n      <td>10.016667</td>\n      <td>329.350000</td>\n      <td>0</td>\n      <td>1</td>\n      <td>97</td>\n      <td>3</td>\n    </tr>\n    <tr>\n      <th>17673784</th>\n      <td>9b0b36c9-b1c0-444e-8708-e2751915a587-1</td>\n      <td>2019-11-29 10:43:27</td>\n      <td>67.850000</td>\n      <td>20.216700</td>\n      <td>19</td>\n      <td>10.716667</td>\n      <td>75.600000</td>\n      <td>0</td>\n      <td>1</td>\n      <td>98</td>\n      <td>3</td>\n    </tr>\n    <tr>\n      <th>17673785</th>\n      <td>9b0b36c9-b1c0-444e-8708-e2751915a587-1</td>\n      <td>2019-11-29 12:42:13</td>\n      <td>67.855700</td>\n      <td>20.225100</td>\n      <td>20</td>\n      <td>12.700000</td>\n      <td>179.983333</td>\n      <td>0</td>\n      <td>1</td>\n      <td>99</td>\n      <td>4</td>\n    </tr>\n    <tr>\n      <th>17673793</th>\n      <td>9b0b36c9-b1c0-444e-8708-e2751915a587-1</td>\n      <td>2019-12-03 12:03:28</td>\n      <td>67.850000</td>\n      <td>20.216700</td>\n      <td>19</td>\n      <td>12.050000</td>\n      <td>31.566667</td>\n      <td>0</td>\n      <td>1</td>\n      <td>107</td>\n      <td>3</td>\n    </tr>\n    <tr>\n      <th>17673795</th>\n      <td>9b0b36c9-b1c0-444e-8708-e2751915a587-1</td>\n      <td>2019-12-03 15:14:44</td>\n      <td>67.850000</td>\n      <td>20.216700</td>\n      <td>19</td>\n      <td>15.233333</td>\n      <td>105.750000</td>\n      <td>0</td>\n      <td>1</td>\n      <td>109</td>\n      <td>3</td>\n    </tr>\n    <tr>\n      <th>17673797</th>\n      <td>9b0b36c9-b1c0-444e-8708-e2751915a587-1</td>\n      <td>2019-12-03 22:38:38</td>\n      <td>67.850000</td>\n      <td>20.216700</td>\n      <td>19</td>\n      <td>22.633333</td>\n      <td>66.083333</td>\n      <td>0</td>\n      <td>1</td>\n      <td>111</td>\n      <td>3</td>\n    </tr>\n    <tr>\n      <th>17673799</th>\n      <td>9b0b36c9-b1c0-444e-8708-e2751915a587-1</td>\n      <td>2019-12-04 11:17:58</td>\n      <td>67.850000</td>\n      <td>20.216700</td>\n      <td>19</td>\n      <td>11.283333</td>\n      <td>268.300000</td>\n      <td>0</td>\n      <td>1</td>\n      <td>113</td>\n      <td>3</td>\n    </tr>\n    <tr>\n      <th>17673802</th>\n      <td>9b0b36c9-b1c0-444e-8708-e2751915a587-1</td>\n      <td>2019-12-05 11:44:46</td>\n      <td>67.850000</td>\n      <td>20.216700</td>\n      <td>19</td>\n      <td>11.733333</td>\n      <td>37.200000</td>\n      <td>0</td>\n      <td>1</td>\n      <td>116</td>\n      <td>3</td>\n    </tr>\n    <tr>\n      <th>17673803</th>\n      <td>9b0b36c9-b1c0-444e-8708-e2751915a587-1</td>\n      <td>2019-12-05 13:37:16</td>\n      <td>67.850000</td>\n      <td>20.216700</td>\n      <td>19</td>\n      <td>13.616667</td>\n      <td>105.350000</td>\n      <td>0</td>\n      <td>1</td>\n      <td>117</td>\n      <td>3</td>\n    </tr>\n    <tr>\n      <th>17673813</th>\n      <td>9b0b36c9-b1c0-444e-8708-e2751915a587-1</td>\n      <td>2019-12-09 10:00:11</td>\n      <td>67.850000</td>\n      <td>20.216700</td>\n      <td>19</td>\n      <td>10.000000</td>\n      <td>393.266667</td>\n      <td>0</td>\n      <td>1</td>\n      <td>128</td>\n      <td>3</td>\n    </tr>\n    <tr>\n      <th>17673816</th>\n      <td>9b0b36c9-b1c0-444e-8708-e2751915a587-1</td>\n      <td>2019-12-10 09:01:54</td>\n      <td>67.850000</td>\n      <td>20.216700</td>\n      <td>19</td>\n      <td>9.016667</td>\n      <td>39.366667</td>\n      <td>0</td>\n      <td>1</td>\n      <td>131</td>\n      <td>3</td>\n    </tr>\n    <tr>\n      <th>17673818</th>\n      <td>9b0b36c9-b1c0-444e-8708-e2751915a587-1</td>\n      <td>2019-12-10 11:29:26</td>\n      <td>67.850000</td>\n      <td>20.216700</td>\n      <td>19</td>\n      <td>11.483333</td>\n      <td>273.866667</td>\n      <td>0</td>\n      <td>1</td>\n      <td>133</td>\n      <td>3</td>\n    </tr>\n    <tr>\n      <th>17673821</th>\n      <td>9b0b36c9-b1c0-444e-8708-e2751915a587-1</td>\n      <td>2019-12-11 11:23:57</td>\n      <td>67.850000</td>\n      <td>20.216700</td>\n      <td>19</td>\n      <td>11.383333</td>\n      <td>275.150000</td>\n      <td>0</td>\n      <td>1</td>\n      <td>136</td>\n      <td>3</td>\n    </tr>\n    <tr>\n      <th>17673825</th>\n      <td>9b0b36c9-b1c0-444e-8708-e2751915a587-1</td>\n      <td>2019-12-12 10:10:42</td>\n      <td>67.850000</td>\n      <td>20.216700</td>\n      <td>19</td>\n      <td>10.166667</td>\n      <td>150.083333</td>\n      <td>0</td>\n      <td>1</td>\n      <td>140</td>\n      <td>3</td>\n    </tr>\n    <tr>\n      <th>17673828</th>\n      <td>9b0b36c9-b1c0-444e-8708-e2751915a587-1</td>\n      <td>2019-12-13 08:50:19</td>\n      <td>67.850000</td>\n      <td>20.216700</td>\n      <td>19</td>\n      <td>8.833333</td>\n      <td>135.700000</td>\n      <td>0</td>\n      <td>1</td>\n      <td>143</td>\n      <td>3</td>\n    </tr>\n    <tr>\n      <th>17673838</th>\n      <td>9b0b36c9-b1c0-444e-8708-e2751915a587-1</td>\n      <td>2019-12-17 09:07:04</td>\n      <td>67.850000</td>\n      <td>20.216700</td>\n      <td>19</td>\n      <td>9.116667</td>\n      <td>262.016667</td>\n      <td>0</td>\n      <td>1</td>\n      <td>153</td>\n      <td>3</td>\n    </tr>\n    <tr>\n      <th>17673839</th>\n      <td>9b0b36c9-b1c0-444e-8708-e2751915a587-1</td>\n      <td>2019-12-17 15:16:03</td>\n      <td>67.850000</td>\n      <td>20.216700</td>\n      <td>19</td>\n      <td>15.266667</td>\n      <td>283.483333</td>\n      <td>0</td>\n      <td>1</td>\n      <td>154</td>\n      <td>3</td>\n    </tr>\n    <tr>\n      <th>17673840</th>\n      <td>9b0b36c9-b1c0-444e-8708-e2751915a587-1</td>\n      <td>2019-12-18 12:00:04</td>\n      <td>67.850000</td>\n      <td>20.216700</td>\n      <td>19</td>\n      <td>12.000000</td>\n      <td>215.933333</td>\n      <td>0</td>\n      <td>1</td>\n      <td>155</td>\n      <td>3</td>\n    </tr>\n    <tr>\n      <th>17673841</th>\n      <td>9b0b36c9-b1c0-444e-8708-e2751915a587-1</td>\n      <td>2019-12-19 10:51:22</td>\n      <td>67.850000</td>\n      <td>20.216700</td>\n      <td>19</td>\n      <td>10.850000</td>\n      <td>34.916667</td>\n      <td>0</td>\n      <td>1</td>\n      <td>156</td>\n      <td>3</td>\n    </tr>\n  </tbody>\n</table>\n</div>"
     },
     "execution_count": 10,
     "metadata": {},
     "output_type": "execute_result"
    }
   ],
   "source": [
    "# the clusters in one individual's different jumps\n",
    "\n",
    "df[df['uid'] == '9b0b36c9-b1c0-444e-8708-e2751915a587-1']"
   ],
   "metadata": {
    "collapsed": false
   }
  },
  {
   "cell_type": "code",
   "execution_count": 11,
   "outputs": [
    {
     "data": {
      "text/plain": "Empty DataFrame\nColumns: [uid, localtime, lat, lng, loc, h_s, dur, holiday_s, weekday_s, seq, cluster]\nIndex: []",
      "text/html": "<div>\n<style scoped>\n    .dataframe tbody tr th:only-of-type {\n        vertical-align: middle;\n    }\n\n    .dataframe tbody tr th {\n        vertical-align: top;\n    }\n\n    .dataframe thead th {\n        text-align: right;\n    }\n</style>\n<table border=\"1\" class=\"dataframe\">\n  <thead>\n    <tr style=\"text-align: right;\">\n      <th></th>\n      <th>uid</th>\n      <th>localtime</th>\n      <th>lat</th>\n      <th>lng</th>\n      <th>loc</th>\n      <th>h_s</th>\n      <th>dur</th>\n      <th>holiday_s</th>\n      <th>weekday_s</th>\n      <th>seq</th>\n      <th>cluster</th>\n    </tr>\n  </thead>\n  <tbody>\n  </tbody>\n</table>\n</div>"
     },
     "execution_count": 11,
     "metadata": {},
     "output_type": "execute_result"
    }
   ],
   "source": [
    "df[df['uid'] == '9b0b36c9-b1c0-444e-8708-e2751915a587-2']"
   ],
   "metadata": {
    "collapsed": false
   }
  },
  {
   "cell_type": "markdown",
   "source": [
    "## Drop individuals with only one cluster"
   ],
   "metadata": {
    "collapsed": false
   }
  },
  {
   "cell_type": "code",
   "execution_count": 12,
   "outputs": [],
   "source": [
    "cluster_count = df.groupby('uid')['cluster'].nunique().reset_index(name='cluster_count')\n",
    "\n",
    "ppl_with_more_cluster = cluster_count['uid'][cluster_count.cluster_count>1].tolist()\n",
    "\n",
    "df = df[df['uid'].isin(ppl_with_more_cluster)]"
   ],
   "metadata": {
    "collapsed": false
   }
  },
  {
   "cell_type": "markdown",
   "source": [
    "## Intersect MAD data and DeSO data"
   ],
   "metadata": {
    "collapsed": false
   }
  },
  {
   "cell_type": "code",
   "execution_count": 13,
   "outputs": [],
   "source": [
    "gdf = geopandas.GeoDataFrame(df, geometry=geopandas.points_from_xy(df.lng, df.lat), crs=\"EPSG:4326\")"
   ],
   "metadata": {
    "collapsed": false
   }
  },
  {
   "cell_type": "code",
   "execution_count": 14,
   "outputs": [
    {
     "name": "stdout",
     "output_type": "stream",
     "text": [
      "PROJCS[\"SWEREF99 TM\",GEOGCS[\"SWEREF99\",DATUM[\"SWEREF99\",SPHEROID[\"GRS 1980\",6378137,298.257222101,AUTHORITY[\"EPSG\",\"7019\"]],AUTHORITY[\"EPSG\",\"6619\"]],PRIMEM[\"Greenwich\",0],UNIT[\"Degree\",0.0174532925199433]],PROJECTION[\"Transverse_Mercator\"],PARAMETER[\"latitude_of_origin\",0],PARAMETER[\"central_meridian\",15],PARAMETER[\"scale_factor\",0.9996],PARAMETER[\"false_easting\",500000],PARAMETER[\"false_northing\",0],UNIT[\"metre\",1,AUTHORITY[\"EPSG\",\"9001\"]],AXIS[\"Easting\",EAST],AXIS[\"Northing\",NORTH],AUTHORITY[\"EPSG\",\"3006\"]]\n",
      "epsg:4326\n"
     ]
    }
   ],
   "source": [
    "DeSO = geopandas.read_file(f'C:/Synthetic_population_new/caglar/synthetic_sweden/input/deso_statistik_shp/Bef_Kon_region.shp')\n",
    "\n",
    "print(DeSO.crs)\n",
    "\n",
    "DeSO.to_crs(4326, inplace=True)\n",
    "print(DeSO.crs)"
   ],
   "metadata": {
    "collapsed": false
   }
  },
  {
   "cell_type": "code",
   "execution_count": 15,
   "outputs": [
    {
     "name": "stdout",
     "output_type": "stream",
     "text": [
      "Stops outside Sweden:  26235\n"
     ]
    }
   ],
   "source": [
    "gdf = gdf.sjoin(DeSO[['Deso','geometry']], how=\"left\")\n",
    "\n",
    "gdf.drop(\"index_right\", axis=1, inplace=True)\n",
    "#out of sweden\n",
    "print('Stops outside Sweden: ', len(gdf[gdf['Deso'].isna()]))\n",
    "\n",
    "gdf = gdf.dropna(subset=['Deso'])\n",
    "\n",
    "df = pd.DataFrame(gdf.drop(columns='geometry'))\n"
   ],
   "metadata": {
    "collapsed": false
   }
  },
  {
   "cell_type": "markdown",
   "source": [
    "## Drop individuals with only one cluster"
   ],
   "metadata": {
    "collapsed": false
   }
  },
  {
   "cell_type": "code",
   "execution_count": 16,
   "outputs": [],
   "source": [
    "cluster_count = df.groupby('uid')['cluster'].nunique().reset_index(name='cluster_count')\n",
    "\n",
    "ppl_with_more_cluster = cluster_count['uid'][cluster_count.cluster_count>1].tolist()\n",
    "\n",
    "df = df[df['uid'].isin(ppl_with_more_cluster)]"
   ],
   "metadata": {
    "collapsed": false
   }
  },
  {
   "cell_type": "markdown",
   "source": [
    "## Calculate mean of clusters and snap to the closest building"
   ],
   "metadata": {
    "collapsed": false
   }
  },
  {
   "cell_type": "code",
   "execution_count": 17,
   "outputs": [],
   "source": [
    "\n",
    "df_cluster = df.groupby(['uid','cluster'])[['lat','lng']].mean().reset_index()\n"
   ],
   "metadata": {
    "collapsed": false
   }
  },
  {
   "cell_type": "markdown",
   "source": [
    "## Snap the cluster centre to the closest building."
   ],
   "metadata": {
    "collapsed": false
   }
  },
  {
   "cell_type": "code",
   "execution_count": 18,
   "outputs": [],
   "source": [
    "# building_point = geopandas.read_file(f'C:/Synthetic_population_new/caglar/synthetic_sweden/input/Geodatabase.gdb', layer= 'Buildings_SpatJ_SU_1km_DESO_poi_wgs84')\n",
    "#\n",
    "# building_point = pd.DataFrame(building_point[['TARGET_FID','ANDAMAL_1',\n",
    "#        'Deso', 'KNKOD',  'POINT_X_sweref99',\n",
    "#        'POINT_Y_sweref99', 'POINT_X', 'POINT_Y']])\n",
    "# building_point = building_point[building_point.ANDAMAL_1 != 699]\n",
    "# building_point.rename(columns={'POINT_Y': 'lat', 'POINT_X': 'lng'}, inplace=True)"
   ],
   "metadata": {
    "collapsed": false
   }
  },
  {
   "cell_type": "code",
   "execution_count": 19,
   "outputs": [],
   "source": [
    "#HERE\n",
    "# df_cluster.to_parquet(f'./dbs/intermediate/df_cluster.parquet')\n",
    "# building_point.to_parquet(f'./dbs/intermediate/building_point.parquet')\n"
   ],
   "metadata": {
    "collapsed": false
   }
  },
  {
   "cell_type": "code",
   "execution_count": 20,
   "outputs": [],
   "source": [
    "# df_cluster = pd.read_parquet(f'./dbs/intermediate/df_cluster.parquet')\n",
    "building_point = pd.read_parquet(f'./dbs/intermediate/building_point.parquet')\n"
   ],
   "metadata": {
    "collapsed": false
   }
  },
  {
   "cell_type": "code",
   "execution_count": 21,
   "outputs": [],
   "source": [
    "from lib.nearest_point import nearest_neighbor"
   ],
   "metadata": {
    "collapsed": false
   }
  },
  {
   "cell_type": "code",
   "execution_count": 22,
   "outputs": [],
   "source": [
    "closest_build = nearest_neighbor(df_cluster, building_point, return_dist=True)\n"
   ],
   "metadata": {
    "collapsed": false
   }
  },
  {
   "cell_type": "code",
   "execution_count": 23,
   "outputs": [],
   "source": [
    "closest_build= closest_build[['TARGET_FID', 'ANDAMAL_1', 'Deso', 'KNKOD', 'POINT_X_sweref99','POINT_Y_sweref99', 'lat', 'lng', 'distance']]\n",
    "\n",
    "closest_build.rename(columns={'lat':'building_lat', 'lng':'building_lng'}, inplace=True)\n",
    "\n",
    "df_cluster = df_cluster.join(closest_build)\n"
   ],
   "metadata": {
    "collapsed": false
   }
  },
  {
   "cell_type": "code",
   "execution_count": 24,
   "outputs": [],
   "source": [
    "df_cluster= df_cluster[['uid', 'cluster', 'lat', 'lng', 'TARGET_FID',\n",
    "       'ANDAMAL_1', 'Deso', 'KNKOD', 'building_lng', 'building_lat', 'distance']]\n",
    "\n",
    "df_cluster.rename(columns={'lat':'cluster_lat', 'lng':'cluster_lng'}, inplace=True)\n",
    "\n"
   ],
   "metadata": {
    "collapsed": false
   }
  },
  {
   "cell_type": "markdown",
   "source": [
    "### If the distance between the closest building and the cluster centre is more than 200m, use the coordinates of the cluster."
   ],
   "metadata": {
    "collapsed": false
   }
  },
  {
   "cell_type": "code",
   "execution_count": 25,
   "outputs": [],
   "source": [
    "#HERE\n",
    "\n",
    "df_cluster.cluster_lat = np.where(df_cluster['distance'] <= 0.2 , df_cluster.building_lat, df_cluster.cluster_lat)\n",
    "\n",
    "df_cluster.cluster_lng = np.where(df_cluster['distance'] <= 0.2 , df_cluster.building_lng, df_cluster.cluster_lng)\n",
    "\n",
    "df_cluster.ANDAMAL_1 = np.where(df_cluster['distance'] >= 0.2 , 0, df_cluster.ANDAMAL_1)"
   ],
   "metadata": {
    "collapsed": false
   }
  },
  {
   "cell_type": "code",
   "execution_count": 26,
   "outputs": [
    {
     "data": {
      "text/plain": "133    0.230937\n130    0.228191\n499    0.160465\n0      0.083065\n399    0.060628\n799    0.034647\n299    0.034392\n319    0.027255\n304    0.017052\n131    0.014822\n132    0.014560\n240    0.011195\n318    0.009246\n247    0.008453\n135    0.008140\n317    0.006458\n313    0.006379\n253    0.005812\n310    0.005229\n320    0.004017\n307    0.003062\n599    0.002518\n199    0.002365\n311    0.002234\n242    0.002126\n301    0.002123\n249    0.001852\n246    0.001851\n321    0.001376\n315    0.001289\n303    0.001089\n314    0.001072\n309    0.000955\n302    0.000936\n243    0.000907\n306    0.000652\n324    0.000638\n248    0.000454\n252    0.000297\n308    0.000266\n316    0.000220\n322    0.000197\n305    0.000161\n312    0.000160\n251    0.000127\n250    0.000086\n245    0.000028\n241    0.000012\n244    0.000003\nName: ANDAMAL_1, dtype: float64"
     },
     "execution_count": 26,
     "metadata": {},
     "output_type": "execute_result"
    }
   ],
   "source": [
    "df_cluster.ANDAMAL_1.value_counts(normalize=True)"
   ],
   "metadata": {
    "collapsed": false
   }
  },
  {
   "cell_type": "code",
   "execution_count": 27,
   "outputs": [],
   "source": [
    "\n",
    "df = pd.merge(df, df_cluster[['uid', 'cluster', 'cluster_lat', 'cluster_lng', 'building_lat','building_lng', 'ANDAMAL_1', 'distance']], on=['uid', 'cluster'], how='left' )"
   ],
   "metadata": {
    "collapsed": false
   }
  },
  {
   "cell_type": "code",
   "execution_count": 28,
   "outputs": [],
   "source": [
    "#HERE\n",
    "df.to_parquet(f'./dbs/intermediate/stops_1_new.parquet')\n"
   ],
   "metadata": {
    "collapsed": false
   }
  },
  {
   "cell_type": "code",
   "execution_count": 28,
   "outputs": [],
   "source": [],
   "metadata": {
    "collapsed": false
   }
  }
 ],
 "metadata": {
  "kernelspec": {
   "display_name": "Python 3",
   "language": "python",
   "name": "python3"
  },
  "language_info": {
   "codemirror_mode": {
    "name": "ipython",
    "version": 2
   },
   "file_extension": ".py",
   "mimetype": "text/x-python",
   "name": "python",
   "nbconvert_exporter": "python",
   "pygments_lexer": "ipython2",
   "version": "2.7.6"
  }
 },
 "nbformat": 4,
 "nbformat_minor": 0
}
