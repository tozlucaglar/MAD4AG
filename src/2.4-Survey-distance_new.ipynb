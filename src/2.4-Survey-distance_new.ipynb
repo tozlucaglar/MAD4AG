{
 "cells": [
  {
   "cell_type": "code",
   "execution_count": 1,
   "metadata": {
    "collapsed": true
   },
   "outputs": [
    {
     "name": "stdout",
     "output_type": "stream",
     "text": [
      "C:\\MAD4AG\n"
     ]
    }
   ],
   "source": [
    "%load_ext autoreload\n",
    "%autoreload 2\n",
    "%cd C:\\MAD4AG\n",
    "%matplotlib inline"
   ]
  },
  {
   "cell_type": "code",
   "execution_count": 2,
   "outputs": [
    {
     "name": "stderr",
     "output_type": "stream",
     "text": [
      "C:\\Users\\aglar\\AppData\\Local\\anaconda3\\envs\\pycharm\\lib\\site-packages\\geopandas\\_compat.py:115: UserWarning: The Shapely GEOS version (3.11.1-CAPI-1.17.1) is incompatible with the GEOS version PyGEOS was compiled with (3.10.4-CAPI-1.16.2). Conversions between both will be slow.\n",
      "  shapely_geos_version, geos_capi_version_string\n"
     ]
    }
   ],
   "source": [
    "import pandas as pd\n",
    "import numpy as np\n",
    "from tqdm import tqdm\n",
    "from datetime import datetime\n",
    "import matplotlib.pyplot as plt\n",
    "import geopandas"
   ],
   "metadata": {
    "collapsed": false
   }
  },
  {
   "cell_type": "code",
   "execution_count": 3,
   "outputs": [
    {
     "name": "stderr",
     "output_type": "stream",
     "text": [
      "C:\\Users\\aglar\\AppData\\Local\\anaconda3\\envs\\pycharm\\lib\\site-packages\\IPython\\core\\interactiveshell.py:3457: DtypeWarning: Columns (181,370,379) have mixed types.Specify dtype option on import or set low_memory=False.\n",
      "  exec(code_obj, self.user_global_ns, self.user_ns)\n"
     ]
    },
    {
     "name": "stdout",
     "output_type": "stream",
     "text": [
      "The number of people=  38258\n"
     ]
    }
   ],
   "source": [
    "dataf_mddr1116 = pd.read_csv('dbs/travel_survey_se_deso/se_rvu_distribution_mdre1116_deso.csv', dtype = {'d_a_kl' : 'Int32', 'd_b_kl' : 'Int32', 'd_a_pkt' : 'Int32', 'd_a_sve': 'Int32', 'd_b_sve': 'Int32','h_a_lan': 'Int32','h_b_lan': 'Int32'}, delimiter=',',  encoding='latin-1')\n",
    "\n",
    "\n",
    "print('The number of people= ', len(dataf_mddr1116.uenr.unique()))"
   ],
   "metadata": {
    "collapsed": false
   }
  },
  {
   "cell_type": "code",
   "execution_count": 4,
   "outputs": [],
   "source": [
    "variables_dict = {\"uenr\":\"sub_id\", \"bost_lan\":\"home_county\", 'aplats':'employee',\n",
    "                  'bost_komk':'home_municipality',\n",
    "                   \"arb_komk\":'workplace_municipality',\n",
    "                  \"arb_fard\":\"commute_mode\",\"arb_km\":\"commute_distance\", \"arb_lan\":\"workplace_county\",\"arb_tid\":\"commute_time\",\n",
    "                  \"i_datum\":\"date\", \"uedag\":\"day_of_week\", \"h_nummer\":\"trip_id\", \"d_nummer\":\"trip_main_id\", \"r_nummer\":\"trip_seg_id\",\n",
    "                  \"d_ford\":\"trip_main_mode\", \"d_km\":\"distance_main\", \"d_restid\":\"tt_main\", \"d_areall\":\"trip_purpose_main\",\n",
    "                  \"d_a_sve\":\"origin_main_domestic\",\"d_b_sve\":\"desti_main_domestic\",\n",
    "                  'd_a_kl':\"origin_main_time\", 'd_b_kl': \"desti_main_time\",\n",
    "                  \"r_ford\":\"trip_seg_mode\", \"r_km\":\"distance_seg\", # , \"r_restid\":\"tt_seg\"\n",
    "                  \"h_a_kl\":\"origin_time\", \"h_a_lan\":\"origin_county\", \"h_b_kl\":\"desti_time\",\n",
    "                  \"h_b_lan\":\"desti_county\", \"h_km\":\"distance\", \"h_restid\":\"tt\",\n",
    "                  \"h_ford\":\"mode\", \"h_are\":\"trip_purpose\",\n",
    "                  \"vikt\":\"trip_weight\", \"vikt_k\":\"sub_weight\",\n",
    "                  'd_a_deso':\"origin_main_deso\", 'd_b_deso':\"desti_main_deso\",\n",
    "                  'd_a_komk':\"origin_main_municipality\", 'd_b_komk':\"desti_main_municipality\",\n",
    "                  'h_a_deso':\"origin_deso\", 'h_b_deso':\"desti_deso\",\n",
    "                  'arb_deso':'workplace_deso', 'bost_deso':'home_deso', 'd_a_pkt':'origin_act_typ','d_b_pkt':'desti_act_typ'}"
   ],
   "metadata": {
    "collapsed": false
   }
  },
  {
   "cell_type": "code",
   "execution_count": 5,
   "outputs": [],
   "source": [
    "dataf_mddr1116= dataf_mddr1116.rename(columns=variables_dict)\n",
    "dataf_mddr1116 =  dataf_mddr1116.sort_values(['sub_id', 'trip_id','trip_main_id', 'trip_seg_id'])"
   ],
   "metadata": {
    "collapsed": false
   }
  },
  {
   "cell_type": "code",
   "execution_count": 6,
   "outputs": [
    {
     "name": "stdout",
     "output_type": "stream",
     "text": [
      "The number of people having a weekday activities=  24453\n"
     ]
    }
   ],
   "source": [
    "#select individuals based on days of a week (consider only weekdays)\n",
    "\n",
    "dataf_mddr1116 = dataf_mddr1116[dataf_mddr1116.day_of_week.isin([1,2,3,4,5])]\n",
    "\n",
    "# drop people less than 18 years old, keep only adults\n",
    "\n",
    "dataf_mddr1116= dataf_mddr1116[dataf_mddr1116.age>17]\n",
    "\n",
    "print('The number of people having a weekday activities= ', len(dataf_mddr1116.sub_id.unique()))"
   ],
   "metadata": {
    "collapsed": false
   }
  },
  {
   "cell_type": "code",
   "execution_count": 7,
   "outputs": [],
   "source": [
    "selected_columns = list(variables_dict.values())\n",
    "selected_columns = ['sub_id', 'employee',\n",
    " 'trip_id',\n",
    " 'trip_main_id',\n",
    " 'origin_main_time',\n",
    " 'desti_main_time',\n",
    " 'origin_act_typ',\n",
    " 'desti_act_typ',\n",
    " 'origin_main_domestic',\n",
    " 'desti_main_domestic',\n",
    " 'origin_main_deso',\n",
    " 'desti_main_deso',\n",
    " 'origin_main_municipality',\n",
    " 'desti_main_municipality',\n",
    " 'origin_county',\n",
    " 'desti_county',\n",
    " 'home_deso',\n",
    " 'home_county',\n",
    " 'home_municipality',\n",
    " 'trip_weight',\n",
    " 'sub_weight', \"distance\", \"distance_main\", \"distance_seg\",\"commute_distance\"\n",
    " ]"
   ],
   "metadata": {
    "collapsed": false
   }
  },
  {
   "cell_type": "code",
   "execution_count": 8,
   "outputs": [],
   "source": [
    "dataf_mddr1116= dataf_mddr1116[selected_columns]"
   ],
   "metadata": {
    "collapsed": false
   }
  },
  {
   "cell_type": "markdown",
   "source": [
    "### calculate 99th percentile of the travel distances"
   ],
   "metadata": {
    "collapsed": false
   }
  },
  {
   "cell_type": "code",
   "execution_count": 9,
   "outputs": [
    {
     "data": {
      "text/plain": "204.51199999999955"
     },
     "execution_count": 9,
     "metadata": {},
     "output_type": "execute_result"
    }
   ],
   "source": [
    "dataf_mddr1116_per = dataf_mddr1116.copy()\n",
    "dataf_mddr1116_per['distance_seg'] = dataf_mddr1116_per['distance_seg'].fillna(0)\n",
    "null_main_dist = dataf_mddr1116_per[dataf_mddr1116_per.distance_main.isnull()].index\n",
    "\n",
    "# sum the distances in segments of the main trip\n",
    "dataf_mddr1116_seg = dataf_mddr1116_per[dataf_mddr1116_per.index.isin(null_main_dist)].groupby(['sub_id', 'trip_id', 'trip_main_id'])['distance_seg'].sum()\n",
    "dataf_mddr1116_seg = dataf_mddr1116_seg.reset_index()\n",
    "\n",
    "# drop trip legs, keep only main trips\n",
    "dataf_mddr1116_per = dataf_mddr1116_per.drop_duplicates(['sub_id', 'trip_id', 'trip_main_id'])\n",
    "\n",
    "# write the sum of segment distances to the main trip distance if it is null\n",
    "dataf_mddr1116_per['distance_main'][dataf_mddr1116_per.index.isin(null_main_dist)] = dataf_mddr1116_seg['distance_seg'].values\n",
    "\n",
    "\n",
    "dataf_mddr1116_per = dataf_mddr1116_per[dataf_mddr1116_per.distance_main > 0]\n",
    "dataf_mddr1116_per.distance_main.quantile(0.99)"
   ],
   "metadata": {
    "collapsed": false
   }
  },
  {
   "cell_type": "markdown",
   "source": [
    "### calculate avg distance between home and all activity types\n",
    "### calculate commuting distance"
   ],
   "metadata": {
    "collapsed": false
   }
  },
  {
   "cell_type": "code",
   "execution_count": 10,
   "outputs": [],
   "source": [
    "# drop trip legs, keep only main trips\n",
    "\n",
    "dataf_mddr1116 = dataf_mddr1116.drop_duplicates(['sub_id','trip_id','trip_main_id'])"
   ],
   "metadata": {
    "collapsed": false
   }
  },
  {
   "cell_type": "code",
   "execution_count": 11,
   "outputs": [],
   "source": [
    "# adjust the activity types\n",
    "\n",
    "dataf_mddr1116['origin_act_typ'].replace([2, 3, 9], 1, inplace=True)\n",
    "dataf_mddr1116['desti_act_typ'].replace([2, 3, 9], 1, inplace=True)\n",
    "\n",
    "\n",
    "dataf_mddr1116['origin_act_typ'].replace([5], 4, inplace=True)\n",
    "dataf_mddr1116['desti_act_typ'].replace([5], 4, inplace=True)"
   ],
   "metadata": {
    "collapsed": false
   }
  },
  {
   "cell_type": "code",
   "execution_count": 12,
   "outputs": [],
   "source": [
    "# copy deso information from home deso column, if main deso is null\n",
    "\n",
    "dataf_mddr1116['desti_main_deso'][dataf_mddr1116.desti_main_deso.isnull()] = np.where(dataf_mddr1116['desti_main_deso'][dataf_mddr1116.desti_main_deso.isnull()] , dataf_mddr1116['home_deso'][dataf_mddr1116.desti_main_deso.isnull()], dataf_mddr1116['desti_main_deso'][dataf_mddr1116.desti_main_deso.isnull()])"
   ],
   "metadata": {
    "collapsed": false
   }
  },
  {
   "cell_type": "code",
   "execution_count": 13,
   "outputs": [],
   "source": [
    "# concat the home information from destination and origin points\n",
    "\n",
    "dataf_ppl = dataf_mddr1116[['sub_id','desti_main_deso', 'desti_act_typ']][dataf_mddr1116.desti_act_typ == 1]\n",
    "\n",
    "dataf_ppl = dataf_ppl.rename(columns={'desti_main_deso':'origin_main_deso', 'desti_act_typ':'origin_act_typ'})"
   ],
   "metadata": {
    "collapsed": false
   }
  },
  {
   "cell_type": "code",
   "execution_count": 14,
   "outputs": [],
   "source": [
    "dataf_ppl = pd.concat([dataf_ppl,dataf_mddr1116[['sub_id','origin_main_deso', 'origin_act_typ']][dataf_mddr1116.origin_act_typ == 1]])\n",
    "\n",
    "\n",
    "dataf_ppl = dataf_ppl.drop_duplicates(subset= ['sub_id'])"
   ],
   "metadata": {
    "collapsed": false
   }
  },
  {
   "cell_type": "code",
   "execution_count": 15,
   "outputs": [],
   "source": [
    "# drop individuals if the home deso column is null\n",
    "\n",
    "ppl_no_residence = dataf_ppl['sub_id'][dataf_ppl.origin_main_deso.isnull()].unique()\n",
    "\n",
    "dataf_ppl = dataf_ppl[~(dataf_ppl.sub_id.isin(ppl_no_residence))]"
   ],
   "metadata": {
    "collapsed": false
   }
  },
  {
   "cell_type": "code",
   "execution_count": 16,
   "outputs": [],
   "source": [
    "# concat activity information from destination and origin points\n",
    "\n",
    "\n",
    "dataf_ppl_dest = dataf_mddr1116[['sub_id','origin_main_deso', 'origin_act_typ']][dataf_mddr1116.origin_act_typ != 1]\n",
    "\n",
    "\n",
    "dataf_ppl_dest = dataf_ppl_dest.rename(columns={'origin_main_deso':'desti_main_deso', 'origin_act_typ':'desti_act_typ'})"
   ],
   "metadata": {
    "collapsed": false
   }
  },
  {
   "cell_type": "code",
   "execution_count": 17,
   "outputs": [],
   "source": [
    "dataf_ppl_dest = pd.concat([dataf_ppl_dest,dataf_mddr1116[['sub_id','desti_main_deso', 'desti_act_typ']][dataf_mddr1116.desti_act_typ != 1]])\n",
    "\n",
    "dataf_ppl_dest = dataf_ppl_dest.drop_duplicates(subset= ['sub_id','desti_act_typ', 'desti_main_deso'])"
   ],
   "metadata": {
    "collapsed": false
   }
  },
  {
   "cell_type": "code",
   "execution_count": 18,
   "outputs": [],
   "source": [
    "# merge home and all activity type tables by id\n",
    "\n",
    "dataf_ppl = pd.merge(dataf_ppl, dataf_ppl_dest, on='sub_id', how='left')\n",
    "\n",
    "dataf_ppl = dataf_ppl[['sub_id', 'origin_act_typ', 'desti_act_typ', 'origin_main_deso', 'desti_main_deso']]"
   ],
   "metadata": {
    "collapsed": false
   }
  },
  {
   "cell_type": "code",
   "execution_count": 19,
   "outputs": [],
   "source": [
    "# drop columns if deso and activity type is null\n",
    "\n",
    "dataf_ppl= dataf_ppl.dropna(subset=[\"desti_act_typ\", 'desti_main_deso'])"
   ],
   "metadata": {
    "collapsed": false
   }
  },
  {
   "cell_type": "code",
   "execution_count": 20,
   "outputs": [
    {
     "data": {
      "text/plain": "17633"
     },
     "execution_count": 20,
     "metadata": {},
     "output_type": "execute_result"
    }
   ],
   "source": [
    "len(dataf_ppl['sub_id'].unique())"
   ],
   "metadata": {
    "collapsed": false
   }
  },
  {
   "cell_type": "code",
   "execution_count": 21,
   "outputs": [],
   "source": [
    "# read the deso data with distances between the zones\n",
    "\n",
    "\n",
    "df_dist_DeSO= pd.read_pickle(r'.\\dbs\\intermediate\\df_DeSO_dist.pkl')"
   ],
   "metadata": {
    "collapsed": false
   }
  },
  {
   "cell_type": "code",
   "execution_count": 22,
   "outputs": [],
   "source": [
    "# bring distance information to the activity table\n",
    "\n",
    "dataf_ppl = pd.merge(dataf_ppl, df_dist_DeSO, left_on=['origin_main_deso', 'desti_main_deso'], right_on=['origin_deso', 'desti_deso'], how='left')"
   ],
   "metadata": {
    "collapsed": false
   }
  },
  {
   "cell_type": "code",
   "execution_count": 23,
   "outputs": [],
   "source": [
    "#calculate avg distance between home and all activity types in an individual schedule\n",
    "\n",
    "dataf_ppl_dist = dataf_ppl.groupby('sub_id')['distance'].median().reset_index().rename(columns={'distance':'avg_dist'})"
   ],
   "metadata": {
    "collapsed": false
   }
  },
  {
   "cell_type": "code",
   "execution_count": 24,
   "outputs": [],
   "source": [
    "dataf_ppl = pd.merge(dataf_ppl, dataf_ppl_dist, on=['sub_id'], how='left')"
   ],
   "metadata": {
    "collapsed": false
   }
  },
  {
   "cell_type": "code",
   "execution_count": 25,
   "outputs": [],
   "source": [
    "#calculate the commute distance\n",
    "\n",
    "dataf_ppl_commute = dataf_ppl[(dataf_ppl.origin_act_typ==1)&(dataf_ppl.desti_act_typ==4)]\n",
    "dataf_ppl_commute = dataf_ppl_commute[['sub_id', 'distance']].rename(columns={'distance':'com_distance'})\n",
    "dataf_ppl_commute['commute']=1"
   ],
   "metadata": {
    "collapsed": false
   }
  },
  {
   "cell_type": "code",
   "execution_count": 26,
   "outputs": [],
   "source": [
    "dataf_ppl = pd.merge(dataf_ppl, dataf_ppl_commute, on=['sub_id'], how='left')\n",
    "\n",
    "dataf_ppl['commute'].fillna(0, inplace=True)\n",
    "\n",
    "dataf_ppl['commute']= dataf_ppl['commute'].astype(int)"
   ],
   "metadata": {
    "collapsed": false
   }
  },
  {
   "cell_type": "code",
   "execution_count": 27,
   "outputs": [],
   "source": [
    "# add employee column\n",
    "\n",
    "dataf_ppl = pd.merge(dataf_ppl, dataf_mddr1116[['sub_id', 'employee']].drop_duplicates(subset='sub_id'), on=['sub_id'], how='left')"
   ],
   "metadata": {
    "collapsed": false
   }
  },
  {
   "cell_type": "code",
   "execution_count": 28,
   "outputs": [],
   "source": [
    "dataf_ppl = pd.merge(dataf_ppl, dataf_mddr1116[['sub_id','commute_distance']].drop_duplicates(subset='sub_id'), on=['sub_id'], how='left')"
   ],
   "metadata": {
    "collapsed": false
   }
  },
  {
   "cell_type": "code",
   "execution_count": 29,
   "outputs": [],
   "source": [
    "dataf_ppl['commute_distance']=dataf_ppl['commute_distance']*1000"
   ],
   "metadata": {
    "collapsed": false
   }
  },
  {
   "cell_type": "code",
   "execution_count": 30,
   "outputs": [
    {
     "name": "stderr",
     "output_type": "stream",
     "text": [
      "C:\\Users\\aglar\\AppData\\Local\\anaconda3\\envs\\pycharm\\lib\\site-packages\\ipykernel_launcher.py:1: SettingWithCopyWarning: \n",
      "A value is trying to be set on a copy of a slice from a DataFrame\n",
      "\n",
      "See the caveats in the documentation: https://pandas.pydata.org/pandas-docs/stable/user_guide/indexing.html#returning-a-view-versus-a-copy\n",
      "  \"\"\"Entry point for launching an IPython kernel.\n"
     ]
    }
   ],
   "source": [
    "dataf_ppl['com_distance'][(dataf_ppl.employee==1)&(dataf_ppl.com_distance.isnull())] = dataf_ppl['commute_distance'][(dataf_ppl.employee==1)&(dataf_ppl.com_distance.isnull())]\n"
   ],
   "metadata": {
    "collapsed": false
   }
  },
  {
   "cell_type": "code",
   "execution_count": 31,
   "outputs": [],
   "source": [
    "dataf_ppl.drop_duplicates(subset=['sub_id'], inplace=True)\n"
   ],
   "metadata": {
    "collapsed": false
   }
  },
  {
   "cell_type": "code",
   "execution_count": 32,
   "outputs": [
    {
     "data": {
      "text/plain": "11462"
     },
     "execution_count": 32,
     "metadata": {},
     "output_type": "execute_result"
    }
   ],
   "source": [
    "len(dataf_ppl[(dataf_ppl.employee==1)&(dataf_ppl.com_distance.notnull())])"
   ],
   "metadata": {
    "collapsed": false
   }
  },
  {
   "cell_type": "code",
   "execution_count": 33,
   "outputs": [
    {
     "data": {
      "text/plain": "792"
     },
     "execution_count": 33,
     "metadata": {},
     "output_type": "execute_result"
    }
   ],
   "source": [
    "len(dataf_ppl[(dataf_ppl.employee==1)&(dataf_ppl.com_distance.isnull())])\n"
   ],
   "metadata": {
    "collapsed": false
   }
  },
  {
   "cell_type": "code",
   "execution_count": 34,
   "outputs": [
    {
     "name": "stderr",
     "output_type": "stream",
     "text": [
      "C:\\Users\\aglar\\AppData\\Local\\anaconda3\\envs\\pycharm\\lib\\site-packages\\ipykernel_launcher.py:1: SettingWithCopyWarning: \n",
      "A value is trying to be set on a copy of a slice from a DataFrame\n",
      "\n",
      "See the caveats in the documentation: https://pandas.pydata.org/pandas-docs/stable/user_guide/indexing.html#returning-a-view-versus-a-copy\n",
      "  \"\"\"Entry point for launching an IPython kernel.\n"
     ]
    }
   ],
   "source": [
    "dataf_ppl['com_distance'][(dataf_ppl.employee==1)] = dataf_ppl['com_distance'][(dataf_ppl.employee==1)].fillna(dataf_ppl['com_distance'][(dataf_ppl.employee==1)].median())\n"
   ],
   "metadata": {
    "collapsed": false
   }
  },
  {
   "cell_type": "code",
   "execution_count": 35,
   "outputs": [],
   "source": [
    "dataf_ppl= dataf_ppl[['sub_id', 'origin_main_deso', 'avg_dist','employee', 'commute', 'com_distance']]"
   ],
   "metadata": {
    "collapsed": false
   }
  },
  {
   "cell_type": "code",
   "execution_count": 36,
   "outputs": [],
   "source": [
    "dataf_ppl.to_pickle(r'.\\dbs\\intermediate\\df_survey_dist.pkl')\n"
   ],
   "metadata": {
    "collapsed": false
   }
  },
  {
   "cell_type": "code",
   "execution_count": 29,
   "outputs": [],
   "source": [],
   "metadata": {
    "collapsed": false
   }
  }
 ],
 "metadata": {
  "kernelspec": {
   "display_name": "Python 3",
   "language": "python",
   "name": "python3"
  },
  "language_info": {
   "codemirror_mode": {
    "name": "ipython",
    "version": 2
   },
   "file_extension": ".py",
   "mimetype": "text/x-python",
   "name": "python",
   "nbconvert_exporter": "python",
   "pygments_lexer": "ipython2",
   "version": "2.7.6"
  }
 },
 "nbformat": 4,
 "nbformat_minor": 0
}
