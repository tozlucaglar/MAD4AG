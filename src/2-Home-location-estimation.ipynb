{
 "cells": [
  {
   "cell_type": "code",
   "execution_count": 1,
   "metadata": {
    "collapsed": true
   },
   "outputs": [
    {
     "name": "stdout",
     "output_type": "stream",
     "text": [
      "C:\\MAD4AG\n"
     ]
    }
   ],
   "source": [
    "%load_ext autoreload\n",
    "%autoreload 2\n",
    "%cd C:\\MAD4AG\n",
    "%matplotlib inline"
   ]
  },
  {
   "cell_type": "code",
   "execution_count": 2,
   "outputs": [],
   "source": [
    "import pandas as pd\n",
    "import numpy as np\n",
    "import matplotlib.pyplot as plt\n",
    "from tqdm.auto import tqdm\n",
    "\n",
    "import warnings\n",
    "\n",
    "warnings.filterwarnings('ignore')"
   ],
   "metadata": {
    "collapsed": false
   }
  },
  {
   "cell_type": "code",
   "execution_count": 3,
   "outputs": [],
   "source": [
    "file_name = f'./dbs/intermediate/stops.parquet'\n",
    "\n",
    "#Read each batchs file\n",
    "df = pd.read_parquet(file_name)"
   ],
   "metadata": {
    "collapsed": false
   }
  },
  {
   "cell_type": "code",
   "execution_count": 4,
   "outputs": [
    {
     "name": "stdout",
     "output_type": "stream",
     "text": [
      "The number of stops:  29006512\n",
      "The number of stops in weekday and non-holiday:  13453097\n"
     ]
    }
   ],
   "source": [
    "print('The number of stops: ',len(df))\n",
    "df = df[df.holiday_s != 1]\n",
    "df = df[df.weekday_s == 1]\n",
    "df = df.drop(['holiday_s', 'weekday_s'], axis=1)\n",
    "\n",
    "print('The number of stops in weekday and non-holiday: ', len(df))\n"
   ],
   "metadata": {
    "collapsed": false
   }
  },
  {
   "cell_type": "markdown",
   "source": [
    "### repeat each row (stop) based on stay duration.\n",
    "### e.g., if stay in a stop longer than 30 min, make two stops"
   ],
   "metadata": {
    "collapsed": false
   }
  },
  {
   "cell_type": "code",
   "execution_count": 5,
   "outputs": [],
   "source": [
    "df_stop = df.copy()"
   ],
   "metadata": {
    "collapsed": false
   }
  },
  {
   "cell_type": "code",
   "execution_count": 6,
   "outputs": [],
   "source": [
    "df_stop['dur_rp'] = (df_stop['dur'] / 30) + 1\n",
    "df_stop['dur_rp'] = df_stop['dur_rp'].astype(int)"
   ],
   "metadata": {
    "collapsed": false
   }
  },
  {
   "cell_type": "code",
   "execution_count": 7,
   "outputs": [],
   "source": [
    "df_stop = pd.DataFrame(np.repeat(df_stop.values, df_stop['dur_rp'].tolist(), axis=0),  columns=df_stop.columns)\n",
    "\n",
    "df_stop.drop(['dur_rp'],inplace=True, axis=1)"
   ],
   "metadata": {
    "collapsed": false
   }
  },
  {
   "cell_type": "markdown",
   "source": [
    "### grouping and auto increment in index based stay"
   ],
   "metadata": {
    "collapsed": false
   }
  },
  {
   "cell_type": "code",
   "execution_count": 8,
   "outputs": [],
   "source": [
    "df_stop['stay_seq'] = df_stop.groupby(['uid', 'seq']).cumcount()"
   ],
   "metadata": {
    "collapsed": false
   }
  },
  {
   "cell_type": "code",
   "execution_count": 9,
   "outputs": [],
   "source": [
    "df_stop['timestamp'] = pd.to_datetime(df_stop['localtime']) + (pd.Timedelta(minutes=30) * df_stop['stay_seq'])"
   ],
   "metadata": {
    "collapsed": false
   }
  },
  {
   "cell_type": "code",
   "execution_count": 10,
   "outputs": [],
   "source": [
    "df_stop['hour'] = df_stop['timestamp'].dt.hour"
   ],
   "metadata": {
    "collapsed": false
   }
  },
  {
   "cell_type": "code",
   "execution_count": 11,
   "outputs": [],
   "source": [
    "#Hours with higher than 0.8 frequency of being at home in the survey data.\n",
    "\n",
    "nighthours = (0,1,2,3,4,5,6,7,19,20,21,22,23,24)\n"
   ],
   "metadata": {
    "collapsed": false
   }
  },
  {
   "cell_type": "markdown",
   "source": [
    "### number of visit for each cluster during night hours"
   ],
   "metadata": {
    "collapsed": false
   }
  },
  {
   "cell_type": "code",
   "execution_count": 12,
   "outputs": [],
   "source": [
    "df_night_visit = df_stop[['uid','cluster','localtime','hour']][df_stop.hour.isin(nighthours)]\n",
    "\n",
    "df_night_visit['night_visits']= df_night_visit['localtime'].dt.strftime('%m-%d')\n",
    "\n",
    "df_night_visit = df_night_visit.groupby(['uid','cluster'])['night_visits'].nunique().reset_index()"
   ],
   "metadata": {
    "collapsed": false
   }
  },
  {
   "cell_type": "code",
   "execution_count": 13,
   "outputs": [],
   "source": [
    "df_stop = pd.merge(df_stop, df_night_visit, on=['uid', 'cluster'], how='left')"
   ],
   "metadata": {
    "collapsed": false
   }
  },
  {
   "cell_type": "markdown",
   "source": [
    "### remove clusters having less than 2 night stay and 300 min total duration\n"
   ],
   "metadata": {
    "collapsed": false
   }
  },
  {
   "cell_type": "code",
   "execution_count": 14,
   "outputs": [],
   "source": [
    "min_night_visit=2\n",
    "\n",
    "df_h = df_stop[(df_stop.hour.isin(nighthours))&(df_stop.night_visits>=min_night_visit)]\n",
    "\n",
    "df_h = df_h.groupby(['uid','cluster'])['dur'].agg(['sum','count']).reset_index()\n",
    "\n",
    "df_h.rename({'count':'stops', 'sum':'total_duration' }, axis=1,inplace=True)\n",
    "\n",
    "#df_h = df_h[df_h['total_duration'] >= 300]"
   ],
   "metadata": {
    "collapsed": false
   }
  },
  {
   "cell_type": "markdown",
   "source": [
    "### calculate score"
   ],
   "metadata": {
    "collapsed": false
   }
  },
  {
   "cell_type": "code",
   "execution_count": 15,
   "outputs": [],
   "source": [
    "def add_individual_clusters(data):\n",
    "    # represent points consistently as (lat, lon)\n",
    "    #urban_density, hour = data[['urban_density','hour']].loc[0]\n",
    "    batch = data[['urban_density','hour']].values[0]\n",
    "\n",
    "    #print(coords[0])\n",
    "\n",
    "    home_frequency = pd.read_csv('Master Thesis/Master Thesis Colab/DataFolder/Cag_activityTypefreBytime.csv')\n",
    "    home_frequency = home_frequency.iloc[0, 1:25].values.tolist()\n",
    "\n",
    "    data['score'] = home_frequency[batch[1]]\n",
    "\n",
    "    return data"
   ],
   "metadata": {
    "collapsed": false
   }
  },
  {
   "cell_type": "code",
   "execution_count": 16,
   "outputs": [],
   "source": [
    "df_score= df_stop.copy()\n",
    "\n",
    "df_score= df_score[['uid', 'cluster', 'hour', 'Deso']]\n",
    "\n",
    "df_score['urban_density'] =df_score['Deso'].str[4]\n",
    "\n",
    "\n"
   ],
   "metadata": {
    "collapsed": false
   }
  },
  {
   "cell_type": "code",
   "execution_count": 17,
   "outputs": [
    {
     "data": {
      "text/plain": "  0%|          | 0/72 [00:00<?, ?it/s]",
      "application/vnd.jupyter.widget-view+json": {
       "version_major": 2,
       "version_minor": 0,
       "model_id": "e6aa41bfc24c46c697644b9319f1e6bd"
      }
     },
     "metadata": {},
     "output_type": "display_data"
    }
   ],
   "source": [
    "tqdm.pandas()\n",
    "df_score = df_score.groupby(['urban_density','hour']).progress_apply(add_individual_clusters)"
   ],
   "metadata": {
    "collapsed": false
   }
  },
  {
   "cell_type": "code",
   "execution_count": 18,
   "outputs": [],
   "source": [
    "df_score = df_score[df_score.hour.isin(nighthours)]\n",
    "df_score = df_score.groupby(['uid','cluster'])['score'].sum().reset_index()\n",
    "\n",
    "\n",
    "df_h = pd.merge(df_h, df_score[['uid','cluster','score']], on=['uid','cluster'], how='left')\n",
    "\n",
    "df_h = df_h[df_h['score'] >= 10]"
   ],
   "metadata": {
    "collapsed": false
   }
  },
  {
   "cell_type": "code",
   "execution_count": 19,
   "outputs": [],
   "source": [
    "# df_score= df_stop.copy()\n",
    "#\n",
    "# df_score['score'] = 0\n",
    "#\n",
    "# home_frequency = pd.read_csv('Master Thesis/Master Thesis Colab/DataFolder/Cag_activityTypefreBytime.csv')\n",
    "#\n",
    "# home_frequency = home_frequency.iloc[0, 1:25].values.tolist()\n",
    "#\n",
    "# for hour in range(0,24):\n",
    "#     df_score['score'][df_score['hour']== hour] = home_frequency[hour]\n",
    "#\n",
    "# df_score = df_score[df_score.hour.isin(nighthours)]\n",
    "# df_score = df_score.groupby(['uid','cluster'])['score'].sum().reset_index()\n",
    "#\n",
    "#\n",
    "# df_h = pd.merge(df_h, df_score[['uid','cluster','score']], on=['uid','cluster'], how='left')\n",
    "#\n",
    "# df_h = df_h[df_h['score'] >= 10]"
   ],
   "metadata": {
    "collapsed": false
   }
  },
  {
   "cell_type": "markdown",
   "source": [
    "### sort the clusters by score and keep the two highest score clusters as potential home positions"
   ],
   "metadata": {
    "collapsed": false
   }
  },
  {
   "cell_type": "code",
   "execution_count": 20,
   "outputs": [],
   "source": [
    "df_h= df_h.sort_values(['uid','score'], ascending=False)\n",
    "\n",
    "\n",
    "df_h = df_h.groupby('uid').head(2)\n",
    "\n",
    "\n",
    "df_h = pd.merge(df_h, df_stop[['uid','cluster','ANDAMAL_1']].drop_duplicates(), on=['uid','cluster'], how='left')\n",
    "#df_h['ANDAMAL_1'].value_counts(normalize=True)\n",
    "\n",
    "df_h.to_parquet(f'./dbs/intermediate/home_inference.parquet')"
   ],
   "metadata": {
    "collapsed": false
   }
  },
  {
   "cell_type": "markdown",
   "source": [
    "### Score distribution of inferred home locations"
   ],
   "metadata": {
    "collapsed": false
   }
  },
  {
   "cell_type": "code",
   "execution_count": 21,
   "outputs": [],
   "source": [
    "df_h_1 = df_h.groupby('uid').head(1)"
   ],
   "metadata": {
    "collapsed": false
   }
  },
  {
   "cell_type": "code",
   "execution_count": 22,
   "outputs": [
    {
     "data": {
      "text/plain": "<Figure size 640x480 with 1 Axes>",
      "image/png": "[encoded data removed]"
     },
     "metadata": {},
     "output_type": "display_data"
    }
   ],
   "source": [
    "plt.hist(df_h_1['score'][df_h_1['score']<=800], bins=range(0,850,50), color='skyblue', edgecolor='black', alpha=0.8)\n",
    "\n",
    "# Adding labels and title\n",
    "plt.xlabel('Score')\n",
    "plt.ylabel('Frequency')\n",
    "plt.title('Cluster Score with min '+str(min_night_visit)+' visit \\n'+\"(Max score %.2f )\"%(max(df_h_1['score'])))\n",
    "\n",
    "x_labels = range(0,850,50)  # Generate labels from 1 to 24\n",
    "x_ticks = range(0,850,50)  # Position the labels every other data point\n",
    "#plt.ylim(0, 1.1)\n",
    "plt.xticks(x_ticks, x_labels, fontsize=11)\n",
    "plt.yticks(fontsize=12)\n",
    "plt.savefig('figures/home_score_min_visit_'+str(min_night_visit)+'.png', dpi=300, bbox_inches=\"tight\")\n",
    "\n",
    "# Display the plot\n",
    "plt.show()"
   ],
   "metadata": {
    "collapsed": false
   }
  },
  {
   "cell_type": "markdown",
   "source": [
    "### Add building metadata to the extracted house location and show the distribution of building types"
   ],
   "metadata": {
    "collapsed": false
   }
  },
  {
   "cell_type": "code",
   "execution_count": 23,
   "outputs": [],
   "source": [
    "building_metadata = pd.read_csv(f'./dbs/building_purpose_codes.csv', encoding='ISO-8859-1', sep = ';')"
   ],
   "metadata": {
    "collapsed": false
   }
  },
  {
   "cell_type": "code",
   "execution_count": 24,
   "outputs": [
    {
     "data": {
      "text/plain": "  Purpose of building   share(%)\n5         Residential  72.691915\n4              Public  10.052524\n0            Activity   8.001560\n2          Industrial   3.550361\n6         no_building   3.347397\n3      Other building   2.245596\n1        Agricultural   0.110647",
      "text/html": "<div>\n<style scoped>\n    .dataframe tbody tr th:only-of-type {\n        vertical-align: middle;\n    }\n\n    .dataframe tbody tr th {\n        vertical-align: top;\n    }\n\n    .dataframe thead th {\n        text-align: right;\n    }\n</style>\n<table border=\"1\" class=\"dataframe\">\n  <thead>\n    <tr style=\"text-align: right;\">\n      <th></th>\n      <th>Purpose of building</th>\n      <th>share(%)</th>\n    </tr>\n  </thead>\n  <tbody>\n    <tr>\n      <th>5</th>\n      <td>Residential</td>\n      <td>72.691915</td>\n    </tr>\n    <tr>\n      <th>4</th>\n      <td>Public</td>\n      <td>10.052524</td>\n    </tr>\n    <tr>\n      <th>0</th>\n      <td>Activity</td>\n      <td>8.001560</td>\n    </tr>\n    <tr>\n      <th>2</th>\n      <td>Industrial</td>\n      <td>3.550361</td>\n    </tr>\n    <tr>\n      <th>6</th>\n      <td>no_building</td>\n      <td>3.347397</td>\n    </tr>\n    <tr>\n      <th>3</th>\n      <td>Other building</td>\n      <td>2.245596</td>\n    </tr>\n    <tr>\n      <th>1</th>\n      <td>Agricultural</td>\n      <td>0.110647</td>\n    </tr>\n  </tbody>\n</table>\n</div>"
     },
     "execution_count": 24,
     "metadata": {},
     "output_type": "execute_result"
    }
   ],
   "source": [
    "\n",
    "home_dist = pd.DataFrame(df_h_1['ANDAMAL_1'].value_counts(normalize=True)*100).reset_index().rename(columns={'ANDAMAL_1':'share(%)'})\n",
    "home_dist = pd.merge(home_dist, building_metadata, left_on='index', right_on='Code', how='left')\n",
    "\n",
    "home_dist['Purpose of building'][home_dist['index']==0]='no_building'\n",
    "\n",
    "\n",
    "home_dist = home_dist.groupby('Purpose of building')['share(%)'].sum().reset_index().sort_values(by=['share(%)'], ascending=False)\n",
    "\n",
    "home_dist"
   ],
   "metadata": {
    "collapsed": false
   }
  },
  {
   "cell_type": "code",
   "execution_count": 25,
   "outputs": [
    {
     "name": "stdout",
     "output_type": "stream",
     "text": [
      "Data contains 322452 devices in weekdays-non holidays.\n",
      "22398 devices' home location couldn't detected.\n"
     ]
    }
   ],
   "source": [
    "print(\"Data contains %s devices in weekdays-non holidays.\"%(len(df.uid.unique())))\n",
    "print(\"%s devices' home location couldn't detected.\"%(len(df.uid.unique())-len(df_h.groupby('uid').head(1))))"
   ],
   "metadata": {
    "collapsed": false
   }
  },
  {
   "cell_type": "markdown",
   "source": [
    "### devices having  most likely two house location"
   ],
   "metadata": {
    "collapsed": false
   }
  },
  {
   "cell_type": "code",
   "execution_count": 26,
   "outputs": [],
   "source": [
    "df_h_two_house = df_h[df_h.duplicated(subset=['uid']) | df_h.duplicated(subset=['uid'], keep='last')]\n",
    "\n",
    "df_h_two_house = df_h_two_house.sort_values(by=['uid', 'score'])"
   ],
   "metadata": {
    "collapsed": false
   }
  },
  {
   "cell_type": "code",
   "execution_count": 27,
   "outputs": [],
   "source": [
    "df_h_two_house['score_per_dif']= 0.0\n",
    "\n",
    "\n",
    "percent_dif = pd.DataFrame(( 1- (df_h_two_house['score'].values[::2]/df_h_two_house['score'].values[1::2])) , columns=['percent_dif'])\n",
    "\n",
    "df_h_two_house['score_per_dif'].values[::2] = percent_dif.percent_dif\n",
    "df_h_two_house['score_per_dif'].values[1::2] = percent_dif.percent_dif\n",
    "\n",
    "\n",
    "df_h_two_house = df_h_two_house[(df_h_two_house.score > 100)& (df_h_two_house.score_per_dif < 0.1)]\n"
   ],
   "metadata": {
    "collapsed": false
   }
  },
  {
   "cell_type": "code",
   "execution_count": 28,
   "outputs": [
    {
     "name": "stdout",
     "output_type": "stream",
     "text": [
      "2095 devices most likely have two home locations.\n"
     ]
    }
   ],
   "source": [
    "print(\"%s devices most likely have two home locations.\"%(len(df_h_two_house.uid.unique())))"
   ],
   "metadata": {
    "collapsed": false
   }
  },
  {
   "cell_type": "code",
   "execution_count": 28,
   "outputs": [],
   "source": [],
   "metadata": {
    "collapsed": false
   }
  }
 ],
 "metadata": {
  "kernelspec": {
   "display_name": "Python 3",
   "language": "python",
   "name": "python3"
  },
  "language_info": {
   "codemirror_mode": {
    "name": "ipython",
    "version": 2
   },
   "file_extension": ".py",
   "mimetype": "text/x-python",
   "name": "python",
   "nbconvert_exporter": "python",
   "pygments_lexer": "ipython2",
   "version": "2.7.6"
  }
 },
 "nbformat": 4,
 "nbformat_minor": 0
}
