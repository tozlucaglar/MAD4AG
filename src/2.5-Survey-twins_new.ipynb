{
 "cells": [
  {
   "cell_type": "code",
   "execution_count": 36,
   "metadata": {
    "collapsed": true
   },
   "outputs": [
    {
     "name": "stdout",
     "output_type": "stream",
     "text": [
      "The autoreload extension is already loaded. To reload it, use:\n",
      "  %reload_ext autoreload\n",
      "C:\\MAD4AG\n"
     ]
    }
   ],
   "source": [
    "%load_ext autoreload\n",
    "%autoreload 2\n",
    "%cd C:\\MAD4AG\n",
    "%matplotlib inline"
   ]
  },
  {
   "cell_type": "code",
   "execution_count": 37,
   "outputs": [],
   "source": [
    "import pandas as pd\n",
    "import numpy as np\n",
    "import matplotlib.pyplot as plt\n",
    "from tqdm.auto import tqdm\n",
    "from collections import Counter\n",
    "\n",
    "\n",
    "import warnings\n",
    "\n",
    "warnings.filterwarnings('ignore')"
   ],
   "metadata": {
    "collapsed": false
   }
  },
  {
   "cell_type": "code",
   "execution_count": 38,
   "outputs": [],
   "source": [
    "df_survey_act= pd.read_pickle(f'./dbs/survey_act_weekday.pkl')\n",
    "df_survey_dist= pd.read_pickle(f'./dbs/intermediate/df_survey_dist.pkl')\n",
    "\n"
   ],
   "metadata": {
    "collapsed": false
   }
  },
  {
   "cell_type": "code",
   "execution_count": 39,
   "outputs": [],
   "source": [
    "# dataf_mddr1116 = pd.read_csv('dbs/travel_survey_se_deso/se_rvu_distribution_mdre1116_deso.csv', delimiter=',',  encoding='latin-1')\n",
    "#\n",
    "# dataf_mddr1116= dataf_mddr1116.rename(columns={\"uenr\":\"sub_id\",  'aplats':'employee'})\n",
    "#\n",
    "# dataf_mddr1116= dataf_mddr1116[[\"sub_id\",  'employee']]\n",
    "# dataf_mddr1116.drop_duplicates(subset=\"sub_id\", inplace=True)\n"
   ],
   "metadata": {
    "collapsed": false
   }
  },
  {
   "cell_type": "code",
   "execution_count": 40,
   "outputs": [
    {
     "data": {
      "text/plain": "(Home, Work, Home)                                                                         3789\n(Home, Other, Home)                                                                        3767\n(Home, Home)                                                                               1231\n(Home, Other, Home, Other, Home)                                                            976\n(Home, Other, Other, Home)                                                                  902\n                                                                                           ... \n(Home, Other, Other, Other, Work, Other, Other, Other, Work, Other, Other, Other, Home)       1\n(Home, Other, Work, Other, Work, Other, Other, Other, Home, Other, Home)                      1\n(Home, Other, Other, Work, Other, Work, Other, Home)                                          1\n(Home, Other, Home, Other, Other, Work, Home)                                                 1\n(Home, Home, Home, Home, Other, Home, Home, Home)                                             1\nName: act_seq, Length: 993, dtype: int64"
     },
     "execution_count": 40,
     "metadata": {},
     "output_type": "execute_result"
    }
   ],
   "source": [
    "# create tuple showing all activities of an individual\n",
    "\n",
    "df_survey_ppl= df_survey_act.groupby('sub_id')['purpose'].apply(tuple).reset_index(name='act_seq')\n",
    "\n",
    "df_survey_ppl.act_seq.value_counts(normalize=False)"
   ],
   "metadata": {
    "collapsed": false
   }
  },
  {
   "cell_type": "code",
   "execution_count": 41,
   "outputs": [],
   "source": [
    "# find the unique activities from the activity tuple\n",
    "\n",
    "# def unique_activities(data):\n",
    "#     act_tuple = data['act_seq']\n",
    "#     data['act_uniq'] = tuple(Counter(act_tuple).keys())\n",
    "#     # this will take only unique numbers from the tuple\n",
    "#     return data\n",
    "#\n",
    "# tqdm.pandas()\n",
    "# df_survey_ppl= df_survey_ppl.apply(lambda row: unique_activities(row) , axis=1 )\n",
    "#\n",
    "# df_survey_ppl.act_uniq.value_counts()"
   ],
   "metadata": {
    "collapsed": false
   }
  },
  {
   "cell_type": "markdown",
   "source": [
    "### simplify the activity sequences\n",
    "- If the consecutive activities in the sequences are the same type of anchor activity (Home, Work, School), keep only one of these.\n",
    "- If there are more than three consecutive Other activities, keep 3 of them.\n"
   ],
   "metadata": {
    "collapsed": false
   }
  },
  {
   "cell_type": "code",
   "execution_count": 42,
   "outputs": [
    {
     "data": {
      "text/plain": "(Home, Other, Home)                                                  0.217591\n(Home, Work, Home)                                                   0.208939\n(Home,)                                                              0.077524\n(Home, Other, Home, Other, Home)                                     0.054979\n(Home, Other, Other, Home)                                           0.051023\n                                                                       ...   \n(Home, Other, Work, Other, Work, Home, Work, Other, Home)            0.000049\n(Home, Other, Other, Other, Work, Other, Work, Other, Work, Home)    0.000049\n(Home, Other, Other, School, Other, Home)                            0.000049\n(Home, Work, Home, Work, Other, Home, Other, Home)                   0.000049\n(Home, Other, School, Home, Other, Home, Other, Home)                0.000049\nName: act_seq_simp, Length: 529, dtype: float64"
     },
     "execution_count": 42,
     "metadata": {},
     "output_type": "execute_result"
    }
   ],
   "source": [
    "\n",
    "def act_seq_simplifier(data):\n",
    "    alist = list(data['act_seq'])\n",
    "    counter = 0\n",
    "    for i in range(len(alist) - 1, 0, -1):\n",
    "        if alist[i] in ['Home', 'Work', 'School']:\n",
    "            counter = 0\n",
    "            if alist[i] == alist[i-1]:\n",
    "                del alist[i]\n",
    "        elif alist[i] == 'Other':\n",
    "            counter += 1\n",
    "            if counter > 3:\n",
    "                del alist[i]\n",
    "    data['act_seq_simp'] = tuple(alist)\n",
    "    return data\n",
    "\n",
    "tqdm.pandas()\n",
    "df_survey_ppl = df_survey_ppl.apply(lambda row: act_seq_simplifier(row), axis=1)\n",
    "\n",
    "df_survey_ppl.act_seq_simp.value_counts(normalize=True)"
   ],
   "metadata": {
    "collapsed": false
   }
  },
  {
   "cell_type": "code",
   "execution_count": 43,
   "outputs": [],
   "source": [
    "# remove individuals having only home activity\n",
    "df_survey_ppl = df_survey_ppl[df_survey_ppl.act_seq_simp != ('Home',)]\n",
    "\n",
    "#df_survey_ppl.act_seq_simp.value_counts(normalize=True)"
   ],
   "metadata": {
    "collapsed": false
   }
  },
  {
   "cell_type": "markdown",
   "source": [
    "## bring the distance information"
   ],
   "metadata": {
    "collapsed": false
   }
  },
  {
   "cell_type": "code",
   "execution_count": 44,
   "outputs": [],
   "source": [
    "# bring the distance information\n",
    "\n",
    "df_survey_ppl = pd.merge(df_survey_ppl, df_survey_dist, on='sub_id', how='left')\n",
    "\n",
    "df_survey_ppl = df_survey_ppl[df_survey_ppl.avg_dist.notnull()]\n",
    "\n",
    "df_survey_ppl['commute']= df_survey_ppl['commute'].astype(int)"
   ],
   "metadata": {
    "collapsed": false
   }
  },
  {
   "cell_type": "code",
   "execution_count": 45,
   "outputs": [],
   "source": [
    "df_survey_ppl['employee']= df_survey_ppl['employee'].astype(int)\n"
   ],
   "metadata": {
    "collapsed": false
   }
  },
  {
   "cell_type": "code",
   "execution_count": 46,
   "outputs": [],
   "source": [
    "df_survey_ppl['county']= df_survey_ppl['origin_main_deso'].str[:2]\n",
    "\n",
    "df_survey_ppl['urban_density']= df_survey_ppl['origin_main_deso'].str[4]"
   ],
   "metadata": {
    "collapsed": false
   }
  },
  {
   "cell_type": "code",
   "execution_count": 47,
   "outputs": [],
   "source": [
    "#df_survey_ppl.act_seq_simp.value_counts(normalize=True)"
   ],
   "metadata": {
    "collapsed": false
   }
  },
  {
   "cell_type": "code",
   "execution_count": 48,
   "outputs": [
    {
     "name": "stdout",
     "output_type": "stream",
     "text": [
      "share of people participating work activity:  0.52\n"
     ]
    }
   ],
   "source": [
    "print('share of people participating work activity: ', np.round(df_survey_ppl.commute.sum()/len(df_survey_ppl),2))"
   ],
   "metadata": {
    "collapsed": false
   }
  },
  {
   "cell_type": "code",
   "execution_count": 49,
   "outputs": [
    {
     "name": "stdout",
     "output_type": "stream",
     "text": [
      "share of employee:  0.7\n"
     ]
    }
   ],
   "source": [
    "#df_survey_ppl = pd.merge(df_survey_ppl, dataf_mddr1116, on='sub_id', how='left')\n",
    "\n",
    "# assigin all people participating work activity as employee (there are 13 ppl not employee but participate work)\n",
    "df_survey_ppl['employee'][(df_survey_ppl.employee==0)&(df_survey_ppl.commute==1)]=1\n",
    "\n",
    "\n",
    "print('share of employee: ', np.round(df_survey_ppl.employee.sum()/len(df_survey_ppl),2))\n",
    "\n"
   ],
   "metadata": {
    "collapsed": false
   }
  },
  {
   "cell_type": "code",
   "execution_count": 50,
   "outputs": [],
   "source": [
    "df_survey_ppl = df_survey_ppl[['sub_id', 'origin_main_deso', 'employee',\n",
    "       'commute', 'act_seq', 'act_seq_simp', 'avg_dist', 'com_distance', 'county', 'urban_density']]\n",
    "\n",
    "\n"
   ],
   "metadata": {
    "collapsed": false
   }
  },
  {
   "cell_type": "code",
   "execution_count": 51,
   "outputs": [],
   "source": [
    "df_survey_ppl['modified'] = 0\n",
    "\n",
    "df_survey_ppl['modified'][df_survey_ppl['act_seq']!=df_survey_ppl['act_seq_simp']]=1"
   ],
   "metadata": {
    "collapsed": false
   }
  },
  {
   "cell_type": "code",
   "execution_count": 52,
   "outputs": [
    {
     "name": "stdout",
     "output_type": "stream",
     "text": [
      "the share of the simplified activity sequence:  0.15\n"
     ]
    }
   ],
   "source": [
    "print('the share of the simplified activity sequence: ',np.round((df_survey_ppl['modified'].sum())/ len(df_survey_ppl),2))"
   ],
   "metadata": {
    "collapsed": false
   }
  },
  {
   "cell_type": "code",
   "execution_count": 53,
   "outputs": [],
   "source": [
    "df_survey_ppl.to_pickle(r'.\\dbs\\intermediate\\df_survey_twins.pkl')"
   ],
   "metadata": {
    "collapsed": false
   }
  },
  {
   "cell_type": "code",
   "execution_count": null,
   "outputs": [],
   "source": [],
   "metadata": {
    "collapsed": false
   }
  }
 ],
 "metadata": {
  "kernelspec": {
   "display_name": "Python 3",
   "language": "python",
   "name": "python3"
  },
  "language_info": {
   "codemirror_mode": {
    "name": "ipython",
    "version": 2
   },
   "file_extension": ".py",
   "mimetype": "text/x-python",
   "name": "python",
   "nbconvert_exporter": "python",
   "pygments_lexer": "ipython2",
   "version": "2.7.6"
  }
 },
 "nbformat": 4,
 "nbformat_minor": 0
}
