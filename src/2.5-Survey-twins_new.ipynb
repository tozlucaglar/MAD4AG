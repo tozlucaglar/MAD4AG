{
 "cells": [
  {
   "cell_type": "code",
   "execution_count": 55,
   "metadata": {
    "collapsed": true
   },
   "outputs": [
    {
     "name": "stdout",
     "output_type": "stream",
     "text": [
      "The autoreload extension is already loaded. To reload it, use:\n",
      "  %reload_ext autoreload\n",
      "C:\\MAD4AG\n"
     ]
    }
   ],
   "source": [
    "%load_ext autoreload\n",
    "%autoreload 2\n",
    "%cd C:\\MAD4AG\n",
    "%matplotlib inline"
   ]
  },
  {
   "cell_type": "code",
   "execution_count": 56,
   "outputs": [],
   "source": [
    "import pandas as pd\n",
    "import numpy as np\n",
    "import matplotlib.pyplot as plt\n",
    "from tqdm.auto import tqdm\n",
    "from collections import Counter\n",
    "\n",
    "\n",
    "import warnings\n",
    "\n",
    "warnings.filterwarnings('ignore')"
   ],
   "metadata": {
    "collapsed": false
   }
  },
  {
   "cell_type": "code",
   "execution_count": 57,
   "outputs": [],
   "source": [
    "df_survey_act= pd.read_pickle(f'./dbs/survey_act_weekday.pkl')\n",
    "df_survey_dist= pd.read_pickle(f'./dbs/intermediate/df_survey_dist.pkl')\n",
    "\n"
   ],
   "metadata": {
    "collapsed": false
   }
  },
  {
   "cell_type": "code",
   "execution_count": 59,
   "outputs": [
    {
     "data": {
      "text/plain": "Home     48786\nOther    26241\nWork     11985\nName: purpose, dtype: int64"
     },
     "execution_count": 59,
     "metadata": {},
     "output_type": "execute_result"
    }
   ],
   "source": [
    "df_survey_act['purpose']= df_survey_act['purpose'].replace({'School':'Work'})\n",
    "df_survey_act['purpose'].value_counts()"
   ],
   "metadata": {
    "collapsed": false
   }
  },
  {
   "cell_type": "code",
   "execution_count": 60,
   "outputs": [
    {
     "data": {
      "text/plain": "(Home, Work, Home)                                                        4138\n(Home, Other, Home)                                                       3767\n(Home, Home)                                                              1231\n(Home, Other, Home, Other, Home)                                           976\n(Home, Work, Home, Other, Home)                                            937\n                                                                          ... \n(Home, Other, Home, Other, Other, Work, Home)                                1\n(Home, Work, Other, Work, Other, Home, Other, Home, Other, Home)             1\n(Home, Other, Other, Other, Home, Home, Other, Home, Other, Home)            1\n(Home, Work, Other, Work, Home, Other, Home, Other, Home, Other, Home)       1\n(Home, Home, Home, Home, Other, Home, Home, Home)                            1\nName: act_seq, Length: 911, dtype: int64"
     },
     "execution_count": 60,
     "metadata": {},
     "output_type": "execute_result"
    }
   ],
   "source": [
    "# create tuple showing all activities of an individual\n",
    "\n",
    "df_survey_ppl= df_survey_act.groupby('sub_id')['purpose'].apply(tuple).reset_index(name='act_seq')\n",
    "\n",
    "df_survey_ppl.act_seq.value_counts(normalize=False)"
   ],
   "metadata": {
    "collapsed": false
   }
  },
  {
   "cell_type": "code",
   "execution_count": 29,
   "outputs": [],
   "source": [
    "# find the unique activities from the activity tuple\n",
    "\n",
    "# def unique_activities(data):\n",
    "#     act_tuple = data['act_seq']\n",
    "#     data['act_uniq'] = tuple(Counter(act_tuple).keys())\n",
    "#     # this will take only unique numbers from the tuple\n",
    "#     return data\n",
    "#\n",
    "# tqdm.pandas()\n",
    "# df_survey_ppl= df_survey_ppl.apply(lambda row: unique_activities(row) , axis=1 )\n",
    "#\n",
    "# df_survey_ppl.act_uniq.value_counts()"
   ],
   "metadata": {
    "collapsed": false
   }
  },
  {
   "cell_type": "markdown",
   "source": [
    "### simplify the activity sequences\n",
    "- If the consecutive activities in the sequences are the same type of anchor activity (Home, Work, School), keep only one of these.\n",
    "- If there are more than three consecutive Other activities, keep 3 of them.\n"
   ],
   "metadata": {
    "collapsed": false
   }
  },
  {
   "cell_type": "code",
   "execution_count": 61,
   "outputs": [],
   "source": [
    "\n",
    "def act_seq_simplifier(data):\n",
    "    alist = list(data['act_seq'])\n",
    "    counter = 0\n",
    "    for i in range(len(alist) - 1, 0, -1):\n",
    "        if alist[i] in ['Home', 'Work']:\n",
    "            counter = 0\n",
    "            if alist[i] == alist[i-1]:\n",
    "                del alist[i]\n",
    "        elif alist[i] == 'Other':\n",
    "            counter += 1\n",
    "            if counter > 3:\n",
    "                del alist[i]\n",
    "    data['act_seq_simp'] = tuple(alist)\n",
    "    return data\n",
    "\n",
    "tqdm.pandas()\n",
    "df_survey_ppl = df_survey_ppl.apply(lambda row: act_seq_simplifier(row), axis=1)\n",
    "\n",
    "#df_survey_ppl.act_seq_simp.value_counts(normalize=True)"
   ],
   "metadata": {
    "collapsed": false
   }
  },
  {
   "cell_type": "code",
   "execution_count": 62,
   "outputs": [
    {
     "data": {
      "text/plain": "(Home, Work, Home)                                                                              0.247561\n(Home, Other, Home)                                                                             0.235877\n(Home, Other, Home, Other, Home)                                                                0.059599\n(Home, Other, Other, Home)                                                                      0.055311\n(Home, Work, Home, Other, Home)                                                                 0.053489\n                                                                                                  ...   \n(Home, Other, Other, Work, Other, Other, Home, Other, Other, Other, Home)                       0.000054\n(Home, Work, Other, Other, Other, Work, Other, Work, Home, Other, Home)                         0.000054\n(Home, Other, Other, Home, Other, Home, Other, Other, Home, Other, Other, Home, Other, Home)    0.000054\n(Home, Other, Home, Other, Other, Other, Work, Home)                                            0.000054\n(Home, Other, Other, Other, Home, Other, Home, Other, Other, Home, Other, Home)                 0.000054\nName: act_seq_simp, Length: 457, dtype: float64"
     },
     "execution_count": 62,
     "metadata": {},
     "output_type": "execute_result"
    }
   ],
   "source": [
    "# remove individuals having only home activity\n",
    "df_survey_ppl = df_survey_ppl[df_survey_ppl.act_seq_simp != ('Home',)]\n",
    "\n",
    "df_survey_ppl.act_seq_simp.value_counts(normalize=True)"
   ],
   "metadata": {
    "collapsed": false
   }
  },
  {
   "cell_type": "markdown",
   "source": [
    "## bring the distance information"
   ],
   "metadata": {
    "collapsed": false
   }
  },
  {
   "cell_type": "code",
   "execution_count": 63,
   "outputs": [],
   "source": [
    "# bring the distance information\n",
    "\n",
    "df_survey_ppl = pd.merge(df_survey_ppl, df_survey_dist, on='sub_id', how='left')\n",
    "\n",
    "df_survey_ppl = df_survey_ppl[df_survey_ppl.avg_dist.notnull()]\n",
    "\n",
    "df_survey_ppl['commute']= df_survey_ppl['commute'].astype(int)"
   ],
   "metadata": {
    "collapsed": false
   }
  },
  {
   "cell_type": "code",
   "execution_count": 64,
   "outputs": [],
   "source": [
    "df_survey_ppl['employee']= df_survey_ppl['employee'].astype(int)\n"
   ],
   "metadata": {
    "collapsed": false
   }
  },
  {
   "cell_type": "code",
   "execution_count": 66,
   "outputs": [],
   "source": [
    "df_survey_ppl['county']= df_survey_ppl['origin_main_deso'].str[:2]\n",
    "\n",
    "df_survey_ppl['urban_density']= df_survey_ppl['origin_main_deso'].str[4]"
   ],
   "metadata": {
    "collapsed": false
   }
  },
  {
   "cell_type": "code",
   "execution_count": 67,
   "outputs": [],
   "source": [
    "#df_survey_ppl.act_seq_simp.value_counts(normalize=True)"
   ],
   "metadata": {
    "collapsed": false
   }
  },
  {
   "cell_type": "code",
   "execution_count": 68,
   "outputs": [
    {
     "name": "stdout",
     "output_type": "stream",
     "text": [
      "share of people participating work activity:  0.55\n"
     ]
    }
   ],
   "source": [
    "print('share of people participating work activity: ', np.round(df_survey_ppl.commute.sum()/len(df_survey_ppl),2))"
   ],
   "metadata": {
    "collapsed": false
   }
  },
  {
   "cell_type": "code",
   "execution_count": 69,
   "outputs": [
    {
     "name": "stdout",
     "output_type": "stream",
     "text": [
      "share of employee:  0.75\n"
     ]
    }
   ],
   "source": [
    "#df_survey_ppl = pd.merge(df_survey_ppl, dataf_mddr1116, on='sub_id', how='left')\n",
    "\n",
    "# assigin all people participating work activity as employee (there are 13 ppl not employee but participate work)\n",
    "df_survey_ppl['employee'][(df_survey_ppl.employee==0)&(df_survey_ppl.commute==1)]=1\n",
    "\n",
    "\n",
    "print('share of employee: ', np.round(df_survey_ppl.employee.sum()/len(df_survey_ppl),2))\n",
    "\n"
   ],
   "metadata": {
    "collapsed": false
   }
  },
  {
   "cell_type": "code",
   "execution_count": 70,
   "outputs": [],
   "source": [
    "df_survey_ppl = df_survey_ppl[['sub_id', 'origin_main_deso', 'employee',\n",
    "       'commute', 'act_seq', 'act_seq_simp', 'avg_dist', 'com_distance', 'county', 'urban_density']]\n",
    "\n",
    "\n"
   ],
   "metadata": {
    "collapsed": false
   }
  },
  {
   "cell_type": "code",
   "execution_count": 71,
   "outputs": [],
   "source": [
    "df_survey_ppl['modified'] = 0\n",
    "\n",
    "df_survey_ppl['modified'][df_survey_ppl['act_seq']!=df_survey_ppl['act_seq_simp']]=1"
   ],
   "metadata": {
    "collapsed": false
   }
  },
  {
   "cell_type": "code",
   "execution_count": 72,
   "outputs": [
    {
     "name": "stdout",
     "output_type": "stream",
     "text": [
      "the share of the simplified activity sequence:  0.15\n"
     ]
    }
   ],
   "source": [
    "print('the share of the simplified activity sequence: ',np.round((df_survey_ppl['modified'].sum())/ len(df_survey_ppl),2))"
   ],
   "metadata": {
    "collapsed": false
   }
  },
  {
   "cell_type": "code",
   "execution_count": 73,
   "outputs": [],
   "source": [
    "df_survey_ppl.to_pickle(r'.\\dbs\\intermediate\\df_survey_twins.pkl')"
   ],
   "metadata": {
    "collapsed": false
   }
  },
  {
   "cell_type": "code",
   "execution_count": null,
   "outputs": [],
   "source": [],
   "metadata": {
    "collapsed": false
   }
  }
 ],
 "metadata": {
  "kernelspec": {
   "display_name": "Python 3",
   "language": "python",
   "name": "python3"
  },
  "language_info": {
   "codemirror_mode": {
    "name": "ipython",
    "version": 2
   },
   "file_extension": ".py",
   "mimetype": "text/x-python",
   "name": "python",
   "nbconvert_exporter": "python",
   "pygments_lexer": "ipython2",
   "version": "2.7.6"
  }
 },
 "nbformat": 4,
 "nbformat_minor": 0
}
