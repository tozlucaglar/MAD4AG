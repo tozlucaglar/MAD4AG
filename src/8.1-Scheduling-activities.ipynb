{
 "cells": [
  {
   "cell_type": "code",
   "execution_count": 1,
   "metadata": {
    "collapsed": true
   },
   "outputs": [
    {
     "name": "stdout",
     "output_type": "stream",
     "text": [
      "C:\\MAD4AG\n"
     ]
    }
   ],
   "source": [
    "%load_ext autoreload\n",
    "%autoreload 2\n",
    "\n",
    "\n",
    "%matplotlib inline\n",
    "%cd C:\\MAD4AG\n",
    "\n",
    "from tqdm.auto import tqdm\n",
    "import os\n",
    "import pandas as pd\n",
    "import numpy as np\n",
    "import matplotlib.pyplot as plt\n",
    "import warnings\n",
    "\n",
    "warnings.filterwarnings('ignore')"
   ]
  },
  {
   "cell_type": "code",
   "execution_count": 2,
   "outputs": [],
   "source": [
    "filename = r'.\\dbs\\twins\\multiple_days_03-15.pkl'\n",
    "\n",
    "combined_df= pd.read_pickle(filename)\n",
    "#combined_df.columns\n"
   ],
   "metadata": {
    "collapsed": false
   }
  },
  {
   "cell_type": "code",
   "execution_count": 3,
   "outputs": [],
   "source": [
    "df_clusters=pd.read_parquet(f'./dbs/intermediate/df_selected_clusters_activities.parquet')"
   ],
   "metadata": {
    "collapsed": false
   }
  },
  {
   "cell_type": "code",
   "execution_count": 4,
   "outputs": [],
   "source": [
    "df_survey_act = pd.read_pickle(f'./dbs/intermediate/survey_act_weekday_modified.pkl')"
   ],
   "metadata": {
    "collapsed": false
   }
  },
  {
   "cell_type": "markdown",
   "source": [
    "## generate activity schedule for simulation #1\n",
    "- by merging survey activity sequence table\n",
    "- the survey activity sequence table brings activity sequences and activity start end times"
   ],
   "metadata": {
    "collapsed": false
   }
  },
  {
   "cell_type": "code",
   "execution_count": 5,
   "outputs": [],
   "source": [
    "day = '0'"
   ],
   "metadata": {
    "collapsed": false
   }
  },
  {
   "cell_type": "code",
   "execution_count": 6,
   "outputs": [],
   "source": [
    "df_act_schedule_0 = pd.merge(combined_df[['uid', 'employee', 'Deso', 'wt', 'wt_p', 'sub_id_'+day,'act_seq_simp_'+day]], df_survey_act[['sub_id', 'purpose','h_s','h_e']], left_on='sub_id_'+day,right_on='sub_id')\n",
    "\n",
    "df_act_schedule_0['act_seq'] = df_act_schedule_0.groupby('uid').cumcount()\n",
    "\n",
    "# replace school activities with work activity\n",
    "df_act_schedule_0['purpose']= df_act_schedule_0['purpose'].replace({'School': 'Work'})"
   ],
   "metadata": {
    "collapsed": false
   }
  },
  {
   "cell_type": "markdown",
   "source": [
    "### add sequence information of other activities"
   ],
   "metadata": {
    "collapsed": false
   }
  },
  {
   "cell_type": "code",
   "execution_count": 7,
   "outputs": [],
   "source": [
    "df_act_schedule_0['other_order']= 0\n",
    "\n",
    "df_act_schedule_0['other_order'][df_act_schedule_0.purpose=='Other'] = df_act_schedule_0[df_act_schedule_0.purpose=='Other'].groupby('uid').cumcount()\n",
    "\n",
    "df_act_schedule_0['other_order']=df_act_schedule_0['other_order'].astype(str)\n",
    "\n",
    "df_act_schedule_0['purpose'][df_act_schedule_0.purpose=='Other']= df_act_schedule_0['purpose'][df_act_schedule_0.purpose=='Other'] + df_act_schedule_0['other_order'][df_act_schedule_0.purpose=='Other']\n",
    "\n",
    "df_act_schedule_0.drop(columns=['other_order'] ,inplace=True)\n"
   ],
   "metadata": {
    "collapsed": false
   }
  },
  {
   "cell_type": "code",
   "execution_count": 7,
   "outputs": [],
   "source": [],
   "metadata": {
    "collapsed": false
   }
  },
  {
   "cell_type": "markdown",
   "source": [
    "## re-organise df_cluster table by the other activities order and repetition"
   ],
   "metadata": {
    "collapsed": false
   }
  },
  {
   "cell_type": "code",
   "execution_count": 8,
   "outputs": [],
   "source": [
    "df_clusters_0 = df_clusters[['uid','cluster','other_clusters_'+day,'selection_'+day, 'X','Y']][df_clusters.selection_0 != 'non']"
   ],
   "metadata": {
    "collapsed": false
   }
  },
  {
   "cell_type": "code",
   "execution_count": 9,
   "outputs": [],
   "source": [
    "df_clusters_0_other = df_clusters_0[df_clusters_0['selection_'+day] =='Other']\n",
    "\n",
    "\n",
    "df_other_org = df_clusters_0_other[['uid', 'other_clusters_'+day]]\n",
    "df_other_org= df_other_org.drop_duplicates(subset='uid')\n"
   ],
   "metadata": {
    "collapsed": false
   }
  },
  {
   "cell_type": "code",
   "execution_count": 10,
   "outputs": [],
   "source": [
    "# it will transform each element of the list in the cloumn 'other_cluster_O' to a row.\n",
    "\n",
    "df_other_org = df_other_org.explode('other_clusters_'+day)\n",
    "\n",
    "df_other_org.rename(columns={'other_clusters_'+day:'cluster'}, inplace=True)\n",
    "\n",
    "df_other_org['other_order'] = df_other_org.groupby('uid').cumcount()"
   ],
   "metadata": {
    "collapsed": false
   }
  },
  {
   "cell_type": "code",
   "execution_count": 11,
   "outputs": [],
   "source": [
    "df_other_org = pd.merge(df_other_org, df_clusters_0_other, on=['uid', 'cluster'],how='left')\n",
    "\n",
    "# add sequence information of other activities\n",
    "\n",
    "df_other_org['other_order'] = df_other_org['other_order'].astype(str)\n",
    "\n",
    "df_other_org['selection_'+day]= df_other_org['selection_'+day]+ df_other_org['other_order']\n",
    "\n",
    "df_other_org.drop(columns=['other_order'] ,inplace=True)"
   ],
   "metadata": {
    "collapsed": false
   }
  },
  {
   "cell_type": "code",
   "execution_count": 12,
   "outputs": [],
   "source": [
    "df_clusters_0 = df_clusters_0[df_clusters_0['selection_'+day] !='Other']"
   ],
   "metadata": {
    "collapsed": false
   }
  },
  {
   "cell_type": "code",
   "execution_count": 13,
   "outputs": [],
   "source": [
    "df_clusters_0 = pd.concat([df_clusters_0, df_other_org], ignore_index=True)"
   ],
   "metadata": {
    "collapsed": false
   }
  },
  {
   "cell_type": "code",
   "execution_count": 14,
   "outputs": [],
   "source": [
    "df_clusters_0.drop(columns=['other_clusters_'+day] ,inplace=True)"
   ],
   "metadata": {
    "collapsed": false
   }
  },
  {
   "cell_type": "markdown",
   "source": [],
   "metadata": {
    "collapsed": false
   }
  },
  {
   "cell_type": "code",
   "execution_count": 15,
   "outputs": [],
   "source": [
    "df_act_schedule_0 = pd.merge(df_act_schedule_0, df_clusters_0, left_on=['uid','purpose'],right_on=['uid','selection_'+day], how='left')"
   ],
   "metadata": {
    "collapsed": false
   }
  },
  {
   "cell_type": "code",
   "execution_count": 16,
   "outputs": [],
   "source": [
    "df_act_schedule_0.drop(columns=['selection_'+day] ,inplace=True)\n"
   ],
   "metadata": {
    "collapsed": false
   }
  },
  {
   "cell_type": "code",
   "execution_count": 17,
   "outputs": [],
   "source": [
    "file = r'.\\dbs\\twins\\%s-schedule-%s.pkl'%(filename[26:31],day)\n",
    "\n",
    "df_act_schedule_0.to_pickle(file)"
   ],
   "metadata": {
    "collapsed": false
   }
  },
  {
   "cell_type": "code",
   "execution_count": 17,
   "outputs": [],
   "source": [],
   "metadata": {
    "collapsed": false
   }
  },
  {
   "cell_type": "code",
   "execution_count": null,
   "outputs": [],
   "source": [
    "# df_act_schedule = pd.DataFrame(combined_df.act_seq_simp_0.tolist(), index=combined_df['uid'])\n",
    "#\n",
    "# df_act_schedule = df_act_schedule.stack()\n",
    "#\n",
    "# df_act_schedule = pd.DataFrame(df_act_schedule)\n",
    "#\n",
    "# df_act_schedule = df_act_schedule.reset_index()\n",
    "#\n",
    "# df_act_schedule = df_act_schedule.rename(columns={'level_0': 'PId', 'level_1': 'act_id', 0: 'act_purpose'})"
   ],
   "metadata": {
    "collapsed": false
   }
  }
 ],
 "metadata": {
  "kernelspec": {
   "display_name": "Python 3",
   "language": "python",
   "name": "python3"
  },
  "language_info": {
   "codemirror_mode": {
    "name": "ipython",
    "version": 2
   },
   "file_extension": ".py",
   "mimetype": "text/x-python",
   "name": "python",
   "nbconvert_exporter": "python",
   "pygments_lexer": "ipython2",
   "version": "2.7.6"
  }
 },
 "nbformat": 4,
 "nbformat_minor": 0
}
