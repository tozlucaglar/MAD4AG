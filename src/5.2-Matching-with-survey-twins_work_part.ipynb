{
 "cells": [
  {
   "cell_type": "code",
   "execution_count": 1,
   "metadata": {
    "collapsed": true
   },
   "outputs": [
    {
     "name": "stdout",
     "output_type": "stream",
     "text": [
      "C:\\MAD4AG\n"
     ]
    }
   ],
   "source": [
    "%load_ext autoreload\n",
    "%autoreload 2\n",
    "%cd C:\\MAD4AG\n",
    "%matplotlib inline"
   ]
  },
  {
   "cell_type": "code",
   "execution_count": 2,
   "outputs": [],
   "source": [
    "import pandas as pd\n",
    "import numpy as np\n",
    "import matplotlib.pyplot as plt\n",
    "from tqdm.auto import tqdm\n",
    "\n",
    "\n",
    "\n",
    "import warnings\n",
    "\n",
    "warnings.filterwarnings('ignore')"
   ],
   "metadata": {
    "collapsed": false
   }
  },
  {
   "cell_type": "code",
   "execution_count": 3,
   "outputs": [],
   "source": [
    "df_MAD = pd.read_parquet(f'./dbs/intermediate/indi_weights_distance.parquet')"
   ],
   "metadata": {
    "collapsed": false
   }
  },
  {
   "cell_type": "code",
   "execution_count": 4,
   "outputs": [],
   "source": [
    "df_survey_twins = pd.read_pickle(f'./dbs/intermediate/df_survey_twins.pkl')\n"
   ],
   "metadata": {
    "collapsed": false
   }
  },
  {
   "cell_type": "markdown",
   "source": [
    "# add region information"
   ],
   "metadata": {
    "collapsed": false
   }
  },
  {
   "cell_type": "code",
   "execution_count": 5,
   "outputs": [],
   "source": [
    "lan= pd.read_csv(f'./dbs/lan.csv', delimiter=';', dtype={'code':'string'})\n",
    "lan.rename(columns={'code':'county', 'landsdelar':'region'},inplace=True)\n",
    "\n",
    "df_MAD = pd.merge(df_MAD, lan[['county','region']], on='county')\n",
    "df_survey_twins = pd.merge(df_survey_twins, lan[['county','region']], on='county')\n"
   ],
   "metadata": {
    "collapsed": false
   }
  },
  {
   "cell_type": "markdown",
   "source": [
    "# calculate median distance"
   ],
   "metadata": {
    "collapsed": false
   }
  },
  {
   "cell_type": "code",
   "execution_count": 6,
   "outputs": [],
   "source": [
    "avg_dist_threshold = df_survey_twins.avg_dist.median()\n",
    "com_dist_threshold = df_survey_twins.com_distance.median()\n"
   ],
   "metadata": {
    "collapsed": false
   }
  },
  {
   "cell_type": "markdown",
   "source": [
    "# create stratum"
   ],
   "metadata": {
    "collapsed": false
   }
  },
  {
   "cell_type": "code",
   "execution_count": 7,
   "outputs": [],
   "source": [
    "df_MAD['region'] = df_MAD['region'].replace({'Svealand':'0','Göteland':'1', 'Norrland':'2'})\n",
    "\n",
    "df_MAD['urban_density'] = df_MAD['urban_density'].replace({'A': '0', 'B': '1', 'C': '1'})\n",
    "\n",
    "df_MAD['avg_dist_cat'] = '0'\n",
    "df_MAD['avg_dist_cat'][df_MAD.avg_dist > avg_dist_threshold] = '1'\n",
    "\n",
    "df_MAD['com_dist_cat'] = '0'\n",
    "df_MAD['com_dist_cat'][df_MAD.com_dist > com_dist_threshold] = '1'\n",
    "\n",
    "df_MAD.rename(columns={'commute':'employee'}, inplace=True)"
   ],
   "metadata": {
    "collapsed": false
   }
  },
  {
   "cell_type": "code",
   "execution_count": 8,
   "outputs": [
    {
     "data": {
      "text/plain": "0101     51023\n0100     38404\n1101     35680\n1100     33939\n2100     12006\n11100    11432\n01100    10035\n01111     9021\n11111     8482\n2101      7370\n1001      6483\n0001      5096\n01110     3985\n21100     3791\n11110     3599\n1000      3290\n10111     2572\n2001      2420\n0000      1948\n00111     1561\n21111     1545\n11101     1488\n01101     1382\n2000      1364\n21110      916\n20111      870\n10100      771\n10110      719\n00110      437\n00100      416\n10101      284\n21101      275\n20100      258\n20110      255\n00101      144\n20101       91\nName: stratum, dtype: int64"
     },
     "execution_count": 8,
     "metadata": {},
     "output_type": "execute_result"
    }
   ],
   "source": [
    "\n",
    "df_MAD['stratum'] = df_MAD['region'].astype(str) + df_MAD['urban_density'].astype(str) +  df_MAD['employee'].astype(str)+  df_MAD['avg_dist_cat'].astype(str)\n",
    "\n",
    "df_MAD['stratum'][(df_MAD.employee == 1)] = df_MAD['stratum'][(df_MAD.employee == 1)] + df_MAD['com_dist_cat'][(df_MAD.employee == 1)].astype(str)\n",
    "\n",
    "df_MAD['stratum'].value_counts()"
   ],
   "metadata": {
    "collapsed": false
   }
  },
  {
   "cell_type": "code",
   "execution_count": 9,
   "outputs": [],
   "source": [
    "df_survey_twins['region'] = df_survey_twins['region'].replace({'Svealand':'0','Göteland':'1', 'Norrland':'2'})\n",
    "\n",
    "df_survey_twins['urban_density'] = df_survey_twins['urban_density'].replace({'A': '0', 'B': '1', 'C': '1'})\n",
    "\n",
    "df_survey_twins['avg_dist_cat'] = '0'\n",
    "df_survey_twins['avg_dist_cat'][df_survey_twins.avg_dist > avg_dist_threshold] = '1'\n",
    "\n",
    "df_survey_twins['com_dist_cat'] = '0'\n",
    "df_survey_twins['com_dist_cat'][df_survey_twins.com_distance > com_dist_threshold] = '1'\n"
   ],
   "metadata": {
    "collapsed": false
   }
  },
  {
   "cell_type": "code",
   "execution_count": 10,
   "outputs": [
    {
     "data": {
      "text/plain": "11100    2753\n11111    2314\n1100     1445\n01100    1230\n01111     993\n11110     856\n1101      705\n10111     683\n0100      616\n11101     474\n01110     339\n21100     317\n1001      293\n0101      254\n10110     231\n00111     188\n01101     187\n2100      143\n10100     118\n20111     111\n21111     105\n0001       94\n1000       75\n2001       73\n00110      64\n21110      62\n2101       47\n10101      30\n20110      26\n21101      24\n00100      12\n0000        8\n00101       4\n20100       3\nName: stratum, dtype: int64"
     },
     "execution_count": 10,
     "metadata": {},
     "output_type": "execute_result"
    }
   ],
   "source": [
    "\n",
    "df_survey_twins['stratum'] = df_survey_twins['region'].astype(str) + df_survey_twins['urban_density'].astype(str) +  df_survey_twins['employee'].astype(str)+  df_survey_twins['avg_dist_cat'].astype(str)\n",
    "\n",
    "df_survey_twins['stratum'][(df_survey_twins.employee == 1)] = df_survey_twins['stratum'][(df_survey_twins.employee == 1)] + df_survey_twins['com_dist_cat'][(df_survey_twins.employee == 1)].astype(str)\n",
    "\n",
    "df_survey_twins['stratum'].value_counts()"
   ],
   "metadata": {
    "collapsed": false
   }
  },
  {
   "cell_type": "code",
   "execution_count": 11,
   "outputs": [
    {
     "data": {
      "text/plain": "{'2000', '20101'}"
     },
     "execution_count": 11,
     "metadata": {},
     "output_type": "execute_result"
    }
   ],
   "source": [
    "list_survey_type = list(df_survey_twins['stratum'].unique())\n",
    "list_MAD_type = list(df_MAD['stratum'].unique())\n",
    "\n",
    "\n",
    "set(list_MAD_type).difference(set(list_survey_type))"
   ],
   "metadata": {
    "collapsed": false
   }
  },
  {
   "cell_type": "code",
   "execution_count": 12,
   "outputs": [],
   "source": [
    "threshold_count = 50\n",
    "\n",
    "df_stratum = pd.DataFrame(columns=['stratum','level','mad_size','sample_size' , 'sur_size','survey_ppl'])\n",
    "\n",
    "\n",
    "for i in list_MAD_type:\n",
    "    df_MAD_p_type = df_MAD[df_MAD['stratum']==i]\n",
    "    #print('mad len: ', len(df_MAD_p_type))\n",
    "\n",
    "    df_sur_p_type = df_survey_twins[df_survey_twins['region']==i[0]]\n",
    "\n",
    "    df_sur_temp = df_sur_p_type\n",
    "    level = 0\n",
    "    if len(df_sur_p_type) > threshold_count:\n",
    "        df_sur_temp = df_sur_p_type[df_sur_p_type['urban_density']==i[1]]\n",
    "        level = 1\n",
    "        if len(df_sur_temp) > threshold_count:\n",
    "            df_sur_p_type = df_sur_temp\n",
    "            df_sur_temp = df_sur_p_type[df_sur_p_type['employee']==int(i[2])]\n",
    "            level = 2\n",
    "            #print(level)\n",
    "            if len(df_sur_temp) > threshold_count:\n",
    "                df_sur_p_type = df_sur_temp\n",
    "                df_sur_temp = df_sur_p_type[df_sur_p_type['avg_dist_cat']==i[3]]\n",
    "                level = 3\n",
    "                #print(int(i[2]))\n",
    "                if (len(df_sur_temp) > threshold_count)&(int(i[2])==0):\n",
    "                   df_sur_p_type = df_sur_temp\n",
    "                   level = 4\n",
    "\n",
    "                elif (len(df_sur_temp) > threshold_count)&(int(i[2])==1):\n",
    "                    df_sur_p_type = df_sur_temp\n",
    "                    df_sur_temp = df_sur_p_type[df_sur_p_type['com_dist_cat']==i[4]]\n",
    "                    level = 4\n",
    "                    #print(level)\n",
    "\n",
    "                    if len(df_sur_temp) > threshold_count:\n",
    "                        df_sur_p_type = df_sur_temp\n",
    "                        level = 5\n",
    "\n",
    "    df_stratum = df_stratum.append(dict(stratum=i, level=level, mad_size=df_MAD_p_type.wt.sum(), sample_size=len(df_MAD_p_type), sur_size=len(df_sur_p_type), survey_ppl=df_sur_p_type['sub_id'].tolist()), ignore_index=True)\n",
    "\n"
   ],
   "metadata": {
    "collapsed": false
   }
  },
  {
   "cell_type": "markdown",
   "source": [
    "## calculate activity seq distribution and work activity participation distribution"
   ],
   "metadata": {
    "collapsed": false
   }
  },
  {
   "cell_type": "code",
   "execution_count": 13,
   "outputs": [],
   "source": [
    "seq_dist = df_survey_twins.act_seq_simp.value_counts(normalize=True).reset_index(name='count_desired')\n",
    "seq_dist['count_desired']=seq_dist['count_desired']*df_stratum.mad_size.sum()"
   ],
   "metadata": {
    "collapsed": false
   }
  },
  {
   "cell_type": "code",
   "execution_count": 14,
   "outputs": [],
   "source": [
    "act_par_dist = df_survey_twins.groupby(['employee','commute']).size().reset_index(name='count_desired')\n",
    "\n",
    "act_par_dist['count_desired']= act_par_dist['count_desired']/act_par_dist['count_desired'].sum()\n",
    "\n",
    "act_par_dist['count_desired']=act_par_dist['count_desired']*df_stratum.mad_size.sum()"
   ],
   "metadata": {
    "collapsed": false
   }
  },
  {
   "cell_type": "markdown",
   "source": [
    "## generate candidates df by stratums"
   ],
   "metadata": {
    "collapsed": false
   }
  },
  {
   "cell_type": "code",
   "execution_count": 15,
   "outputs": [],
   "source": [
    "df_candidates = pd.DataFrame(columns=['sub_id','employee','commute', 'act_seq', 'act_seq_simp','stratum','mad_size' ,'ratio'])\n",
    "\n",
    "\n",
    "for index, row in df_stratum.iterrows():\n",
    "\n",
    "    df_temp= df_survey_twins[['sub_id','employee','commute', 'act_seq', 'act_seq_simp']][df_survey_twins.sub_id.isin(row['survey_ppl'])]\n",
    "    df_temp['stratum']= row['stratum']\n",
    "    df_temp['mad_size']=row['mad_size']\n",
    "    df_temp['ratio']=row['mad_size']/row['sur_size']\n",
    "    df_candidates = df_candidates.append(df_temp)\n",
    "    #print(row['survey_ppl'])\n",
    "    #len(df_survey_twins[df_survey_twins.sub_id.isin(row['survey_ppl'])])\n",
    "\n"
   ],
   "metadata": {
    "collapsed": false
   }
  },
  {
   "cell_type": "code",
   "execution_count": 16,
   "outputs": [
    {
     "data": {
      "text/plain": "7683949.229684818"
     },
     "execution_count": 16,
     "metadata": {},
     "output_type": "execute_result"
    }
   ],
   "source": [
    "df_candidates.ratio.sum()"
   ],
   "metadata": {
    "collapsed": false
   }
  },
  {
   "cell_type": "markdown",
   "source": [
    "## fitting probabilities to the simplified activity seq distribution"
   ],
   "metadata": {
    "collapsed": false
   }
  },
  {
   "cell_type": "code",
   "execution_count": 17,
   "outputs": [],
   "source": [
    "for i in range(50):\n",
    "\n",
    "\n",
    "    ## fit to candidates ratios to the act par distribution\n",
    "    temp = df_candidates.groupby(['employee','commute'])['ratio'].sum().reset_index(name='count')\n",
    "    merged_df = pd.merge(act_par_dist, temp, on=['employee','commute'], how='inner')\n",
    "    merged_df['result_column'] = merged_df['count_desired'] / merged_df['count']\n",
    "    df_candidates = pd.merge(df_candidates, merged_df[['employee','commute', 'result_column']], on=['employee','commute'])\n",
    "\n",
    "    df_candidates['ratio']= df_candidates['ratio']*df_candidates['result_column']\n",
    "    df_candidates.drop(columns='result_column', inplace=True)\n",
    "\n",
    "\n",
    "    ## fit to candidates ratios to the mad size by stratum\n",
    "    temp = df_candidates.groupby('stratum')['ratio'].sum().reset_index(name='count')\n",
    "    df_candidates = pd.merge(df_candidates, temp, on='stratum')\n",
    "\n",
    "    df_candidates['ratio'] = df_candidates['ratio'] * (df_candidates['mad_size'] / df_candidates['count'])\n",
    "    df_candidates.drop(columns='count', inplace=True)\n",
    "\n",
    "    ####################################################\n",
    "\n",
    "\n",
    "    #fit to candidates ratios to the act seq distribution\n",
    "    temp = df_candidates.groupby('act_seq_simp')['ratio'].sum().reset_index(name='count')\n",
    "    merged_df = pd.merge(seq_dist, temp, left_on='index', right_on='act_seq_simp', how='inner')\n",
    "    merged_df['result_column'] = merged_df['count_desired'] / merged_df['count']\n",
    "    df_candidates = pd.merge(df_candidates, merged_df[['act_seq_simp', 'result_column']], on='act_seq_simp')\n",
    "\n",
    "    df_candidates['ratio']= df_candidates['ratio']*df_candidates['result_column']\n",
    "    df_candidates.drop(columns='result_column', inplace=True)\n",
    "\n",
    "    ##here tone down very high probabilities\n",
    "    # w0 = ((np.std(df_candidates.loc[:, 'ratio']) / np.mean(df_candidates.loc[:, 'ratio'])) ** 2 + 1) ** 0.5 * 3.5 * np.median( df_candidates.loc[:, 'ratio'])\n",
    "    # df_candidates.loc[df_candidates['ratio'] > w0, 'ratio'] = w0\n",
    "\n",
    "    #fit to candidates ratios to the mad size by stratum\n",
    "    temp = df_candidates.groupby('stratum')['ratio'].sum().reset_index(name='count')\n",
    "    df_candidates = pd.merge(df_candidates, temp, on='stratum')\n",
    "\n",
    "    df_candidates['ratio'] = df_candidates['ratio'] * (df_candidates['mad_size'] / df_candidates['count'])\n",
    "    df_candidates.drop(columns='count', inplace=True)\n",
    "\n",
    "\n",
    "\n"
   ],
   "metadata": {
    "collapsed": false
   }
  },
  {
   "cell_type": "markdown",
   "source": [
    "## sampling survey ppl by the calculated probabilities for each stratum"
   ],
   "metadata": {
    "collapsed": false
   }
  },
  {
   "cell_type": "code",
   "execution_count": 18,
   "outputs": [],
   "source": [
    "df_candidates['probability'] = df_candidates['ratio']/df_candidates['mad_size']\n",
    "\n",
    "#df_MAD['twin_ppl'] =0"
   ],
   "metadata": {
    "collapsed": false
   }
  },
  {
   "cell_type": "code",
   "execution_count": 19,
   "outputs": [],
   "source": [
    "df_candidates_prob= df_candidates.groupby('stratum')['probability'].apply(list).reset_index(name='probability_list')\n",
    "\n",
    "\n",
    "df_candidates_ppl= df_candidates.groupby('stratum')['sub_id'].apply(list).reset_index(name='ppl_list')"
   ],
   "metadata": {
    "collapsed": false
   }
  },
  {
   "cell_type": "code",
   "execution_count": 20,
   "outputs": [],
   "source": [
    "df_stratum = pd.merge(df_stratum, df_candidates_prob)\n",
    "\n",
    "df_stratum = pd.merge(df_stratum, df_candidates_ppl)\n"
   ],
   "metadata": {
    "collapsed": false
   }
  },
  {
   "cell_type": "code",
   "execution_count": 21,
   "outputs": [],
   "source": [
    "df_stratum['twin_ppl'] = df_stratum.apply( lambda row: np.argmax(np.random.multinomial(1, row['probability_list'], row['sample_size']), axis=1).tolist()  , axis=1)"
   ],
   "metadata": {
    "collapsed": false
   }
  },
  {
   "cell_type": "markdown",
   "source": [
    "## matching sampled survey ppl with MAD ppl"
   ],
   "metadata": {
    "collapsed": false
   }
  },
  {
   "cell_type": "code",
   "execution_count": 22,
   "outputs": [],
   "source": [
    "df_survey_twins_new = df_survey_twins.set_index('sub_id')\n",
    "df_survey_twins_new = df_survey_twins_new[['act_seq', 'act_seq_simp', 'avg_dist','commute']]"
   ],
   "metadata": {
    "collapsed": false
   }
  },
  {
   "cell_type": "code",
   "execution_count": 23,
   "outputs": [],
   "source": [
    "from collections import Counter\n",
    "\n",
    "\n",
    "def other_count(data):\n",
    "    act_tuple = data['act_seq_simp']\n",
    "    other_count_seq = Counter(act_tuple).get('Other')\n",
    "    if other_count_seq is not None:\n",
    "        data['other_count_seq'] = other_count_seq\n",
    "    else:\n",
    "        data['other_count_seq'] = 0\n",
    "    return data"
   ],
   "metadata": {
    "collapsed": false
   }
  },
  {
   "cell_type": "code",
   "execution_count": 24,
   "outputs": [],
   "source": [
    "\n",
    "tqdm.pandas()\n",
    "df_survey_twins_new = df_survey_twins_new.apply(lambda row: other_count(row), axis=1)\n"
   ],
   "metadata": {
    "collapsed": false
   }
  },
  {
   "cell_type": "code",
   "execution_count": 25,
   "outputs": [],
   "source": [
    "# df_twins = pd.DataFrame()\n",
    "#\n",
    "# for index, row in df_stratum.iterrows():\n",
    "#     twin_ppl_list = df_stratum.loc[index,'ppl_list']\n",
    "#     twin_ppl_place = df_stratum.loc[index,'twin_ppl']\n",
    "#     twin_ppl_list = [twin_ppl_list[place] for place in twin_ppl_place]\n",
    "#\n",
    "#     df_survey_candidates= df_survey_twins_new.loc[twin_ppl_list].reset_index()\n",
    "#\n",
    "#     df_survey_candidates.sort_values(by=['other_count_seq','avg_dist'], inplace=True)\n",
    "#     df_survey_candidates.reset_index(inplace=True)\n",
    "#     df_survey_candidates.drop(columns='index', inplace=True)\n",
    "#\n",
    "#     df_MAD_new = df_MAD[df_MAD.stratum==row['stratum']]\n",
    "#     df_MAD_new.sort_values(by=['other_count','avg_dist'], inplace=True)\n",
    "#     df_MAD_new.reset_index(inplace=True)\n",
    "#     df_MAD_new.drop(columns='index', inplace=True)\n",
    "# #\n",
    "#     df_MAD_new = pd.concat([df_MAD_new, df_survey_candidates], axis=1, ignore_index=False)\n",
    "#     df_twins = df_twins.append(df_MAD_new)\n",
    "\n",
    "\n"
   ],
   "metadata": {
    "collapsed": false
   }
  },
  {
   "cell_type": "code",
   "execution_count": 26,
   "outputs": [],
   "source": [
    "df_twins = pd.DataFrame()\n",
    "\n",
    "for index, row in df_stratum.iterrows():\n",
    "    twin_ppl_list = df_stratum.loc[index,'ppl_list']\n",
    "    twin_ppl_place = df_stratum.loc[index,'twin_ppl']\n",
    "    twin_ppl_list = [twin_ppl_list[place] for place in twin_ppl_place]\n",
    "\n",
    "    df_survey_candidates= df_survey_twins_new.loc[twin_ppl_list].reset_index()\n",
    "    # if str(row['stratum'])[2]==str(1):\n",
    "    #     print(row['stratum'], df_survey_candidates.commute.sum()/len(df_survey_candidates))\n",
    "\n",
    "    df_MAD_new = df_MAD[df_MAD.stratum==row['stratum']]\n",
    "\n",
    "    zero_MAD = df_MAD_new[df_MAD_new.other_count == 0]\n",
    "    zero_survey = df_survey_candidates[df_survey_candidates.other_count_seq == 0]\n",
    "\n",
    "    #for i in range(len(df_MAD_new.other_count_seq.max())):\n",
    "    if len(zero_MAD) <= len(zero_survey):\n",
    "\n",
    "        zero_survey.sort_values(by=['avg_dist'], inplace=True)\n",
    "        zero_survey.reset_index(inplace=True)\n",
    "        zero_survey = zero_survey.iloc[:len(zero_MAD)]\n",
    "        remain_survey = df_survey_candidates.drop(index=zero_survey.index.to_list())\n",
    "        zero_survey.drop(columns='index', inplace=True)\n",
    "\n",
    "        zero_MAD.sort_values(by=['avg_dist'], inplace=True)\n",
    "        zero_MAD.reset_index(inplace=True)\n",
    "        zero_MAD.drop(columns='index', inplace=True)\n",
    "\n",
    "        zero_MAD = pd.concat([zero_MAD, zero_survey.iloc[:len(zero_MAD)]], axis=1, ignore_index=False)\n",
    "\n",
    "\n",
    "    else:\n",
    "        print(row['stratum'])\n",
    "\n",
    "    df_twins = df_twins.append(zero_MAD)\n",
    "\n",
    "    remain_MAD = df_MAD_new[df_MAD_new.other_count > 0]\n",
    "\n",
    "\n",
    "    remain_survey.sort_values(by=['avg_dist'], inplace=True)\n",
    "    remain_survey.reset_index(inplace=True)\n",
    "    remain_survey.drop(columns='index', inplace=True)\n",
    "\n",
    "    remain_MAD.sort_values(by=['avg_dist'], inplace=True)\n",
    "    remain_MAD.reset_index(inplace=True)\n",
    "    remain_MAD.drop(columns='index', inplace=True)\n",
    "\n",
    "    remain_MAD = pd.concat([remain_MAD, remain_survey], axis=1, ignore_index=False)\n",
    "    df_twins = df_twins.append(remain_MAD)\n",
    "\n",
    "    #print(str(row['stratum'])[2])\n",
    "\n",
    "\n",
    "\n"
   ],
   "metadata": {
    "collapsed": false
   }
  },
  {
   "cell_type": "code",
   "execution_count": 30,
   "outputs": [],
   "source": [
    "filename = r'.\\dbs\\twins\\run-evaluate_work.pkl'\n",
    "%store -r filename\n",
    "\n",
    "\n",
    "df_twins.to_pickle(filename)"
   ],
   "metadata": {
    "collapsed": false
   }
  },
  {
   "cell_type": "markdown",
   "source": [
    "## Evaluation"
   ],
   "metadata": {
    "collapsed": false
   }
  },
  {
   "cell_type": "code",
   "execution_count": 28,
   "outputs": [
    {
     "name": "stdout",
     "output_type": "stream",
     "text": [
      "The share of the matched survey ppl:  0.98\n"
     ]
    }
   ],
   "source": [
    "print('The share of the matched survey ppl: ', np.round(len(df_twins.sub_id.unique())/len(df_survey_twins.sub_id.unique()),2))"
   ],
   "metadata": {
    "collapsed": false
   }
  },
  {
   "cell_type": "code",
   "execution_count": 29,
   "outputs": [],
   "source": [
    "# print('Repetition number of 10 most matched people \\n', df_twins.sub_id.value_counts().head(10))"
   ],
   "metadata": {
    "collapsed": false
   }
  }
 ],
 "metadata": {
  "kernelspec": {
   "display_name": "Python 3",
   "language": "python",
   "name": "python3"
  },
  "language_info": {
   "codemirror_mode": {
    "name": "ipython",
    "version": 2
   },
   "file_extension": ".py",
   "mimetype": "text/x-python",
   "name": "python",
   "nbconvert_exporter": "python",
   "pygments_lexer": "ipython2",
   "version": "2.7.6"
  }
 },
 "nbformat": 4,
 "nbformat_minor": 0
}
