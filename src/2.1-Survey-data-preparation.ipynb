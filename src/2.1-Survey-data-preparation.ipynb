{
 "cells": [
  {
   "cell_type": "code",
   "execution_count": 74,
   "metadata": {
    "collapsed": true
   },
   "outputs": [
    {
     "name": "stdout",
     "output_type": "stream",
     "text": [
      "The autoreload extension is already loaded. To reload it, use:\n",
      "  %reload_ext autoreload\n",
      "C:\\MAD4AG\n"
     ]
    }
   ],
   "source": [
    "%load_ext autoreload\n",
    "%autoreload 2\n",
    "%cd C:\\MAD4AG\n",
    "%matplotlib inline"
   ]
  },
  {
   "cell_type": "code",
   "execution_count": 75,
   "outputs": [],
   "source": [
    "import pandas as pd\n",
    "import numpy as np\n",
    "# from google.colab import drive\n",
    "from tqdm import tqdm\n",
    "from datetime import datetime\n",
    "import matplotlib.pyplot as plt"
   ],
   "metadata": {
    "collapsed": false
   }
  },
  {
   "cell_type": "code",
   "execution_count": 76,
   "outputs": [
    {
     "name": "stderr",
     "output_type": "stream",
     "text": [
      "C:\\Users\\aglar\\AppData\\Local\\anaconda3\\envs\\pycharm\\lib\\site-packages\\IPython\\core\\interactiveshell.py:3457: DtypeWarning: Columns (181,370,379) have mixed types.Specify dtype option on import or set low_memory=False.\n",
      "  exec(code_obj, self.user_global_ns, self.user_ns)\n"
     ]
    },
    {
     "name": "stdout",
     "output_type": "stream",
     "text": [
      "The number of people=  38258\n"
     ]
    }
   ],
   "source": [
    "dataf_mddr1116 = pd.read_csv('dbs/travel_survey_se_deso/se_rvu_distribution_mdre1116_deso.csv', dtype = {'d_a_kl' : 'Int32', 'd_b_kl' : 'Int32', 'd_a_pkt' : 'Int32', 'd_a_sve': 'Int32', 'd_b_sve': 'Int32','h_a_lan': 'Int32','h_b_lan': 'Int32'}, delimiter=',',  encoding='latin-1')\n",
    "\n",
    "\n",
    "print('The number of people= ', len(dataf_mddr1116.uenr.unique()))"
   ],
   "metadata": {
    "collapsed": false
   }
  },
  {
   "cell_type": "code",
   "execution_count": 77,
   "outputs": [],
   "source": [
    "variables_dict = {\"uenr\":\"sub_id\", \"bost_lan\":\"home_county\",\n",
    "                  'bost_komk':'home_municipality',\n",
    "                   \"arb_komk\":'workplace_municipality',\n",
    "                  \"arb_fard\":\"commute_mode\",\"arb_km\":\"commute_distance\", \"arb_lan\":\"workplace_county\",\"arb_tid\":\"commute_time\",\n",
    "                  \"i_datum\":\"date\", \"uedag\":\"day_of_week\", \"h_nummer\":\"trip_id\", \"d_nummer\":\"trip_main_id\", \"r_nummer\":\"trip_seg_id\",\n",
    "                  \"d_ford\":\"trip_main_mode\", \"d_km\":\"distance_main\", \"d_restid\":\"tt_main\", \"d_areall\":\"trip_purpose_main\",\n",
    "                  \"d_a_sve\":\"origin_main_domestic\",\"d_b_sve\":\"desti_main_domestic\",\n",
    "                  'd_a_kl':\"origin_main_time\", 'd_b_kl': \"desti_main_time\",\n",
    "                  \"r_ford\":\"trip_seg_mode\", \"r_km\":\"distance_seg\", # , \"r_restid\":\"tt_seg\"\n",
    "                  \"h_a_kl\":\"origin_time\", \"h_a_lan\":\"origin_county\", \"h_b_kl\":\"desti_time\",\n",
    "                  \"h_b_lan\":\"desti_county\", \"h_km\":\"distance\", \"h_restid\":\"tt\",\n",
    "                  \"h_ford\":\"mode\", \"h_are\":\"trip_purpose\",\n",
    "                  \"vikt\":\"trip_weight\", \"vikt_k\":\"sub_weight\",\n",
    "                  'd_a_deso':\"origin_main_deso\", 'd_b_deso':\"desti_main_deso\",\n",
    "                  'd_a_komk':\"origin_main_municipality\", 'd_b_komk':\"desti_main_municipality\",\n",
    "                  'h_a_deso':\"origin_deso\", 'h_b_deso':\"desti_deso\",\n",
    "                  'arb_deso':'workplace_deso', 'bost_deso':'home_deso', 'd_a_pkt':'origin_act_typ','d_b_pkt':'desti_act_typ'}"
   ],
   "metadata": {
    "collapsed": false
   }
  },
  {
   "cell_type": "code",
   "execution_count": 78,
   "outputs": [],
   "source": [
    "dataf_mddr1116= dataf_mddr1116.rename(columns=variables_dict)\n",
    "dataf_mddr1116 =  dataf_mddr1116.sort_values(['sub_id', 'trip_id','trip_main_id', 'trip_seg_id'])"
   ],
   "metadata": {
    "collapsed": false
   }
  },
  {
   "cell_type": "code",
   "execution_count": 79,
   "outputs": [
    {
     "name": "stdout",
     "output_type": "stream",
     "text": [
      "The number of people having a weekday activities=  28272\n"
     ]
    }
   ],
   "source": [
    "#select individuals based on days of a week (consider only weekdays)\n",
    "\n",
    "dataf_mddr1116 = dataf_mddr1116[dataf_mddr1116.day_of_week.isin([1,2,3,4,5])]\n",
    "\n",
    "print('The number of people having a weekday activities= ', len(dataf_mddr1116.sub_id.unique()))"
   ],
   "metadata": {
    "collapsed": false
   }
  },
  {
   "cell_type": "code",
   "execution_count": 80,
   "outputs": [],
   "source": [
    "selected_columns = list(variables_dict.values())\n",
    "selected_columns = ['sub_id', 'age',\n",
    " 'trip_id',\n",
    " 'trip_main_id',\n",
    " 'origin_main_time',\n",
    " 'desti_main_time',\n",
    " 'origin_act_typ',\n",
    " 'desti_act_typ',\n",
    " 'origin_main_domestic',\n",
    " 'desti_main_domestic',\n",
    " 'origin_main_deso',\n",
    " 'desti_main_deso',\n",
    " 'origin_county',\n",
    " 'desti_county',\n",
    " 'home_county',\n",
    " 'home_municipality',\n",
    " 'trip_weight',\n",
    " 'sub_weight'\n",
    " ]"
   ],
   "metadata": {
    "collapsed": false
   }
  },
  {
   "cell_type": "code",
   "execution_count": 81,
   "outputs": [],
   "source": [
    "dataf_mddr1116= dataf_mddr1116[selected_columns]"
   ],
   "metadata": {
    "collapsed": false
   }
  },
  {
   "cell_type": "code",
   "execution_count": 82,
   "outputs": [],
   "source": [
    "# drop people less than 18 years old, keep only adults\n",
    "\n",
    "dataf_mddr1116= dataf_mddr1116[dataf_mddr1116.age>17]\n"
   ],
   "metadata": {
    "collapsed": false
   }
  },
  {
   "cell_type": "code",
   "execution_count": 83,
   "outputs": [],
   "source": [
    "# drop trip legs, keep only main trips\n",
    "\n",
    "dataf_mddr1116 = dataf_mddr1116.drop_duplicates(['sub_id','trip_id','trip_main_id'])"
   ],
   "metadata": {
    "collapsed": false
   }
  },
  {
   "cell_type": "code",
   "execution_count": 84,
   "outputs": [
    {
     "name": "stdout",
     "output_type": "stream",
     "text": [
      "The number of people whose time column is missing or who have activities abroad =  1456\n"
     ]
    }
   ],
   "source": [
    "# delete individuals for whom origin_main_time or desti_main_time data is missing\n",
    "\n",
    "invalid_origin_main_time = dataf_mddr1116[dataf_mddr1116['origin_main_time'].isnull()].sub_id.unique().tolist()\n",
    "invalid_desti_main_time = dataf_mddr1116[dataf_mddr1116['desti_main_time'].isnull()].sub_id.unique().tolist()\n",
    "\n",
    "\n",
    "# delete individuals having trips abroad\n",
    "\n",
    "invalid_origin_main_domestic = dataf_mddr1116[dataf_mddr1116.origin_main_domestic==2].sub_id.unique().tolist()\n",
    "invalid_desti_main_domestic = dataf_mddr1116[dataf_mddr1116.desti_main_domestic==2].sub_id.unique().tolist()\n",
    "\n",
    "invalid_indiv = set().union(invalid_origin_main_time , invalid_desti_main_time, invalid_origin_main_domestic, invalid_desti_main_domestic)\n",
    "invalid_indiv= list(invalid_indiv)\n",
    "\n",
    "print('The number of people whose time column is missing or who have activities abroad = ',len(invalid_indiv))\n",
    "\n",
    "\n",
    "dataf_mddr1116 = dataf_mddr1116[~dataf_mddr1116['sub_id'].isin(invalid_indiv) ]"
   ],
   "metadata": {
    "collapsed": false
   }
  },
  {
   "cell_type": "code",
   "execution_count": 85,
   "outputs": [],
   "source": [
    "# calculate number of activities for each individual\n",
    "\n",
    "num_act = dataf_mddr1116.sub_id.value_counts()\n",
    "num_act = num_act.reset_index()\n",
    "num_act = num_act.rename(columns={\"index\": \"sub_id\", \"sub_id\": \"act_num\"})\n",
    "\n",
    "dataf_mddr1116 = pd.merge( dataf_mddr1116, num_act, how='left', left_on = 'sub_id' , right_on = 'sub_id'  )\n",
    "\n",
    "dataf_mddr1116['act_seq'] = dataf_mddr1116.groupby(['sub_id']).cumcount()"
   ],
   "metadata": {
    "collapsed": false
   }
  },
  {
   "cell_type": "code",
   "execution_count": 86,
   "outputs": [],
   "source": [
    "# repeat the first row in each individual to convert activity table\n",
    "\n",
    "df_act = pd.concat([dataf_mddr1116, dataf_mddr1116.groupby('sub_id', as_index=False).first()]).sort_values(['sub_id', 'act_seq'], ignore_index=True)\n",
    "\n",
    "\n",
    "df_act['act_seq'] = df_act['act_seq'] + 1\n",
    "df_act['act_seq'] = df_act.groupby(['sub_id']).cumcount()\n",
    "df_act['D_B_KL'] = df_act['origin_main_time'].shift(-1)\n",
    "\n",
    "df_act.rename(columns={'desti_main_time':'D_A_KL'}, inplace=True)"
   ],
   "metadata": {
    "collapsed": false
   }
  },
  {
   "cell_type": "code",
   "execution_count": 87,
   "outputs": [],
   "source": [
    "# write 0 to the first row in each individual's activity start time\n",
    "# write 2359 to the last row in each individual's activity end time\n",
    "\n",
    "df_act['D_A_KL'][df_act['act_seq'] == 0] = 0\n",
    "df_act['D_B_KL'][df_act['act_seq'] == df_act['act_num']] = 2359"
   ],
   "metadata": {
    "collapsed": false
   }
  },
  {
   "cell_type": "code",
   "execution_count": 88,
   "outputs": [],
   "source": [
    "def time_padding(x):\n",
    "    if len(x) == 4:\n",
    "        return x\n",
    "    if len(x) == 3:\n",
    "        return '0' + x\n",
    "    if len(x) == 2:\n",
    "        return '00' + x\n",
    "    if len(x) == 1:\n",
    "        return '000' + x"
   ],
   "metadata": {
    "collapsed": false
   }
  },
  {
   "cell_type": "code",
   "execution_count": 89,
   "outputs": [],
   "source": [
    "df_act.loc[:, 'D_A_KL'] = df_act['D_A_KL'].astype(str).apply(\n",
    "    lambda x: time_padding(x))\n",
    "df_act.loc[:, 'D_B_KL'] = df_act['D_B_KL'].astype(str).apply(\n",
    "    lambda x: time_padding(x))\n",
    "\n",
    "df_act.loc[:, 'D_A_KL'] = df_act['D_A_KL'].apply(lambda x: datetime.strptime(str(x),'%H%M'))\n",
    "df_act.loc[:, 'D_B_KL'] = df_act['D_B_KL'].apply(lambda x: datetime.strptime(str(x),'%H%M'))\n",
    "\n",
    "df_act.rename(columns={'D_A_KL':'act_start','D_B_KL':'act_end'}, inplace=True)"
   ],
   "metadata": {
    "collapsed": false
   }
  },
  {
   "cell_type": "code",
   "execution_count": 90,
   "outputs": [
    {
     "name": "stdout",
     "output_type": "stream",
     "text": [
      "The number of individual after removing individuals having negative activity duration  22323\n"
     ]
    }
   ],
   "source": [
    "# calculate each activities duration\n",
    "df_act['dur'] = (df_act['act_end'] - df_act['act_start']).dt.total_seconds() / 60  # Convert to hours\n",
    "\n",
    "# Check for negative values in the \"dur\" column\n",
    "negative_dur = df_act[df_act['dur'] < 0]\n",
    "\n",
    "df_act = df_act.drop(df_act[df_act['sub_id'].isin(negative_dur['sub_id'].unique())].index)\n",
    "print('The number of individual after removing individuals having negative activity duration ', len(df_act.sub_id.unique()))"
   ],
   "metadata": {
    "collapsed": false
   }
  },
  {
   "cell_type": "code",
   "execution_count": 91,
   "outputs": [],
   "source": [
    "# activities' start and end times in minute\n",
    "\n",
    "df_act['h_s'] = (df_act['act_start'].dt.hour)*60 +(df_act['act_start'].dt.minute)\n",
    "\n",
    "df_act['h_e'] = (df_act['act_end'].dt.hour)*60 +(df_act['act_end'].dt.minute)"
   ],
   "metadata": {
    "collapsed": false
   }
  },
  {
   "cell_type": "code",
   "execution_count": 92,
   "outputs": [],
   "source": [
    "df_act.desti_act_typ = np.where(df_act['act_seq'] == 0, df_act.origin_act_typ, df_act.desti_act_typ)\n",
    "\n",
    "df_act.desti_main_deso = np.where(df_act['act_seq'] == 0, df_act.origin_main_deso, df_act.desti_main_deso)\n",
    "\n",
    "df_act.desti_county = np.where(df_act['act_seq'] == 0, df_act.origin_county, df_act.desti_county)\n",
    "\n",
    "df_act.rename(columns={'desti_act_typ': 'purpose', 'desti_main_deso': 'act_deso', 'desti_county': 'county'}, inplace=True)\n"
   ],
   "metadata": {
    "collapsed": false
   }
  },
  {
   "cell_type": "code",
   "execution_count": 93,
   "outputs": [],
   "source": [
    "df_act = df_act[['sub_id', 'act_num', 'act_seq', 'act_start', 'act_end', 'dur', 'h_s', 'h_e',\n",
    "       'purpose', 'act_deso', 'county', 'home_county', 'home_municipality', 'trip_weight', 'sub_weight']]"
   ],
   "metadata": {
    "collapsed": false
   }
  },
  {
   "cell_type": "markdown",
   "source": [
    "Start and end locations are restricted as you see below in the survey. Other places are numbered with 10 and it includes shopping places,  restaurants,  entertainment places, and etc.\n",
    "\n",
    "   1 = 'Rp's place of residence, population registration address'\n",
    "   2 = 'Other permanent residence, Rp's (for military units also regiment)'\n",
    "   3 = 'RP: S (MAIN) LEISURE RESIDENCE WITH ADDRESS'\n",
    "   4 = 'RP: S (MAIN) WORKPLACE (ONLY WORKPLACE IN SWEDEN) with address'\n",
    "   5 = 'Rp's workplace 2, 3 etc, workplace abroad'\n",
    "   6 = 'RP: S (MAIN) SCHOOL WITH ADDRESS'\n",
    "   7 = 'Temporary accommodation'\n",
    "   8 = 'Rp's school 2,3 etc, another school, internship etc.\n",
    "   9 = 'Rp's holiday home, also rented (where we have not received the address before)'\n",
    "   10 = 'Other place'\n",
    "   88 = 'Don't know'\n",
    "   99 = 'Don't want to reply'"
   ],
   "metadata": {
    "collapsed": false
   }
  },
  {
   "cell_type": "code",
   "execution_count": 94,
   "outputs": [
    {
     "data": {
      "text/plain": "21061"
     },
     "execution_count": 94,
     "metadata": {},
     "output_type": "execute_result"
    }
   ],
   "source": [
    "# drop irregular activity types\n",
    "\n",
    "irregular_act = df_act[df_act['purpose'].isin([7, 88, 99])]\n",
    "\n",
    "df_act = df_act.drop(df_act[df_act['sub_id'].isin(irregular_act['sub_id'].unique())].index)\n",
    "\n",
    "len(df_act.sub_id.unique())"
   ],
   "metadata": {
    "collapsed": false
   }
  },
  {
   "cell_type": "code",
   "execution_count": 95,
   "outputs": [],
   "source": [
    "df_act['purpose'].replace([2, 3, 9], 1, inplace=True)\n",
    "\n",
    "df_act['purpose'].replace([8], 6, inplace=True)\n",
    "\n",
    "df_act['purpose'].replace([5], 4, inplace=True)\n",
    "\n",
    "\n",
    "mapping = {1: 'Home', 4: 'Work', 6: 'School', 10: 'Other'}\n",
    "df_act['purpose'] = df_act['purpose'].map(mapping)\n",
    "\n"
   ],
   "metadata": {
    "collapsed": false
   }
  },
  {
   "cell_type": "code",
   "execution_count": 96,
   "outputs": [],
   "source": [
    "# remove ppl not having a home activity at their daily plan\n",
    "\n",
    "ppl_having_home = df_act[(df_act.purpose=='Home')].sub_id.unique()\n",
    "\n",
    "df_act = df_act[df_act.sub_id.isin(ppl_having_home)]"
   ],
   "metadata": {
    "collapsed": false
   }
  },
  {
   "cell_type": "code",
   "execution_count": 97,
   "outputs": [],
   "source": [
    "#remove ppl visiting different home locations in a day\n",
    "\n",
    "numberof_home = df_act[df_act.purpose=='Home'].groupby(['sub_id','purpose'])['act_deso'].nunique().reset_index()\n",
    "\n",
    "df_act = df_act[~df_act.sub_id.isin(numberof_home['sub_id'][numberof_home.act_deso>1])]"
   ],
   "metadata": {
    "collapsed": false
   }
  },
  {
   "cell_type": "code",
   "execution_count": 28,
   "outputs": [],
   "source": [
    "# save the activity table\n",
    "\n",
    "df_act.to_pickle(f'./dbs/survey_act_weekday.pkl')"
   ],
   "metadata": {
    "collapsed": false
   }
  },
  {
   "cell_type": "code",
   "execution_count": null,
   "outputs": [],
   "source": [],
   "metadata": {
    "collapsed": false
   }
  }
 ],
 "metadata": {
  "kernelspec": {
   "display_name": "Python 3",
   "language": "python",
   "name": "python3"
  },
  "language_info": {
   "codemirror_mode": {
    "name": "ipython",
    "version": 2
   },
   "file_extension": ".py",
   "mimetype": "text/x-python",
   "name": "python",
   "nbconvert_exporter": "python",
   "pygments_lexer": "ipython2",
   "version": "2.7.6"
  }
 },
 "nbformat": 4,
 "nbformat_minor": 0
}
