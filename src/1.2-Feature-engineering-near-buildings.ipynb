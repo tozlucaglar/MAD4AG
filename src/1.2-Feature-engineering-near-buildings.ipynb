{
 "cells": [
  {
   "cell_type": "markdown",
   "source": [],
   "metadata": {
    "collapsed": false
   }
  },
  {
   "cell_type": "code",
   "execution_count": 1,
   "metadata": {
    "collapsed": true
   },
   "outputs": [
    {
     "name": "stdout",
     "output_type": "stream",
     "text": [
      "C:\\MAD4AG\n"
     ]
    }
   ],
   "source": [
    "%load_ext autoreload\n",
    "%autoreload 2\n",
    "%cd C:\\MAD4AG\n",
    "%matplotlib inline"
   ]
  },
  {
   "cell_type": "code",
   "execution_count": 2,
   "outputs": [],
   "source": [
    "import pandas as pd\n",
    "import numpy as np\n",
    "import matplotlib.pyplot as plt\n",
    "from tqdm.auto import tqdm\n",
    "\n",
    "import warnings\n",
    "\n",
    "warnings.filterwarnings('ignore')"
   ],
   "metadata": {
    "collapsed": false
   }
  },
  {
   "cell_type": "code",
   "execution_count": 7,
   "outputs": [],
   "source": [
    "file_name = f'./dbs/intermediate/stops_1.parquet'\n",
    "\n",
    "#Read each batchs file\n",
    "df = pd.read_parquet(file_name)\n"
   ],
   "metadata": {
    "collapsed": false
   }
  },
  {
   "cell_type": "code",
   "execution_count": 4,
   "outputs": [],
   "source": [
    "df_2 = df[['uid','cluster','cluster_lat','cluster_lng']]\n",
    "df_2.drop_duplicates(['uid','cluster'], inplace=True)\n",
    "df_2 = df_2.reset_index()"
   ],
   "metadata": {
    "collapsed": false
   }
  },
  {
   "cell_type": "code",
   "execution_count": 5,
   "outputs": [],
   "source": [
    "building_point = pd.read_parquet(f'./dbs/intermediate/building_point.parquet')\n",
    "\n",
    "building_metadata = pd.read_csv(f'./dbs/building_purpose_codes.csv', encoding='ISO-8859-1', sep=';')\n",
    "\n",
    "\n",
    "building_point = pd.merge(building_point, building_metadata[['Code', 'Purpose of building']], left_on='ANDAMAL_1',\n",
    "                          right_on='Code', how='left')\n",
    "\n",
    "building_point.reset_index(inplace=True)\n"
   ],
   "metadata": {
    "collapsed": false
   }
  },
  {
   "cell_type": "code",
   "execution_count": 6,
   "outputs": [],
   "source": [
    "from sklearn.neighbors import BallTree\n",
    "\n",
    "\n",
    "def building_query_radius(clusters, buildings):\n",
    "\n",
    "    #convert degree to radian\n",
    "    buildings['lat_rad'] = buildings.apply(lambda row: np.deg2rad(row['lat']), axis=1)\n",
    "    buildings['lng_rad'] = buildings.apply(lambda row: np.deg2rad(row['lng']), axis=1)\n",
    "\n",
    "    clusters['lat_rad'] = clusters.apply(lambda row: np.deg2rad(row['cluster_lat']), axis=1)\n",
    "    clusters['lng_rad'] = clusters.apply(lambda row: np.deg2rad(row['cluster_lng']), axis=1)\n",
    "\n",
    "    # Parse coordinates from points and insert them into a numpy array as RADIANS\n",
    "    left_radians = np.array(clusters[['lat_rad','lng_rad']])\n",
    "    right_radians = np.array(buildings[['lat_rad','lng_rad']])\n",
    "\n",
    "    tree = BallTree(right_radians, leaf_size=20, metric='haversine')\n",
    "    kms_per_radian = 6371.0088\n",
    "\n",
    "    # define epsilon as 0.1 kilometers, converted to radians for use by haversine\n",
    "    epsilon = 0.1 / kms_per_radian\n",
    "\n",
    "    is_within, distances = tree.query_radius(left_radians, r=epsilon, count_only=False, return_distance=True)\n",
    "\n",
    "    return is_within\n",
    "\n",
    "\n"
   ],
   "metadata": {
    "collapsed": false
   }
  },
  {
   "cell_type": "code",
   "execution_count": 7,
   "outputs": [],
   "source": [
    "is_within = building_query_radius(df_2, building_point)\n",
    "\n",
    "#distances = distances*6371.0088"
   ],
   "metadata": {
    "collapsed": false
   }
  },
  {
   "cell_type": "code",
   "execution_count": 8,
   "outputs": [],
   "source": [
    "Purpose_of_building = building_point[\"Purpose of building\"].unique().tolist()"
   ],
   "metadata": {
    "collapsed": false
   }
  },
  {
   "cell_type": "code",
   "execution_count": 9,
   "outputs": [],
   "source": [
    "building_point = building_point[[\"Purpose of building\"]]\n",
    "building_point = building_point.to_numpy()"
   ],
   "metadata": {
    "collapsed": false
   }
  },
  {
   "cell_type": "code",
   "execution_count": 10,
   "outputs": [],
   "source": [
    "df_building_index = pd.DataFrame(is_within, columns=['building_index'])\n",
    "df_building_index[Purpose_of_building] = 0"
   ],
   "metadata": {
    "collapsed": false
   }
  },
  {
   "cell_type": "code",
   "execution_count": 11,
   "outputs": [],
   "source": [
    "def select_count(data, build):\n",
    "    selected_build = build[data['building_index']]\n",
    "    unique, counts = np.unique(selected_build, return_counts=True)\n",
    "    data.loc[unique] = counts\n",
    "\n",
    "    return data\n",
    "\n",
    "\n",
    "\n"
   ],
   "metadata": {
    "collapsed": false
   }
  },
  {
   "cell_type": "code",
   "execution_count": 12,
   "outputs": [
    {
     "name": "stdout",
     "output_type": "stream",
     "text": [
      "0\n",
      "1\n",
      "2\n",
      "3\n",
      "4\n",
      "5\n",
      "6\n",
      "7\n",
      "8\n",
      "9\n",
      "10\n",
      "11\n",
      "12\n",
      "13\n",
      "14\n",
      "15\n",
      "16\n",
      "17\n",
      "18\n",
      "19\n",
      "20\n",
      "21\n",
      "22\n",
      "23\n",
      "24\n",
      "25\n",
      "26\n",
      "27\n",
      "28\n",
      "29\n",
      "30\n",
      "31\n",
      "32\n",
      "33\n",
      "34\n",
      "35\n",
      "36\n",
      "37\n",
      "38\n",
      "39\n"
     ]
    }
   ],
   "source": [
    "df_split = np.array_split(df_building_index, 40)\n",
    "\n",
    "for i in range(0,40):\n",
    "    df_split[i] = df_split[i].apply(lambda x: select_count(x, building_point), axis=1)\n",
    "    print(i)"
   ],
   "metadata": {
    "collapsed": false
   }
  },
  {
   "cell_type": "code",
   "execution_count": 13,
   "outputs": [],
   "source": [
    "df_building_index = pd.concat(df_split)"
   ],
   "metadata": {
    "collapsed": false
   }
  },
  {
   "cell_type": "code",
   "execution_count": 14,
   "outputs": [],
   "source": [
    "df_building_index['sum'] = df_building_index[Purpose_of_building].sum(axis=1)"
   ],
   "metadata": {
    "collapsed": false
   }
  },
  {
   "cell_type": "code",
   "execution_count": 15,
   "outputs": [],
   "source": [
    "df_building_index.loc[:,Purpose_of_building] = df_building_index.loc[:,Purpose_of_building].div(df_building_index['sum'], axis=0)"
   ],
   "metadata": {
    "collapsed": false
   }
  },
  {
   "cell_type": "code",
   "execution_count": 16,
   "outputs": [],
   "source": [
    "df_building_index.iloc[:,1:] = df_building_index.iloc[:,1:].fillna(0)"
   ],
   "metadata": {
    "collapsed": false
   }
  },
  {
   "cell_type": "code",
   "execution_count": 17,
   "outputs": [],
   "source": [
    "df_2 = df_2.join(df_building_index)"
   ],
   "metadata": {
    "collapsed": false
   }
  },
  {
   "cell_type": "code",
   "execution_count": 18,
   "outputs": [],
   "source": [
    "\n",
    "df = pd.merge(df, df_2[['uid', 'cluster', 'building_index',  'Residential', 'Industrial', 'Other building', 'Activity', 'Public', 'Agricultural', 'sum']], on=['uid', 'cluster'], how='left' )"
   ],
   "metadata": {
    "collapsed": false
   }
  },
  {
   "cell_type": "code",
   "execution_count": 20,
   "outputs": [],
   "source": [
    "df.to_parquet(f'./dbs/intermediate/stops_2.parquet')\n"
   ],
   "metadata": {
    "collapsed": false
   }
  }
 ],
 "metadata": {
  "kernelspec": {
   "display_name": "Python 3",
   "language": "python",
   "name": "python3"
  },
  "language_info": {
   "codemirror_mode": {
    "name": "ipython",
    "version": 2
   },
   "file_extension": ".py",
   "mimetype": "text/x-python",
   "name": "python",
   "nbconvert_exporter": "python",
   "pygments_lexer": "ipython2",
   "version": "2.7.6"
  }
 },
 "nbformat": 4,
 "nbformat_minor": 0
}
