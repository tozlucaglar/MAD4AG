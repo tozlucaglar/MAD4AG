{
 "cells": [
  {
   "cell_type": "code",
   "execution_count": 1,
   "metadata": {
    "collapsed": true
   },
   "outputs": [
    {
     "name": "stdout",
     "output_type": "stream",
     "text": [
      "C:\\MAD4AG\n"
     ]
    }
   ],
   "source": [
    "%load_ext autoreload\n",
    "%autoreload 2\n",
    "%cd C:\\MAD4AG\n",
    "%matplotlib inline"
   ]
  },
  {
   "cell_type": "code",
   "execution_count": 2,
   "outputs": [],
   "source": [
    "import pandas as pd\n",
    "import numpy as np\n",
    "import matplotlib.pyplot as plt\n",
    "from tqdm.auto import tqdm\n",
    "\n",
    "import warnings\n",
    "\n",
    "warnings.filterwarnings('ignore')"
   ],
   "metadata": {
    "collapsed": false
   }
  },
  {
   "cell_type": "code",
   "execution_count": 3,
   "outputs": [],
   "source": [
    "file_name = f'./dbs/intermediate/stops_1_new.parquet'\n",
    "\n",
    "#Read each batchs file\n",
    "df = pd.read_parquet(file_name)"
   ],
   "metadata": {
    "collapsed": false
   }
  },
  {
   "cell_type": "code",
   "execution_count": 4,
   "outputs": [
    {
     "name": "stdout",
     "output_type": "stream",
     "text": [
      "The number of stops:  28883598\n",
      "The number of stops in weekday and non-holiday:  13399816\n"
     ]
    }
   ],
   "source": [
    "print('The number of stops: ',len(df))\n",
    "df = df[df.holiday_s != 1]\n",
    "df = df[df.weekday_s == 1]\n",
    "df = df.drop(['holiday_s', 'weekday_s'], axis=1)\n",
    "\n",
    "print('The number of stops in weekday and non-holiday: ', len(df))"
   ],
   "metadata": {
    "collapsed": false
   }
  },
  {
   "cell_type": "markdown",
   "source": [
    "## drop stop points that are detected in the home cluster."
   ],
   "metadata": {
    "collapsed": false
   }
  },
  {
   "cell_type": "code",
   "execution_count": 5,
   "outputs": [],
   "source": [
    "df_h = pd.read_parquet(f'./dbs/intermediate/home_inference.parquet')\n",
    "df_h.drop_duplicates(subset='uid', keep='first', inplace=True)"
   ],
   "metadata": {
    "collapsed": false
   }
  },
  {
   "cell_type": "code",
   "execution_count": 6,
   "outputs": [],
   "source": [
    "aaa = df.head(1000)"
   ],
   "metadata": {
    "collapsed": false
   }
  },
  {
   "cell_type": "code",
   "execution_count": 7,
   "outputs": [],
   "source": [
    "df_1 = df.loc[:,['uid', 'localtime', 'loc', 'h_s', 'dur', 'seq', 'cluster', 'Deso', 'ANDAMAL_1', 'distance']]\n",
    "\n",
    "\n",
    "df_1 = pd.merge(df_1, df_h[['uid','cluster','score']], on= ['uid','cluster'], how=\"left\")\n",
    "df_1 = df_1[df_1.score.isnull()]\n",
    "df_1.drop(columns=['score'], inplace=True)"
   ],
   "metadata": {
    "collapsed": false
   }
  },
  {
   "cell_type": "markdown",
   "source": [
    "### repeat each row (stop) based on stay duration.\n",
    "### e.g., if stay in a stop longer than 30 min, make two stops"
   ],
   "metadata": {
    "collapsed": false
   }
  },
  {
   "cell_type": "code",
   "execution_count": 8,
   "outputs": [],
   "source": [
    "df_stop = df_1.copy()"
   ],
   "metadata": {
    "collapsed": false
   }
  },
  {
   "cell_type": "code",
   "execution_count": 9,
   "outputs": [],
   "source": [
    "df_stop['dur_rp'] = (df_stop['dur'] / 30) + 1\n",
    "df_stop['dur_rp'] = df_stop['dur_rp'].astype(int)\n",
    "df_stop = pd.DataFrame(np.repeat(df_stop.values, df_stop['dur_rp'].tolist(), axis=0), columns=df_stop.columns)\n",
    "\n",
    "df_stop.drop(['dur_rp'], inplace=True, axis=1)"
   ],
   "metadata": {
    "collapsed": false
   }
  },
  {
   "cell_type": "markdown",
   "source": [
    "### grouping and auto increment in index based stay\n"
   ],
   "metadata": {
    "collapsed": false
   }
  },
  {
   "cell_type": "code",
   "execution_count": 10,
   "outputs": [],
   "source": [
    "df_stop['stay_seq'] = df_stop.groupby(['uid', 'seq']).cumcount()\n",
    "df_stop['timestamp'] = pd.to_datetime(df_stop['localtime']) + (pd.Timedelta(minutes=30) * df_stop['stay_seq'])\n",
    "df_stop['hour'] = df_stop['timestamp'].dt.hour"
   ],
   "metadata": {
    "collapsed": false
   }
  },
  {
   "cell_type": "code",
   "execution_count": 11,
   "outputs": [],
   "source": [
    "aaa = df_stop.head(1000)"
   ],
   "metadata": {
    "collapsed": false
   }
  },
  {
   "cell_type": "code",
   "execution_count": 12,
   "outputs": [],
   "source": [
    "nighthours = (0, 1, 2, 3, 4, 5, 6, 7, 19, 20, 21, 22, 23, 24)\n",
    "\n",
    "### number of visit for each cluster during night hours\n",
    "df_day_visit = df_stop[['uid', 'cluster', 'localtime', 'hour']][~df_stop.hour.isin(nighthours)]"
   ],
   "metadata": {
    "collapsed": false
   }
  },
  {
   "cell_type": "code",
   "execution_count": 13,
   "outputs": [],
   "source": [
    "\n",
    "df_day_visit['day_visits'] = df_day_visit['localtime'].dt.strftime('%m-%d')"
   ],
   "metadata": {
    "collapsed": false
   }
  },
  {
   "cell_type": "code",
   "execution_count": 14,
   "outputs": [],
   "source": [
    "\n",
    "df_day_visit = df_day_visit.groupby(['uid', 'cluster'])['day_visits'].nunique().reset_index()"
   ],
   "metadata": {
    "collapsed": false
   }
  },
  {
   "cell_type": "code",
   "execution_count": 15,
   "outputs": [],
   "source": [
    "df_stop = pd.merge(df_stop, df_day_visit, on=['uid', 'cluster'], how='left')"
   ],
   "metadata": {
    "collapsed": false
   }
  },
  {
   "cell_type": "code",
   "execution_count": 16,
   "outputs": [
    {
     "data": {
      "text/plain": "Index(['uid', 'localtime', 'loc', 'h_s', 'dur', 'seq', 'cluster', 'Deso',\n       'ANDAMAL_1', 'distance', 'stay_seq', 'timestamp', 'hour', 'day_visits'],\n      dtype='object')"
     },
     "execution_count": 16,
     "metadata": {},
     "output_type": "execute_result"
    }
   ],
   "source": [
    "df_stop.columns"
   ],
   "metadata": {
    "collapsed": false
   }
  },
  {
   "cell_type": "markdown",
   "source": [
    "### remove clusters having less than 2 day stay and 10 score\n"
   ],
   "metadata": {
    "collapsed": false
   }
  },
  {
   "cell_type": "code",
   "execution_count": 17,
   "outputs": [],
   "source": [
    "min_day_visit=3\n",
    "min_score=30\n",
    "\n",
    "df_w = df_stop[df_stop.day_visits>=min_day_visit]\n",
    "\n",
    "df_w = df_w.groupby(['uid','cluster'])['dur'].agg(['sum','count']).reset_index()\n",
    "\n",
    "df_w.rename({'count':'stops', 'sum':'total_duration' }, axis=1,inplace=True)"
   ],
   "metadata": {
    "collapsed": false
   }
  },
  {
   "cell_type": "markdown",
   "source": [
    "## score"
   ],
   "metadata": {
    "collapsed": false
   }
  },
  {
   "cell_type": "code",
   "execution_count": 18,
   "outputs": [],
   "source": [
    "def score_calculator(data):\n",
    "    # represent points consistently as (lat, lon)\n",
    "    #urban_density, hour = data[['urban_density','hour']].loc[0]\n",
    "    batch = data[['urban_density','hour']].values[0]\n",
    "\n",
    "    #print(coords[0])\n",
    "\n",
    "    home_frequency = pd.read_csv('dbs/intermediate/act_temporal_pattern.csv', index_col='activity')\n",
    "    home_frequency = home_frequency.loc['Work/School', :].values.tolist()\n",
    "\n",
    "    data['score'] = home_frequency[batch[1]]\n",
    "\n",
    "    return data"
   ],
   "metadata": {
    "collapsed": false
   }
  },
  {
   "cell_type": "code",
   "execution_count": 19,
   "outputs": [],
   "source": [
    "df_score= df_stop.copy()\n",
    "\n",
    "df_score= df_score[['uid', 'cluster', 'hour', 'Deso']]\n",
    "\n",
    "df_score['urban_density'] =df_score['Deso'].str[4]\n"
   ],
   "metadata": {
    "collapsed": false
   }
  },
  {
   "cell_type": "code",
   "execution_count": 20,
   "outputs": [
    {
     "data": {
      "text/plain": "  0%|          | 0/72 [00:00<?, ?it/s]",
      "application/vnd.jupyter.widget-view+json": {
       "version_major": 2,
       "version_minor": 0,
       "model_id": "12e025b44ed64561b81917284b7e08da"
      }
     },
     "metadata": {},
     "output_type": "display_data"
    }
   ],
   "source": [
    "tqdm.pandas()\n",
    "df_score = df_score.groupby(['urban_density','hour']).progress_apply(score_calculator)"
   ],
   "metadata": {
    "collapsed": false
   }
  },
  {
   "cell_type": "code",
   "execution_count": 21,
   "outputs": [],
   "source": [
    "#df_score = df_score[~df_score.hour.isin(nighthours)]\n",
    "df_score = df_score.groupby(['uid','cluster'])['score'].sum().reset_index()\n",
    "\n",
    "\n",
    "df_w = pd.merge(df_w, df_score[['uid','cluster','score']], on=['uid','cluster'], how='left')"
   ],
   "metadata": {
    "collapsed": false
   }
  },
  {
   "cell_type": "markdown",
   "source": [
    "### sort the clusters by score and keep the four highest score clusters as potential work positions"
   ],
   "metadata": {
    "collapsed": false
   }
  },
  {
   "cell_type": "code",
   "execution_count": 22,
   "outputs": [],
   "source": [
    "df_w= df_w.sort_values(['uid','score'], ascending=False)\n",
    "\n",
    "\n",
    "df_w = df_w.groupby('uid').head(4)\n"
   ],
   "metadata": {
    "collapsed": false
   }
  },
  {
   "cell_type": "code",
   "execution_count": 23,
   "outputs": [],
   "source": [
    "# add building types to each cluster by proximity\n",
    "\n",
    "\n",
    "df_w = pd.merge(df_w, df[['uid','cluster','ANDAMAL_1', 'distance' ]].drop_duplicates(), on=['uid','cluster'], how='left')\n",
    "#df_h['ANDAMAL_1'].value_counts(normalize=True)\n",
    "building_metadata = pd.read_csv(f'./dbs/building_purpose_codes.csv', encoding='ISO-8859-1', sep=';')\n",
    "\n",
    "df_w = pd.merge(df_w, building_metadata[['Code', 'Purpose of building']], left_on='ANDAMAL_1', right_on='Code', how='left')\n",
    "\n",
    "df_w.drop(columns=['Code'], inplace=True)"
   ],
   "metadata": {
    "collapsed": false
   }
  },
  {
   "cell_type": "code",
   "execution_count": 24,
   "outputs": [],
   "source": [
    "#If the distance to the nearest building is more than 200m, assign 0 to the building type.\n",
    "\n",
    "\n",
    "df_w.ANDAMAL_1 = np.where(df_w['distance'] >= 0.1 , 0, df_w.ANDAMAL_1)\n",
    "\n",
    "df_w['Purpose of building'][df_w['ANDAMAL_1'] == 0] = 'no_building'"
   ],
   "metadata": {
    "collapsed": false
   }
  },
  {
   "cell_type": "markdown",
   "source": [
    "## generate work potential column\n",
    " - if the building type is industrial or agricultural, assign 1\n",
    " - if the building type is in certain public facilities like school, hospital or police station, assign 1\n",
    " - the score is higher than 20, assign 1"
   ],
   "metadata": {
    "collapsed": false
   }
  },
  {
   "cell_type": "code",
   "execution_count": 25,
   "outputs": [],
   "source": [
    "df_w['work_potential']=0\n",
    "\n",
    "df_w['work_potential'][(df_w['Purpose of building'] =='Industrial')  |(df_w['Purpose of building'] =='Agricultural')]=1\n",
    "\n",
    "df_w['work_potential'][(df_w.ANDAMAL_1.isin([301,302,304,305,306,307,308,310,310,311,312,313,314,315,317,318,319,321,322,324]))]=1\n",
    "\n",
    "df_w['work_potential'][df_w.score>min_score]=1"
   ],
   "metadata": {
    "collapsed": false
   }
  },
  {
   "cell_type": "code",
   "execution_count": 26,
   "outputs": [],
   "source": [
    "\n",
    "df_w = df_w[df_w['work_potential']==1]"
   ],
   "metadata": {
    "collapsed": false
   }
  },
  {
   "cell_type": "code",
   "execution_count": 27,
   "outputs": [],
   "source": [
    "df_w.to_parquet(f'./dbs/intermediate/work_inference.parquet')"
   ],
   "metadata": {
    "collapsed": false
   }
  },
  {
   "cell_type": "markdown",
   "source": [
    "### Score distribution of the inferred work locations with highest score\n"
   ],
   "metadata": {
    "collapsed": false
   }
  },
  {
   "cell_type": "code",
   "execution_count": 28,
   "outputs": [
    {
     "data": {
      "text/plain": "<Figure size 640x480 with 1 Axes>",
      "image/png": "[encoded data removed]"
     },
     "metadata": {},
     "output_type": "display_data"
    }
   ],
   "source": [
    "df_w_1 = df_w.groupby('uid').head(1)\n",
    "plt.hist(df_w_1['score'][df_w_1['score'] <= 400], bins=range(0, 400, 25), color='skyblue', edgecolor='black', alpha=0.8)\n",
    "\n",
    "# Adding labels and title\n",
    "plt.xlabel('Score')\n",
    "plt.ylabel('Frequency')\n",
    "plt.title('Cluster with min ' + str(min_day_visit) + 'day visit \\n' +'min score '+ str(min_score)+ \"\\n(Max score %.2f )\" % (max(df_w_1['score'])))\n",
    "\n",
    "x_labels = range(0, 400, 25)  # Generate labels from 1 to 24\n",
    "x_ticks = range(0, 400, 25)  # Position the labels every other data point\n",
    "#plt.ylim(0, 1.1)\n",
    "plt.xticks(x_ticks, x_labels, fontsize=11)\n",
    "plt.yticks(fontsize=12)\n",
    "plt.savefig('figures/work_score_min_visit_' + str(min_day_visit) +'_min_score '+ str(min_score)+ '.png', dpi=300, bbox_inches=\"tight\")\n",
    "\n",
    "# Display the plot\n",
    "plt.show()"
   ],
   "metadata": {
    "collapsed": false
   }
  },
  {
   "cell_type": "code",
   "execution_count": 29,
   "outputs": [
    {
     "data": {
      "text/plain": "            index  share(%)\n0          Public     35.56\n1      Industrial     26.15\n2     Residential     21.34\n3        Activity     10.83\n4     no_building      4.26\n5  Other building      1.52\n6    Agricultural      0.34",
      "text/html": "<div>\n<style scoped>\n    .dataframe tbody tr th:only-of-type {\n        vertical-align: middle;\n    }\n\n    .dataframe tbody tr th {\n        vertical-align: top;\n    }\n\n    .dataframe thead th {\n        text-align: right;\n    }\n</style>\n<table border=\"1\" class=\"dataframe\">\n  <thead>\n    <tr style=\"text-align: right;\">\n      <th></th>\n      <th>index</th>\n      <th>share(%)</th>\n    </tr>\n  </thead>\n  <tbody>\n    <tr>\n      <th>0</th>\n      <td>Public</td>\n      <td>35.56</td>\n    </tr>\n    <tr>\n      <th>1</th>\n      <td>Industrial</td>\n      <td>26.15</td>\n    </tr>\n    <tr>\n      <th>2</th>\n      <td>Residential</td>\n      <td>21.34</td>\n    </tr>\n    <tr>\n      <th>3</th>\n      <td>Activity</td>\n      <td>10.83</td>\n    </tr>\n    <tr>\n      <th>4</th>\n      <td>no_building</td>\n      <td>4.26</td>\n    </tr>\n    <tr>\n      <th>5</th>\n      <td>Other building</td>\n      <td>1.52</td>\n    </tr>\n    <tr>\n      <th>6</th>\n      <td>Agricultural</td>\n      <td>0.34</td>\n    </tr>\n  </tbody>\n</table>\n</div>"
     },
     "execution_count": 29,
     "metadata": {},
     "output_type": "execute_result"
    }
   ],
   "source": [
    "work_dist = pd.DataFrame(df_w_1['Purpose of building'].value_counts(normalize=True) * 100).reset_index().rename( columns={'Purpose of building': 'share(%)'})\n",
    "\n",
    "work_dist['share(%)'] = work_dist['share(%)'].round(2)\n",
    "\n",
    "work_dist\n"
   ],
   "metadata": {
    "collapsed": false
   }
  },
  {
   "cell_type": "code",
   "execution_count": 30,
   "outputs": [
    {
     "name": "stdout",
     "output_type": "stream",
     "text": [
      "Data contains 326325 devices in weekdays-non holidays.\n",
      "The number of the potential locations: 91765 \n",
      "The work/school location of 75079 devices was detected (23.01 of all devices).\n",
      "The work/school location of 251246 devices could not be detected.\n"
     ]
    }
   ],
   "source": [
    "print(\"Data contains %s devices in weekdays-non holidays.\"%(len(df.uid.unique())))\n",
    "print(\"The number of the potential locations: %s \"%(df_w['work_potential'].sum()))\n",
    "\n",
    "print(\"The work/school location of %s devices was detected (%s of all devices).\"%(len(df_w_1.uid.unique()), (np.round(len(df_w_1.uid.unique())/len(df.uid.unique()), 4)*100)))\n",
    "print(\"The work/school location of %s devices could not be detected.\"%(len(df.uid.unique())-len(df_w_1.uid.unique())))"
   ],
   "metadata": {
    "collapsed": false
   }
  },
  {
   "cell_type": "code",
   "execution_count": 31,
   "outputs": [],
   "source": [
    "# df_w_1[['Residential', 'Industrial','Other building', 'Activity', 'Public', 'Agricultural']].sum(axis=0)/len(df_w_1)\n"
   ],
   "metadata": {
    "collapsed": false
   }
  },
  {
   "cell_type": "code",
   "execution_count": 31,
   "outputs": [],
   "source": [],
   "metadata": {
    "collapsed": false
   }
  }
 ],
 "metadata": {
  "kernelspec": {
   "display_name": "Python 3",
   "language": "python",
   "name": "python3"
  },
  "language_info": {
   "codemirror_mode": {
    "name": "ipython",
    "version": 2
   },
   "file_extension": ".py",
   "mimetype": "text/x-python",
   "name": "python",
   "nbconvert_exporter": "python",
   "pygments_lexer": "ipython2",
   "version": "2.7.6"
  }
 },
 "nbformat": 4,
 "nbformat_minor": 0
}
