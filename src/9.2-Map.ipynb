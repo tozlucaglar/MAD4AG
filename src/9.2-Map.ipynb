{
 "cells": [
  {
   "cell_type": "code",
   "execution_count": 1,
   "metadata": {
    "collapsed": true
   },
   "outputs": [
    {
     "name": "stdout",
     "output_type": "stream",
     "text": [
      "C:\\MAD4AG\n"
     ]
    },
    {
     "name": "stderr",
     "output_type": "stream",
     "text": [
      "C:\\Users\\aglar\\AppData\\Local\\anaconda3\\envs\\pycharm\\lib\\site-packages\\geopandas\\_compat.py:115: UserWarning: The Shapely GEOS version (3.11.1-CAPI-1.17.1) is incompatible with the GEOS version PyGEOS was compiled with (3.10.4-CAPI-1.16.2). Conversions between both will be slow.\n",
      "  shapely_geos_version, geos_capi_version_string\n"
     ]
    }
   ],
   "source": [
    "%load_ext autoreload\n",
    "%autoreload 2\n",
    "\n",
    "\n",
    "%matplotlib inline\n",
    "%cd C:\\MAD4AG\n",
    "\n",
    "from tqdm.auto import tqdm\n",
    "import os\n",
    "import pandas as pd\n",
    "import numpy as np\n",
    "import matplotlib.pyplot as plt\n",
    "import warnings\n",
    "import folium\n",
    "import geopandas as gpd\n",
    "import shapely\n",
    "from shapely.geometry import LineString, Point\n",
    "\n",
    "\n",
    "warnings.filterwarnings('ignore')"
   ]
  },
  {
   "cell_type": "code",
   "execution_count": 2,
   "outputs": [],
   "source": [
    "day ='1'\n",
    "\n",
    "file = r'.\\dbs\\twins\\03-21-schedule-%s.pkl'%day\n",
    "\n",
    "df_act_schedule_0 = pd.read_pickle(file)\n",
    "\n"
   ],
   "metadata": {
    "collapsed": false
   }
  },
  {
   "cell_type": "code",
   "execution_count": 3,
   "outputs": [],
   "source": [
    "# pick an agent by the sequence\n",
    "\n",
    "#individual_uid= df_act_schedule_0['uid'][df_act_schedule_0.act_seq_simp_0==('Home', 'Work', 'Other', 'Home')].iloc[50]\n",
    "individual_uid= df_act_schedule_0['uid'][df_act_schedule_0['act_seq_simp_'+day]==('Home', 'Work', 'Other','Work','Other','Other', 'Home')].iloc[40]\n",
    "\n",
    "\n",
    "\n",
    "individual = df_act_schedule_0[(df_act_schedule_0['uid']==individual_uid)]\n",
    "\n",
    "individual['purpose'][ ~individual['purpose'].isin(['Home', 'Work'])] = individual['purpose'][ ~individual['purpose'].isin(['Home', 'Work'])].str[:5]"
   ],
   "metadata": {
    "collapsed": false
   }
  },
  {
   "cell_type": "code",
   "execution_count": 4,
   "outputs": [],
   "source": [
    "individual['dur'] = individual['h_e']- individual['h_s']\n",
    "individual['dur'] = individual['dur'] / 60\n",
    "individual['dur'] = individual['dur'].round(2)\n",
    "\n",
    "individual['h_s'] = individual['h_s']/60\n",
    "individual['h_s'] = individual['h_s'].round(1)\n"
   ],
   "metadata": {
    "collapsed": false
   }
  },
  {
   "cell_type": "code",
   "execution_count": 5,
   "outputs": [],
   "source": [
    "color_dict = {\n",
    "    'Home': 'tab:green',\n",
    "    'Work': 'tab:blue',\n",
    "    'Other': 'tab:orange'\n",
    "}"
   ],
   "metadata": {
    "collapsed": false
   }
  },
  {
   "cell_type": "code",
   "execution_count": 6,
   "outputs": [
    {
     "data": {
      "text/plain": "<Figure size 1000x100 with 1 Axes>",
      "image/png": "[encoded data removed]"
     },
     "metadata": {},
     "output_type": "display_data"
    }
   ],
   "source": [
    "# Declaring a figure \"gnt\"\n",
    "fig, ax = plt.subplots(figsize=(10, 1))\n",
    "\n",
    "# Setting Y-axis limits\n",
    "ax.set_xlim(0, 25)\n",
    "ax.set_ylim(-2, 2)\n",
    "#sns.scatterplot(df_tst, y='PId', x='time', ax=ax)\n",
    "ax.broken_barh(list(zip(individual.h_s, individual.dur)), (-1, 2),\n",
    "               facecolors =[color_dict[x] for x in individual.purpose])\n",
    "for x1, x2, act in individual[['h_s', 'dur', 'purpose']].values:\n",
    "    ax.text(x=x1 + x2/2,\n",
    "            y=0,\n",
    "            s=act,\n",
    "            ha='center',\n",
    "            va='center',\n",
    "            color='white',\n",
    "            )\n",
    "ax.set_xticks([np.round(x) for x in individual.h_s] + [24],\n",
    "              labels=[x for x in individual.h_s] + [24])\n",
    "ax.set_yticks([0], labels=[f'Agent {1}'])\n",
    "plt.box(on=None)\n",
    "plt.show()"
   ],
   "metadata": {
    "collapsed": false
   }
  },
  {
   "cell_type": "markdown",
   "source": [],
   "metadata": {
    "collapsed": false
   }
  },
  {
   "cell_type": "code",
   "execution_count": 7,
   "outputs": [],
   "source": [
    "individual_trip = individual\n",
    "individual_trip['lat_dest'] =individual_trip['lat'].shift(1)\n",
    "individual_trip['lng_dest'] =individual_trip['lng'].shift(1)\n",
    "individual_trip = individual_trip.iloc[1:]\n"
   ],
   "metadata": {
    "collapsed": false
   }
  },
  {
   "cell_type": "code",
   "execution_count": 8,
   "outputs": [],
   "source": [
    "\n",
    "individual_trip['from'] = individual_trip.apply(lambda row: Point([row['lat'], row['lng']]), axis=1)\n",
    "individual_trip['to'] = individual_trip.apply(lambda row: Point([row['lat_dest'], row['lng_dest']]), axis=1)\n",
    "\n",
    "individual_trip['geometry'] = individual_trip.apply(lambda row: LineString([row['from'], row['to']]), axis=1) #Create a linestring column\n"
   ],
   "metadata": {
    "collapsed": false
   }
  },
  {
   "cell_type": "code",
   "execution_count": 9,
   "outputs": [],
   "source": [
    "gdf_events_ind = gpd.GeoDataFrame(individual_trip, geometry='geometry')\n",
    "gdf_events_ind.crs =\"epsg:4326\"\n",
    "\n",
    "gdf_events_ind['points'] = gdf_events_ind.apply(lambda x: [y for y in x['geometry'].coords], axis=1)\n"
   ],
   "metadata": {
    "collapsed": false
   }
  },
  {
   "cell_type": "code",
   "execution_count": 10,
   "outputs": [],
   "source": [
    "points = []\n",
    "for x in gdf_events_ind['points'].values:\n",
    "    points += x\n",
    "gdf_points = gpd.GeoDataFrame({}, geometry=[shapely.geometry.Point(x[0], x[1]) for x in points])\n",
    "center = gdf_points.dissolve().centroid\n",
    "center = [center.x.values[0], center.y.values[0]]"
   ],
   "metadata": {
    "collapsed": false
   }
  },
  {
   "cell_type": "code",
   "execution_count": 11,
   "outputs": [],
   "source": [
    "gdf_plans_ind = gpd.GeoDataFrame(individual,geometry=gpd.points_from_xy(individual.lng, individual.lat), crs=\"EPSG:4326\")"
   ],
   "metadata": {
    "collapsed": false
   }
  },
  {
   "cell_type": "code",
   "execution_count": 12,
   "outputs": [],
   "source": [
    "color_dict = {\n",
    "'Home': 'green',\n",
    "'Work': 'blue',\n",
    "'Other': 'orange'}\n",
    "\n",
    "icon_dict = {\n",
    "'Home': 'home',\n",
    "'Work': 'briefcase',\n",
    "'Other': 'shopping-cart'}"
   ],
   "metadata": {
    "collapsed": false
   }
  },
  {
   "cell_type": "code",
   "execution_count": 13,
   "outputs": [
    {
     "data": {
      "text/plain": "<folium.folium.Map at 0x1ba89729988>",
      "text/html": "<div style=\"width:100%;\"><div style=\"position:relative;width:100%;height:0;padding-bottom:60%;\"><span style=\"color:#565656\">Make this Notebook Trusted to load map: File -> Trust Notebook</span><iframe srcdoc=\"&lt;!DOCTYPE html&gt;\n&lt;html&gt;\n&lt;head&gt;\n    \n    &lt;meta http-equiv=&quot;content-type&quot; content=&quot;text/html; charset=UTF-8&quot; /&gt;\n    \n        &lt;script&gt;\n            L_NO_TOUCH = false;\n            L_DISABLE_3D = false;\n        &lt;/script&gt;\n    \n    &lt;style&gt;html, body {width: 100%;height: 100%;margin: 0;padding: 0;}&lt;/style&gt;\n    &lt;style&gt;#map {position:absolute;top:0;bottom:0;right:0;left:0;}&lt;/style&gt;\n    &lt;script src=&quot;https://cdn.jsdelivr.net/npm/leaflet@1.9.3/dist/leaflet.js&quot;&gt;&lt;/script&gt;\n    &lt;script src=&quot;https://code.jquery.com/jquery-1.12.4.min.js&quot;&gt;&lt;/script&gt;\n    &lt;script src=&quot;https://cdn.jsdelivr.net/npm/bootstrap@5.2.2/dist/js/bootstrap.bundle.min.js&quot;&gt;&lt;/script&gt;\n    &lt;script src=&quot;https://cdnjs.cloudflare.com/ajax/libs/Leaflet.awesome-markers/2.0.2/leaflet.awesome-markers.js&quot;&gt;&lt;/script&gt;\n    &lt;link rel=&quot;stylesheet&quot; href=&quot;https://cdn.jsdelivr.net/npm/leaflet@1.9.3/dist/leaflet.css&quot;/&gt;\n    &lt;link rel=&quot;stylesheet&quot; href=&quot;https://cdn.jsdelivr.net/npm/bootstrap@5.2.2/dist/css/bootstrap.min.css&quot;/&gt;\n    &lt;link rel=&quot;stylesheet&quot; href=&quot;https://netdna.bootstrapcdn.com/bootstrap/3.0.0/css/bootstrap.min.css&quot;/&gt;\n    &lt;link rel=&quot;stylesheet&quot; href=&quot;https://cdn.jsdelivr.net/npm/@fortawesome/fontawesome-free@6.2.0/css/all.min.css&quot;/&gt;\n    &lt;link rel=&quot;stylesheet&quot; href=&quot;https://cdnjs.cloudflare.com/ajax/libs/Leaflet.awesome-markers/2.0.2/leaflet.awesome-markers.css&quot;/&gt;\n    &lt;link rel=&quot;stylesheet&quot; href=&quot;https://cdn.jsdelivr.net/gh/python-visualization/folium/folium/templates/leaflet.awesome.rotate.min.css&quot;/&gt;\n    \n            &lt;meta name=&quot;viewport&quot; content=&quot;width=device-width,\n                initial-scale=1.0, maximum-scale=1.0, user-scalable=no&quot; /&gt;\n            &lt;style&gt;\n                #map_6f6088773d195a0a8708706a19e39e93 {\n                    position: relative;\n                    width: 100.0%;\n                    height: 100.0%;\n                    left: 0.0%;\n                    top: 0.0%;\n                }\n                .leaflet-container { font-size: 1rem; }\n            &lt;/style&gt;\n        \n&lt;/head&gt;\n&lt;body&gt;\n    \n    \n            &lt;div class=&quot;folium-map&quot; id=&quot;map_6f6088773d195a0a8708706a19e39e93&quot; &gt;&lt;/div&gt;\n        \n&lt;/body&gt;\n&lt;script&gt;\n    \n    \n            var map_6f6088773d195a0a8708706a19e39e93 = L.map(\n                &quot;map_6f6088773d195a0a8708706a19e39e93&quot;,\n                {\n                    center: [59.70653344540004, 12.53835479280004],\n                    crs: L.CRS.EPSG3857,\n                    zoom: 10,\n                    zoomControl: true,\n                    preferCanvas: false,\n                }\n            );\n\n            \n\n        \n    \n            var tile_layer_740c56a90589a6717db46ff8d6342535 = L.tileLayer(\n                &quot;https://{s}.tile.openstreetmap.org/{z}/{x}/{y}.png&quot;,\n                {&quot;attribution&quot;: &quot;Data by \\u0026copy; \\u003ca target=\\&quot;_blank\\&quot; href=\\&quot;http://openstreetmap.org\\&quot;\\u003eOpenStreetMap\\u003c/a\\u003e, under \\u003ca target=\\&quot;_blank\\&quot; href=\\&quot;http://www.openstreetmap.org/copyright\\&quot;\\u003eODbL\\u003c/a\\u003e.&quot;, &quot;detectRetina&quot;: false, &quot;maxNativeZoom&quot;: 18, &quot;maxZoom&quot;: 18, &quot;minZoom&quot;: 0, &quot;noWrap&quot;: false, &quot;opacity&quot;: 1, &quot;subdomains&quot;: &quot;abc&quot;, &quot;tms&quot;: false}\n            ).addTo(map_6f6088773d195a0a8708706a19e39e93);\n        \n    \n            var circle_marker_52b0809da9d1b1df0135199d690e906b = L.circleMarker(\n                [59.74732625400003, 12.479292070000042],\n                {&quot;bubblingMouseEvents&quot;: true, &quot;color&quot;: &quot;green&quot;, &quot;dashArray&quot;: null, &quot;dashOffset&quot;: null, &quot;fill&quot;: true, &quot;fillColor&quot;: &quot;green&quot;, &quot;fillOpacity&quot;: 0.4, &quot;fillRule&quot;: &quot;evenodd&quot;, &quot;lineCap&quot;: &quot;round&quot;, &quot;lineJoin&quot;: &quot;round&quot;, &quot;opacity&quot;: 0.6, &quot;radius&quot;: 5, &quot;stroke&quot;: true, &quot;weight&quot;: 3}\n            ).addTo(map_6f6088773d195a0a8708706a19e39e93);\n        \n    \n        var popup_dfe6585b8370f5a05a76eb8b00c56a93 = L.popup({&quot;maxWidth&quot;: &quot;100%&quot;});\n\n        \n            \n                var html_b63e04cce9b6dcb660b1ca7a065b6dd6 = $(`&lt;div id=&quot;html_b63e04cce9b6dcb660b1ca7a065b6dd6&quot; style=&quot;width: 100.0%; height: 100.0%;&quot;&gt;Home&lt;/div&gt;`)[0];\n                popup_dfe6585b8370f5a05a76eb8b00c56a93.setContent(html_b63e04cce9b6dcb660b1ca7a065b6dd6);\n            \n        \n\n        circle_marker_52b0809da9d1b1df0135199d690e906b.bindPopup(popup_dfe6585b8370f5a05a76eb8b00c56a93)\n        ;\n\n        \n    \n    \n            var circle_marker_2baf3fc2812d5273f8a56fd154f2d66a = L.circleMarker(\n                [59.640497106000055, 12.61927189100004],\n                {&quot;bubblingMouseEvents&quot;: true, &quot;color&quot;: &quot;blue&quot;, &quot;dashArray&quot;: null, &quot;dashOffset&quot;: null, &quot;fill&quot;: true, &quot;fillColor&quot;: &quot;blue&quot;, &quot;fillOpacity&quot;: 0.4, &quot;fillRule&quot;: &quot;evenodd&quot;, &quot;lineCap&quot;: &quot;round&quot;, &quot;lineJoin&quot;: &quot;round&quot;, &quot;opacity&quot;: 0.6, &quot;radius&quot;: 5, &quot;stroke&quot;: true, &quot;weight&quot;: 3}\n            ).addTo(map_6f6088773d195a0a8708706a19e39e93);\n        \n    \n        var popup_b4053d07030debb7fee16d514948e4c6 = L.popup({&quot;maxWidth&quot;: &quot;100%&quot;});\n\n        \n            \n                var html_978497b673ab500d24ce518c462ee0cb = $(`&lt;div id=&quot;html_978497b673ab500d24ce518c462ee0cb&quot; style=&quot;width: 100.0%; height: 100.0%;&quot;&gt;Work&lt;/div&gt;`)[0];\n                popup_b4053d07030debb7fee16d514948e4c6.setContent(html_978497b673ab500d24ce518c462ee0cb);\n            \n        \n\n        circle_marker_2baf3fc2812d5273f8a56fd154f2d66a.bindPopup(popup_b4053d07030debb7fee16d514948e4c6)\n        ;\n\n        \n    \n    \n            var circle_marker_c7f3508dc837e855682f0d9dc5686297 = L.circleMarker(\n                [59.75, 12.48],\n                {&quot;bubblingMouseEvents&quot;: true, &quot;color&quot;: &quot;orange&quot;, &quot;dashArray&quot;: null, &quot;dashOffset&quot;: null, &quot;fill&quot;: true, &quot;fillColor&quot;: &quot;orange&quot;, &quot;fillOpacity&quot;: 0.4, &quot;fillRule&quot;: &quot;evenodd&quot;, &quot;lineCap&quot;: &quot;round&quot;, &quot;lineJoin&quot;: &quot;round&quot;, &quot;opacity&quot;: 0.6, &quot;radius&quot;: 5, &quot;stroke&quot;: true, &quot;weight&quot;: 3}\n            ).addTo(map_6f6088773d195a0a8708706a19e39e93);\n        \n    \n        var popup_d2e67a9f7e2a668b3e1f6d034fd5cb7d = L.popup({&quot;maxWidth&quot;: &quot;100%&quot;});\n\n        \n            \n                var html_156f5c860251298f05d3fac18cc81473 = $(`&lt;div id=&quot;html_156f5c860251298f05d3fac18cc81473&quot; style=&quot;width: 100.0%; height: 100.0%;&quot;&gt;Other&lt;/div&gt;`)[0];\n                popup_d2e67a9f7e2a668b3e1f6d034fd5cb7d.setContent(html_156f5c860251298f05d3fac18cc81473);\n            \n        \n\n        circle_marker_c7f3508dc837e855682f0d9dc5686297.bindPopup(popup_d2e67a9f7e2a668b3e1f6d034fd5cb7d)\n        ;\n\n        \n    \n    \n            var circle_marker_98886cf20bbcbb7023bedfb59aba9425 = L.circleMarker(\n                [59.640497106000055, 12.61927189100004],\n                {&quot;bubblingMouseEvents&quot;: true, &quot;color&quot;: &quot;blue&quot;, &quot;dashArray&quot;: null, &quot;dashOffset&quot;: null, &quot;fill&quot;: true, &quot;fillColor&quot;: &quot;blue&quot;, &quot;fillOpacity&quot;: 0.4, &quot;fillRule&quot;: &quot;evenodd&quot;, &quot;lineCap&quot;: &quot;round&quot;, &quot;lineJoin&quot;: &quot;round&quot;, &quot;opacity&quot;: 0.6, &quot;radius&quot;: 5, &quot;stroke&quot;: true, &quot;weight&quot;: 3}\n            ).addTo(map_6f6088773d195a0a8708706a19e39e93);\n        \n    \n        var popup_45a4f0f3c36325d126351555aeafd322 = L.popup({&quot;maxWidth&quot;: &quot;100%&quot;});\n\n        \n            \n                var html_960067a89d1b7fbc21dc620d01a7d3ca = $(`&lt;div id=&quot;html_960067a89d1b7fbc21dc620d01a7d3ca&quot; style=&quot;width: 100.0%; height: 100.0%;&quot;&gt;Work&lt;/div&gt;`)[0];\n                popup_45a4f0f3c36325d126351555aeafd322.setContent(html_960067a89d1b7fbc21dc620d01a7d3ca);\n            \n        \n\n        circle_marker_98886cf20bbcbb7023bedfb59aba9425.bindPopup(popup_45a4f0f3c36325d126351555aeafd322)\n        ;\n\n        \n    \n    \n            var circle_marker_7beda57e64118ed57310067b23bf57f8 = L.circleMarker(\n                [59.64028460800006, 12.630751461000045],\n                {&quot;bubblingMouseEvents&quot;: true, &quot;color&quot;: &quot;orange&quot;, &quot;dashArray&quot;: null, &quot;dashOffset&quot;: null, &quot;fill&quot;: true, &quot;fillColor&quot;: &quot;orange&quot;, &quot;fillOpacity&quot;: 0.4, &quot;fillRule&quot;: &quot;evenodd&quot;, &quot;lineCap&quot;: &quot;round&quot;, &quot;lineJoin&quot;: &quot;round&quot;, &quot;opacity&quot;: 0.6, &quot;radius&quot;: 5, &quot;stroke&quot;: true, &quot;weight&quot;: 3}\n            ).addTo(map_6f6088773d195a0a8708706a19e39e93);\n        \n    \n        var popup_867bfdd62d4691fc8d5476d0b0acd4af = L.popup({&quot;maxWidth&quot;: &quot;100%&quot;});\n\n        \n            \n                var html_8c98a8f79e447925e8811cef7ec81d25 = $(`&lt;div id=&quot;html_8c98a8f79e447925e8811cef7ec81d25&quot; style=&quot;width: 100.0%; height: 100.0%;&quot;&gt;Other&lt;/div&gt;`)[0];\n                popup_867bfdd62d4691fc8d5476d0b0acd4af.setContent(html_8c98a8f79e447925e8811cef7ec81d25);\n            \n        \n\n        circle_marker_7beda57e64118ed57310067b23bf57f8.bindPopup(popup_867bfdd62d4691fc8d5476d0b0acd4af)\n        ;\n\n        \n    \n    \n            var circle_marker_e5c77dc4bf6381d8034ebbfcb95b741b = L.circleMarker(\n                [59.754559259000075, 12.482458542000074],\n                {&quot;bubblingMouseEvents&quot;: true, &quot;color&quot;: &quot;orange&quot;, &quot;dashArray&quot;: null, &quot;dashOffset&quot;: null, &quot;fill&quot;: true, &quot;fillColor&quot;: &quot;orange&quot;, &quot;fillOpacity&quot;: 0.4, &quot;fillRule&quot;: &quot;evenodd&quot;, &quot;lineCap&quot;: &quot;round&quot;, &quot;lineJoin&quot;: &quot;round&quot;, &quot;opacity&quot;: 0.6, &quot;radius&quot;: 5, &quot;stroke&quot;: true, &quot;weight&quot;: 3}\n            ).addTo(map_6f6088773d195a0a8708706a19e39e93);\n        \n    \n        var popup_1af31b6e616b734a8b8050b02f77b91f = L.popup({&quot;maxWidth&quot;: &quot;100%&quot;});\n\n        \n            \n                var html_0c3e4537d153228ec6b891dd6acb7242 = $(`&lt;div id=&quot;html_0c3e4537d153228ec6b891dd6acb7242&quot; style=&quot;width: 100.0%; height: 100.0%;&quot;&gt;Other&lt;/div&gt;`)[0];\n                popup_1af31b6e616b734a8b8050b02f77b91f.setContent(html_0c3e4537d153228ec6b891dd6acb7242);\n            \n        \n\n        circle_marker_e5c77dc4bf6381d8034ebbfcb95b741b.bindPopup(popup_1af31b6e616b734a8b8050b02f77b91f)\n        ;\n\n        \n    \n    \n            var circle_marker_0c29590039bf5b9a2d85440605b4609d = L.circleMarker(\n                [59.74732625400003, 12.479292070000042],\n                {&quot;bubblingMouseEvents&quot;: true, &quot;color&quot;: &quot;green&quot;, &quot;dashArray&quot;: null, &quot;dashOffset&quot;: null, &quot;fill&quot;: true, &quot;fillColor&quot;: &quot;green&quot;, &quot;fillOpacity&quot;: 0.4, &quot;fillRule&quot;: &quot;evenodd&quot;, &quot;lineCap&quot;: &quot;round&quot;, &quot;lineJoin&quot;: &quot;round&quot;, &quot;opacity&quot;: 0.6, &quot;radius&quot;: 5, &quot;stroke&quot;: true, &quot;weight&quot;: 3}\n            ).addTo(map_6f6088773d195a0a8708706a19e39e93);\n        \n    \n        var popup_5c18d55fc472ab6d5816eb6121455247 = L.popup({&quot;maxWidth&quot;: &quot;100%&quot;});\n\n        \n            \n                var html_240fdadbbd07428748d27c490fe852ed = $(`&lt;div id=&quot;html_240fdadbbd07428748d27c490fe852ed&quot; style=&quot;width: 100.0%; height: 100.0%;&quot;&gt;Home&lt;/div&gt;`)[0];\n                popup_5c18d55fc472ab6d5816eb6121455247.setContent(html_240fdadbbd07428748d27c490fe852ed);\n            \n        \n\n        circle_marker_0c29590039bf5b9a2d85440605b4609d.bindPopup(popup_5c18d55fc472ab6d5816eb6121455247)\n        ;\n\n        \n    \n    \n            var poly_line_0a16fcec1f103cf810e5083161893a94 = L.polyline(\n                [[59.640497106000055, 12.61927189100004], [59.74732625400003, 12.479292070000042]],\n                {&quot;bubblingMouseEvents&quot;: true, &quot;color&quot;: &quot;gray&quot;, &quot;dashArray&quot;: null, &quot;dashOffset&quot;: null, &quot;fill&quot;: false, &quot;fillColor&quot;: &quot;gray&quot;, &quot;fillOpacity&quot;: 0.2, &quot;fillRule&quot;: &quot;evenodd&quot;, &quot;lineCap&quot;: &quot;round&quot;, &quot;lineJoin&quot;: &quot;round&quot;, &quot;noClip&quot;: false, &quot;opacity&quot;: 0.8, &quot;smoothFactor&quot;: 1.0, &quot;stroke&quot;: true, &quot;weight&quot;: 3}\n            ).addTo(map_6f6088773d195a0a8708706a19e39e93);\n        \n    \n        var popup_691b8ec19c7c556cb7a3f4a6e2d47b95 = L.popup({&quot;maxWidth&quot;: &quot;100%&quot;});\n\n        \n            \n                var html_4ddd19b5b54845ab79891a51e3333781 = $(`&lt;div id=&quot;html_4ddd19b5b54845ab79891a51e3333781&quot; style=&quot;width: 100.0%; height: 100.0%;&quot;&gt;trip 1&lt;/div&gt;`)[0];\n                popup_691b8ec19c7c556cb7a3f4a6e2d47b95.setContent(html_4ddd19b5b54845ab79891a51e3333781);\n            \n        \n\n        poly_line_0a16fcec1f103cf810e5083161893a94.bindPopup(popup_691b8ec19c7c556cb7a3f4a6e2d47b95)\n        ;\n\n        \n    \n    \n            var poly_line_ebd1c17c4c0c8188245d9aaef133aae9 = L.polyline(\n                [[59.75, 12.48], [59.640497106000055, 12.61927189100004]],\n                {&quot;bubblingMouseEvents&quot;: true, &quot;color&quot;: &quot;gray&quot;, &quot;dashArray&quot;: null, &quot;dashOffset&quot;: null, &quot;fill&quot;: false, &quot;fillColor&quot;: &quot;gray&quot;, &quot;fillOpacity&quot;: 0.2, &quot;fillRule&quot;: &quot;evenodd&quot;, &quot;lineCap&quot;: &quot;round&quot;, &quot;lineJoin&quot;: &quot;round&quot;, &quot;noClip&quot;: false, &quot;opacity&quot;: 0.8, &quot;smoothFactor&quot;: 1.0, &quot;stroke&quot;: true, &quot;weight&quot;: 3}\n            ).addTo(map_6f6088773d195a0a8708706a19e39e93);\n        \n    \n        var popup_eb37a69693a237ef0cfec21bd2484b60 = L.popup({&quot;maxWidth&quot;: &quot;100%&quot;});\n\n        \n            \n                var html_f6dcfdd41f81e7eb8051ce4d0f4f89a3 = $(`&lt;div id=&quot;html_f6dcfdd41f81e7eb8051ce4d0f4f89a3&quot; style=&quot;width: 100.0%; height: 100.0%;&quot;&gt;trip 2&lt;/div&gt;`)[0];\n                popup_eb37a69693a237ef0cfec21bd2484b60.setContent(html_f6dcfdd41f81e7eb8051ce4d0f4f89a3);\n            \n        \n\n        poly_line_ebd1c17c4c0c8188245d9aaef133aae9.bindPopup(popup_eb37a69693a237ef0cfec21bd2484b60)\n        ;\n\n        \n    \n    \n            var poly_line_60e2d265f099870e6574e4e4df89036e = L.polyline(\n                [[59.640497106000055, 12.61927189100004], [59.75, 12.48]],\n                {&quot;bubblingMouseEvents&quot;: true, &quot;color&quot;: &quot;gray&quot;, &quot;dashArray&quot;: null, &quot;dashOffset&quot;: null, &quot;fill&quot;: false, &quot;fillColor&quot;: &quot;gray&quot;, &quot;fillOpacity&quot;: 0.2, &quot;fillRule&quot;: &quot;evenodd&quot;, &quot;lineCap&quot;: &quot;round&quot;, &quot;lineJoin&quot;: &quot;round&quot;, &quot;noClip&quot;: false, &quot;opacity&quot;: 0.8, &quot;smoothFactor&quot;: 1.0, &quot;stroke&quot;: true, &quot;weight&quot;: 3}\n            ).addTo(map_6f6088773d195a0a8708706a19e39e93);\n        \n    \n        var popup_a327455ec6a1abe39c33398932262dc1 = L.popup({&quot;maxWidth&quot;: &quot;100%&quot;});\n\n        \n            \n                var html_ef4b0d0e7b1addde3297e5153375f09a = $(`&lt;div id=&quot;html_ef4b0d0e7b1addde3297e5153375f09a&quot; style=&quot;width: 100.0%; height: 100.0%;&quot;&gt;trip 3&lt;/div&gt;`)[0];\n                popup_a327455ec6a1abe39c33398932262dc1.setContent(html_ef4b0d0e7b1addde3297e5153375f09a);\n            \n        \n\n        poly_line_60e2d265f099870e6574e4e4df89036e.bindPopup(popup_a327455ec6a1abe39c33398932262dc1)\n        ;\n\n        \n    \n    \n            var poly_line_3d30839fac11f8eff7d9b035c48278fb = L.polyline(\n                [[59.64028460800006, 12.630751461000045], [59.640497106000055, 12.61927189100004]],\n                {&quot;bubblingMouseEvents&quot;: true, &quot;color&quot;: &quot;gray&quot;, &quot;dashArray&quot;: null, &quot;dashOffset&quot;: null, &quot;fill&quot;: false, &quot;fillColor&quot;: &quot;gray&quot;, &quot;fillOpacity&quot;: 0.2, &quot;fillRule&quot;: &quot;evenodd&quot;, &quot;lineCap&quot;: &quot;round&quot;, &quot;lineJoin&quot;: &quot;round&quot;, &quot;noClip&quot;: false, &quot;opacity&quot;: 0.8, &quot;smoothFactor&quot;: 1.0, &quot;stroke&quot;: true, &quot;weight&quot;: 3}\n            ).addTo(map_6f6088773d195a0a8708706a19e39e93);\n        \n    \n        var popup_0f2391e1d365118b02e93506d247508e = L.popup({&quot;maxWidth&quot;: &quot;100%&quot;});\n\n        \n            \n                var html_9fcb3154c801d1cba1e40b5bfee1ddac = $(`&lt;div id=&quot;html_9fcb3154c801d1cba1e40b5bfee1ddac&quot; style=&quot;width: 100.0%; height: 100.0%;&quot;&gt;trip 4&lt;/div&gt;`)[0];\n                popup_0f2391e1d365118b02e93506d247508e.setContent(html_9fcb3154c801d1cba1e40b5bfee1ddac);\n            \n        \n\n        poly_line_3d30839fac11f8eff7d9b035c48278fb.bindPopup(popup_0f2391e1d365118b02e93506d247508e)\n        ;\n\n        \n    \n    \n            var poly_line_ee2f7825570b992bf936a03c1bfe1a40 = L.polyline(\n                [[59.754559259000075, 12.482458542000074], [59.64028460800006, 12.630751461000045]],\n                {&quot;bubblingMouseEvents&quot;: true, &quot;color&quot;: &quot;gray&quot;, &quot;dashArray&quot;: null, &quot;dashOffset&quot;: null, &quot;fill&quot;: false, &quot;fillColor&quot;: &quot;gray&quot;, &quot;fillOpacity&quot;: 0.2, &quot;fillRule&quot;: &quot;evenodd&quot;, &quot;lineCap&quot;: &quot;round&quot;, &quot;lineJoin&quot;: &quot;round&quot;, &quot;noClip&quot;: false, &quot;opacity&quot;: 0.8, &quot;smoothFactor&quot;: 1.0, &quot;stroke&quot;: true, &quot;weight&quot;: 3}\n            ).addTo(map_6f6088773d195a0a8708706a19e39e93);\n        \n    \n        var popup_0743a627cb9f1c898a3eede8c1e50631 = L.popup({&quot;maxWidth&quot;: &quot;100%&quot;});\n\n        \n            \n                var html_bb2c7e42308dce779efca57c0ac7de47 = $(`&lt;div id=&quot;html_bb2c7e42308dce779efca57c0ac7de47&quot; style=&quot;width: 100.0%; height: 100.0%;&quot;&gt;trip 5&lt;/div&gt;`)[0];\n                popup_0743a627cb9f1c898a3eede8c1e50631.setContent(html_bb2c7e42308dce779efca57c0ac7de47);\n            \n        \n\n        poly_line_ee2f7825570b992bf936a03c1bfe1a40.bindPopup(popup_0743a627cb9f1c898a3eede8c1e50631)\n        ;\n\n        \n    \n    \n            var poly_line_0f928ad39379c733361de5db589df71d = L.polyline(\n                [[59.74732625400003, 12.479292070000042], [59.754559259000075, 12.482458542000074]],\n                {&quot;bubblingMouseEvents&quot;: true, &quot;color&quot;: &quot;gray&quot;, &quot;dashArray&quot;: null, &quot;dashOffset&quot;: null, &quot;fill&quot;: false, &quot;fillColor&quot;: &quot;gray&quot;, &quot;fillOpacity&quot;: 0.2, &quot;fillRule&quot;: &quot;evenodd&quot;, &quot;lineCap&quot;: &quot;round&quot;, &quot;lineJoin&quot;: &quot;round&quot;, &quot;noClip&quot;: false, &quot;opacity&quot;: 0.8, &quot;smoothFactor&quot;: 1.0, &quot;stroke&quot;: true, &quot;weight&quot;: 3}\n            ).addTo(map_6f6088773d195a0a8708706a19e39e93);\n        \n    \n        var popup_2ed8ad3ce6818de73cff95162189df46 = L.popup({&quot;maxWidth&quot;: &quot;100%&quot;});\n\n        \n            \n                var html_a218cf7199ed9f08ac7ca881ec2aa3d6 = $(`&lt;div id=&quot;html_a218cf7199ed9f08ac7ca881ec2aa3d6&quot; style=&quot;width: 100.0%; height: 100.0%;&quot;&gt;trip 6&lt;/div&gt;`)[0];\n                popup_2ed8ad3ce6818de73cff95162189df46.setContent(html_a218cf7199ed9f08ac7ca881ec2aa3d6);\n            \n        \n\n        poly_line_0f928ad39379c733361de5db589df71d.bindPopup(popup_2ed8ad3ce6818de73cff95162189df46)\n        ;\n\n        \n    \n    \n            var marker_c47772dfc20ac325aae0ee533e08f8fb = L.marker(\n                [59.69691168000004, 12.552281980500041],\n                {&quot;opacity&quot;: 0.8}\n            ).addTo(map_6f6088773d195a0a8708706a19e39e93);\n        \n    \n            var div_icon_d664a91ac23a12f31976635d54480616 = L.divIcon({&quot;className&quot;: &quot;empty&quot;, &quot;html&quot;: &quot;\\u003cdiv style=\\&quot;font-family: Arial; font-size: 12px;\\&quot;\\u003etrip_1\\u003c/div\\u003e&quot;});\n            marker_c47772dfc20ac325aae0ee533e08f8fb.setIcon(div_icon_d664a91ac23a12f31976635d54480616);\n        \n    \n            var marker_658ea4286f36e7af9bea6f8a78bd1ae3 = L.marker(\n                [59.69824855300003, 12.55263594550002],\n                {&quot;opacity&quot;: 0.8}\n            ).addTo(map_6f6088773d195a0a8708706a19e39e93);\n        \n    \n            var div_icon_c5155d751a4e1a7f6d30def2e7dc935f = L.divIcon({&quot;className&quot;: &quot;empty&quot;, &quot;html&quot;: &quot;\\u003cdiv style=\\&quot;font-family: Arial; font-size: 12px;\\&quot;\\u003etrip_2\\u003c/div\\u003e&quot;});\n            marker_658ea4286f36e7af9bea6f8a78bd1ae3.setIcon(div_icon_c5155d751a4e1a7f6d30def2e7dc935f);\n        \n    \n            var marker_3897ae94a1c953f590349babd3a0ffef = L.marker(\n                [59.69824855300003, 12.55263594550002],\n                {&quot;opacity&quot;: 0.8}\n            ).addTo(map_6f6088773d195a0a8708706a19e39e93);\n        \n    \n            var div_icon_6295eae6e5b77afb875750adf77ef85b = L.divIcon({&quot;className&quot;: &quot;empty&quot;, &quot;html&quot;: &quot;\\u003cdiv style=\\&quot;font-family: Arial; font-size: 12px;\\&quot;\\u003etrip_3\\u003c/div\\u003e&quot;});\n            marker_3897ae94a1c953f590349babd3a0ffef.setIcon(div_icon_6295eae6e5b77afb875750adf77ef85b);\n        \n    \n            var marker_29293f2630ed00b50b531afedf7d1115 = L.marker(\n                [59.64339085700006, 12.628011676000042],\n                {&quot;opacity&quot;: 0.8}\n            ).addTo(map_6f6088773d195a0a8708706a19e39e93);\n        \n    \n            var div_icon_1cc2294044122652c78b939e4d822d2a = L.divIcon({&quot;className&quot;: &quot;empty&quot;, &quot;html&quot;: &quot;\\u003cdiv style=\\&quot;font-family: Arial; font-size: 12px;\\&quot;\\u003etrip_4\\u003c/div\\u003e&quot;});\n            marker_29293f2630ed00b50b531afedf7d1115.setIcon(div_icon_1cc2294044122652c78b939e4d822d2a);\n        \n    \n            var marker_a0a3399429f663ab3659e50281d5cec2 = L.marker(\n                [59.700421933500074, 12.55960500150006],\n                {&quot;opacity&quot;: 0.8}\n            ).addTo(map_6f6088773d195a0a8708706a19e39e93);\n        \n    \n            var div_icon_91cfb24c7aec51df91cf5f4200d0a252 = L.divIcon({&quot;className&quot;: &quot;empty&quot;, &quot;html&quot;: &quot;\\u003cdiv style=\\&quot;font-family: Arial; font-size: 12px;\\&quot;\\u003etrip_5\\u003c/div\\u003e&quot;});\n            marker_a0a3399429f663ab3659e50281d5cec2.setIcon(div_icon_91cfb24c7aec51df91cf5f4200d0a252);\n        \n    \n            var marker_66be46c5165576b661f981833cdebf52 = L.marker(\n                [59.75394275650005, 12.483875306000058],\n                {&quot;opacity&quot;: 0.8}\n            ).addTo(map_6f6088773d195a0a8708706a19e39e93);\n        \n    \n            var div_icon_d532dd4d38e8ed6afa58c854ee175745 = L.divIcon({&quot;className&quot;: &quot;empty&quot;, &quot;html&quot;: &quot;\\u003cdiv style=\\&quot;font-family: Arial; font-size: 12px;\\&quot;\\u003etrip_6\\u003c/div\\u003e&quot;});\n            marker_66be46c5165576b661f981833cdebf52.setIcon(div_icon_d532dd4d38e8ed6afa58c854ee175745);\n        \n    \n            var marker_16eafc21f3a21920ee7cedfbeb2c7348 = L.marker(\n                [59.74732625400003, 12.479292070000042],\n                {&quot;opacity&quot;: 0.8}\n            ).addTo(map_6f6088773d195a0a8708706a19e39e93);\n        \n    \n            var icon_f76645727daf574a96281bf32d6d16ed = L.AwesomeMarkers.icon(\n                {&quot;extraClasses&quot;: &quot;fa-rotate-0&quot;, &quot;icon&quot;: &quot;home&quot;, &quot;iconColor&quot;: &quot;white&quot;, &quot;markerColor&quot;: &quot;green&quot;, &quot;prefix&quot;: &quot;fa&quot;}\n            );\n            marker_16eafc21f3a21920ee7cedfbeb2c7348.setIcon(icon_f76645727daf574a96281bf32d6d16ed);\n        \n    \n        var popup_834820e9af5d9beedaa9f7a40f0e02d4 = L.popup({&quot;maxWidth&quot;: &quot;100%&quot;});\n\n        \n            \n                var html_f0dab181ebefc2aa27338b0d060d9f4d = $(`&lt;div id=&quot;html_f0dab181ebefc2aa27338b0d060d9f4d&quot; style=&quot;width: 100.0%; height: 100.0%;&quot;&gt;Home&lt;/div&gt;`)[0];\n                popup_834820e9af5d9beedaa9f7a40f0e02d4.setContent(html_f0dab181ebefc2aa27338b0d060d9f4d);\n            \n        \n\n        marker_16eafc21f3a21920ee7cedfbeb2c7348.bindPopup(popup_834820e9af5d9beedaa9f7a40f0e02d4)\n        ;\n\n        \n    \n    \n            var marker_dbad39b2e05d8f96215859e6d25445a0 = L.marker(\n                [59.640497106000055, 12.61927189100004],\n                {&quot;opacity&quot;: 0.8}\n            ).addTo(map_6f6088773d195a0a8708706a19e39e93);\n        \n    \n            var icon_11dc62cf19b5ddb980762ccd892b3a01 = L.AwesomeMarkers.icon(\n                {&quot;extraClasses&quot;: &quot;fa-rotate-0&quot;, &quot;icon&quot;: &quot;briefcase&quot;, &quot;iconColor&quot;: &quot;white&quot;, &quot;markerColor&quot;: &quot;blue&quot;, &quot;prefix&quot;: &quot;fa&quot;}\n            );\n            marker_dbad39b2e05d8f96215859e6d25445a0.setIcon(icon_11dc62cf19b5ddb980762ccd892b3a01);\n        \n    \n        var popup_acce8c02d7ab7c2879e719f82b6d8633 = L.popup({&quot;maxWidth&quot;: &quot;100%&quot;});\n\n        \n            \n                var html_3043803b901b45ed49ec385623803b1d = $(`&lt;div id=&quot;html_3043803b901b45ed49ec385623803b1d&quot; style=&quot;width: 100.0%; height: 100.0%;&quot;&gt;Work&lt;/div&gt;`)[0];\n                popup_acce8c02d7ab7c2879e719f82b6d8633.setContent(html_3043803b901b45ed49ec385623803b1d);\n            \n        \n\n        marker_dbad39b2e05d8f96215859e6d25445a0.bindPopup(popup_acce8c02d7ab7c2879e719f82b6d8633)\n        ;\n\n        \n    \n    \n            var marker_9d46a47adb49966eb94636ac809fe949 = L.marker(\n                [59.75, 12.48],\n                {&quot;opacity&quot;: 0.8}\n            ).addTo(map_6f6088773d195a0a8708706a19e39e93);\n        \n    \n            var icon_aa14913e429146fb7ba489b07c545a13 = L.AwesomeMarkers.icon(\n                {&quot;extraClasses&quot;: &quot;fa-rotate-0&quot;, &quot;icon&quot;: &quot;shopping-cart&quot;, &quot;iconColor&quot;: &quot;white&quot;, &quot;markerColor&quot;: &quot;orange&quot;, &quot;prefix&quot;: &quot;fa&quot;}\n            );\n            marker_9d46a47adb49966eb94636ac809fe949.setIcon(icon_aa14913e429146fb7ba489b07c545a13);\n        \n    \n        var popup_a518832c766d5749f8ba0ba4d76aee8d = L.popup({&quot;maxWidth&quot;: &quot;100%&quot;});\n\n        \n            \n                var html_817c1f988977640ca110cc911b49cc94 = $(`&lt;div id=&quot;html_817c1f988977640ca110cc911b49cc94&quot; style=&quot;width: 100.0%; height: 100.0%;&quot;&gt;Other&lt;/div&gt;`)[0];\n                popup_a518832c766d5749f8ba0ba4d76aee8d.setContent(html_817c1f988977640ca110cc911b49cc94);\n            \n        \n\n        marker_9d46a47adb49966eb94636ac809fe949.bindPopup(popup_a518832c766d5749f8ba0ba4d76aee8d)\n        ;\n\n        \n    \n    \n            var marker_48f759629a4235e9b3e5d8948579ceb2 = L.marker(\n                [59.640497106000055, 12.61927189100004],\n                {&quot;opacity&quot;: 0.8}\n            ).addTo(map_6f6088773d195a0a8708706a19e39e93);\n        \n    \n            var icon_3e404d7f0be899ee929a7062a332111f = L.AwesomeMarkers.icon(\n                {&quot;extraClasses&quot;: &quot;fa-rotate-0&quot;, &quot;icon&quot;: &quot;briefcase&quot;, &quot;iconColor&quot;: &quot;white&quot;, &quot;markerColor&quot;: &quot;blue&quot;, &quot;prefix&quot;: &quot;fa&quot;}\n            );\n            marker_48f759629a4235e9b3e5d8948579ceb2.setIcon(icon_3e404d7f0be899ee929a7062a332111f);\n        \n    \n        var popup_455c5fdd1e1de383f5cdeba7baaee31b = L.popup({&quot;maxWidth&quot;: &quot;100%&quot;});\n\n        \n            \n                var html_5c9b1c4dfb3d24799bba1fefa3df19f8 = $(`&lt;div id=&quot;html_5c9b1c4dfb3d24799bba1fefa3df19f8&quot; style=&quot;width: 100.0%; height: 100.0%;&quot;&gt;Work&lt;/div&gt;`)[0];\n                popup_455c5fdd1e1de383f5cdeba7baaee31b.setContent(html_5c9b1c4dfb3d24799bba1fefa3df19f8);\n            \n        \n\n        marker_48f759629a4235e9b3e5d8948579ceb2.bindPopup(popup_455c5fdd1e1de383f5cdeba7baaee31b)\n        ;\n\n        \n    \n    \n            var marker_0cf2a1f30e3249b0d6e38386d06e7269 = L.marker(\n                [59.64028460800006, 12.630751461000045],\n                {&quot;opacity&quot;: 0.8}\n            ).addTo(map_6f6088773d195a0a8708706a19e39e93);\n        \n    \n            var icon_df4716721a355333f421ffa10c3fd078 = L.AwesomeMarkers.icon(\n                {&quot;extraClasses&quot;: &quot;fa-rotate-0&quot;, &quot;icon&quot;: &quot;shopping-cart&quot;, &quot;iconColor&quot;: &quot;white&quot;, &quot;markerColor&quot;: &quot;orange&quot;, &quot;prefix&quot;: &quot;fa&quot;}\n            );\n            marker_0cf2a1f30e3249b0d6e38386d06e7269.setIcon(icon_df4716721a355333f421ffa10c3fd078);\n        \n    \n        var popup_06a2fa7edfd9d495594ad2a123852ea6 = L.popup({&quot;maxWidth&quot;: &quot;100%&quot;});\n\n        \n            \n                var html_26426a6fe26ad10c24173249e3009388 = $(`&lt;div id=&quot;html_26426a6fe26ad10c24173249e3009388&quot; style=&quot;width: 100.0%; height: 100.0%;&quot;&gt;Other&lt;/div&gt;`)[0];\n                popup_06a2fa7edfd9d495594ad2a123852ea6.setContent(html_26426a6fe26ad10c24173249e3009388);\n            \n        \n\n        marker_0cf2a1f30e3249b0d6e38386d06e7269.bindPopup(popup_06a2fa7edfd9d495594ad2a123852ea6)\n        ;\n\n        \n    \n    \n            var marker_e864c57c84f44f48bc4120bd902ea420 = L.marker(\n                [59.754559259000075, 12.482458542000074],\n                {&quot;opacity&quot;: 0.8}\n            ).addTo(map_6f6088773d195a0a8708706a19e39e93);\n        \n    \n            var icon_9f6935117952b747e199f5e295c30912 = L.AwesomeMarkers.icon(\n                {&quot;extraClasses&quot;: &quot;fa-rotate-0&quot;, &quot;icon&quot;: &quot;shopping-cart&quot;, &quot;iconColor&quot;: &quot;white&quot;, &quot;markerColor&quot;: &quot;orange&quot;, &quot;prefix&quot;: &quot;fa&quot;}\n            );\n            marker_e864c57c84f44f48bc4120bd902ea420.setIcon(icon_9f6935117952b747e199f5e295c30912);\n        \n    \n        var popup_b1ac5077319a2d0b48212b01bbc59705 = L.popup({&quot;maxWidth&quot;: &quot;100%&quot;});\n\n        \n            \n                var html_2a6034d1abce93d518f11abd3b022fc7 = $(`&lt;div id=&quot;html_2a6034d1abce93d518f11abd3b022fc7&quot; style=&quot;width: 100.0%; height: 100.0%;&quot;&gt;Other&lt;/div&gt;`)[0];\n                popup_b1ac5077319a2d0b48212b01bbc59705.setContent(html_2a6034d1abce93d518f11abd3b022fc7);\n            \n        \n\n        marker_e864c57c84f44f48bc4120bd902ea420.bindPopup(popup_b1ac5077319a2d0b48212b01bbc59705)\n        ;\n\n        \n    \n    \n            var marker_98a80833f5342447310abe9e4f85978e = L.marker(\n                [59.74732625400003, 12.479292070000042],\n                {&quot;opacity&quot;: 0.8}\n            ).addTo(map_6f6088773d195a0a8708706a19e39e93);\n        \n    \n            var icon_574947112bb69a920be9d005653d6c31 = L.AwesomeMarkers.icon(\n                {&quot;extraClasses&quot;: &quot;fa-rotate-0&quot;, &quot;icon&quot;: &quot;home&quot;, &quot;iconColor&quot;: &quot;white&quot;, &quot;markerColor&quot;: &quot;green&quot;, &quot;prefix&quot;: &quot;fa&quot;}\n            );\n            marker_98a80833f5342447310abe9e4f85978e.setIcon(icon_574947112bb69a920be9d005653d6c31);\n        \n    \n        var popup_93d9c6f845449991f94381f9683eecb4 = L.popup({&quot;maxWidth&quot;: &quot;100%&quot;});\n\n        \n            \n                var html_70c3a41da7ca8bf74f467f07c94eb6f5 = $(`&lt;div id=&quot;html_70c3a41da7ca8bf74f467f07c94eb6f5&quot; style=&quot;width: 100.0%; height: 100.0%;&quot;&gt;Home&lt;/div&gt;`)[0];\n                popup_93d9c6f845449991f94381f9683eecb4.setContent(html_70c3a41da7ca8bf74f467f07c94eb6f5);\n            \n        \n\n        marker_98a80833f5342447310abe9e4f85978e.bindPopup(popup_93d9c6f845449991f94381f9683eecb4)\n        ;\n\n        \n    \n    \n            var pane_b50b1e0bc5bf3564717aad8133ccbcaa = map_6f6088773d195a0a8708706a19e39e93.createPane(\n                &quot;labels&quot;);\n            pane_b50b1e0bc5bf3564717aad8133ccbcaa.style.zIndex = 625;\n            \n                pane_b50b1e0bc5bf3564717aad8133ccbcaa.style.pointerEvents = &#x27;none&#x27;;\n            \n        \n&lt;/script&gt;\n&lt;/html&gt;\" style=\"position:absolute;width:100%;height:100%;left:0;top:0;border:none !important;\" allowfullscreen webkitallowfullscreen mozallowfullscreen></iframe></div></div>"
     },
     "execution_count": 13,
     "metadata": {},
     "output_type": "execute_result"
    }
   ],
   "source": [
    "m = folium.Map(location=center, zoom_start=10)\n",
    "\n",
    "\n",
    "gdf_plans_ind.apply(lambda row : folium.CircleMarker(\n",
    "    location=(row[\"lat\"], row[\"lng\"]), radius=5,\n",
    "    fill_color=color_dict[row['purpose']],\n",
    "    popup=row['purpose'],\n",
    "    color=color_dict[row['purpose']],\n",
    "    fill_opacity=0.4,opacity=0.6).add_to(m), axis=1)\n",
    "\n",
    "gdf_events_ind.apply(lambda row : folium.PolyLine(locations=row[\"points\"],\n",
    "                                                  color='gray',\n",
    "                                                  opacity=0.8,\n",
    "                                                  popup = 'trip '+str(row['act_seq'])\n",
    "                                                  ).add_to(m), axis=1)\n",
    "\n",
    "gdf_events_ind.apply(lambda row : folium.Marker(\n",
    "    location=(row['geometry'].centroid.x+0.003,row['geometry'].centroid.y+0.003),\n",
    "    icon=folium.DivIcon(html=f\"\"\"<div style=\"font-family: Arial; font-size: 12px;\">trip_{str(row['act_seq'])}</div>\"\"\"),\n",
    "    opacity=0.8).add_to(m), axis=1)\n",
    "\n",
    "gdf_plans_ind.apply(lambda row : folium.Marker(\n",
    "    location=(row[\"lat\"], row[\"lng\"]),\n",
    "    icon=folium.Icon( icon=icon_dict[row['purpose']], color=color_dict[str(row['purpose'])], prefix='fa'),\n",
    "    popup=row['purpose'],\n",
    "    opacity=0.8).add_to(m), axis=1)\n",
    "\n",
    "folium.map.CustomPane(\"labels\").add_to(m)\n",
    "\n",
    "m"
   ],
   "metadata": {
    "collapsed": false
   }
  },
  {
   "cell_type": "code",
   "execution_count": 13,
   "outputs": [],
   "source": [],
   "metadata": {
    "collapsed": false
   }
  }
 ],
 "metadata": {
  "kernelspec": {
   "display_name": "Python 3",
   "language": "python",
   "name": "python3"
  },
  "language_info": {
   "codemirror_mode": {
    "name": "ipython",
    "version": 2
   },
   "file_extension": ".py",
   "mimetype": "text/x-python",
   "name": "python",
   "nbconvert_exporter": "python",
   "pygments_lexer": "ipython2",
   "version": "2.7.6"
  }
 },
 "nbformat": 4,
 "nbformat_minor": 0
}
