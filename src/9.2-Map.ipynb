{
 "cells": [
  {
   "cell_type": "code",
   "execution_count": 14,
   "metadata": {
    "collapsed": true
   },
   "outputs": [
    {
     "name": "stdout",
     "output_type": "stream",
     "text": [
      "The autoreload extension is already loaded. To reload it, use:\n",
      "  %reload_ext autoreload\n",
      "C:\\MAD4AG\n"
     ]
    }
   ],
   "source": [
    "%load_ext autoreload\n",
    "%autoreload 2\n",
    "\n",
    "\n",
    "%matplotlib inline\n",
    "%cd C:\\MAD4AG\n",
    "\n",
    "from tqdm.auto import tqdm\n",
    "import os\n",
    "import pandas as pd\n",
    "import numpy as np\n",
    "import matplotlib.pyplot as plt\n",
    "import warnings\n",
    "import folium\n",
    "import geopandas as gpd\n",
    "import shapely\n",
    "from shapely.geometry import LineString, Point\n",
    "\n",
    "\n",
    "warnings.filterwarnings('ignore')"
   ]
  },
  {
   "cell_type": "code",
   "execution_count": 83,
   "outputs": [],
   "source": [
    "day ='4'\n",
    "\n",
    "file = r'.\\dbs\\twins\\03-21-schedule-%s.pkl'%day\n",
    "\n",
    "df_act_schedule_0 = pd.read_pickle(file)\n",
    "\n"
   ],
   "metadata": {
    "collapsed": false
   }
  },
  {
   "cell_type": "code",
   "execution_count": 84,
   "outputs": [],
   "source": [
    "# pick an agent by the sequence\n",
    "\n",
    "#individual_uid= df_act_schedule_0['uid'][df_act_schedule_0.act_seq_simp_0==('Home', 'Work', 'Other', 'Home')].iloc[50]\n",
    "individual_uid= df_act_schedule_0['uid'][df_act_schedule_0['act_seq_simp_'+day]==('Home', 'Other','Work','Other','Other', 'Home')].iloc[28]\n",
    "\n",
    "\n",
    "\n",
    "individual = df_act_schedule_0[(df_act_schedule_0['uid']==individual_uid)]\n",
    "\n",
    "individual['purpose'][ ~individual['purpose'].isin(['Home', 'Work'])] = individual['purpose'][ ~individual['purpose'].isin(['Home', 'Work'])].str[:5]"
   ],
   "metadata": {
    "collapsed": false
   }
  },
  {
   "cell_type": "code",
   "execution_count": 85,
   "outputs": [],
   "source": [
    "individual['dur'] = individual['h_e']- individual['h_s']\n",
    "individual['dur'] = individual['dur'] / 60\n",
    "individual['dur'] = individual['dur'].round(2)\n",
    "\n",
    "individual['h_s'] = individual['h_s']/60\n",
    "individual['h_s'] = individual['h_s'].round(1)\n"
   ],
   "metadata": {
    "collapsed": false
   }
  },
  {
   "cell_type": "code",
   "execution_count": 86,
   "outputs": [],
   "source": [
    "color_dict = {\n",
    "    'Home': 'tab:green',\n",
    "    'Work': 'tab:blue',\n",
    "    'Other': 'tab:orange'\n",
    "}"
   ],
   "metadata": {
    "collapsed": false
   }
  },
  {
   "cell_type": "code",
   "execution_count": 87,
   "outputs": [
    {
     "data": {
      "text/plain": "<Figure size 1000x100 with 1 Axes>",
      "image/png": "[encoded data removed]"
     },
     "metadata": {},
     "output_type": "display_data"
    }
   ],
   "source": [
    "# Declaring a figure \"gnt\"\n",
    "fig, ax = plt.subplots(figsize=(10, 1))\n",
    "\n",
    "# Setting Y-axis limits\n",
    "ax.set_xlim(0, 25)\n",
    "ax.set_ylim(-2, 2)\n",
    "#sns.scatterplot(df_tst, y='PId', x='time', ax=ax)\n",
    "ax.broken_barh(list(zip(individual.h_s, individual.dur)), (-1, 2),\n",
    "               facecolors =[color_dict[x] for x in individual.purpose])\n",
    "for x1, x2, act in individual[['h_s', 'dur', 'purpose']].values:\n",
    "    ax.text(x=x1 + x2/2,\n",
    "            y=0,\n",
    "            s=act,\n",
    "            ha='center',\n",
    "            va='center',\n",
    "            color='white',\n",
    "            )\n",
    "ax.set_xticks([np.round(x) for x in individual.h_s] + [24],\n",
    "              labels=[x for x in individual.h_s] + [24])\n",
    "ax.set_yticks([0], labels=[f'Agent {1}'])\n",
    "plt.box(on=None)\n",
    "plt.show()"
   ],
   "metadata": {
    "collapsed": false
   }
  },
  {
   "cell_type": "markdown",
   "source": [],
   "metadata": {
    "collapsed": false
   }
  },
  {
   "cell_type": "code",
   "execution_count": 88,
   "outputs": [],
   "source": [
    "individual_trip = individual\n",
    "individual_trip['lat_dest'] =individual_trip['lat'].shift(1)\n",
    "individual_trip['lng_dest'] =individual_trip['lng'].shift(1)\n",
    "individual_trip = individual_trip.iloc[1:]\n"
   ],
   "metadata": {
    "collapsed": false
   }
  },
  {
   "cell_type": "code",
   "execution_count": 89,
   "outputs": [],
   "source": [
    "\n",
    "individual_trip['from'] = individual_trip.apply(lambda row: Point([row['lat'], row['lng']]), axis=1)\n",
    "individual_trip['to'] = individual_trip.apply(lambda row: Point([row['lat_dest'], row['lng_dest']]), axis=1)\n",
    "\n",
    "individual_trip['geometry'] = individual_trip.apply(lambda row: LineString([row['from'], row['to']]), axis=1) #Create a linestring column\n"
   ],
   "metadata": {
    "collapsed": false
   }
  },
  {
   "cell_type": "code",
   "execution_count": 90,
   "outputs": [],
   "source": [
    "gdf_events_ind = gpd.GeoDataFrame(individual_trip, geometry='geometry')\n",
    "gdf_events_ind.crs =\"epsg:4326\"\n",
    "\n",
    "gdf_events_ind['points'] = gdf_events_ind.apply(lambda x: [y for y in x['geometry'].coords], axis=1)\n"
   ],
   "metadata": {
    "collapsed": false
   }
  },
  {
   "cell_type": "code",
   "execution_count": 91,
   "outputs": [],
   "source": [
    "points = []\n",
    "for x in gdf_events_ind['points'].values:\n",
    "    points += x\n",
    "gdf_points = gpd.GeoDataFrame({}, geometry=[shapely.geometry.Point(x[0], x[1]) for x in points])\n",
    "center = gdf_points.dissolve().centroid\n",
    "center = [center.x.values[0], center.y.values[0]]"
   ],
   "metadata": {
    "collapsed": false
   }
  },
  {
   "cell_type": "code",
   "execution_count": 92,
   "outputs": [],
   "source": [
    "gdf_plans_ind = gpd.GeoDataFrame(individual,geometry=gpd.points_from_xy(individual.lng, individual.lat), crs=\"EPSG:4326\")"
   ],
   "metadata": {
    "collapsed": false
   }
  },
  {
   "cell_type": "code",
   "execution_count": 93,
   "outputs": [],
   "source": [
    "color_dict = {\n",
    "'Home': 'green',\n",
    "'Work': 'blue',\n",
    "'Other': 'orange'}\n",
    "\n",
    "icon_dict = {\n",
    "'Home': 'home',\n",
    "'Work': 'briefcase',\n",
    "'Other': 'shopping-cart'}"
   ],
   "metadata": {
    "collapsed": false
   }
  },
  {
   "cell_type": "code",
   "execution_count": 94,
   "outputs": [
    {
     "data": {
      "text/plain": "<folium.folium.Map at 0x1ba8d1bf588>",
      "text/html": "<div style=\"width:100%;\"><div style=\"position:relative;width:100%;height:0;padding-bottom:60%;\"><span style=\"color:#565656\">Make this Notebook Trusted to load map: File -> Trust Notebook</span><iframe srcdoc=\"&lt;!DOCTYPE html&gt;\n&lt;html&gt;\n&lt;head&gt;\n    \n    &lt;meta http-equiv=&quot;content-type&quot; content=&quot;text/html; charset=UTF-8&quot; /&gt;\n    \n        &lt;script&gt;\n            L_NO_TOUCH = false;\n            L_DISABLE_3D = false;\n        &lt;/script&gt;\n    \n    &lt;style&gt;html, body {width: 100%;height: 100%;margin: 0;padding: 0;}&lt;/style&gt;\n    &lt;style&gt;#map {position:absolute;top:0;bottom:0;right:0;left:0;}&lt;/style&gt;\n    &lt;script src=&quot;https://cdn.jsdelivr.net/npm/leaflet@1.9.3/dist/leaflet.js&quot;&gt;&lt;/script&gt;\n    &lt;script src=&quot;https://code.jquery.com/jquery-1.12.4.min.js&quot;&gt;&lt;/script&gt;\n    &lt;script src=&quot;https://cdn.jsdelivr.net/npm/bootstrap@5.2.2/dist/js/bootstrap.bundle.min.js&quot;&gt;&lt;/script&gt;\n    &lt;script src=&quot;https://cdnjs.cloudflare.com/ajax/libs/Leaflet.awesome-markers/2.0.2/leaflet.awesome-markers.js&quot;&gt;&lt;/script&gt;\n    &lt;link rel=&quot;stylesheet&quot; href=&quot;https://cdn.jsdelivr.net/npm/leaflet@1.9.3/dist/leaflet.css&quot;/&gt;\n    &lt;link rel=&quot;stylesheet&quot; href=&quot;https://cdn.jsdelivr.net/npm/bootstrap@5.2.2/dist/css/bootstrap.min.css&quot;/&gt;\n    &lt;link rel=&quot;stylesheet&quot; href=&quot;https://netdna.bootstrapcdn.com/bootstrap/3.0.0/css/bootstrap.min.css&quot;/&gt;\n    &lt;link rel=&quot;stylesheet&quot; href=&quot;https://cdn.jsdelivr.net/npm/@fortawesome/fontawesome-free@6.2.0/css/all.min.css&quot;/&gt;\n    &lt;link rel=&quot;stylesheet&quot; href=&quot;https://cdnjs.cloudflare.com/ajax/libs/Leaflet.awesome-markers/2.0.2/leaflet.awesome-markers.css&quot;/&gt;\n    &lt;link rel=&quot;stylesheet&quot; href=&quot;https://cdn.jsdelivr.net/gh/python-visualization/folium/folium/templates/leaflet.awesome.rotate.min.css&quot;/&gt;\n    \n            &lt;meta name=&quot;viewport&quot; content=&quot;width=device-width,\n                initial-scale=1.0, maximum-scale=1.0, user-scalable=no&quot; /&gt;\n            &lt;style&gt;\n                #map_6f25d259ec54835ba6d9acdf82165cea {\n                    position: relative;\n                    width: 100.0%;\n                    height: 100.0%;\n                    left: 0.0%;\n                    top: 0.0%;\n                }\n                .leaflet-container { font-size: 1rem; }\n            &lt;/style&gt;\n        \n&lt;/head&gt;\n&lt;body&gt;\n    \n    \n            &lt;div class=&quot;folium-map&quot; id=&quot;map_6f25d259ec54835ba6d9acdf82165cea&quot; &gt;&lt;/div&gt;\n        \n&lt;/body&gt;\n&lt;script&gt;\n    \n    \n            var map_6f25d259ec54835ba6d9acdf82165cea = L.map(\n                &quot;map_6f25d259ec54835ba6d9acdf82165cea&quot;,\n                {\n                    center: [57.09958450950005, 12.25323893250004],\n                    crs: L.CRS.EPSG3857,\n                    zoom: 10,\n                    zoomControl: true,\n                    preferCanvas: false,\n                }\n            );\n\n            \n\n        \n    \n            var tile_layer_b82586fdcc7345aa1080a32597bc7fb9 = L.tileLayer(\n                &quot;https://{s}.tile.openstreetmap.org/{z}/{x}/{y}.png&quot;,\n                {&quot;attribution&quot;: &quot;Data by \\u0026copy; \\u003ca target=\\&quot;_blank\\&quot; href=\\&quot;http://openstreetmap.org\\&quot;\\u003eOpenStreetMap\\u003c/a\\u003e, under \\u003ca target=\\&quot;_blank\\&quot; href=\\&quot;http://www.openstreetmap.org/copyright\\&quot;\\u003eODbL\\u003c/a\\u003e.&quot;, &quot;detectRetina&quot;: false, &quot;maxNativeZoom&quot;: 18, &quot;maxZoom&quot;: 18, &quot;minZoom&quot;: 0, &quot;noWrap&quot;: false, &quot;opacity&quot;: 1, &quot;subdomains&quot;: &quot;abc&quot;, &quot;tms&quot;: false}\n            ).addTo(map_6f25d259ec54835ba6d9acdf82165cea);\n        \n    \n            var circle_marker_a41c5b6a3d46c8428bf006bd64f93468 = L.circleMarker(\n                [57.096352040000056, 12.253309584000021],\n                {&quot;bubblingMouseEvents&quot;: true, &quot;color&quot;: &quot;green&quot;, &quot;dashArray&quot;: null, &quot;dashOffset&quot;: null, &quot;fill&quot;: true, &quot;fillColor&quot;: &quot;green&quot;, &quot;fillOpacity&quot;: 0.4, &quot;fillRule&quot;: &quot;evenodd&quot;, &quot;lineCap&quot;: &quot;round&quot;, &quot;lineJoin&quot;: &quot;round&quot;, &quot;opacity&quot;: 0.6, &quot;radius&quot;: 5, &quot;stroke&quot;: true, &quot;weight&quot;: 3}\n            ).addTo(map_6f25d259ec54835ba6d9acdf82165cea);\n        \n    \n        var popup_feca76e8890c73f6d04c05823c4d6b49 = L.popup({&quot;maxWidth&quot;: &quot;100%&quot;});\n\n        \n            \n                var html_95713186859c66267db7badc1ab26ab7 = $(`&lt;div id=&quot;html_95713186859c66267db7badc1ab26ab7&quot; style=&quot;width: 100.0%; height: 100.0%;&quot;&gt;Home&lt;/div&gt;`)[0];\n                popup_feca76e8890c73f6d04c05823c4d6b49.setContent(html_95713186859c66267db7badc1ab26ab7);\n            \n        \n\n        circle_marker_a41c5b6a3d46c8428bf006bd64f93468.bindPopup(popup_feca76e8890c73f6d04c05823c4d6b49)\n        ;\n\n        \n    \n    \n            var circle_marker_bc0d9e4ad34f5f9efd69a997443f7c9f = L.circleMarker(\n                [57.09649549100004, 12.256531969000036],\n                {&quot;bubblingMouseEvents&quot;: true, &quot;color&quot;: &quot;orange&quot;, &quot;dashArray&quot;: null, &quot;dashOffset&quot;: null, &quot;fill&quot;: true, &quot;fillColor&quot;: &quot;orange&quot;, &quot;fillOpacity&quot;: 0.4, &quot;fillRule&quot;: &quot;evenodd&quot;, &quot;lineCap&quot;: &quot;round&quot;, &quot;lineJoin&quot;: &quot;round&quot;, &quot;opacity&quot;: 0.6, &quot;radius&quot;: 5, &quot;stroke&quot;: true, &quot;weight&quot;: 3}\n            ).addTo(map_6f25d259ec54835ba6d9acdf82165cea);\n        \n    \n        var popup_5ac5a997c708d98983669e771a77acc4 = L.popup({&quot;maxWidth&quot;: &quot;100%&quot;});\n\n        \n            \n                var html_c8e88f1172922fac369d62a0d66a1976 = $(`&lt;div id=&quot;html_c8e88f1172922fac369d62a0d66a1976&quot; style=&quot;width: 100.0%; height: 100.0%;&quot;&gt;Other&lt;/div&gt;`)[0];\n                popup_5ac5a997c708d98983669e771a77acc4.setContent(html_c8e88f1172922fac369d62a0d66a1976);\n            \n        \n\n        circle_marker_bc0d9e4ad34f5f9efd69a997443f7c9f.bindPopup(popup_5ac5a997c708d98983669e771a77acc4)\n        ;\n\n        \n    \n    \n            var circle_marker_f493ddbc01e1492a47ae05ca0c7ecf87 = L.circleMarker(\n                [57.09951730100005, 12.254260908000049],\n                {&quot;bubblingMouseEvents&quot;: true, &quot;color&quot;: &quot;blue&quot;, &quot;dashArray&quot;: null, &quot;dashOffset&quot;: null, &quot;fill&quot;: true, &quot;fillColor&quot;: &quot;blue&quot;, &quot;fillOpacity&quot;: 0.4, &quot;fillRule&quot;: &quot;evenodd&quot;, &quot;lineCap&quot;: &quot;round&quot;, &quot;lineJoin&quot;: &quot;round&quot;, &quot;opacity&quot;: 0.6, &quot;radius&quot;: 5, &quot;stroke&quot;: true, &quot;weight&quot;: 3}\n            ).addTo(map_6f25d259ec54835ba6d9acdf82165cea);\n        \n    \n        var popup_ddabe3c9420fdf4f5c7b9e82a797070a = L.popup({&quot;maxWidth&quot;: &quot;100%&quot;});\n\n        \n            \n                var html_244709bbcab75d149901cb607e0913fc = $(`&lt;div id=&quot;html_244709bbcab75d149901cb607e0913fc&quot; style=&quot;width: 100.0%; height: 100.0%;&quot;&gt;Work&lt;/div&gt;`)[0];\n                popup_ddabe3c9420fdf4f5c7b9e82a797070a.setContent(html_244709bbcab75d149901cb607e0913fc);\n            \n        \n\n        circle_marker_f493ddbc01e1492a47ae05ca0c7ecf87.bindPopup(popup_ddabe3c9420fdf4f5c7b9e82a797070a)\n        ;\n\n        \n    \n    \n            var circle_marker_96581ac88115af9a137b9bb8fc640791 = L.circleMarker(\n                [57.09649549100004, 12.256531969000036],\n                {&quot;bubblingMouseEvents&quot;: true, &quot;color&quot;: &quot;orange&quot;, &quot;dashArray&quot;: null, &quot;dashOffset&quot;: null, &quot;fill&quot;: true, &quot;fillColor&quot;: &quot;orange&quot;, &quot;fillOpacity&quot;: 0.4, &quot;fillRule&quot;: &quot;evenodd&quot;, &quot;lineCap&quot;: &quot;round&quot;, &quot;lineJoin&quot;: &quot;round&quot;, &quot;opacity&quot;: 0.6, &quot;radius&quot;: 5, &quot;stroke&quot;: true, &quot;weight&quot;: 3}\n            ).addTo(map_6f25d259ec54835ba6d9acdf82165cea);\n        \n    \n        var popup_59e450fdf6b2125413bc0faf4f5b344b = L.popup({&quot;maxWidth&quot;: &quot;100%&quot;});\n\n        \n            \n                var html_bdeb7096ccdb0c5c4599130261fdeee4 = $(`&lt;div id=&quot;html_bdeb7096ccdb0c5c4599130261fdeee4&quot; style=&quot;width: 100.0%; height: 100.0%;&quot;&gt;Other&lt;/div&gt;`)[0];\n                popup_59e450fdf6b2125413bc0faf4f5b344b.setContent(html_bdeb7096ccdb0c5c4599130261fdeee4);\n            \n        \n\n        circle_marker_96581ac88115af9a137b9bb8fc640791.bindPopup(popup_59e450fdf6b2125413bc0faf4f5b344b)\n        ;\n\n        \n    \n    \n            var circle_marker_95a56a01953bdef05cce0837587bd9e5 = L.circleMarker(\n                [57.105973206000044, 12.248853269000051],\n                {&quot;bubblingMouseEvents&quot;: true, &quot;color&quot;: &quot;orange&quot;, &quot;dashArray&quot;: null, &quot;dashOffset&quot;: null, &quot;fill&quot;: true, &quot;fillColor&quot;: &quot;orange&quot;, &quot;fillOpacity&quot;: 0.4, &quot;fillRule&quot;: &quot;evenodd&quot;, &quot;lineCap&quot;: &quot;round&quot;, &quot;lineJoin&quot;: &quot;round&quot;, &quot;opacity&quot;: 0.6, &quot;radius&quot;: 5, &quot;stroke&quot;: true, &quot;weight&quot;: 3}\n            ).addTo(map_6f25d259ec54835ba6d9acdf82165cea);\n        \n    \n        var popup_d5096ba4bbac7243ffa7b24117bc5c56 = L.popup({&quot;maxWidth&quot;: &quot;100%&quot;});\n\n        \n            \n                var html_394e17d964bb2e014bf4d6e5888737a5 = $(`&lt;div id=&quot;html_394e17d964bb2e014bf4d6e5888737a5&quot; style=&quot;width: 100.0%; height: 100.0%;&quot;&gt;Other&lt;/div&gt;`)[0];\n                popup_d5096ba4bbac7243ffa7b24117bc5c56.setContent(html_394e17d964bb2e014bf4d6e5888737a5);\n            \n        \n\n        circle_marker_95a56a01953bdef05cce0837587bd9e5.bindPopup(popup_d5096ba4bbac7243ffa7b24117bc5c56)\n        ;\n\n        \n    \n    \n            var circle_marker_e9c543f07c8fa2fec11844b2c3e411e7 = L.circleMarker(\n                [57.096352040000056, 12.253309584000021],\n                {&quot;bubblingMouseEvents&quot;: true, &quot;color&quot;: &quot;green&quot;, &quot;dashArray&quot;: null, &quot;dashOffset&quot;: null, &quot;fill&quot;: true, &quot;fillColor&quot;: &quot;green&quot;, &quot;fillOpacity&quot;: 0.4, &quot;fillRule&quot;: &quot;evenodd&quot;, &quot;lineCap&quot;: &quot;round&quot;, &quot;lineJoin&quot;: &quot;round&quot;, &quot;opacity&quot;: 0.6, &quot;radius&quot;: 5, &quot;stroke&quot;: true, &quot;weight&quot;: 3}\n            ).addTo(map_6f25d259ec54835ba6d9acdf82165cea);\n        \n    \n        var popup_3f0502ad4e429904efb9a21e80bc7122 = L.popup({&quot;maxWidth&quot;: &quot;100%&quot;});\n\n        \n            \n                var html_ceb8105f331b3a73561711c54b349151 = $(`&lt;div id=&quot;html_ceb8105f331b3a73561711c54b349151&quot; style=&quot;width: 100.0%; height: 100.0%;&quot;&gt;Home&lt;/div&gt;`)[0];\n                popup_3f0502ad4e429904efb9a21e80bc7122.setContent(html_ceb8105f331b3a73561711c54b349151);\n            \n        \n\n        circle_marker_e9c543f07c8fa2fec11844b2c3e411e7.bindPopup(popup_3f0502ad4e429904efb9a21e80bc7122)\n        ;\n\n        \n    \n    \n            var poly_line_c6a61b10aae75cb2b8c9a0af24f5e43b = L.polyline(\n                [[57.09649549100004, 12.256531969000036], [57.096352040000056, 12.253309584000021]],\n                {&quot;bubblingMouseEvents&quot;: true, &quot;color&quot;: &quot;gray&quot;, &quot;dashArray&quot;: null, &quot;dashOffset&quot;: null, &quot;fill&quot;: false, &quot;fillColor&quot;: &quot;gray&quot;, &quot;fillOpacity&quot;: 0.2, &quot;fillRule&quot;: &quot;evenodd&quot;, &quot;lineCap&quot;: &quot;round&quot;, &quot;lineJoin&quot;: &quot;round&quot;, &quot;noClip&quot;: false, &quot;opacity&quot;: 0.8, &quot;smoothFactor&quot;: 1.0, &quot;stroke&quot;: true, &quot;weight&quot;: 3}\n            ).addTo(map_6f25d259ec54835ba6d9acdf82165cea);\n        \n    \n        var popup_327404dfb50436a440cfb27ba5497b03 = L.popup({&quot;maxWidth&quot;: &quot;100%&quot;});\n\n        \n            \n                var html_7c65b3922f460b438b6d7c69cd0d0488 = $(`&lt;div id=&quot;html_7c65b3922f460b438b6d7c69cd0d0488&quot; style=&quot;width: 100.0%; height: 100.0%;&quot;&gt;trip 1&lt;/div&gt;`)[0];\n                popup_327404dfb50436a440cfb27ba5497b03.setContent(html_7c65b3922f460b438b6d7c69cd0d0488);\n            \n        \n\n        poly_line_c6a61b10aae75cb2b8c9a0af24f5e43b.bindPopup(popup_327404dfb50436a440cfb27ba5497b03)\n        ;\n\n        \n    \n    \n            var poly_line_494ea06894ecabfd02f25798eb073937 = L.polyline(\n                [[57.09951730100005, 12.254260908000049], [57.09649549100004, 12.256531969000036]],\n                {&quot;bubblingMouseEvents&quot;: true, &quot;color&quot;: &quot;gray&quot;, &quot;dashArray&quot;: null, &quot;dashOffset&quot;: null, &quot;fill&quot;: false, &quot;fillColor&quot;: &quot;gray&quot;, &quot;fillOpacity&quot;: 0.2, &quot;fillRule&quot;: &quot;evenodd&quot;, &quot;lineCap&quot;: &quot;round&quot;, &quot;lineJoin&quot;: &quot;round&quot;, &quot;noClip&quot;: false, &quot;opacity&quot;: 0.8, &quot;smoothFactor&quot;: 1.0, &quot;stroke&quot;: true, &quot;weight&quot;: 3}\n            ).addTo(map_6f25d259ec54835ba6d9acdf82165cea);\n        \n    \n        var popup_f616b7c7009eb36c59078a2336d9e2c2 = L.popup({&quot;maxWidth&quot;: &quot;100%&quot;});\n\n        \n            \n                var html_85ec3d9e182f9759449f6f407aa05991 = $(`&lt;div id=&quot;html_85ec3d9e182f9759449f6f407aa05991&quot; style=&quot;width: 100.0%; height: 100.0%;&quot;&gt;trip 2&lt;/div&gt;`)[0];\n                popup_f616b7c7009eb36c59078a2336d9e2c2.setContent(html_85ec3d9e182f9759449f6f407aa05991);\n            \n        \n\n        poly_line_494ea06894ecabfd02f25798eb073937.bindPopup(popup_f616b7c7009eb36c59078a2336d9e2c2)\n        ;\n\n        \n    \n    \n            var poly_line_00f16c29c0dca9ee84ac928e60c4c95c = L.polyline(\n                [[57.09649549100004, 12.256531969000036], [57.09951730100005, 12.254260908000049]],\n                {&quot;bubblingMouseEvents&quot;: true, &quot;color&quot;: &quot;gray&quot;, &quot;dashArray&quot;: null, &quot;dashOffset&quot;: null, &quot;fill&quot;: false, &quot;fillColor&quot;: &quot;gray&quot;, &quot;fillOpacity&quot;: 0.2, &quot;fillRule&quot;: &quot;evenodd&quot;, &quot;lineCap&quot;: &quot;round&quot;, &quot;lineJoin&quot;: &quot;round&quot;, &quot;noClip&quot;: false, &quot;opacity&quot;: 0.8, &quot;smoothFactor&quot;: 1.0, &quot;stroke&quot;: true, &quot;weight&quot;: 3}\n            ).addTo(map_6f25d259ec54835ba6d9acdf82165cea);\n        \n    \n        var popup_898983d6d89ad55f1c625ef83c1c013f = L.popup({&quot;maxWidth&quot;: &quot;100%&quot;});\n\n        \n            \n                var html_3d5b614812d6e01a8b469af8e9977c9b = $(`&lt;div id=&quot;html_3d5b614812d6e01a8b469af8e9977c9b&quot; style=&quot;width: 100.0%; height: 100.0%;&quot;&gt;trip 3&lt;/div&gt;`)[0];\n                popup_898983d6d89ad55f1c625ef83c1c013f.setContent(html_3d5b614812d6e01a8b469af8e9977c9b);\n            \n        \n\n        poly_line_00f16c29c0dca9ee84ac928e60c4c95c.bindPopup(popup_898983d6d89ad55f1c625ef83c1c013f)\n        ;\n\n        \n    \n    \n            var poly_line_f6233ebb43146f4d4d64a8fae40bac26 = L.polyline(\n                [[57.105973206000044, 12.248853269000051], [57.09649549100004, 12.256531969000036]],\n                {&quot;bubblingMouseEvents&quot;: true, &quot;color&quot;: &quot;gray&quot;, &quot;dashArray&quot;: null, &quot;dashOffset&quot;: null, &quot;fill&quot;: false, &quot;fillColor&quot;: &quot;gray&quot;, &quot;fillOpacity&quot;: 0.2, &quot;fillRule&quot;: &quot;evenodd&quot;, &quot;lineCap&quot;: &quot;round&quot;, &quot;lineJoin&quot;: &quot;round&quot;, &quot;noClip&quot;: false, &quot;opacity&quot;: 0.8, &quot;smoothFactor&quot;: 1.0, &quot;stroke&quot;: true, &quot;weight&quot;: 3}\n            ).addTo(map_6f25d259ec54835ba6d9acdf82165cea);\n        \n    \n        var popup_d870f9a5e0e5eade66bf11ce759443e7 = L.popup({&quot;maxWidth&quot;: &quot;100%&quot;});\n\n        \n            \n                var html_89540c75e9ac7da862046d4fb590b6ba = $(`&lt;div id=&quot;html_89540c75e9ac7da862046d4fb590b6ba&quot; style=&quot;width: 100.0%; height: 100.0%;&quot;&gt;trip 4&lt;/div&gt;`)[0];\n                popup_d870f9a5e0e5eade66bf11ce759443e7.setContent(html_89540c75e9ac7da862046d4fb590b6ba);\n            \n        \n\n        poly_line_f6233ebb43146f4d4d64a8fae40bac26.bindPopup(popup_d870f9a5e0e5eade66bf11ce759443e7)\n        ;\n\n        \n    \n    \n            var poly_line_c60ff4c0280fda88a224d2257623ccf9 = L.polyline(\n                [[57.096352040000056, 12.253309584000021], [57.105973206000044, 12.248853269000051]],\n                {&quot;bubblingMouseEvents&quot;: true, &quot;color&quot;: &quot;gray&quot;, &quot;dashArray&quot;: null, &quot;dashOffset&quot;: null, &quot;fill&quot;: false, &quot;fillColor&quot;: &quot;gray&quot;, &quot;fillOpacity&quot;: 0.2, &quot;fillRule&quot;: &quot;evenodd&quot;, &quot;lineCap&quot;: &quot;round&quot;, &quot;lineJoin&quot;: &quot;round&quot;, &quot;noClip&quot;: false, &quot;opacity&quot;: 0.8, &quot;smoothFactor&quot;: 1.0, &quot;stroke&quot;: true, &quot;weight&quot;: 3}\n            ).addTo(map_6f25d259ec54835ba6d9acdf82165cea);\n        \n    \n        var popup_9308bd85c58228eda0f72da5a00ac9e5 = L.popup({&quot;maxWidth&quot;: &quot;100%&quot;});\n\n        \n            \n                var html_3c594ceb500f0279d7bb67d31c2666fa = $(`&lt;div id=&quot;html_3c594ceb500f0279d7bb67d31c2666fa&quot; style=&quot;width: 100.0%; height: 100.0%;&quot;&gt;trip 5&lt;/div&gt;`)[0];\n                popup_9308bd85c58228eda0f72da5a00ac9e5.setContent(html_3c594ceb500f0279d7bb67d31c2666fa);\n            \n        \n\n        poly_line_c60ff4c0280fda88a224d2257623ccf9.bindPopup(popup_9308bd85c58228eda0f72da5a00ac9e5)\n        ;\n\n        \n    \n    \n            var marker_5e99a43f899eb4e41875dfdd67f5e940 = L.marker(\n                [57.09942376550005, 12.257920776500029],\n                {&quot;opacity&quot;: 0.8}\n            ).addTo(map_6f25d259ec54835ba6d9acdf82165cea);\n        \n    \n            var div_icon_05af9aa93a2cd573ec3fbcec0d4050da = L.divIcon({&quot;className&quot;: &quot;empty&quot;, &quot;html&quot;: &quot;\\u003cdiv style=\\&quot;font-family: Arial; font-size: 12px;\\&quot;\\u003etrip_1\\u003c/div\\u003e&quot;});\n            marker_5e99a43f899eb4e41875dfdd67f5e940.setIcon(div_icon_05af9aa93a2cd573ec3fbcec0d4050da);\n        \n    \n            var marker_808be8f9e29a17552bd7a31ff932b7da = L.marker(\n                [57.101006396000045, 12.258396438500043],\n                {&quot;opacity&quot;: 0.8}\n            ).addTo(map_6f25d259ec54835ba6d9acdf82165cea);\n        \n    \n            var div_icon_c10f2a3861b6b5d93db354925c9bc11a = L.divIcon({&quot;className&quot;: &quot;empty&quot;, &quot;html&quot;: &quot;\\u003cdiv style=\\&quot;font-family: Arial; font-size: 12px;\\&quot;\\u003etrip_2\\u003c/div\\u003e&quot;});\n            marker_808be8f9e29a17552bd7a31ff932b7da.setIcon(div_icon_c10f2a3861b6b5d93db354925c9bc11a);\n        \n    \n            var marker_9ba3be8587cece8ee87e5f807bdd1391 = L.marker(\n                [57.101006396000045, 12.258396438500043],\n                {&quot;opacity&quot;: 0.8}\n            ).addTo(map_6f25d259ec54835ba6d9acdf82165cea);\n        \n    \n            var div_icon_7a4d19af6c434bf4b3761e7a54169e27 = L.divIcon({&quot;className&quot;: &quot;empty&quot;, &quot;html&quot;: &quot;\\u003cdiv style=\\&quot;font-family: Arial; font-size: 12px;\\&quot;\\u003etrip_3\\u003c/div\\u003e&quot;});\n            marker_9ba3be8587cece8ee87e5f807bdd1391.setIcon(div_icon_7a4d19af6c434bf4b3761e7a54169e27);\n        \n    \n            var marker_09c32266291aeda44d531fbeea6d39c6 = L.marker(\n                [57.10423434850004, 12.255692619000044],\n                {&quot;opacity&quot;: 0.8}\n            ).addTo(map_6f25d259ec54835ba6d9acdf82165cea);\n        \n    \n            var div_icon_35b510cb99ad406e717b8fe03d83c41f = L.divIcon({&quot;className&quot;: &quot;empty&quot;, &quot;html&quot;: &quot;\\u003cdiv style=\\&quot;font-family: Arial; font-size: 12px;\\&quot;\\u003etrip_4\\u003c/div\\u003e&quot;});\n            marker_09c32266291aeda44d531fbeea6d39c6.setIcon(div_icon_35b510cb99ad406e717b8fe03d83c41f);\n        \n    \n            var marker_3f51b6db536eda9f9e77dc376d63b35e = L.marker(\n                [57.10416262300005, 12.254081426500036],\n                {&quot;opacity&quot;: 0.8}\n            ).addTo(map_6f25d259ec54835ba6d9acdf82165cea);\n        \n    \n            var div_icon_4d044a731a1d0e7fec2125bd99c95efb = L.divIcon({&quot;className&quot;: &quot;empty&quot;, &quot;html&quot;: &quot;\\u003cdiv style=\\&quot;font-family: Arial; font-size: 12px;\\&quot;\\u003etrip_5\\u003c/div\\u003e&quot;});\n            marker_3f51b6db536eda9f9e77dc376d63b35e.setIcon(div_icon_4d044a731a1d0e7fec2125bd99c95efb);\n        \n    \n            var marker_4d5a53b2a470405babef3057ceabf3cc = L.marker(\n                [57.096352040000056, 12.253309584000021],\n                {&quot;opacity&quot;: 0.8}\n            ).addTo(map_6f25d259ec54835ba6d9acdf82165cea);\n        \n    \n            var icon_1324d6983eb5cbcd3286e9c81fe6c244 = L.AwesomeMarkers.icon(\n                {&quot;extraClasses&quot;: &quot;fa-rotate-0&quot;, &quot;icon&quot;: &quot;home&quot;, &quot;iconColor&quot;: &quot;white&quot;, &quot;markerColor&quot;: &quot;green&quot;, &quot;prefix&quot;: &quot;fa&quot;}\n            );\n            marker_4d5a53b2a470405babef3057ceabf3cc.setIcon(icon_1324d6983eb5cbcd3286e9c81fe6c244);\n        \n    \n        var popup_a8cf7f586ea32d72871586e26407951e = L.popup({&quot;maxWidth&quot;: &quot;100%&quot;});\n\n        \n            \n                var html_68b3c9c40d6ded2a96a55896f157d055 = $(`&lt;div id=&quot;html_68b3c9c40d6ded2a96a55896f157d055&quot; style=&quot;width: 100.0%; height: 100.0%;&quot;&gt;Home&lt;/div&gt;`)[0];\n                popup_a8cf7f586ea32d72871586e26407951e.setContent(html_68b3c9c40d6ded2a96a55896f157d055);\n            \n        \n\n        marker_4d5a53b2a470405babef3057ceabf3cc.bindPopup(popup_a8cf7f586ea32d72871586e26407951e)\n        ;\n\n        \n    \n    \n            var marker_af5cfe8fc8be9b8d90e8f68bbb1e6090 = L.marker(\n                [57.09649549100004, 12.256531969000036],\n                {&quot;opacity&quot;: 0.8}\n            ).addTo(map_6f25d259ec54835ba6d9acdf82165cea);\n        \n    \n            var icon_4d76c2b8c777296e7cc4684f182b008d = L.AwesomeMarkers.icon(\n                {&quot;extraClasses&quot;: &quot;fa-rotate-0&quot;, &quot;icon&quot;: &quot;shopping-cart&quot;, &quot;iconColor&quot;: &quot;white&quot;, &quot;markerColor&quot;: &quot;orange&quot;, &quot;prefix&quot;: &quot;fa&quot;}\n            );\n            marker_af5cfe8fc8be9b8d90e8f68bbb1e6090.setIcon(icon_4d76c2b8c777296e7cc4684f182b008d);\n        \n    \n        var popup_5e5c6434d248935a7941b1a1fcd3bba3 = L.popup({&quot;maxWidth&quot;: &quot;100%&quot;});\n\n        \n            \n                var html_0b2b928974cf212cf8a23f528d39d25f = $(`&lt;div id=&quot;html_0b2b928974cf212cf8a23f528d39d25f&quot; style=&quot;width: 100.0%; height: 100.0%;&quot;&gt;Other&lt;/div&gt;`)[0];\n                popup_5e5c6434d248935a7941b1a1fcd3bba3.setContent(html_0b2b928974cf212cf8a23f528d39d25f);\n            \n        \n\n        marker_af5cfe8fc8be9b8d90e8f68bbb1e6090.bindPopup(popup_5e5c6434d248935a7941b1a1fcd3bba3)\n        ;\n\n        \n    \n    \n            var marker_35b5572b943407dff6f340c52820d698 = L.marker(\n                [57.09951730100005, 12.254260908000049],\n                {&quot;opacity&quot;: 0.8}\n            ).addTo(map_6f25d259ec54835ba6d9acdf82165cea);\n        \n    \n            var icon_e88a3c94044ed65b8f3dc7d4d4a56ff7 = L.AwesomeMarkers.icon(\n                {&quot;extraClasses&quot;: &quot;fa-rotate-0&quot;, &quot;icon&quot;: &quot;briefcase&quot;, &quot;iconColor&quot;: &quot;white&quot;, &quot;markerColor&quot;: &quot;blue&quot;, &quot;prefix&quot;: &quot;fa&quot;}\n            );\n            marker_35b5572b943407dff6f340c52820d698.setIcon(icon_e88a3c94044ed65b8f3dc7d4d4a56ff7);\n        \n    \n        var popup_de6c33d4262e0fccd8d28cc9155b4607 = L.popup({&quot;maxWidth&quot;: &quot;100%&quot;});\n\n        \n            \n                var html_43ca181d461c0bdb346bc158e405c097 = $(`&lt;div id=&quot;html_43ca181d461c0bdb346bc158e405c097&quot; style=&quot;width: 100.0%; height: 100.0%;&quot;&gt;Work&lt;/div&gt;`)[0];\n                popup_de6c33d4262e0fccd8d28cc9155b4607.setContent(html_43ca181d461c0bdb346bc158e405c097);\n            \n        \n\n        marker_35b5572b943407dff6f340c52820d698.bindPopup(popup_de6c33d4262e0fccd8d28cc9155b4607)\n        ;\n\n        \n    \n    \n            var marker_df5ead4f658ab7acebfe8c326dd364e1 = L.marker(\n                [57.09649549100004, 12.256531969000036],\n                {&quot;opacity&quot;: 0.8}\n            ).addTo(map_6f25d259ec54835ba6d9acdf82165cea);\n        \n    \n            var icon_f90903b88178eb2577ddfe98e1f9a5d0 = L.AwesomeMarkers.icon(\n                {&quot;extraClasses&quot;: &quot;fa-rotate-0&quot;, &quot;icon&quot;: &quot;shopping-cart&quot;, &quot;iconColor&quot;: &quot;white&quot;, &quot;markerColor&quot;: &quot;orange&quot;, &quot;prefix&quot;: &quot;fa&quot;}\n            );\n            marker_df5ead4f658ab7acebfe8c326dd364e1.setIcon(icon_f90903b88178eb2577ddfe98e1f9a5d0);\n        \n    \n        var popup_d5fbdd1702bba1bcbc6de4c88d1cb9f1 = L.popup({&quot;maxWidth&quot;: &quot;100%&quot;});\n\n        \n            \n                var html_a06005d10b88a312987964dd4c974790 = $(`&lt;div id=&quot;html_a06005d10b88a312987964dd4c974790&quot; style=&quot;width: 100.0%; height: 100.0%;&quot;&gt;Other&lt;/div&gt;`)[0];\n                popup_d5fbdd1702bba1bcbc6de4c88d1cb9f1.setContent(html_a06005d10b88a312987964dd4c974790);\n            \n        \n\n        marker_df5ead4f658ab7acebfe8c326dd364e1.bindPopup(popup_d5fbdd1702bba1bcbc6de4c88d1cb9f1)\n        ;\n\n        \n    \n    \n            var marker_07a04ae01182401874475d482e29cae9 = L.marker(\n                [57.105973206000044, 12.248853269000051],\n                {&quot;opacity&quot;: 0.8}\n            ).addTo(map_6f25d259ec54835ba6d9acdf82165cea);\n        \n    \n            var icon_d39d2af0c338640ba8fcc0af9e5dba7c = L.AwesomeMarkers.icon(\n                {&quot;extraClasses&quot;: &quot;fa-rotate-0&quot;, &quot;icon&quot;: &quot;shopping-cart&quot;, &quot;iconColor&quot;: &quot;white&quot;, &quot;markerColor&quot;: &quot;orange&quot;, &quot;prefix&quot;: &quot;fa&quot;}\n            );\n            marker_07a04ae01182401874475d482e29cae9.setIcon(icon_d39d2af0c338640ba8fcc0af9e5dba7c);\n        \n    \n        var popup_4544bc9309208ab7eee80a74d1d6fde5 = L.popup({&quot;maxWidth&quot;: &quot;100%&quot;});\n\n        \n            \n                var html_7923b2e38d4454b2f9f733f04f65dfae = $(`&lt;div id=&quot;html_7923b2e38d4454b2f9f733f04f65dfae&quot; style=&quot;width: 100.0%; height: 100.0%;&quot;&gt;Other&lt;/div&gt;`)[0];\n                popup_4544bc9309208ab7eee80a74d1d6fde5.setContent(html_7923b2e38d4454b2f9f733f04f65dfae);\n            \n        \n\n        marker_07a04ae01182401874475d482e29cae9.bindPopup(popup_4544bc9309208ab7eee80a74d1d6fde5)\n        ;\n\n        \n    \n    \n            var marker_d17473763510e7f14631a2becf670926 = L.marker(\n                [57.096352040000056, 12.253309584000021],\n                {&quot;opacity&quot;: 0.8}\n            ).addTo(map_6f25d259ec54835ba6d9acdf82165cea);\n        \n    \n            var icon_257418344e81ca06d9605f7a93fddf0c = L.AwesomeMarkers.icon(\n                {&quot;extraClasses&quot;: &quot;fa-rotate-0&quot;, &quot;icon&quot;: &quot;home&quot;, &quot;iconColor&quot;: &quot;white&quot;, &quot;markerColor&quot;: &quot;green&quot;, &quot;prefix&quot;: &quot;fa&quot;}\n            );\n            marker_d17473763510e7f14631a2becf670926.setIcon(icon_257418344e81ca06d9605f7a93fddf0c);\n        \n    \n        var popup_1ad4393b554bf3a6927025dff1037a27 = L.popup({&quot;maxWidth&quot;: &quot;100%&quot;});\n\n        \n            \n                var html_75180271900c1d52179023efd4b6def8 = $(`&lt;div id=&quot;html_75180271900c1d52179023efd4b6def8&quot; style=&quot;width: 100.0%; height: 100.0%;&quot;&gt;Home&lt;/div&gt;`)[0];\n                popup_1ad4393b554bf3a6927025dff1037a27.setContent(html_75180271900c1d52179023efd4b6def8);\n            \n        \n\n        marker_d17473763510e7f14631a2becf670926.bindPopup(popup_1ad4393b554bf3a6927025dff1037a27)\n        ;\n\n        \n    \n    \n            var pane_d8538b5891982a5d37424b558a5531e2 = map_6f25d259ec54835ba6d9acdf82165cea.createPane(\n                &quot;labels&quot;);\n            pane_d8538b5891982a5d37424b558a5531e2.style.zIndex = 625;\n            \n                pane_d8538b5891982a5d37424b558a5531e2.style.pointerEvents = &#x27;none&#x27;;\n            \n        \n&lt;/script&gt;\n&lt;/html&gt;\" style=\"position:absolute;width:100%;height:100%;left:0;top:0;border:none !important;\" allowfullscreen webkitallowfullscreen mozallowfullscreen></iframe></div></div>"
     },
     "execution_count": 94,
     "metadata": {},
     "output_type": "execute_result"
    }
   ],
   "source": [
    "m = folium.Map(location=center, zoom_start=10)\n",
    "\n",
    "\n",
    "gdf_plans_ind.apply(lambda row : folium.CircleMarker(\n",
    "    location=(row[\"lat\"], row[\"lng\"]), radius=5,\n",
    "    fill_color=color_dict[row['purpose']],\n",
    "    popup=row['purpose'],\n",
    "    color=color_dict[row['purpose']],\n",
    "    fill_opacity=0.4,opacity=0.6).add_to(m), axis=1)\n",
    "\n",
    "gdf_events_ind.apply(lambda row : folium.PolyLine(locations=row[\"points\"],\n",
    "                                                  color='gray',\n",
    "                                                  opacity=0.8,\n",
    "                                                  popup = 'trip '+str(row['act_seq'])\n",
    "                                                  ).add_to(m), axis=1)\n",
    "\n",
    "gdf_events_ind.apply(lambda row : folium.Marker(\n",
    "    location=(row['geometry'].centroid.x+0.003,row['geometry'].centroid.y+0.003),\n",
    "    icon=folium.DivIcon(html=f\"\"\"<div style=\"font-family: Arial; font-size: 12px;\">trip_{str(row['act_seq'])}</div>\"\"\"),\n",
    "    opacity=0.8).add_to(m), axis=1)\n",
    "\n",
    "gdf_plans_ind.apply(lambda row : folium.Marker(\n",
    "    location=(row[\"lat\"], row[\"lng\"]),\n",
    "    icon=folium.Icon( icon=icon_dict[row['purpose']], color=color_dict[str(row['purpose'])], prefix='fa'),\n",
    "    popup=row['purpose'],\n",
    "    opacity=0.8).add_to(m), axis=1)\n",
    "\n",
    "folium.map.CustomPane(\"labels\").add_to(m)\n",
    "\n",
    "m"
   ],
   "metadata": {
    "collapsed": false
   }
  },
  {
   "cell_type": "code",
   "execution_count": 94,
   "outputs": [],
   "source": [],
   "metadata": {
    "collapsed": false
   }
  }
 ],
 "metadata": {
  "kernelspec": {
   "display_name": "Python 3",
   "language": "python",
   "name": "python3"
  },
  "language_info": {
   "codemirror_mode": {
    "name": "ipython",
    "version": 2
   },
   "file_extension": ".py",
   "mimetype": "text/x-python",
   "name": "python",
   "nbconvert_exporter": "python",
   "pygments_lexer": "ipython2",
   "version": "2.7.6"
  }
 },
 "nbformat": 4,
 "nbformat_minor": 0
}
