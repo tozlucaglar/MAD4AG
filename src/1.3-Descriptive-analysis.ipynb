{
 "cells": [
  {
   "cell_type": "code",
   "execution_count": 1,
   "metadata": {
    "collapsed": true
   },
   "outputs": [
    {
     "name": "stdout",
     "output_type": "stream",
     "text": [
      "C:\\MAD4AG\n"
     ]
    }
   ],
   "source": [
    "%cd C:\\MAD4AG\n",
    "%matplotlib inline\n",
    "\n",
    "import pandas as pd\n",
    "import numpy as np\n",
    "\n",
    "import warnings\n",
    "\n",
    "warnings.filterwarnings('ignore')\n",
    "\n",
    "file_name = f'./dbs/intermediate/stops_1_new.parquet'\n",
    "\n",
    "#Read each batchs file\n",
    "df = pd.read_parquet(file_name)\n",
    "\n"
   ]
  },
  {
   "cell_type": "code",
   "execution_count": 24,
   "outputs": [],
   "source": [
    "df['id'] = df['uid'].str[:-2]"
   ],
   "metadata": {
    "collapsed": false
   }
  },
  {
   "cell_type": "code",
   "execution_count": 25,
   "outputs": [
    {
     "name": "stdout",
     "output_type": "stream",
     "text": [
      "The number of people:  287217\n",
      "The number of activity clusters:  312901\n",
      "The number of stops in weekday and non-holiday:  12740559\n"
     ]
    }
   ],
   "source": [
    "print('The number of people: ', len(df['id'].unique()))\n",
    "print('The number of activity clusters: ', len(df['uid'].unique()))\n",
    "print('The number of stops in weekday and non-holiday: ', len(df))"
   ],
   "metadata": {
    "collapsed": false
   }
  },
  {
   "cell_type": "code",
   "execution_count": 32,
   "outputs": [],
   "source": [
    "aaa = df.head(100)\n",
    "\n",
    "bbb = df[df['id']=='d3ad9a03-e1a7-4229-8967-f187c3185c92']"
   ],
   "metadata": {
    "collapsed": false
   }
  },
  {
   "cell_type": "code",
   "execution_count": 36,
   "outputs": [
    {
     "name": "stdout",
     "output_type": "stream",
     "text": [
      "No. of active weekdays\n"
     ]
    },
    {
     "data": {
      "text/plain": "0.00      1.0\n0.25      7.0\n0.50     13.0\n0.75     25.0\n1.00    110.0\nName: active_days, dtype: float64"
     },
     "execution_count": 36,
     "metadata": {},
     "output_type": "execute_result"
    }
   ],
   "source": [
    "df['m-d']= df['localtime'].dt.strftime('%m-%d')\n",
    "active_days = df.groupby(['uid'])['m-d'].nunique().reset_index(name='active_days')\n",
    "print('No. of active weekdays in activity clusters')\n",
    "active_days['active_days'].quantile([.0, 0.25, .5, 0.75, 1])"
   ],
   "metadata": {
    "collapsed": false
   }
  },
  {
   "cell_type": "code",
   "execution_count": 37,
   "outputs": [
    {
     "name": "stdout",
     "output_type": "stream",
     "text": [
      "Median duration (min)\n"
     ]
    },
    {
     "data": {
      "text/plain": "0.00     15.483333\n0.25    179.983333\n0.50    181.891667\n0.75    191.783333\n1.00    716.950000\nName: median_dur, dtype: float64"
     },
     "execution_count": 37,
     "metadata": {},
     "output_type": "execute_result"
    }
   ],
   "source": [
    "median_dur = df.groupby(['uid'])['dur'].median().reset_index(name='median_dur')\n",
    "print('Median duration (min)')\n",
    "median_dur['median_dur'].quantile([.0, 0.25, .5, 0.75, 1])"
   ],
   "metadata": {
    "collapsed": false
   }
  },
  {
   "cell_type": "code",
   "execution_count": 28,
   "outputs": [
    {
     "name": "stdout",
     "output_type": "stream",
     "text": [
      "No. of stop at individuals' activity clusters\n"
     ]
    },
    {
     "data": {
      "text/plain": "0.00       2.0\n0.25      10.0\n0.50      21.0\n0.75      48.0\n1.00    1129.0\nName: loc_count, dtype: float64"
     },
     "execution_count": 28,
     "metadata": {},
     "output_type": "execute_result"
    }
   ],
   "source": [
    "loc_count = df.groupby(['uid']).size().reset_index(name='loc_count')\n",
    "print('No. of stop at individuals\\' activity clusters')\n",
    "loc_count['loc_count'].quantile([.0, 0.25, .5, 0.75, 1])"
   ],
   "metadata": {
    "collapsed": false
   }
  },
  {
   "cell_type": "code",
   "execution_count": 21,
   "outputs": [
    {
     "name": "stdout",
     "output_type": "stream",
     "text": [
      "No. of unique location at individuals' activity clusters\n"
     ]
    },
    {
     "data": {
      "text/plain": "0.00      2.0\n0.25      3.0\n0.50      4.0\n0.75     10.0\n1.00    374.0\nName: uniq_loc_count, dtype: float64"
     },
     "execution_count": 21,
     "metadata": {},
     "output_type": "execute_result"
    }
   ],
   "source": [
    "uniq_loc_count = df.drop_duplicates(subset=['uid','lat','lng'])\n",
    "uniq_loc_count =uniq_loc_count.groupby('uid').size().reset_index(name='uniq_loc_count')\n",
    "print('No. of unique location at individuals\\' activity clusters')\n",
    "uniq_loc_count['uniq_loc_count'].quantile([.0, 0.25, .5, 0.75, 1])"
   ],
   "metadata": {
    "collapsed": false
   }
  },
  {
   "cell_type": "code",
   "execution_count": 23,
   "outputs": [
    {
     "name": "stdout",
     "output_type": "stream",
     "text": [
      "No. of unique activity location at individuals' activity clusters\n"
     ]
    },
    {
     "data": {
      "text/plain": "0.00      2.0\n0.25      2.0\n0.50      4.0\n0.75      8.0\n1.00    332.0\nName: cluster_count, dtype: float64"
     },
     "execution_count": 23,
     "metadata": {},
     "output_type": "execute_result"
    }
   ],
   "source": [
    "cluster_count = df.groupby('uid')['cluster'].nunique().reset_index(name='cluster_count')\n",
    "print('No. of unique activity location at individuals\\' activity clusters')\n",
    "cluster_count['cluster_count'].quantile([.0,0.25, .5,0.75,1])"
   ],
   "metadata": {
    "collapsed": false
   }
  },
  {
   "cell_type": "code",
   "execution_count": 5,
   "outputs": [],
   "source": [],
   "metadata": {
    "collapsed": false
   }
  }
 ],
 "metadata": {
  "kernelspec": {
   "display_name": "Python 3",
   "language": "python",
   "name": "python3"
  },
  "language_info": {
   "codemirror_mode": {
    "name": "ipython",
    "version": 2
   },
   "file_extension": ".py",
   "mimetype": "text/x-python",
   "name": "python",
   "nbconvert_exporter": "python",
   "pygments_lexer": "ipython2",
   "version": "2.7.6"
  }
 },
 "nbformat": 4,
 "nbformat_minor": 0
}
