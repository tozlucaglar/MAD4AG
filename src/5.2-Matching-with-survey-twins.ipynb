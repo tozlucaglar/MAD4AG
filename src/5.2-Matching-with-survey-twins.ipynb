{
 "cells": [
  {
   "cell_type": "code",
   "execution_count": 297,
   "metadata": {
    "collapsed": true
   },
   "outputs": [
    {
     "name": "stdout",
     "output_type": "stream",
     "text": [
      "The autoreload extension is already loaded. To reload it, use:\n",
      "  %reload_ext autoreload\n",
      "C:\\MAD4AG\n"
     ]
    }
   ],
   "source": [
    "%load_ext autoreload\n",
    "%autoreload 2\n",
    "%cd C:\\MAD4AG\n",
    "%matplotlib inline"
   ]
  },
  {
   "cell_type": "code",
   "execution_count": 298,
   "outputs": [],
   "source": [
    "import pandas as pd\n",
    "import numpy as np\n",
    "import matplotlib.pyplot as plt\n",
    "from tqdm.auto import tqdm\n",
    "\n",
    "\n",
    "\n",
    "import warnings\n",
    "\n",
    "warnings.filterwarnings('ignore')"
   ],
   "metadata": {
    "collapsed": false
   }
  },
  {
   "cell_type": "code",
   "execution_count": 299,
   "outputs": [],
   "source": [
    "df_MAD = pd.read_parquet(f'./dbs/intermediate/indi_weights.parquet')\n"
   ],
   "metadata": {
    "collapsed": false
   }
  },
  {
   "cell_type": "code",
   "execution_count": 300,
   "outputs": [],
   "source": [
    "df_survey_twins = pd.read_pickle(f'./dbs/intermediate/df_survey_twins.pkl')\n"
   ],
   "metadata": {
    "collapsed": false
   }
  },
  {
   "cell_type": "markdown",
   "source": [
    "# add region information"
   ],
   "metadata": {
    "collapsed": false
   }
  },
  {
   "cell_type": "code",
   "execution_count": 301,
   "outputs": [],
   "source": [
    "lan= pd.read_csv(f'./dbs/lan.csv', delimiter=';', dtype={'code':'string'})\n",
    "lan.rename(columns={'code':'county', 'landsdelar':'region'},inplace=True)\n",
    "\n",
    "df_MAD = pd.merge(df_MAD, lan[['county','region']], on='county')\n",
    "df_survey_twins = pd.merge(df_survey_twins, lan[['county','region']], on='county')\n"
   ],
   "metadata": {
    "collapsed": false
   }
  },
  {
   "cell_type": "markdown",
   "source": [
    "# calculate median distance"
   ],
   "metadata": {
    "collapsed": false
   }
  },
  {
   "cell_type": "code",
   "execution_count": 302,
   "outputs": [],
   "source": [
    "avg_dist_threshold = df_survey_twins.avg_dist.median()\n",
    "com_dist_threshold = df_survey_twins.com_distance.median()\n",
    "\n",
    "#df_survey_twins.avg_dist.quantile(0.5)\n"
   ],
   "metadata": {
    "collapsed": false
   }
  },
  {
   "cell_type": "markdown",
   "source": [
    "# create stratum"
   ],
   "metadata": {
    "collapsed": false
   }
  },
  {
   "cell_type": "code",
   "execution_count": 303,
   "outputs": [],
   "source": [
    "df_MAD['region'] = df_MAD['region'].replace({'Svealand':'0','Göteland':'1', 'Norrland':'2'})\n",
    "\n",
    "df_MAD['urban_density'] = df_MAD['urban_density'].replace({'A': '0', 'B': '1', 'C': '1'})\n",
    "\n",
    "df_MAD['avg_dist_cat'] = '0'\n",
    "df_MAD['avg_dist_cat'][df_MAD.avg_dist > avg_dist_threshold] = '1'\n",
    "\n",
    "df_MAD['com_dist_cat'] = '0'\n",
    "df_MAD['com_dist_cat'][df_MAD.com_dist > com_dist_threshold] = '1'"
   ],
   "metadata": {
    "collapsed": false
   }
  },
  {
   "cell_type": "code",
   "execution_count": 304,
   "outputs": [],
   "source": [
    "\n",
    "df_MAD['stratum'] = df_MAD['region'].astype(str) + df_MAD['urban_density'].astype(str) +  df_MAD['commute'].astype(str)+  df_MAD['avg_dist_cat'].astype(str)"
   ],
   "metadata": {
    "collapsed": false
   }
  },
  {
   "cell_type": "code",
   "execution_count": 305,
   "outputs": [],
   "source": [
    "\n",
    "df_MAD['stratum'][(df_MAD.commute == 1)] = df_MAD['stratum'][(df_MAD.commute == 1)] + df_MAD['com_dist_cat'][(df_MAD.commute == 1)].astype(str)\n",
    "\n",
    "#df_MAD['stratum'].value_counts()"
   ],
   "metadata": {
    "collapsed": false
   }
  },
  {
   "cell_type": "code",
   "execution_count": 306,
   "outputs": [],
   "source": [
    "df_survey_twins['region'] = df_survey_twins['region'].replace({'Svealand':'0','Göteland':'1', 'Norrland':'2'})\n",
    "\n",
    "df_survey_twins['urban_density'] = df_survey_twins['urban_density'].replace({'A': '0', 'B': '1', 'C': '1'})\n",
    "\n",
    "df_survey_twins['avg_dist_cat'] = '0'\n",
    "df_survey_twins['avg_dist_cat'][df_survey_twins.avg_dist > avg_dist_threshold] = '1'\n",
    "\n",
    "df_survey_twins['com_dist_cat'] = '0'\n",
    "df_survey_twins['com_dist_cat'][df_survey_twins.com_distance > com_dist_threshold] = '1'\n"
   ],
   "metadata": {
    "collapsed": false
   }
  },
  {
   "cell_type": "code",
   "execution_count": 307,
   "outputs": [],
   "source": [
    "\n",
    "df_survey_twins['stratum'] = df_survey_twins['region'].astype(str) + df_survey_twins['urban_density'].astype(str) +  df_survey_twins['commute'].astype(str)+  df_survey_twins['avg_dist_cat'].astype(str)"
   ],
   "metadata": {
    "collapsed": false
   }
  },
  {
   "cell_type": "code",
   "execution_count": 308,
   "outputs": [
    {
     "data": {
      "text/plain": "1100     2588\n11100    1935\n11111    1913\n1101     1552\n0100     1108\n01100     853\n01111     807\n0101      614\n1001      579\n10111     546\n11110     410\n2100      241\n21100     234\n0001      174\n01110     165\n00111     155\n11101     149\n1000      125\n2001      124\n2101       95\n10100      91\n21111      90\n20111      83\n10110      82\n01101      72\n21110      29\n00110      17\n0000       14\n00100      10\n21101       9\n10101       7\n20110       3\n20100       2\n2000        1\nName: stratum, dtype: int64"
     },
     "execution_count": 308,
     "metadata": {},
     "output_type": "execute_result"
    }
   ],
   "source": [
    "\n",
    "df_survey_twins['stratum'][(df_survey_twins.commute == 1)] = df_survey_twins['stratum'][(df_survey_twins.commute == 1)] + df_survey_twins['com_dist_cat'][(df_survey_twins.commute == 1)].astype(str)\n",
    "\n",
    "df_survey_twins['stratum'].value_counts()"
   ],
   "metadata": {
    "collapsed": false
   }
  },
  {
   "cell_type": "code",
   "execution_count": 309,
   "outputs": [
    {
     "data": {
      "text/plain": "{'00101', '20101'}"
     },
     "execution_count": 309,
     "metadata": {},
     "output_type": "execute_result"
    }
   ],
   "source": [
    "list_survey_type = list(df_survey_twins['stratum'].unique())\n",
    "list_MAD_type = list(df_MAD['stratum'].unique())\n",
    "\n",
    "\n",
    "set(list_MAD_type).difference(set(list_survey_type))"
   ],
   "metadata": {
    "collapsed": false
   }
  },
  {
   "cell_type": "code",
   "execution_count": 310,
   "outputs": [],
   "source": [
    "threshold_count = 50\n",
    "\n",
    "df_stratum = pd.DataFrame(columns=['stratum','level','mad_size', 'sur_size','survey_ppl'])"
   ],
   "metadata": {
    "collapsed": false
   }
  },
  {
   "cell_type": "code",
   "execution_count": 311,
   "outputs": [],
   "source": [
    "#list_MAD_type= ['1100','1101']\n",
    "\n",
    "for i in list_MAD_type:\n",
    "    df_MAD_p_type = df_MAD[df_MAD['stratum']==i]\n",
    "    #print('mad len: ', len(df_MAD_p_type))\n",
    "\n",
    "    df_sur_p_type = df_survey_twins[df_survey_twins['region']==i[0]]\n",
    "\n",
    "    df_sur_temp = df_sur_p_type\n",
    "    level = 0\n",
    "    if len(df_sur_p_type) > threshold_count:\n",
    "        df_sur_temp = df_sur_p_type[df_sur_p_type['urban_density']==i[1]]\n",
    "        level = 1\n",
    "        if len(df_sur_temp) > threshold_count:\n",
    "            df_sur_p_type = df_sur_temp\n",
    "            df_sur_temp = df_sur_p_type[df_sur_p_type['commute']==int(i[2])]\n",
    "            level = 2\n",
    "            #print(level)\n",
    "            if len(df_sur_temp) > threshold_count:\n",
    "                df_sur_p_type = df_sur_temp\n",
    "                df_sur_temp = df_sur_p_type[df_sur_p_type['avg_dist_cat']==i[3]]\n",
    "                level = 3\n",
    "                #print(int(i[2]))\n",
    "                if (len(df_sur_temp) > threshold_count)&(int(i[2])==0):\n",
    "                   df_sur_p_type = df_sur_temp\n",
    "                   level = 4\n",
    "\n",
    "                elif (len(df_sur_temp) > threshold_count)&(int(i[2])==1):\n",
    "                    df_sur_p_type = df_sur_temp\n",
    "                    df_sur_temp = df_sur_p_type[df_sur_p_type['com_dist_cat']==i[4]]\n",
    "                    level = 4\n",
    "                    #print(level)\n",
    "\n",
    "                    if len(df_sur_temp) > threshold_count:\n",
    "                        df_sur_p_type = df_sur_temp\n",
    "                        level = 5\n",
    "\n",
    "    df_stratum = df_stratum.append(dict(stratum=i, level=level, mad_size=len(df_MAD_p_type), sur_size=len(df_sur_p_type), survey_ppl=df_sur_p_type['sub_id'].tolist()), ignore_index=True)\n",
    "\n",
    "\n"
   ],
   "metadata": {
    "collapsed": false
   }
  },
  {
   "cell_type": "code",
   "execution_count": 312,
   "outputs": [],
   "source": [
    "from collections import Counter\n",
    "\n",
    "\n",
    "\n",
    "def unique_activities(data):\n",
    "    act_tuple = data['act_seq']\n",
    "    #data['act_uniq'] = tuple(set(Counter(act_tuple).keys()))\n",
    "    data['act_uniq'] = tuple(Counter(act_tuple).keys())\n",
    "\n",
    "    # this will take only unique numbers from the tuple\n",
    "    return data\n",
    "\n",
    "tqdm.pandas()\n",
    "df_survey_twins = df_survey_twins.apply(lambda row: unique_activities(row), axis=1)"
   ],
   "metadata": {
    "collapsed": false
   }
  },
  {
   "cell_type": "code",
   "execution_count": 313,
   "outputs": [],
   "source": [
    "seq_dist = df_survey_twins.act_uniq.value_counts(normalize=True).reset_index(name='count_desired')\n",
    "seq_dist['count_desired']=seq_dist['count_desired']*len(df_MAD)"
   ],
   "metadata": {
    "collapsed": false
   }
  },
  {
   "cell_type": "code",
   "execution_count": 314,
   "outputs": [],
   "source": [
    "df_candidates = pd.DataFrame(columns=['sub_id', 'act_seq', 'act_uniq','stratum','mad_size' ,'ratio'])\n",
    "\n",
    "\n",
    "for index, row in df_stratum.iterrows():\n",
    "\n",
    "    df_temp= df_survey_twins[['sub_id', 'act_seq', 'act_uniq']][df_survey_twins.sub_id.isin(row['survey_ppl'])]\n",
    "    df_temp['stratum']= row['stratum']\n",
    "    df_temp['mad_size']=row['mad_size']\n",
    "    df_temp['ratio']=row['mad_size']/row['sur_size']\n",
    "    df_candidates = df_candidates.append(df_temp)\n",
    "    #print(row['survey_ppl'])\n",
    "    #len(df_survey_twins[df_survey_twins.sub_id.isin(row['survey_ppl'])])\n",
    "\n"
   ],
   "metadata": {
    "collapsed": false
   }
  },
  {
   "cell_type": "code",
   "execution_count": 315,
   "outputs": [
    {
     "data": {
      "text/plain": "258666.99999999994"
     },
     "execution_count": 315,
     "metadata": {},
     "output_type": "execute_result"
    }
   ],
   "source": [
    "df_candidates.ratio.sum()"
   ],
   "metadata": {
    "collapsed": false
   }
  },
  {
   "cell_type": "code",
   "execution_count": 316,
   "outputs": [
    {
     "data": {
      "text/plain": "act_uniq\n(Home, Home, Home, Home, Home, Other, Other, Other, Home)                      10.918826\n(Home, Home, Home, Home, Other, Home, Home)                                   113.854710\n(Home, Home, Home, Home, Other, Home, Other, Home, Home)                       25.720000\n(Home, Home, Home, Home, Other, Other, Home)                                   10.918826\n(Home, Home, Home, Home, Work)                                                  6.028941\n                                                                                 ...    \n(Work, Other, Other, Other, Other, Other, Other, Other, Home, Other, Home)      4.890110\n(Work, Other, Work, Home)                                                       6.028941\n(Work, Other, Work, Other, Home)                                               37.012757\n(Work, Other, Work, Other, Home, Other, Home, Other, Home)                     11.674102\n(Work, Work, Home)                                                             25.338655\nName: ratio, Length: 927, dtype: float64"
     },
     "execution_count": 316,
     "metadata": {},
     "output_type": "execute_result"
    }
   ],
   "source": [
    "df_candidates.groupby('act_uniq')['ratio'].sum()"
   ],
   "metadata": {
    "collapsed": false
   }
  },
  {
   "cell_type": "code",
   "execution_count": 317,
   "outputs": [],
   "source": [
    "for i in range(20):\n",
    "\n",
    "    #fit to candidates ratios to the act seq distribution\n",
    "    bbb = df_candidates.groupby('act_uniq')['ratio'].sum().reset_index(name='count')\n",
    "    merged_df = pd.merge(seq_dist, bbb, left_on='index', right_on='act_uniq', how='inner')\n",
    "    merged_df['result_column'] = merged_df['count_desired'] / merged_df['count']\n",
    "    df_candidates = pd.merge(df_candidates, merged_df[['act_uniq', 'result_column']], on='act_uniq')\n",
    "\n",
    "    df_candidates['ratio']= df_candidates['ratio']*df_candidates['result_column']\n",
    "    df_candidates.drop(columns='result_column', inplace=True)\n",
    "\n",
    "    #fit to candidates ratios to the mad size by stratum\n",
    "    bbb = df_candidates.groupby('stratum')['ratio'].sum().reset_index(name='count')\n",
    "    df_candidates = pd.merge(df_candidates, bbb, on='stratum')\n",
    "\n",
    "    df_candidates['ratio'] = df_candidates['ratio'] * (df_candidates['mad_size'] / df_candidates['count'])\n",
    "    df_candidates.drop(columns='count', inplace=True)\n",
    "\n",
    "\n",
    "\n"
   ],
   "metadata": {
    "collapsed": false
   }
  },
  {
   "cell_type": "code",
   "execution_count": 318,
   "outputs": [
    {
     "data": {
      "text/plain": "act_uniq\n(Home, Home, Home, Home, Home, Other, Other, Other, Home)                     26.740715\n(Home, Home, Home, Home, Other, Home, Home)                                   106.96286\n(Home, Home, Home, Home, Other, Home, Other, Home, Home)                      26.740715\n(Home, Home, Home, Home, Other, Other, Home)                                  26.740715\n(Home, Home, Home, Home, Work)                                                 8.576687\n                                                                                ...    \n(Work, Other, Other, Other, Other, Other, Other, Other, Home, Other, Home)     8.576687\n(Work, Other, Work, Home)                                                      8.576687\n(Work, Other, Work, Other, Home)                                              17.153374\n(Work, Other, Work, Other, Home, Other, Home, Other, Home)                     8.576687\n(Work, Work, Home)                                                             8.576687\nName: ratio, Length: 927, dtype: object"
     },
     "execution_count": 318,
     "metadata": {},
     "output_type": "execute_result"
    }
   ],
   "source": [
    "df_candidates.groupby('act_uniq')['ratio'].sum()\n"
   ],
   "metadata": {
    "collapsed": false
   }
  },
  {
   "cell_type": "code",
   "execution_count": 319,
   "outputs": [],
   "source": [
    "df_candidates['probability'] = df_candidates['ratio']/df_candidates['mad_size']\n",
    "\n",
    "df_MAD['twin_ppl'] =0"
   ],
   "metadata": {
    "collapsed": false
   }
  },
  {
   "cell_type": "code",
   "execution_count": 320,
   "outputs": [],
   "source": [
    "df_candidates_prob= df_candidates.groupby('stratum')['probability'].apply(list).reset_index(name='probability_list')\n",
    "\n",
    "\n",
    "df_candidates_ppl= df_candidates.groupby('stratum')['sub_id'].apply(list).reset_index(name='ppl_list')"
   ],
   "metadata": {
    "collapsed": false
   }
  },
  {
   "cell_type": "code",
   "execution_count": 321,
   "outputs": [],
   "source": [
    "df_stratum = pd.merge(df_stratum, df_candidates_prob)\n",
    "\n",
    "df_stratum = pd.merge(df_stratum, df_candidates_ppl)\n"
   ],
   "metadata": {
    "collapsed": false
   }
  },
  {
   "cell_type": "code",
   "execution_count": 322,
   "outputs": [],
   "source": [
    "df_stratum['twin_ppl'] = df_stratum.apply( lambda row: np.argmax(np.random.multinomial(1, row['probability_list'], row['mad_size']), axis=1).tolist()  , axis=1)"
   ],
   "metadata": {
    "collapsed": false
   }
  },
  {
   "cell_type": "code",
   "execution_count": 323,
   "outputs": [],
   "source": [
    "# len(df_stratum.loc[20,'twin_ppl'])\n",
    "# twin_ppl_list = df_stratum.loc[20,'twin_ppl']\n",
    "# twin_ppl_list = Counter(twin_ppl_list)\n"
   ],
   "metadata": {
    "collapsed": false
   }
  },
  {
   "cell_type": "code",
   "execution_count": 324,
   "outputs": [
    {
     "name": "stdout",
     "output_type": "stream",
     "text": [
      "0\n",
      "1\n",
      "2\n",
      "3\n",
      "4\n",
      "5\n",
      "6\n",
      "7\n",
      "8\n",
      "9\n",
      "10\n",
      "11\n",
      "12\n",
      "13\n",
      "14\n",
      "15\n",
      "16\n",
      "17\n",
      "18\n",
      "19\n",
      "20\n",
      "21\n",
      "22\n",
      "23\n",
      "24\n",
      "25\n",
      "26\n",
      "27\n",
      "28\n",
      "29\n",
      "30\n",
      "31\n",
      "32\n",
      "33\n",
      "34\n",
      "35\n"
     ]
    }
   ],
   "source": [
    "df_survey_twins_new = df_survey_twins.set_index('sub_id')\n",
    "df_survey_twins_new = df_survey_twins_new[['act_seq', 'act_uniq', 'avg_dist']]\n",
    "\n",
    "\n",
    "df_twins = pd.DataFrame()\n",
    "\n",
    "for index, row in df_stratum.iterrows():\n",
    "    twin_ppl_list = df_stratum.loc[index,'ppl_list']\n",
    "    twin_ppl_place = df_stratum.loc[index,'twin_ppl']\n",
    "    twin_ppl_list = [twin_ppl_list[place] for place in twin_ppl_place]\n",
    "\n",
    "    df_survey_twins_new_candidates= df_survey_twins_new.loc[twin_ppl_list].reset_index()\n",
    "\n",
    "    df_survey_twins_new_candidates.sort_values(by=['avg_dist'], inplace=True)\n",
    "    df_survey_twins_new_candidates.reset_index(inplace=True)\n",
    "    df_survey_twins_new_candidates.drop(columns='index', inplace=True)\n",
    "\n",
    "    df_MAD_new = df_MAD[df_MAD.stratum==row['stratum']]\n",
    "    df_MAD_new.sort_values(by=['avg_dist'], inplace=True)\n",
    "    df_MAD_new.reset_index(inplace=True)\n",
    "    df_MAD_new = pd.concat([df_MAD_new, df_survey_twins_new_candidates], axis=1, ignore_index=False)\n",
    "    df_twins = df_twins.append(df_MAD_new)\n",
    "\n",
    "    print(index)\n",
    "\n",
    "\n",
    "\n"
   ],
   "metadata": {
    "collapsed": false
   }
  },
  {
   "cell_type": "code",
   "execution_count": 325,
   "outputs": [
    {
     "name": "stdout",
     "output_type": "stream",
     "text": [
      "The share of the matched survey ppl:  1.0\n"
     ]
    }
   ],
   "source": [
    "print('The share of the matched survey ppl: ', np.round(len(df_twins.sub_id.unique())/len(df_survey_twins.sub_id.unique()),2))"
   ],
   "metadata": {
    "collapsed": false
   }
  },
  {
   "cell_type": "code",
   "execution_count": 326,
   "outputs": [
    {
     "data": {
      "text/plain": "20122331011    127\n20111431040    115\n20111531054    115\n20123211028    113\n20110521076    109\n              ... \n20143231048      1\n20113411061      1\n20111541002      1\n20140411045      1\n20113231058      1\nName: sub_id, Length: 14840, dtype: int64"
     },
     "execution_count": 326,
     "metadata": {},
     "output_type": "execute_result"
    }
   ],
   "source": [
    "df_twins.sub_id.value_counts()"
   ],
   "metadata": {
    "collapsed": false
   }
  },
  {
   "cell_type": "code",
   "execution_count": 327,
   "outputs": [
    {
     "data": {
      "text/plain": "(Home, Other, Home)                                                  0.287791\n(Home, Work, Home)                                                   0.094597\n(Home, Other, Home, Other, Home)                                     0.078993\n(Home, Other, Other, Home)                                           0.076353\n(Home, Other, Other, Other, Home)                                    0.029876\n                                                                       ...   \n(Work, Work, Home)                                                   0.000008\n(Home, Other, Home, Other, Work, Other, Work, Other, Home)           0.000008\n(Home, Home, Work, Home, Other, Other, Other, Home, Home)            0.000004\n(Home, Other, Work, Other, Other, Work, Home, Other, Other, Home)    0.000004\n(Home, Work, Other, Other, Work, Other, Other, Other, Work, Home)    0.000004\nName: act_uniq, Length: 927, dtype: float64"
     },
     "execution_count": 327,
     "metadata": {},
     "output_type": "execute_result"
    }
   ],
   "source": [
    "df_twins.act_uniq.value_counts(normalize=True)\n"
   ],
   "metadata": {
    "collapsed": false
   }
  },
  {
   "cell_type": "code",
   "execution_count": 328,
   "outputs": [
    {
     "data": {
      "text/plain": "(Home, Work, Home)                                                              0.192982\n(Home, Other, Home)                                                             0.186933\n(Home, Other, Home, Other, Home)                                                0.051691\n(Home, Other, Other, Home)                                                      0.050212\n(Home, Work, Other, Home)                                                       0.045910\n                                                                                  ...   \n(Home, Other, Home, Other, Work, Home, Other, Home)                             0.000067\n(Home, Other, School, Home, Work, Other, Home)                                  0.000067\n(Home, Other, Home, Work, Other, Work, Other, Home)                             0.000067\n(Home, Other, Other, School, School, Home)                                      0.000067\n(Home, Other, Home, Home, Work, Home, Other, Home, Other, Home, Other, Home)    0.000067\nName: act_uniq, Length: 927, dtype: float64"
     },
     "execution_count": 328,
     "metadata": {},
     "output_type": "execute_result"
    }
   ],
   "source": [
    "df_survey_twins.act_uniq.value_counts(normalize=True)\n"
   ],
   "metadata": {
    "collapsed": false
   }
  },
  {
   "cell_type": "code",
   "execution_count": 329,
   "outputs": [
    {
     "data": {
      "text/plain": "(Home, Other, Home)                                                  0.287791\n(Home, Work, Home)                                                   0.094597\n(Home, Other, Home, Other, Home)                                     0.078993\n(Home, Other, Other, Home)                                           0.076353\n(Home, Other, Other, Other, Home)                                    0.029876\n                                                                       ...   \n(Work, Work, Home)                                                   0.000008\n(Home, Other, Home, Other, Work, Other, Work, Other, Home)           0.000008\n(Home, Home, Work, Home, Other, Other, Other, Home, Home)            0.000004\n(Home, Other, Work, Other, Other, Work, Home, Other, Other, Home)    0.000004\n(Home, Work, Other, Other, Work, Other, Other, Other, Work, Home)    0.000004\nName: act_seq, Length: 927, dtype: float64"
     },
     "execution_count": 329,
     "metadata": {},
     "output_type": "execute_result"
    }
   ],
   "source": [
    "df_twins.act_seq.value_counts(normalize=True)\n"
   ],
   "metadata": {
    "collapsed": false
   }
  },
  {
   "cell_type": "code",
   "execution_count": 330,
   "outputs": [
    {
     "data": {
      "text/plain": "(Home, Work, Home)                                                              0.192982\n(Home, Other, Home)                                                             0.186933\n(Home, Other, Home, Other, Home)                                                0.051691\n(Home, Other, Other, Home)                                                      0.050212\n(Home, Work, Other, Home)                                                       0.045910\n                                                                                  ...   \n(Home, Other, Home, Other, Work, Home, Other, Home)                             0.000067\n(Home, Other, School, Home, Work, Other, Home)                                  0.000067\n(Home, Other, Home, Work, Other, Work, Other, Home)                             0.000067\n(Home, Other, Other, School, School, Home)                                      0.000067\n(Home, Other, Home, Home, Work, Home, Other, Home, Other, Home, Other, Home)    0.000067\nName: act_seq, Length: 927, dtype: float64"
     },
     "execution_count": 330,
     "metadata": {},
     "output_type": "execute_result"
    }
   ],
   "source": [
    "df_survey_twins.act_seq.value_counts(normalize=True)\n"
   ],
   "metadata": {
    "collapsed": false
   }
  },
  {
   "cell_type": "code",
   "execution_count": 331,
   "outputs": [
    {
     "data": {
      "text/plain": "            sub_id                                            act_seq  \\\n15742  20113751034  (Work, Home, Other, Home, Other, Other, Home, ...   \n\n                                                act_uniq stratum mad_size  \\\n15742  (Work, Home, Other, Home, Other, Other, Home, ...    1101    34118   \n\n           ratio probability  \n15742  26.740715    0.000784  ",
      "text/html": "<div>\n<style scoped>\n    .dataframe tbody tr th:only-of-type {\n        vertical-align: middle;\n    }\n\n    .dataframe tbody tr th {\n        vertical-align: top;\n    }\n\n    .dataframe thead th {\n        text-align: right;\n    }\n</style>\n<table border=\"1\" class=\"dataframe\">\n  <thead>\n    <tr style=\"text-align: right;\">\n      <th></th>\n      <th>sub_id</th>\n      <th>act_seq</th>\n      <th>act_uniq</th>\n      <th>stratum</th>\n      <th>mad_size</th>\n      <th>ratio</th>\n      <th>probability</th>\n    </tr>\n  </thead>\n  <tbody>\n    <tr>\n      <th>15742</th>\n      <td>20113751034</td>\n      <td>(Work, Home, Other, Home, Other, Other, Home, ...</td>\n      <td>(Work, Home, Other, Home, Other, Other, Home, ...</td>\n      <td>1101</td>\n      <td>34118</td>\n      <td>26.740715</td>\n      <td>0.000784</td>\n    </tr>\n  </tbody>\n</table>\n</div>"
     },
     "execution_count": 331,
     "metadata": {},
     "output_type": "execute_result"
    }
   ],
   "source": [
    "df_candidates[df_candidates.sub_id==20113751034]"
   ],
   "metadata": {
    "collapsed": false
   }
  },
  {
   "cell_type": "code",
   "execution_count": 332,
   "outputs": [],
   "source": [
    "aaa= df_candidates[df_candidates.stratum=='1101']"
   ],
   "metadata": {
    "collapsed": false
   }
  },
  {
   "cell_type": "code",
   "execution_count": 333,
   "outputs": [
    {
     "data": {
      "text/plain": "           sub_id                                            act_seq  \\\n5319  20113751034  (Work, Home, Other, Home, Other, Other, Home, ...   \n\n                                               act_uniq origin_main_deso  \\\n5319  (Work, Home, Other, Home, Other, Other, Home, ...        1442C1040   \n\n          avg_dist  commute  com_distance county urban_density region  \\\n5319  12575.112668        0           NaN     14             1      1   \n\n     avg_dist_cat com_dist_cat stratum  \n5319            1            0    1101  ",
      "text/html": "<div>\n<style scoped>\n    .dataframe tbody tr th:only-of-type {\n        vertical-align: middle;\n    }\n\n    .dataframe tbody tr th {\n        vertical-align: top;\n    }\n\n    .dataframe thead th {\n        text-align: right;\n    }\n</style>\n<table border=\"1\" class=\"dataframe\">\n  <thead>\n    <tr style=\"text-align: right;\">\n      <th></th>\n      <th>sub_id</th>\n      <th>act_seq</th>\n      <th>act_uniq</th>\n      <th>origin_main_deso</th>\n      <th>avg_dist</th>\n      <th>commute</th>\n      <th>com_distance</th>\n      <th>county</th>\n      <th>urban_density</th>\n      <th>region</th>\n      <th>avg_dist_cat</th>\n      <th>com_dist_cat</th>\n      <th>stratum</th>\n    </tr>\n  </thead>\n  <tbody>\n    <tr>\n      <th>5319</th>\n      <td>20113751034</td>\n      <td>(Work, Home, Other, Home, Other, Other, Home, ...</td>\n      <td>(Work, Home, Other, Home, Other, Other, Home, ...</td>\n      <td>1442C1040</td>\n      <td>12575.112668</td>\n      <td>0</td>\n      <td>NaN</td>\n      <td>14</td>\n      <td>1</td>\n      <td>1</td>\n      <td>1</td>\n      <td>0</td>\n      <td>1101</td>\n    </tr>\n  </tbody>\n</table>\n</div>"
     },
     "execution_count": 333,
     "metadata": {},
     "output_type": "execute_result"
    }
   ],
   "source": [
    "df_survey_twins[df_survey_twins.sub_id==20113751034]\n"
   ],
   "metadata": {
    "collapsed": false
   }
  },
  {
   "cell_type": "code",
   "execution_count": 334,
   "outputs": [
    {
     "data": {
      "text/plain": "0"
     },
     "execution_count": 334,
     "metadata": {},
     "output_type": "execute_result"
    }
   ],
   "source": [
    "aab= df_survey_twins[df_survey_twins.stratum=='1101']\n",
    "len(aab[aab.avg_dist<avg_dist_threshold])"
   ],
   "metadata": {
    "collapsed": false
   }
  },
  {
   "cell_type": "code",
   "execution_count": 335,
   "outputs": [
    {
     "data": {
      "text/plain": "10"
     },
     "execution_count": 335,
     "metadata": {},
     "output_type": "execute_result"
    }
   ],
   "source": [
    "len(df_survey_twins[(df_survey_twins.region=='0')&(df_survey_twins.urban_density=='0')&(df_survey_twins.commute==1)&(df_survey_twins.avg_dist_cat=='0')])\n"
   ],
   "metadata": {
    "collapsed": false
   }
  },
  {
   "cell_type": "code",
   "execution_count": 336,
   "outputs": [
    {
     "data": {
      "text/plain": "182"
     },
     "execution_count": 336,
     "metadata": {},
     "output_type": "execute_result"
    }
   ],
   "source": [
    "len(df_survey_twins[(df_survey_twins.region=='0')&(df_survey_twins.urban_density=='0')&(df_survey_twins.commute==1)])"
   ],
   "metadata": {
    "collapsed": false
   }
  },
  {
   "cell_type": "code",
   "execution_count": 336,
   "outputs": [],
   "source": [],
   "metadata": {
    "collapsed": false
   }
  }
 ],
 "metadata": {
  "kernelspec": {
   "display_name": "Python 3",
   "language": "python",
   "name": "python3"
  },
  "language_info": {
   "codemirror_mode": {
    "name": "ipython",
    "version": 2
   },
   "file_extension": ".py",
   "mimetype": "text/x-python",
   "name": "python",
   "nbconvert_exporter": "python",
   "pygments_lexer": "ipython2",
   "version": "2.7.6"
  }
 },
 "nbformat": 4,
 "nbformat_minor": 0
}
