{
 "cells": [
  {
   "cell_type": "code",
   "execution_count": 48,
   "metadata": {
    "collapsed": true
   },
   "outputs": [
    {
     "name": "stdout",
     "output_type": "stream",
     "text": [
      "The autoreload extension is already loaded. To reload it, use:\n",
      "  %reload_ext autoreload\n",
      "C:\\MAD4AG\n"
     ]
    }
   ],
   "source": [
    "%load_ext autoreload\n",
    "%autoreload 2\n",
    "%cd C:\\MAD4AG\n",
    "%matplotlib inline"
   ]
  },
  {
   "cell_type": "code",
   "execution_count": 49,
   "outputs": [],
   "source": [
    "import pandas as pd\n",
    "import numpy as np\n",
    "from tqdm.auto import tqdm\n",
    "import collections\n",
    "import geopandas\n",
    "import folium\n",
    "from folium.plugins import HeatMapWithTime\n",
    "import warnings\n",
    "import matplotlib.pyplot as plt\n",
    "\n",
    "\n",
    "plt.style.use('seaborn-white')\n",
    "warnings.filterwarnings('ignore')"
   ],
   "metadata": {
    "collapsed": false
   }
  },
  {
   "cell_type": "markdown",
   "source": [
    "# Looking at the visitation frequency of the survey data\n"
   ],
   "metadata": {
    "collapsed": false
   }
  },
  {
   "cell_type": "code",
   "execution_count": 50,
   "outputs": [],
   "source": [
    "def cluster_tempo(pur=None, temps=None, interval=30, maximum_days=1, norm=True):\n",
    "    \"\"\"\n",
    "    :param maximum_days: number of days a stay spans, usually 2 days\n",
    "    holder_size = maximum_days x 24 x (60 / interval)\n",
    "    holder_day = 24 x (60 / interval)\n",
    "    :type maximum_days: int\n",
    "    :param interval: resolution of temporal counting in minute, e.g., 30 min\n",
    "    :type interval: int\n",
    "    :param pur: Purpose to add to the activity\n",
    "    :type pur: str\n",
    "    :param temps: List of tuples containing start (hour) and duration (minute)\n",
    "    :type temps: list\n",
    "    :return: A dataframe of half-hour frequency of a certain activity.\n",
    "    :rtype:\n",
    "    \"\"\"\n",
    "    holder_size = int(maximum_days * 24 * (60 / interval))\n",
    "    holder = np.zeros((holder_size, 1))\n",
    "    for tm in temps:\n",
    "        start_ = int(np.floor(tm[0] / interval))\n",
    "        end_ = int(np.floor((tm[0]+ int(tm[1])) / interval))\n",
    "        holder[start_:end_ + 1, 0] += 1\n",
    "    if maximum_days != 1:\n",
    "        mk = int(24 * (60 / interval))\n",
    "        holder_day = holder[:mk] + holder[mk:]  # This fold it back to 24 hour temporal profile\n",
    "    else:\n",
    "        holder_day = holder\n",
    "    df = pd.DataFrame()\n",
    "    df.loc[:, 'half_hour'] = range(0, len(holder_day))\n",
    "    df.loc[:, 'freq'] = holder_day\n",
    "    if norm:\n",
    "        df.loc[:, 'freq'] /= max(holder_day)\n",
    "    if pur is not None:\n",
    "        df.loc[:, 'activity'] = pur\n",
    "    return df"
   ],
   "metadata": {
    "collapsed": false
   }
  },
  {
   "cell_type": "code",
   "execution_count": 88,
   "outputs": [],
   "source": [
    "df_act = pd.read_csv('Master Thesis/Master Thesis Colab/DataFolder/Cag_survey_final_new.csv')\n",
    "df_act['urban_density'] =df_act['zone'].str[4]"
   ],
   "metadata": {
    "collapsed": false
   }
  },
  {
   "cell_type": "code",
   "execution_count": 89,
   "outputs": [],
   "source": [
    "urban_density_level = 'C'\n",
    "\n",
    "df_act_filtered =df_act[df_act.urban_density==urban_density_level]"
   ],
   "metadata": {
    "collapsed": false
   }
  },
  {
   "cell_type": "code",
   "execution_count": 90,
   "outputs": [
    {
     "data": {
      "text/plain": "   half_hour      freq activity\n0          0  1.000000     Home\n1          1  0.999937     Home\n2          2  0.999874     Home\n3          3  0.999749     Home\n4          4  0.999749     Home",
      "text/html": "<div>\n<style scoped>\n    .dataframe tbody tr th:only-of-type {\n        vertical-align: middle;\n    }\n\n    .dataframe tbody tr th {\n        vertical-align: top;\n    }\n\n    .dataframe thead th {\n        text-align: right;\n    }\n</style>\n<table border=\"1\" class=\"dataframe\">\n  <thead>\n    <tr style=\"text-align: right;\">\n      <th></th>\n      <th>half_hour</th>\n      <th>freq</th>\n      <th>activity</th>\n    </tr>\n  </thead>\n  <tbody>\n    <tr>\n      <th>0</th>\n      <td>0</td>\n      <td>1.000000</td>\n      <td>Home</td>\n    </tr>\n    <tr>\n      <th>1</th>\n      <td>1</td>\n      <td>0.999937</td>\n      <td>Home</td>\n    </tr>\n    <tr>\n      <th>2</th>\n      <td>2</td>\n      <td>0.999874</td>\n      <td>Home</td>\n    </tr>\n    <tr>\n      <th>3</th>\n      <td>3</td>\n      <td>0.999749</td>\n      <td>Home</td>\n    </tr>\n    <tr>\n      <th>4</th>\n      <td>4</td>\n      <td>0.999749</td>\n      <td>Home</td>\n    </tr>\n  </tbody>\n</table>\n</div>"
     },
     "execution_count": 90,
     "metadata": {},
     "output_type": "execute_result"
    }
   ],
   "source": [
    "\n",
    "df_survey_tempo = [cluster_tempo(pur='Home', temps=list(df_act_filtered.loc[df_act_filtered['purpose'] == 'Home', ['h_s', 'dur']].to_records(index=False))),\n",
    "                   cluster_tempo(pur='Work', temps=list(df_act_filtered.loc[df_act_filtered['purpose'] == 'Work', ['h_s', 'dur']].to_records(index=False))),\n",
    "                   cluster_tempo(pur='Other', temps=list(df_act_filtered.loc[df_act_filtered['purpose'] == 'Other', ['h_s', 'dur']].to_records(index=False)))]\n",
    "\n",
    "df_survey_tempo = pd.concat(df_survey_tempo)\n",
    "df_survey_tempo.head()"
   ],
   "metadata": {
    "collapsed": false
   }
  },
  {
   "cell_type": "code",
   "execution_count": 91,
   "outputs": [],
   "source": [
    "# Convert 'half_hour' to integers\n",
    "df_survey_tempo['half_hour'] = df_survey_tempo['half_hour'].astype(int)\n",
    "\n",
    "# Convert 'half_hour' to time strings\n",
    "df_survey_tempo['half_hour'] = df_survey_tempo['half_hour'].apply(lambda x: f'{x//2:02}:{30 * (x % 2):02}')\n",
    "df_pivot = df_survey_tempo.pivot(index='activity', columns='half_hour', values='freq')\n",
    "\n",
    "# Reorder the rows to match 'Home', 'Work', and 'Other'\n",
    "df_pivot = df_pivot.reindex(['Home', 'Work', 'Other'])\n",
    "\n",
    "# Reset the index name\n",
    "df_pivot.index.name = None\n",
    "df_pivot.to_csv('./Master Thesis/Master Thesis Colab/DataFolder/Cag_activityTypefreBytime_'+urban_density_level+'.csv')\n"
   ],
   "metadata": {
    "collapsed": false
   }
  },
  {
   "cell_type": "code",
   "execution_count": 92,
   "outputs": [],
   "source": [
    "home_frequency_A = pd.read_csv('Master Thesis/Master Thesis Colab/DataFolder/Cag_activityTypefreBytime_A.csv')\n",
    "home_frequency_B = pd.read_csv('Master Thesis/Master Thesis Colab/DataFolder/Cag_activityTypefreBytime_B.csv')\n",
    "home_frequency_C = pd.read_csv('Master Thesis/Master Thesis Colab/DataFolder/Cag_activityTypefreBytime_C.csv')"
   ],
   "metadata": {
    "collapsed": false
   }
  },
  {
   "cell_type": "code",
   "execution_count": 98,
   "outputs": [],
   "source": [
    "home_frequency_all = pd.concat([home_frequency_A,home_frequency_B,home_frequency_C])"
   ],
   "metadata": {
    "collapsed": false
   }
  },
  {
   "cell_type": "markdown",
   "source": [
    "A DeSO in category A is mostly outside major population concentrations or urban areas. DeSO in category B is mostly located in a population concentration or agglomeration, but not in the municipality's central location. Category C includes DeSO, which is mostly located in the municipality's central location."
   ],
   "metadata": {
    "collapsed": false
   }
  },
  {
   "cell_type": "markdown",
   "source": [
    "## Plot"
   ],
   "metadata": {
    "collapsed": false
   }
  },
  {
   "cell_type": "code",
   "execution_count": 93,
   "outputs": [],
   "source": [
    "df_tempo_home = df_survey_tempo[df_survey_tempo['activity'] == 'Home']"
   ],
   "metadata": {
    "collapsed": false
   }
  },
  {
   "cell_type": "code",
   "execution_count": 94,
   "outputs": [
    {
     "data": {
      "text/plain": "<Figure size 640x480 with 1 Axes>",
      "image/png": "[encoded data removed]"
     },
     "metadata": {},
     "output_type": "display_data"
    }
   ],
   "source": [
    "plt.scatter(df_tempo_home['half_hour'], df_tempo_home['freq'], label='Survey', color=\"grey\", alpha=0.5)\n",
    "plt.xlabel('Hour of the day', fontsize=11)\n",
    "plt.ylabel('Frequency', fontsize=11)\n",
    "\n",
    "\n",
    "x_labels = range(0, 24)  # Generate labels from 1 to 24\n",
    "x_ticks = range(0, 48, 2)  # Position the labels every other data point\n",
    "plt.ylim(0, 1.1)\n",
    "plt.xticks(x_ticks, x_labels, fontsize=11)\n",
    "plt.yticks(fontsize=11)\n",
    "plt.legend(fontsize=10, frameon=True, loc='lower right')\n",
    "plt.savefig('figures/temporal_visitation_pattern'+urban_density_level+'.png', dpi=300, bbox_inches=\"tight\")\n",
    "plt.show()"
   ],
   "metadata": {
    "collapsed": false
   }
  },
  {
   "cell_type": "code",
   "execution_count": 94,
   "outputs": [],
   "source": [],
   "metadata": {
    "collapsed": false
   }
  }
 ],
 "metadata": {
  "kernelspec": {
   "display_name": "Python 3",
   "language": "python",
   "name": "python3"
  },
  "language_info": {
   "codemirror_mode": {
    "name": "ipython",
    "version": 2
   },
   "file_extension": ".py",
   "mimetype": "text/x-python",
   "name": "python",
   "nbconvert_exporter": "python",
   "pygments_lexer": "ipython2",
   "version": "2.7.6"
  }
 },
 "nbformat": 4,
 "nbformat_minor": 0
}
