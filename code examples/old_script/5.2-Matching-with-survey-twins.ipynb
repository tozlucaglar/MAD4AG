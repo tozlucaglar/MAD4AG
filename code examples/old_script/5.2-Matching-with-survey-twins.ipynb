{
 "cells": [
  {
   "cell_type": "code",
   "execution_count": 54,
   "metadata": {
    "collapsed": true
   },
   "outputs": [
    {
     "name": "stdout",
     "output_type": "stream",
     "text": [
      "The autoreload extension is already loaded. To reload it, use:\n",
      "  %reload_ext autoreload\n",
      "C:\\MAD4AG\n"
     ]
    }
   ],
   "source": [
    "%load_ext autoreload\n",
    "%autoreload 2\n",
    "%cd C:\\MAD4AG\n",
    "%matplotlib inline"
   ]
  },
  {
   "cell_type": "code",
   "execution_count": 55,
   "outputs": [],
   "source": [
    "import pandas as pd\n",
    "import numpy as np\n",
    "import matplotlib.pyplot as plt\n",
    "from tqdm.auto import tqdm\n",
    "\n",
    "\n",
    "\n",
    "import warnings\n",
    "\n",
    "warnings.filterwarnings('ignore')"
   ],
   "metadata": {
    "collapsed": false
   }
  },
  {
   "cell_type": "code",
   "execution_count": 56,
   "outputs": [],
   "source": [
    "df_MAD = pd.read_parquet(f'./dbs/intermediate/indi_weights.parquet')\n"
   ],
   "metadata": {
    "collapsed": false
   }
  },
  {
   "cell_type": "code",
   "execution_count": 57,
   "outputs": [],
   "source": [
    "df_survey_twins = pd.read_pickle(f'./dbs/intermediate/df_survey_twins.pkl')\n"
   ],
   "metadata": {
    "collapsed": false
   }
  },
  {
   "cell_type": "markdown",
   "source": [
    "# add region information"
   ],
   "metadata": {
    "collapsed": false
   }
  },
  {
   "cell_type": "code",
   "execution_count": 58,
   "outputs": [],
   "source": [
    "lan= pd.read_csv(f'./dbs/lan.csv', delimiter=';', dtype={'code':'string'})\n",
    "lan.rename(columns={'code':'county', 'landsdelar':'region'},inplace=True)\n",
    "\n",
    "df_MAD = pd.merge(df_MAD, lan[['county','region']], on='county')\n",
    "df_survey_twins = pd.merge(df_survey_twins, lan[['county','region']], on='county')\n"
   ],
   "metadata": {
    "collapsed": false
   }
  },
  {
   "cell_type": "markdown",
   "source": [
    "# calculate median distance"
   ],
   "metadata": {
    "collapsed": false
   }
  },
  {
   "cell_type": "code",
   "execution_count": 59,
   "outputs": [],
   "source": [
    "avg_dist_threshold = df_survey_twins.avg_dist.median()\n",
    "com_dist_threshold = df_survey_twins.com_distance.median()\n",
    "\n",
    "#df_survey_twins.avg_dist.quantile(0.5)\n"
   ],
   "metadata": {
    "collapsed": false
   }
  },
  {
   "cell_type": "markdown",
   "source": [
    "# create stratum"
   ],
   "metadata": {
    "collapsed": false
   }
  },
  {
   "cell_type": "code",
   "execution_count": 60,
   "outputs": [],
   "source": [
    "df_MAD['region'] = df_MAD['region'].replace({'Svealand':'0','Göteland':'1', 'Norrland':'2'})\n",
    "\n",
    "df_MAD['urban_density'] = df_MAD['urban_density'].replace({'A': '0', 'B': '1', 'C': '1'})\n",
    "\n",
    "df_MAD['avg_dist_cat'] = '0'\n",
    "df_MAD['avg_dist_cat'][df_MAD.avg_dist > avg_dist_threshold] = '1'\n",
    "\n",
    "df_MAD['com_dist_cat'] = '0'\n",
    "df_MAD['com_dist_cat'][df_MAD.com_dist > com_dist_threshold] = '1'"
   ],
   "metadata": {
    "collapsed": false
   }
  },
  {
   "cell_type": "code",
   "execution_count": 61,
   "outputs": [],
   "source": [
    "\n",
    "df_MAD['stratum'] = df_MAD['region'].astype(str) + df_MAD['urban_density'].astype(str) +  df_MAD['commute'].astype(str)+  df_MAD['avg_dist_cat'].astype(str)"
   ],
   "metadata": {
    "collapsed": false
   }
  },
  {
   "cell_type": "code",
   "execution_count": 62,
   "outputs": [
    {
     "data": {
      "text/plain": "0101     48915\n0100     37723\n1101     34118\n1100     33219\n2100     11705\n11100    11666\n01100    10132\n01111     9421\n11111     8855\n2101      7158\n1001      6322\n0001      4944\n01110     3891\n21100     3872\n11110     3556\n1000      3215\n10111     2670\n2001      2399\n0000      1899\n00111     1636\n21111     1593\n11101     1560\n01101     1448\n2000      1344\n21110      909\n20111      898\n10100      763\n10110      695\n00110      418\n00100      412\n10101      292\n21101      286\n20100      256\n20110      238\n00101      149\n20101       90\nName: stratum, dtype: int64"
     },
     "execution_count": 62,
     "metadata": {},
     "output_type": "execute_result"
    }
   ],
   "source": [
    "\n",
    "df_MAD['stratum'][(df_MAD.commute == 1)] = df_MAD['stratum'][(df_MAD.commute == 1)] + df_MAD['com_dist_cat'][(df_MAD.commute == 1)].astype(str)\n",
    "\n",
    "df_MAD['stratum'].value_counts()"
   ],
   "metadata": {
    "collapsed": false
   }
  },
  {
   "cell_type": "code",
   "execution_count": 63,
   "outputs": [],
   "source": [
    "df_survey_twins['region'] = df_survey_twins['region'].replace({'Svealand':'0','Göteland':'1', 'Norrland':'2'})\n",
    "\n",
    "df_survey_twins['urban_density'] = df_survey_twins['urban_density'].replace({'A': '0', 'B': '1', 'C': '1'})\n",
    "\n",
    "df_survey_twins['avg_dist_cat'] = '0'\n",
    "df_survey_twins['avg_dist_cat'][df_survey_twins.avg_dist > avg_dist_threshold] = '1'\n",
    "\n",
    "df_survey_twins['com_dist_cat'] = '0'\n",
    "df_survey_twins['com_dist_cat'][df_survey_twins.com_distance > com_dist_threshold] = '1'\n"
   ],
   "metadata": {
    "collapsed": false
   }
  },
  {
   "cell_type": "code",
   "execution_count": 64,
   "outputs": [],
   "source": [
    "\n",
    "df_survey_twins['stratum'] = df_survey_twins['region'].astype(str) + df_survey_twins['urban_density'].astype(str) +  df_survey_twins['commute'].astype(str)+  df_survey_twins['avg_dist_cat'].astype(str)"
   ],
   "metadata": {
    "collapsed": false
   }
  },
  {
   "cell_type": "code",
   "execution_count": 65,
   "outputs": [
    {
     "data": {
      "text/plain": "1100     2588\n11100    1935\n11111    1913\n1101     1552\n0100     1108\n01100     853\n01111     807\n0101      614\n1001      579\n10111     546\n11110     410\n2100      241\n21100     234\n0001      174\n01110     165\n00111     155\n11101     149\n1000      125\n2001      124\n2101       95\n10100      91\n21111      90\n20111      83\n10110      82\n01101      72\n21110      29\n00110      17\n0000       14\n00100      10\n21101       9\n10101       7\n20110       3\n20100       2\n2000        1\nName: stratum, dtype: int64"
     },
     "execution_count": 65,
     "metadata": {},
     "output_type": "execute_result"
    }
   ],
   "source": [
    "\n",
    "df_survey_twins['stratum'][(df_survey_twins.commute == 1)] = df_survey_twins['stratum'][(df_survey_twins.commute == 1)] + df_survey_twins['com_dist_cat'][(df_survey_twins.commute == 1)].astype(str)\n",
    "\n",
    "df_survey_twins['stratum'].value_counts()"
   ],
   "metadata": {
    "collapsed": false
   }
  },
  {
   "cell_type": "code",
   "execution_count": 66,
   "outputs": [
    {
     "data": {
      "text/plain": "{'00101', '20101'}"
     },
     "execution_count": 66,
     "metadata": {},
     "output_type": "execute_result"
    }
   ],
   "source": [
    "list_survey_type = list(df_survey_twins['stratum'].unique())\n",
    "list_MAD_type = list(df_MAD['stratum'].unique())\n",
    "\n",
    "\n",
    "set(list_MAD_type).difference(set(list_survey_type))"
   ],
   "metadata": {
    "collapsed": false
   }
  },
  {
   "cell_type": "code",
   "execution_count": 67,
   "outputs": [],
   "source": [
    "threshold_count = 50\n",
    "\n",
    "df_stratum = pd.DataFrame(columns=['stratum','level','mad_size', 'sur_size','survey_ppl'])"
   ],
   "metadata": {
    "collapsed": false
   }
  },
  {
   "cell_type": "code",
   "execution_count": 68,
   "outputs": [],
   "source": [
    "#list_MAD_type= ['1100','1101']\n",
    "\n",
    "for i in list_MAD_type:\n",
    "    df_MAD_p_type = df_MAD[df_MAD['stratum']==i]\n",
    "    #print('mad len: ', len(df_MAD_p_type))\n",
    "\n",
    "    df_sur_p_type = df_survey_twins[df_survey_twins['region']==i[0]]\n",
    "\n",
    "    df_sur_temp = df_sur_p_type\n",
    "    level = 0\n",
    "    if len(df_sur_p_type) > threshold_count:\n",
    "        df_sur_temp = df_sur_p_type[df_sur_p_type['urban_density']==i[1]]\n",
    "        level = 1\n",
    "        if len(df_sur_temp) > threshold_count:\n",
    "            df_sur_p_type = df_sur_temp\n",
    "            df_sur_temp = df_sur_p_type[df_sur_p_type['commute']==int(i[2])]\n",
    "            level = 2\n",
    "            #print(level)\n",
    "            if len(df_sur_temp) > threshold_count:\n",
    "                df_sur_p_type = df_sur_temp\n",
    "                df_sur_temp = df_sur_p_type[df_sur_p_type['avg_dist_cat']==i[3]]\n",
    "                level = 3\n",
    "                #print(int(i[2]))\n",
    "                if (len(df_sur_temp) > threshold_count)&(int(i[2])==0):\n",
    "                   df_sur_p_type = df_sur_temp\n",
    "                   level = 4\n",
    "\n",
    "                elif (len(df_sur_temp) > threshold_count)&(int(i[2])==1):\n",
    "                    df_sur_p_type = df_sur_temp\n",
    "                    df_sur_temp = df_sur_p_type[df_sur_p_type['com_dist_cat']==i[4]]\n",
    "                    level = 4\n",
    "                    #print(level)\n",
    "\n",
    "                    if len(df_sur_temp) > threshold_count:\n",
    "                        df_sur_p_type = df_sur_temp\n",
    "                        level = 5\n",
    "\n",
    "    df_stratum = df_stratum.append(dict(stratum=i, level=level, mad_size=len(df_MAD_p_type), sur_size=len(df_sur_p_type), survey_ppl=df_sur_p_type['sub_id'].tolist()), ignore_index=True)\n",
    "\n",
    "\n"
   ],
   "metadata": {
    "collapsed": false
   }
  },
  {
   "cell_type": "code",
   "execution_count": 69,
   "outputs": [],
   "source": [
    "# from collections import Counter\n",
    "#\n",
    "#\n",
    "#\n",
    "# def unique_activities(data):\n",
    "#     act_tuple = data['act_seq']\n",
    "#     #data['act_uniq'] = tuple(set(Counter(act_tuple).keys()))\n",
    "#     data['act_uniq'] = tuple(Counter(act_tuple).keys())\n",
    "#\n",
    "#     # this will take only unique numbers from the tuple\n",
    "#     return data\n",
    "#\n",
    "# tqdm.pandas()\n",
    "# df_survey_twins = df_survey_twins.apply(lambda row: unique_activities(row), axis=1)"
   ],
   "metadata": {
    "collapsed": false
   }
  },
  {
   "cell_type": "markdown",
   "source": [
    "## simplify activity sequences"
   ],
   "metadata": {
    "collapsed": false
   }
  },
  {
   "cell_type": "code",
   "execution_count": 70,
   "outputs": [],
   "source": [
    "\n",
    "def act_seq_simplifier(data):\n",
    "    alist = list(data['act_seq'])\n",
    "    counter = 0\n",
    "    for i in range(len(alist) - 1, 0, -1):\n",
    "        if alist[i] in ['Home', 'Work', 'School']:\n",
    "            counter = 0\n",
    "            if alist[i] == alist[i-1]:\n",
    "                del alist[i]\n",
    "        elif alist[i] == 'Other':\n",
    "            counter += 1\n",
    "            if counter > 3:\n",
    "                del alist[i]\n",
    "    data['act_uniq'] = tuple(alist)\n",
    "    return data\n",
    "\n",
    "tqdm.pandas()\n",
    "df_survey_twins = df_survey_twins.apply(lambda row: act_seq_simplifier(row), axis=1)"
   ],
   "metadata": {
    "collapsed": false
   }
  },
  {
   "cell_type": "code",
   "execution_count": 71,
   "outputs": [],
   "source": [
    "seq_dist = df_survey_twins.act_uniq.value_counts(normalize=True).reset_index(name='count_desired')\n",
    "seq_dist['count_desired']=seq_dist['count_desired']*len(df_MAD)"
   ],
   "metadata": {
    "collapsed": false
   }
  },
  {
   "cell_type": "markdown",
   "source": [
    "## generate candidates df by stratums"
   ],
   "metadata": {
    "collapsed": false
   }
  },
  {
   "cell_type": "code",
   "execution_count": 72,
   "outputs": [],
   "source": [
    "df_candidates = pd.DataFrame(columns=['sub_id', 'act_seq', 'act_uniq','stratum','mad_size' ,'ratio'])\n",
    "\n",
    "\n",
    "for index, row in df_stratum.iterrows():\n",
    "\n",
    "    df_temp= df_survey_twins[['sub_id', 'act_seq', 'act_uniq']][df_survey_twins.sub_id.isin(row['survey_ppl'])]\n",
    "    df_temp['stratum']= row['stratum']\n",
    "    df_temp['mad_size']=row['mad_size']\n",
    "    df_temp['ratio']=row['mad_size']/row['sur_size']\n",
    "    df_candidates = df_candidates.append(df_temp)\n",
    "    #print(row['survey_ppl'])\n",
    "    #len(df_survey_twins[df_survey_twins.sub_id.isin(row['survey_ppl'])])\n",
    "\n"
   ],
   "metadata": {
    "collapsed": false
   }
  },
  {
   "cell_type": "code",
   "execution_count": 73,
   "outputs": [
    {
     "data": {
      "text/plain": "258666.99999999994"
     },
     "execution_count": 73,
     "metadata": {},
     "output_type": "execute_result"
    }
   ],
   "source": [
    "df_candidates.ratio.sum()"
   ],
   "metadata": {
    "collapsed": false
   }
  },
  {
   "cell_type": "code",
   "execution_count": 74,
   "outputs": [],
   "source": [
    "#df_candidates.groupby('act_uniq')['ratio'].sum()"
   ],
   "metadata": {
    "collapsed": false
   }
  },
  {
   "cell_type": "markdown",
   "source": [
    "## fitting probabilities to the simplified activity seq distribution"
   ],
   "metadata": {
    "collapsed": false
   }
  },
  {
   "cell_type": "code",
   "execution_count": 75,
   "outputs": [],
   "source": [
    "for i in range(40):\n",
    "\n",
    "    #fit to candidates ratios to the act seq distribution\n",
    "    bbb = df_candidates.groupby('act_uniq')['ratio'].sum().reset_index(name='count')\n",
    "    merged_df = pd.merge(seq_dist, bbb, left_on='index', right_on='act_uniq', how='inner')\n",
    "    merged_df['result_column'] = merged_df['count_desired'] / merged_df['count']\n",
    "    df_candidates = pd.merge(df_candidates, merged_df[['act_uniq', 'result_column']], on='act_uniq')\n",
    "\n",
    "    df_candidates['ratio']= df_candidates['ratio']*df_candidates['result_column']\n",
    "    df_candidates.drop(columns='result_column', inplace=True)\n",
    "\n",
    "    #fit to candidates ratios to the mad size by stratum\n",
    "    bbb = df_candidates.groupby('stratum')['ratio'].sum().reset_index(name='count')\n",
    "    df_candidates = pd.merge(df_candidates, bbb, on='stratum')\n",
    "\n",
    "    df_candidates['ratio'] = df_candidates['ratio'] * (df_candidates['mad_size'] / df_candidates['count'])\n",
    "    df_candidates.drop(columns='count', inplace=True)\n",
    "\n",
    "\n",
    "\n"
   ],
   "metadata": {
    "collapsed": false
   }
  },
  {
   "cell_type": "code",
   "execution_count": 76,
   "outputs": [],
   "source": [
    "#df_candidates.groupby('act_uniq')['ratio'].sum()\n"
   ],
   "metadata": {
    "collapsed": false
   }
  },
  {
   "cell_type": "markdown",
   "source": [
    "## sampling survey ppl by the calculated probabilities for each stratum"
   ],
   "metadata": {
    "collapsed": false
   }
  },
  {
   "cell_type": "code",
   "execution_count": 77,
   "outputs": [],
   "source": [
    "df_candidates['probability'] = df_candidates['ratio']/df_candidates['mad_size']\n",
    "\n",
    "#df_MAD['twin_ppl'] =0"
   ],
   "metadata": {
    "collapsed": false
   }
  },
  {
   "cell_type": "code",
   "execution_count": 78,
   "outputs": [],
   "source": [
    "df_candidates_prob= df_candidates.groupby('stratum')['probability'].apply(list).reset_index(name='probability_list')\n",
    "\n",
    "\n",
    "df_candidates_ppl= df_candidates.groupby('stratum')['sub_id'].apply(list).reset_index(name='ppl_list')"
   ],
   "metadata": {
    "collapsed": false
   }
  },
  {
   "cell_type": "code",
   "execution_count": 79,
   "outputs": [],
   "source": [
    "df_stratum = pd.merge(df_stratum, df_candidates_prob)\n",
    "\n",
    "df_stratum = pd.merge(df_stratum, df_candidates_ppl)\n"
   ],
   "metadata": {
    "collapsed": false
   }
  },
  {
   "cell_type": "code",
   "execution_count": 80,
   "outputs": [],
   "source": [
    "df_stratum['twin_ppl'] = df_stratum.apply( lambda row: np.argmax(np.random.multinomial(1, row['probability_list'], row['mad_size']), axis=1).tolist()  , axis=1)"
   ],
   "metadata": {
    "collapsed": false
   }
  },
  {
   "cell_type": "markdown",
   "source": [
    "## matching sampled survey ppl with MAD ppl"
   ],
   "metadata": {
    "collapsed": false
   }
  },
  {
   "cell_type": "code",
   "execution_count": 81,
   "outputs": [],
   "source": [
    "df_survey_twins_new = df_survey_twins.set_index('sub_id')\n",
    "df_survey_twins_new = df_survey_twins_new[['act_seq', 'act_uniq', 'avg_dist']]"
   ],
   "metadata": {
    "collapsed": false
   }
  },
  {
   "cell_type": "code",
   "execution_count": 82,
   "outputs": [],
   "source": [
    "from collections import Counter\n",
    "\n",
    "\n",
    "def other_count(data):\n",
    "    act_tuple = data['act_uniq']\n",
    "    other_count_seq = Counter(act_tuple).get('Other')\n",
    "    if other_count_seq is not None:\n",
    "        data['other_count_seq'] = other_count_seq\n",
    "    else:\n",
    "        data['other_count_seq'] = 0\n",
    "    return data"
   ],
   "metadata": {
    "collapsed": false
   }
  },
  {
   "cell_type": "code",
   "execution_count": 83,
   "outputs": [],
   "source": [
    "\n",
    "tqdm.pandas()\n",
    "df_survey_twins_new = df_survey_twins_new.apply(lambda row: other_count(row), axis=1)\n",
    "\n"
   ],
   "metadata": {
    "collapsed": false
   }
  },
  {
   "cell_type": "code",
   "execution_count": 84,
   "outputs": [],
   "source": [
    "\n",
    "\n",
    "df_twins = pd.DataFrame()\n",
    "\n",
    "for index, row in df_stratum.iterrows():\n",
    "    twin_ppl_list = df_stratum.loc[index,'ppl_list']\n",
    "    twin_ppl_place = df_stratum.loc[index,'twin_ppl']\n",
    "    twin_ppl_list = [twin_ppl_list[place] for place in twin_ppl_place]\n",
    "\n",
    "    df_survey_twins_new_candidates= df_survey_twins_new.loc[twin_ppl_list].reset_index()\n",
    "\n",
    "    df_MAD_new = df_MAD[df_MAD.stratum==row['stratum']]\n",
    "\n",
    "    zero_MAD = df_MAD_new[df_MAD_new.other_count == 0]\n",
    "    zero_survey = df_survey_twins_new_candidates[df_survey_twins_new_candidates.other_count_seq == 0]\n",
    "\n",
    "    #for i in range(len(df_MAD_new.other_count_seq.max())):\n",
    "    if len(zero_MAD) <= len(zero_survey):\n",
    "\n",
    "        zero_survey.sort_values(by=['avg_dist'], inplace=True)\n",
    "        zero_survey.reset_index(inplace=True)\n",
    "        zero_survey = zero_survey.iloc[:len(zero_MAD)]\n",
    "        remain_survey = df_survey_twins_new_candidates.drop(index=zero_survey.index.to_list())\n",
    "        zero_survey.drop(columns='index', inplace=True)\n",
    "\n",
    "        zero_MAD.sort_values(by=['avg_dist'], inplace=True)\n",
    "        zero_MAD.reset_index(inplace=True)\n",
    "        zero_MAD.drop(columns='index', inplace=True)\n",
    "\n",
    "        zero_MAD = pd.concat([zero_MAD, zero_survey.iloc[:len(zero_MAD)]], axis=1, ignore_index=False)\n",
    "\n",
    "\n",
    "    else:\n",
    "        print(row['stratum'])\n",
    "\n",
    "    df_twins = df_twins.append(zero_MAD)\n",
    "\n",
    "    remain_MAD = df_MAD_new[df_MAD_new.other_count > 0]\n",
    "\n",
    "\n",
    "    remain_survey.sort_values(by=['avg_dist'], inplace=True)\n",
    "    remain_survey.reset_index(inplace=True)\n",
    "    remain_survey.drop(columns='index', inplace=True)\n",
    "\n",
    "    remain_MAD.sort_values(by=['avg_dist'], inplace=True)\n",
    "    remain_MAD.reset_index(inplace=True)\n",
    "    remain_MAD.drop(columns='index', inplace=True)\n",
    "\n",
    "    remain_MAD = pd.concat([remain_MAD, remain_survey], axis=1, ignore_index=False)\n",
    "    df_twins = df_twins.append(remain_MAD)\n",
    "\n",
    "    #print(index)\n",
    "\n",
    "\n",
    "\n"
   ],
   "metadata": {
    "collapsed": false
   }
  },
  {
   "cell_type": "code",
   "execution_count": 85,
   "outputs": [],
   "source": [
    "\n",
    "\n",
    "# df_twins = pd.DataFrame()\n",
    "#\n",
    "# for index, row in df_stratum.iterrows():\n",
    "#     twin_ppl_list = df_stratum.loc[index,'ppl_list']\n",
    "#     twin_ppl_place = df_stratum.loc[index,'twin_ppl']\n",
    "#     twin_ppl_list = [twin_ppl_list[place] for place in twin_ppl_place]\n",
    "#\n",
    "#     df_survey_twins_new_candidates= df_survey_twins_new.loc[twin_ppl_list].reset_index()\n",
    "#\n",
    "#     df_survey_twins_new_candidates.sort_values(by=['avg_dist'], inplace=True)\n",
    "#     df_survey_twins_new_candidates.reset_index(inplace=True)\n",
    "#     df_survey_twins_new_candidates.drop(columns='index', inplace=True)\n",
    "#\n",
    "#     df_MAD_new = df_MAD[df_MAD.stratum==row['stratum']]\n",
    "#     df_MAD_new.sort_values(by=['avg_dist'], inplace=True)\n",
    "#     df_MAD_new.reset_index(inplace=True)\n",
    "#     df_MAD_new.drop(columns='index', inplace=True)\n",
    "#\n",
    "#     df_MAD_new = pd.concat([df_MAD_new, df_survey_twins_new_candidates], axis=1, ignore_index=False)\n",
    "#     df_twins = df_twins.append(df_MAD_new)\n",
    "#\n",
    "#     #print(index)\n",
    "#\n",
    "#\n",
    "\n"
   ],
   "metadata": {
    "collapsed": false
   }
  },
  {
   "cell_type": "code",
   "execution_count": 86,
   "outputs": [],
   "source": [
    "#kkk = df_twins[['uid','other_count','other_count_seq']]\n",
    "\n",
    "\n",
    "#kkk = df_twins[df_twins['other_count']==0]"
   ],
   "metadata": {
    "collapsed": false
   }
  },
  {
   "cell_type": "markdown",
   "source": [
    "## Evaluation"
   ],
   "metadata": {
    "collapsed": false
   }
  },
  {
   "cell_type": "code",
   "execution_count": 87,
   "outputs": [
    {
     "name": "stdout",
     "output_type": "stream",
     "text": [
      "The share of the matched survey ppl:  1.0\n"
     ]
    }
   ],
   "source": [
    "print('The share of the matched survey ppl: ', np.round(len(df_twins.sub_id.unique())/len(df_survey_twins.sub_id.unique()),2))"
   ],
   "metadata": {
    "collapsed": false
   }
  },
  {
   "cell_type": "code",
   "execution_count": 88,
   "outputs": [
    {
     "data": {
      "text/plain": "20110841052    586\n20120941012    123\n20112431063    116\n20113551018    111\n20142021076    109\n              ... \n20110621039      1\n20124811025      1\n20121241027      1\n20120651018      1\n20122021027      1\nName: sub_id, Length: 14818, dtype: int64"
     },
     "execution_count": 88,
     "metadata": {},
     "output_type": "execute_result"
    }
   ],
   "source": [
    "df_twins.sub_id.value_counts()"
   ],
   "metadata": {
    "collapsed": false
   }
  },
  {
   "cell_type": "code",
   "execution_count": 89,
   "outputs": [
    {
     "data": {
      "text/plain": "(Home, Other, Home)                                                                                          0.220206\n(Home, Work, Home)                                                                                           0.217383\n(Home, Other, Home, Other, Home)                                                                             0.059219\n(Home, Other, Other, Home)                                                                                   0.057740\n(Home, Work, Other, Home)                                                                                    0.051422\n                                                                                                               ...   \n(Work, Home, Other, Home, Other, Other, Home)                                                                0.000067\n(Home, Work, Other, Other, Other, Work, Other, Other, Work, Other, Work, Other, Other, Work, Other, Home)    0.000067\n(Home, Other, Other, Home, Other, Other, School, Home)                                                       0.000067\n(Home, Other, Other, Work, Other, Work, Other, Other, Work, Other, Work, Other, Other, Home)                 0.000067\n(Home, Other, Home, Work, Home, Other, Home, Other, Home, Other, Home)                                       0.000067\nName: act_uniq, Length: 503, dtype: float64"
     },
     "execution_count": 89,
     "metadata": {},
     "output_type": "execute_result"
    }
   ],
   "source": [
    "df_survey_twins.act_uniq.value_counts(normalize=True)\n"
   ],
   "metadata": {
    "collapsed": false
   }
  },
  {
   "cell_type": "code",
   "execution_count": 90,
   "outputs": [
    {
     "data": {
      "text/plain": "                                              act_uniq     share\n322                                 (Home, Work, Home)  0.242685\n0                                  (Home, Other, Home)  0.200858\n1                     (Home, Other, Home, Other, Home)  0.055424\n367                          (Home, Work, Other, Home)  0.053444\n323                    (Home, Work, Home, Other, Home)  0.049709\n..                                                 ...       ...\n107  (Home, Other, Other, Home, School, Home, Other...  0.000013\n502  (Work, Other, Work, Other, Home, Other, Home, ...  0.000012\n105  (Home, Other, Other, Home, Other, Work, Other,...  0.000006\n278      (Home, Other, Work, Other, Work, Other, Work)  0.000006\n131  (Home, Other, Other, Other, Home, Other, Other...  0.000003\n\n[503 rows x 2 columns]",
      "text/html": "<div>\n<style scoped>\n    .dataframe tbody tr th:only-of-type {\n        vertical-align: middle;\n    }\n\n    .dataframe tbody tr th {\n        vertical-align: top;\n    }\n\n    .dataframe thead th {\n        text-align: right;\n    }\n</style>\n<table border=\"1\" class=\"dataframe\">\n  <thead>\n    <tr style=\"text-align: right;\">\n      <th></th>\n      <th>act_uniq</th>\n      <th>share</th>\n    </tr>\n  </thead>\n  <tbody>\n    <tr>\n      <th>322</th>\n      <td>(Home, Work, Home)</td>\n      <td>0.242685</td>\n    </tr>\n    <tr>\n      <th>0</th>\n      <td>(Home, Other, Home)</td>\n      <td>0.200858</td>\n    </tr>\n    <tr>\n      <th>1</th>\n      <td>(Home, Other, Home, Other, Home)</td>\n      <td>0.055424</td>\n    </tr>\n    <tr>\n      <th>367</th>\n      <td>(Home, Work, Other, Home)</td>\n      <td>0.053444</td>\n    </tr>\n    <tr>\n      <th>323</th>\n      <td>(Home, Work, Home, Other, Home)</td>\n      <td>0.049709</td>\n    </tr>\n    <tr>\n      <th>...</th>\n      <td>...</td>\n      <td>...</td>\n    </tr>\n    <tr>\n      <th>107</th>\n      <td>(Home, Other, Other, Home, School, Home, Other...</td>\n      <td>0.000013</td>\n    </tr>\n    <tr>\n      <th>502</th>\n      <td>(Work, Other, Work, Other, Home, Other, Home, ...</td>\n      <td>0.000012</td>\n    </tr>\n    <tr>\n      <th>105</th>\n      <td>(Home, Other, Other, Home, Other, Work, Other,...</td>\n      <td>0.000006</td>\n    </tr>\n    <tr>\n      <th>278</th>\n      <td>(Home, Other, Work, Other, Work, Other, Work)</td>\n      <td>0.000006</td>\n    </tr>\n    <tr>\n      <th>131</th>\n      <td>(Home, Other, Other, Other, Home, Other, Other...</td>\n      <td>0.000003</td>\n    </tr>\n  </tbody>\n</table>\n<p>503 rows × 2 columns</p>\n</div>"
     },
     "execution_count": 90,
     "metadata": {},
     "output_type": "execute_result"
    }
   ],
   "source": [
    "aac= df_twins.groupby('act_uniq')['wt'].sum()/df_twins['wt'].sum()\n",
    "aac= aac.reset_index(name='share').sort_values(by='share', ascending=False)\n",
    "aac"
   ],
   "metadata": {
    "collapsed": false
   }
  },
  {
   "cell_type": "code",
   "execution_count": 91,
   "outputs": [
    {
     "data": {
      "text/plain": "(Home, Work, Home)                                                              0.192982\n(Home, Other, Home)                                                             0.186933\n(Home, Other, Home, Other, Home)                                                0.051691\n(Home, Other, Other, Home)                                                      0.050212\n(Home, Work, Other, Home)                                                       0.045910\n                                                                                  ...   \n(Home, Other, Home, Other, Work, Home, Other, Home)                             0.000067\n(Home, Other, School, Home, Work, Other, Home)                                  0.000067\n(Home, Other, Home, Work, Other, Work, Other, Home)                             0.000067\n(Home, Other, Other, School, School, Home)                                      0.000067\n(Home, Other, Home, Home, Work, Home, Other, Home, Other, Home, Other, Home)    0.000067\nName: act_seq, Length: 927, dtype: float64"
     },
     "execution_count": 91,
     "metadata": {},
     "output_type": "execute_result"
    }
   ],
   "source": [
    "df_survey_twins.act_seq.value_counts(normalize=True)\n"
   ],
   "metadata": {
    "collapsed": false
   }
  },
  {
   "cell_type": "code",
   "execution_count": 92,
   "outputs": [
    {
     "data": {
      "text/plain": "                                               act_seq         share\n624                                 (Home, Work, Home)  2.135517e-01\n133                                (Home, Other, Home)  1.718277e-01\n152                   (Home, Other, Home, Other, Home)  4.859770e-02\n691                          (Home, Work, Other, Home)  4.764537e-02\n636                    (Home, Work, Home, Other, Home)  4.681306e-02\n..                                                 ...           ...\n322  (Home, Other, Other, Other, Home, Other, Other...  3.300587e-06\n323  (Home, Other, Other, Other, Home, Other, Other...  1.348395e-06\n40   (Home, Home, Other, Home, Other, Home, Home, O...  1.153196e-06\n144  (Home, Other, Home, Home, Other, Home, Other, ...  5.661905e-07\n167  (Home, Other, Home, Other, Home, Other, Other,...  2.859922e-07\n\n[923 rows x 2 columns]",
      "text/html": "<div>\n<style scoped>\n    .dataframe tbody tr th:only-of-type {\n        vertical-align: middle;\n    }\n\n    .dataframe tbody tr th {\n        vertical-align: top;\n    }\n\n    .dataframe thead th {\n        text-align: right;\n    }\n</style>\n<table border=\"1\" class=\"dataframe\">\n  <thead>\n    <tr style=\"text-align: right;\">\n      <th></th>\n      <th>act_seq</th>\n      <th>share</th>\n    </tr>\n  </thead>\n  <tbody>\n    <tr>\n      <th>624</th>\n      <td>(Home, Work, Home)</td>\n      <td>2.135517e-01</td>\n    </tr>\n    <tr>\n      <th>133</th>\n      <td>(Home, Other, Home)</td>\n      <td>1.718277e-01</td>\n    </tr>\n    <tr>\n      <th>152</th>\n      <td>(Home, Other, Home, Other, Home)</td>\n      <td>4.859770e-02</td>\n    </tr>\n    <tr>\n      <th>691</th>\n      <td>(Home, Work, Other, Home)</td>\n      <td>4.764537e-02</td>\n    </tr>\n    <tr>\n      <th>636</th>\n      <td>(Home, Work, Home, Other, Home)</td>\n      <td>4.681306e-02</td>\n    </tr>\n    <tr>\n      <th>...</th>\n      <td>...</td>\n      <td>...</td>\n    </tr>\n    <tr>\n      <th>322</th>\n      <td>(Home, Other, Other, Other, Home, Other, Other...</td>\n      <td>3.300587e-06</td>\n    </tr>\n    <tr>\n      <th>323</th>\n      <td>(Home, Other, Other, Other, Home, Other, Other...</td>\n      <td>1.348395e-06</td>\n    </tr>\n    <tr>\n      <th>40</th>\n      <td>(Home, Home, Other, Home, Other, Home, Home, O...</td>\n      <td>1.153196e-06</td>\n    </tr>\n    <tr>\n      <th>144</th>\n      <td>(Home, Other, Home, Home, Other, Home, Other, ...</td>\n      <td>5.661905e-07</td>\n    </tr>\n    <tr>\n      <th>167</th>\n      <td>(Home, Other, Home, Other, Home, Other, Other,...</td>\n      <td>2.859922e-07</td>\n    </tr>\n  </tbody>\n</table>\n<p>923 rows × 2 columns</p>\n</div>"
     },
     "execution_count": 92,
     "metadata": {},
     "output_type": "execute_result"
    }
   ],
   "source": [
    "aac= df_twins.groupby('act_seq')['wt'].sum()/df_twins['wt'].sum()\n",
    "aac.reset_index(name='share').sort_values(by='share', ascending=False)"
   ],
   "metadata": {
    "collapsed": false
   }
  },
  {
   "cell_type": "markdown",
   "source": [
    "# code ends here"
   ],
   "metadata": {
    "collapsed": false
   }
  },
  {
   "cell_type": "code",
   "execution_count": 92,
   "outputs": [],
   "source": [],
   "metadata": {
    "collapsed": false
   }
  }
 ],
 "metadata": {
  "kernelspec": {
   "display_name": "Python 3",
   "language": "python",
   "name": "python3"
  },
  "language_info": {
   "codemirror_mode": {
    "name": "ipython",
    "version": 2
   },
   "file_extension": ".py",
   "mimetype": "text/x-python",
   "name": "python",
   "nbconvert_exporter": "python",
   "pygments_lexer": "ipython2",
   "version": "2.7.6"
  }
 },
 "nbformat": 4,
 "nbformat_minor": 0
}
